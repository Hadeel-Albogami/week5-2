{
 "cells": [
  {
   "cell_type": "code",
   "execution_count": null,
   "id": "340fc877-2a30-4131-a7fd-8d6ee02b3b7c",
   "metadata": {},
   "outputs": [],
   "source": []
  },
  {
   "cell_type": "code",
   "execution_count": 1,
   "id": "f6a6b05c-3ea1-4497-a3a5-c65b9e775bea",
   "metadata": {},
   "outputs": [
    {
     "data": {
      "text/html": [
       "        <script type=\"text/javascript\">\n",
       "        window.PlotlyConfig = {MathJaxConfig: 'local'};\n",
       "        if (window.MathJax) {MathJax.Hub.Config({SVG: {font: \"STIX-Web\"}});}\n",
       "        if (typeof require !== 'undefined') {\n",
       "        require.undef(\"plotly\");\n",
       "        requirejs.config({\n",
       "            paths: {\n",
       "                'plotly': ['https://cdn.plot.ly/plotly-2.4.2.min']\n",
       "            }\n",
       "        });\n",
       "        require(['plotly'], function(Plotly) {\n",
       "            window._Plotly = Plotly;\n",
       "        });\n",
       "        }\n",
       "        </script>\n",
       "        "
      ]
     },
     "metadata": {},
     "output_type": "display_data"
    },
    {
     "data": {
      "text/html": [
       "        <script type=\"text/javascript\">\n",
       "        window.PlotlyConfig = {MathJaxConfig: 'local'};\n",
       "        if (window.MathJax) {MathJax.Hub.Config({SVG: {font: \"STIX-Web\"}});}\n",
       "        if (typeof require !== 'undefined') {\n",
       "        require.undef(\"plotly\");\n",
       "        requirejs.config({\n",
       "            paths: {\n",
       "                'plotly': ['https://cdn.plot.ly/plotly-2.4.2.min']\n",
       "            }\n",
       "        });\n",
       "        require(['plotly'], function(Plotly) {\n",
       "            window._Plotly = Plotly;\n",
       "        });\n",
       "        }\n",
       "        </script>\n",
       "        "
      ]
     },
     "metadata": {},
     "output_type": "display_data"
    }
   ],
   "source": [
    "import yfinance\n",
    "import numpy as np\n",
    "import pandas as pd\n",
    "import pandas\n",
    "import yfinance as yf\n",
    "import matplotlib.pyplot as plt\n",
    "#from plotly.offline import init_notebook_mode, iplot\n",
    "\n",
    "#init_notebook_mode(connected=True)\n",
    "#pd.options.plotting.backend = \"plotly\"\n",
    "from pandas_datareader import data as pdr\n",
    "yf.pdr_override()\n",
    "\n",
    "import cufflinks as cf\n",
    "cf.set_config_file(offline=True)\n",
    "\n",
    "import warnings\n",
    "warnings.filterwarnings(\"ignore\")\n"
   ]
  },
  {
   "cell_type": "code",
   "execution_count": 2,
   "id": "de4667a7-acd1-4a48-86e2-5fcae1441c7e",
   "metadata": {},
   "outputs": [],
   "source": [
    "from ActMng import AccountManager"
   ]
  },
  {
   "cell_type": "code",
   "execution_count": 3,
   "id": "e9f4a9c8-9fd9-4e41-8690-28d5096ec77e",
   "metadata": {},
   "outputs": [],
   "source": [
    "starting_capital = 100000\n",
    "allocation = 0.8\n",
    "\n",
    "symbol = 'SPY'\n",
    "\n",
    "long_trend_days = 12\n",
    "short_trend_days = 6"
   ]
  },
  {
   "cell_type": "code",
   "execution_count": 4,
   "id": "b5488c39-a6f2-48d1-b559-32b15ffef889",
   "metadata": {},
   "outputs": [
    {
     "name": "stdout",
     "output_type": "stream",
     "text": [
      "[*********************100%***********************]  1 of 1 completed\n"
     ]
    }
   ],
   "source": [
    "def fetch_data(symbol:str='SPY', start_date:str='2020', end_date:str=None):\n",
    "    \n",
    "    if end_date is None:\n",
    "        end = pandas.Timestamp.now()\n",
    "    else:\n",
    "        end = end_date\n",
    "    \n",
    "    return pdr.get_data_yahoo(symbol, pandas.Timestamp(start_date), pandas.Timestamp(end))[['Open','Close']]\n",
    "df = fetch_data(symbol)"
   ]
  },
  {
   "cell_type": "code",
   "execution_count": 5,
   "id": "34320fbf-0386-484d-a314-efe7be6c78fc",
   "metadata": {},
   "outputs": [
    {
     "data": {
      "text/plain": [
       "<AxesSubplot:xlabel='Date'>"
      ]
     },
     "execution_count": 5,
     "metadata": {},
     "output_type": "execute_result"
    },
    {
     "data": {
      "image/png": "[encoded data removed]",
      "text/plain": [
       "<Figure size 432x288 with 1 Axes>"
      ]
     },
     "metadata": {
      "needs_background": "light"
     },
     "output_type": "display_data"
    }
   ],
   "source": [
    "fast_trend = df.Open.rolling(window=short_trend_days).mean()\n",
    "slow_trend = df.Open.rolling(window=long_trend_days).mean()\n",
    "\n",
    "df['ma_fast'] = fast_trend\n",
    "df['ma_slow'] = slow_trend\n",
    "df[['Close','ma_fast','ma_slow']].plot()"
   ]
  },
  {
   "cell_type": "code",
   "execution_count": 6,
   "id": "33ae9d4a-c394-4bb6-92d0-0947e4c5641b",
   "metadata": {},
   "outputs": [
    {
     "data": {
      "text/html": [
       "<div>\n",
       "<style scoped>\n",
       "    .dataframe tbody tr th:only-of-type {\n",
       "        vertical-align: middle;\n",
       "    }\n",
       "\n",
       "    .dataframe tbody tr th {\n",
       "        vertical-align: top;\n",
       "    }\n",
       "\n",
       "    .dataframe thead th {\n",
       "        text-align: right;\n",
       "    }\n",
       "</style>\n",
       "<table border=\"1\" class=\"dataframe\">\n",
       "  <thead>\n",
       "    <tr style=\"text-align: right;\">\n",
       "      <th></th>\n",
       "      <th>Open</th>\n",
       "      <th>Close</th>\n",
       "      <th>ma_fast</th>\n",
       "      <th>ma_slow</th>\n",
       "      <th>trade_direction</th>\n",
       "    </tr>\n",
       "    <tr>\n",
       "      <th>Date</th>\n",
       "      <th></th>\n",
       "      <th></th>\n",
       "      <th></th>\n",
       "      <th></th>\n",
       "      <th></th>\n",
       "    </tr>\n",
       "  </thead>\n",
       "  <tbody>\n",
       "    <tr>\n",
       "      <th>2019-12-31</th>\n",
       "      <td>320.529999</td>\n",
       "      <td>321.859985</td>\n",
       "      <td>NaN</td>\n",
       "      <td>NaN</td>\n",
       "      <td>NaN</td>\n",
       "    </tr>\n",
       "    <tr>\n",
       "      <th>2020-01-02</th>\n",
       "      <td>323.540009</td>\n",
       "      <td>324.869995</td>\n",
       "      <td>NaN</td>\n",
       "      <td>NaN</td>\n",
       "      <td>NaN</td>\n",
       "    </tr>\n",
       "    <tr>\n",
       "      <th>2020-01-03</th>\n",
       "      <td>321.160004</td>\n",
       "      <td>322.410004</td>\n",
       "      <td>NaN</td>\n",
       "      <td>NaN</td>\n",
       "      <td>NaN</td>\n",
       "    </tr>\n",
       "    <tr>\n",
       "      <th>2020-01-06</th>\n",
       "      <td>320.489990</td>\n",
       "      <td>323.640015</td>\n",
       "      <td>NaN</td>\n",
       "      <td>NaN</td>\n",
       "      <td>NaN</td>\n",
       "    </tr>\n",
       "    <tr>\n",
       "      <th>2020-01-07</th>\n",
       "      <td>323.019989</td>\n",
       "      <td>322.730011</td>\n",
       "      <td>NaN</td>\n",
       "      <td>NaN</td>\n",
       "      <td>NaN</td>\n",
       "    </tr>\n",
       "    <tr>\n",
       "      <th>...</th>\n",
       "      <td>...</td>\n",
       "      <td>...</td>\n",
       "      <td>...</td>\n",
       "      <td>...</td>\n",
       "      <td>...</td>\n",
       "    </tr>\n",
       "    <tr>\n",
       "      <th>2021-11-08</th>\n",
       "      <td>469.700012</td>\n",
       "      <td>468.929993</td>\n",
       "      <td>464.359996</td>\n",
       "      <td>459.879166</td>\n",
       "      <td>1.0</td>\n",
       "    </tr>\n",
       "    <tr>\n",
       "      <th>2021-11-09</th>\n",
       "      <td>469.320007</td>\n",
       "      <td>467.380005</td>\n",
       "      <td>465.863332</td>\n",
       "      <td>461.228333</td>\n",
       "      <td>1.0</td>\n",
       "    </tr>\n",
       "    <tr>\n",
       "      <th>2021-11-10</th>\n",
       "      <td>465.579987</td>\n",
       "      <td>463.619995</td>\n",
       "      <td>466.756663</td>\n",
       "      <td>462.169998</td>\n",
       "      <td>1.0</td>\n",
       "    </tr>\n",
       "    <tr>\n",
       "      <th>2021-11-11</th>\n",
       "      <td>465.209991</td>\n",
       "      <td>463.769989</td>\n",
       "      <td>467.408330</td>\n",
       "      <td>462.837496</td>\n",
       "      <td>1.0</td>\n",
       "    </tr>\n",
       "    <tr>\n",
       "      <th>2021-11-12</th>\n",
       "      <td>465.119995</td>\n",
       "      <td>467.269989</td>\n",
       "      <td>467.368332</td>\n",
       "      <td>463.559995</td>\n",
       "      <td>1.0</td>\n",
       "    </tr>\n",
       "  </tbody>\n",
       "</table>\n",
       "<p>473 rows × 5 columns</p>\n",
       "</div>"
      ],
      "text/plain": [
       "                  Open       Close     ma_fast     ma_slow  trade_direction\n",
       "Date                                                                       \n",
       "2019-12-31  320.529999  321.859985         NaN         NaN              NaN\n",
       "2020-01-02  323.540009  324.869995         NaN         NaN              NaN\n",
       "2020-01-03  321.160004  322.410004         NaN         NaN              NaN\n",
       "2020-01-06  320.489990  323.640015         NaN         NaN              NaN\n",
       "2020-01-07  323.019989  322.730011         NaN         NaN              NaN\n",
       "...                ...         ...         ...         ...              ...\n",
       "2021-11-08  469.700012  468.929993  464.359996  459.879166              1.0\n",
       "2021-11-09  469.320007  467.380005  465.863332  461.228333              1.0\n",
       "2021-11-10  465.579987  463.619995  466.756663  462.169998              1.0\n",
       "2021-11-11  465.209991  463.769989  467.408330  462.837496              1.0\n",
       "2021-11-12  465.119995  467.269989  467.368332  463.559995              1.0\n",
       "\n",
       "[473 rows x 5 columns]"
      ]
     },
     "execution_count": 6,
     "metadata": {},
     "output_type": "execute_result"
    }
   ],
   "source": [
    "df['trade_direction'] = np.sign(fast_trend-slow_trend)\n",
    "df"
   ]
  },
  {
   "cell_type": "code",
   "execution_count": 7,
   "id": "494c4fd6-ec2d-4d80-a67b-f7b98f0c388d",
   "metadata": {},
   "outputs": [],
   "source": [
    "#Determine the direction of the moving average differences\n",
    "df_trades = df['trade_direction'].dropna().diff().dropna().apply(np.sign).astype('int8')\n",
    "df_trades = pandas.DataFrame(df_trades[df_trades !=0]) #returns only those value that have to trade (0)\n",
    "\n",
    "#Label our intended trades\n",
    "df_trades['trade'] = df['trade_direction'].map({1:'Long',-1:'Short'}) \n",
    "df['trades'] = df_trades['trade']\n"
   ]
  },
  {
   "cell_type": "code",
   "execution_count": 8,
   "id": "2aab4ac5-7dec-4519-8aad-cde3cdbb7959",
   "metadata": {},
   "outputs": [
    {
     "data": {
      "text/html": [
       "<div>\n",
       "<style scoped>\n",
       "    .dataframe tbody tr th:only-of-type {\n",
       "        vertical-align: middle;\n",
       "    }\n",
       "\n",
       "    .dataframe tbody tr th {\n",
       "        vertical-align: top;\n",
       "    }\n",
       "\n",
       "    .dataframe thead th {\n",
       "        text-align: right;\n",
       "    }\n",
       "</style>\n",
       "<table border=\"1\" class=\"dataframe\">\n",
       "  <thead>\n",
       "    <tr style=\"text-align: right;\">\n",
       "      <th></th>\n",
       "      <th>Open</th>\n",
       "      <th>Close</th>\n",
       "      <th>ma_fast</th>\n",
       "      <th>ma_slow</th>\n",
       "      <th>trade_direction</th>\n",
       "      <th>trades</th>\n",
       "    </tr>\n",
       "    <tr>\n",
       "      <th>Date</th>\n",
       "      <th></th>\n",
       "      <th></th>\n",
       "      <th></th>\n",
       "      <th></th>\n",
       "      <th></th>\n",
       "      <th></th>\n",
       "    </tr>\n",
       "  </thead>\n",
       "  <tbody>\n",
       "    <tr>\n",
       "      <th>2020-01-16</th>\n",
       "      <td>329.700012</td>\n",
       "      <td>330.920013</td>\n",
       "      <td>327.393341</td>\n",
       "      <td>324.670003</td>\n",
       "      <td>1.0</td>\n",
       "      <td>Long</td>\n",
       "    </tr>\n",
       "    <tr>\n",
       "      <th>2020-01-17</th>\n",
       "      <td>331.700012</td>\n",
       "      <td>331.950012</td>\n",
       "      <td>328.316676</td>\n",
       "      <td>325.600838</td>\n",
       "      <td>1.0</td>\n",
       "      <td>None</td>\n",
       "    </tr>\n",
       "    <tr>\n",
       "      <th>2020-01-21</th>\n",
       "      <td>330.899994</td>\n",
       "      <td>331.299988</td>\n",
       "      <td>328.918340</td>\n",
       "      <td>326.214170</td>\n",
       "      <td>1.0</td>\n",
       "      <td>None</td>\n",
       "    </tr>\n",
       "    <tr>\n",
       "      <th>2020-01-22</th>\n",
       "      <td>332.239990</td>\n",
       "      <td>331.339996</td>\n",
       "      <td>329.893336</td>\n",
       "      <td>327.137502</td>\n",
       "      <td>1.0</td>\n",
       "      <td>None</td>\n",
       "    </tr>\n",
       "    <tr>\n",
       "      <th>2020-01-23</th>\n",
       "      <td>330.630005</td>\n",
       "      <td>331.720001</td>\n",
       "      <td>330.420003</td>\n",
       "      <td>327.982503</td>\n",
       "      <td>1.0</td>\n",
       "      <td>None</td>\n",
       "    </tr>\n",
       "    <tr>\n",
       "      <th>...</th>\n",
       "      <td>...</td>\n",
       "      <td>...</td>\n",
       "      <td>...</td>\n",
       "      <td>...</td>\n",
       "      <td>...</td>\n",
       "      <td>...</td>\n",
       "    </tr>\n",
       "    <tr>\n",
       "      <th>2021-11-08</th>\n",
       "      <td>469.700012</td>\n",
       "      <td>468.929993</td>\n",
       "      <td>464.359996</td>\n",
       "      <td>459.879166</td>\n",
       "      <td>1.0</td>\n",
       "      <td>None</td>\n",
       "    </tr>\n",
       "    <tr>\n",
       "      <th>2021-11-09</th>\n",
       "      <td>469.320007</td>\n",
       "      <td>467.380005</td>\n",
       "      <td>465.863332</td>\n",
       "      <td>461.228333</td>\n",
       "      <td>1.0</td>\n",
       "      <td>None</td>\n",
       "    </tr>\n",
       "    <tr>\n",
       "      <th>2021-11-10</th>\n",
       "      <td>465.579987</td>\n",
       "      <td>463.619995</td>\n",
       "      <td>466.756663</td>\n",
       "      <td>462.169998</td>\n",
       "      <td>1.0</td>\n",
       "      <td>None</td>\n",
       "    </tr>\n",
       "    <tr>\n",
       "      <th>2021-11-11</th>\n",
       "      <td>465.209991</td>\n",
       "      <td>463.769989</td>\n",
       "      <td>467.408330</td>\n",
       "      <td>462.837496</td>\n",
       "      <td>1.0</td>\n",
       "      <td>None</td>\n",
       "    </tr>\n",
       "    <tr>\n",
       "      <th>2021-11-12</th>\n",
       "      <td>465.119995</td>\n",
       "      <td>467.269989</td>\n",
       "      <td>467.368332</td>\n",
       "      <td>463.559995</td>\n",
       "      <td>1.0</td>\n",
       "      <td>None</td>\n",
       "    </tr>\n",
       "  </tbody>\n",
       "</table>\n",
       "<p>462 rows × 6 columns</p>\n",
       "</div>"
      ],
      "text/plain": [
       "                  Open       Close     ma_fast     ma_slow  trade_direction  \\\n",
       "Date                                                                          \n",
       "2020-01-16  329.700012  330.920013  327.393341  324.670003              1.0   \n",
       "2020-01-17  331.700012  331.950012  328.316676  325.600838              1.0   \n",
       "2020-01-21  330.899994  331.299988  328.918340  326.214170              1.0   \n",
       "2020-01-22  332.239990  331.339996  329.893336  327.137502              1.0   \n",
       "2020-01-23  330.630005  331.720001  330.420003  327.982503              1.0   \n",
       "...                ...         ...         ...         ...              ...   \n",
       "2021-11-08  469.700012  468.929993  464.359996  459.879166              1.0   \n",
       "2021-11-09  469.320007  467.380005  465.863332  461.228333              1.0   \n",
       "2021-11-10  465.579987  463.619995  466.756663  462.169998              1.0   \n",
       "2021-11-11  465.209991  463.769989  467.408330  462.837496              1.0   \n",
       "2021-11-12  465.119995  467.269989  467.368332  463.559995              1.0   \n",
       "\n",
       "           trades  \n",
       "Date               \n",
       "2020-01-16   Long  \n",
       "2020-01-17   None  \n",
       "2020-01-21   None  \n",
       "2020-01-22   None  \n",
       "2020-01-23   None  \n",
       "...           ...  \n",
       "2021-11-08   None  \n",
       "2021-11-09   None  \n",
       "2021-11-10   None  \n",
       "2021-11-11   None  \n",
       "2021-11-12   None  \n",
       "\n",
       "[462 rows x 6 columns]"
      ]
     },
     "execution_count": 8,
     "metadata": {},
     "output_type": "execute_result"
    }
   ],
   "source": [
    "#Label our opening trade after removing our window period\n",
    "\n",
    "#we create new dataframe called df [trade] replace the NaN values with trade \n",
    "df['trades'].replace(pandas.np.NaN,'None',inplace=True)\n",
    "df = df.dropna()\n",
    "df['trades'].iloc[0]=('Long' if df['trade_direction'].iloc[0]==1.0 else 'Short')\n",
    "df"
   ]
  },
  {
   "cell_type": "code",
   "execution_count": 9,
   "id": "2c017987-4cbb-40e9-88cc-4934774d910c",
   "metadata": {},
   "outputs": [],
   "source": [
    "# Our trading strategy implementation - feel free to brose ActMng.py if you are curious.\n",
    "trading_strategy = AccountManager(symbol=symbol,trades_df=df,starting_capital=starting_capital,allocation_amount=allocation)\n",
    "results = trading_strategy.run()"
   ]
  },
  {
   "cell_type": "code",
   "execution_count": 10,
   "id": "550ce205-2a4b-4515-ba35-6d0868767489",
   "metadata": {},
   "outputs": [
    {
     "data": {
      "text/html": [
       "<div>\n",
       "<style scoped>\n",
       "    .dataframe tbody tr th:only-of-type {\n",
       "        vertical-align: middle;\n",
       "    }\n",
       "\n",
       "    .dataframe tbody tr th {\n",
       "        vertical-align: top;\n",
       "    }\n",
       "\n",
       "    .dataframe thead th {\n",
       "        text-align: right;\n",
       "    }\n",
       "</style>\n",
       "<table border=\"1\" class=\"dataframe\">\n",
       "  <thead>\n",
       "    <tr style=\"text-align: right;\">\n",
       "      <th></th>\n",
       "      <th>Open</th>\n",
       "      <th>Close</th>\n",
       "      <th>ma_fast</th>\n",
       "      <th>ma_slow</th>\n",
       "      <th>trade_direction</th>\n",
       "      <th>trades</th>\n",
       "      <th>account_val</th>\n",
       "      <th>cash_bal</th>\n",
       "      <th>position</th>\n",
       "      <th>position_changes</th>\n",
       "      <th>fees</th>\n",
       "    </tr>\n",
       "  </thead>\n",
       "  <tbody>\n",
       "    <tr>\n",
       "      <th>2020-01-16</th>\n",
       "      <td>329.700012</td>\n",
       "      <td>330.920013</td>\n",
       "      <td>327.393341</td>\n",
       "      <td>324.670003</td>\n",
       "      <td>1.0</td>\n",
       "      <td>Long</td>\n",
       "      <td>100295.021096</td>\n",
       "      <td>20000.589038</td>\n",
       "      <td>242.64</td>\n",
       "      <td>242.64</td>\n",
       "      <td>1.0</td>\n",
       "    </tr>\n",
       "    <tr>\n",
       "      <th>2020-01-17</th>\n",
       "      <td>331.700012</td>\n",
       "      <td>331.950012</td>\n",
       "      <td>328.316676</td>\n",
       "      <td>325.600838</td>\n",
       "      <td>1.0</td>\n",
       "      <td>None</td>\n",
       "      <td>100544.940000</td>\n",
       "      <td>20000.589038</td>\n",
       "      <td>242.64</td>\n",
       "      <td>0.00</td>\n",
       "      <td>0.0</td>\n",
       "    </tr>\n",
       "    <tr>\n",
       "      <th>2020-01-21</th>\n",
       "      <td>330.899994</td>\n",
       "      <td>331.299988</td>\n",
       "      <td>328.918340</td>\n",
       "      <td>326.214170</td>\n",
       "      <td>1.0</td>\n",
       "      <td>None</td>\n",
       "      <td>100387.218076</td>\n",
       "      <td>20000.589038</td>\n",
       "      <td>242.64</td>\n",
       "      <td>0.00</td>\n",
       "      <td>0.0</td>\n",
       "    </tr>\n",
       "    <tr>\n",
       "      <th>2020-01-22</th>\n",
       "      <td>332.239990</td>\n",
       "      <td>331.339996</td>\n",
       "      <td>329.893336</td>\n",
       "      <td>327.137502</td>\n",
       "      <td>1.0</td>\n",
       "      <td>None</td>\n",
       "      <td>100396.925750</td>\n",
       "      <td>20000.589038</td>\n",
       "      <td>242.64</td>\n",
       "      <td>0.00</td>\n",
       "      <td>0.0</td>\n",
       "    </tr>\n",
       "    <tr>\n",
       "      <th>2020-01-23</th>\n",
       "      <td>330.630005</td>\n",
       "      <td>331.720001</td>\n",
       "      <td>330.420003</td>\n",
       "      <td>327.982503</td>\n",
       "      <td>1.0</td>\n",
       "      <td>None</td>\n",
       "      <td>100489.130134</td>\n",
       "      <td>20000.589038</td>\n",
       "      <td>242.64</td>\n",
       "      <td>0.00</td>\n",
       "      <td>0.0</td>\n",
       "    </tr>\n",
       "    <tr>\n",
       "      <th>...</th>\n",
       "      <td>...</td>\n",
       "      <td>...</td>\n",
       "      <td>...</td>\n",
       "      <td>...</td>\n",
       "      <td>...</td>\n",
       "      <td>...</td>\n",
       "      <td>...</td>\n",
       "      <td>...</td>\n",
       "      <td>...</td>\n",
       "      <td>...</td>\n",
       "      <td>...</td>\n",
       "    </tr>\n",
       "    <tr>\n",
       "      <th>2021-11-08</th>\n",
       "      <td>469.700012</td>\n",
       "      <td>468.929993</td>\n",
       "      <td>464.359996</td>\n",
       "      <td>459.879166</td>\n",
       "      <td>1.0</td>\n",
       "      <td>None</td>\n",
       "      <td>136505.079669</td>\n",
       "      <td>25682.854500</td>\n",
       "      <td>236.33</td>\n",
       "      <td>0.00</td>\n",
       "      <td>0.0</td>\n",
       "    </tr>\n",
       "    <tr>\n",
       "      <th>2021-11-09</th>\n",
       "      <td>469.320007</td>\n",
       "      <td>467.380005</td>\n",
       "      <td>465.863332</td>\n",
       "      <td>461.228333</td>\n",
       "      <td>1.0</td>\n",
       "      <td>None</td>\n",
       "      <td>136138.771054</td>\n",
       "      <td>25682.854500</td>\n",
       "      <td>236.33</td>\n",
       "      <td>0.00</td>\n",
       "      <td>0.0</td>\n",
       "    </tr>\n",
       "    <tr>\n",
       "      <th>2021-11-10</th>\n",
       "      <td>465.579987</td>\n",
       "      <td>463.619995</td>\n",
       "      <td>466.756663</td>\n",
       "      <td>462.169998</td>\n",
       "      <td>1.0</td>\n",
       "      <td>None</td>\n",
       "      <td>135250.167946</td>\n",
       "      <td>25682.854500</td>\n",
       "      <td>236.33</td>\n",
       "      <td>0.00</td>\n",
       "      <td>0.0</td>\n",
       "    </tr>\n",
       "    <tr>\n",
       "      <th>2021-11-11</th>\n",
       "      <td>465.209991</td>\n",
       "      <td>463.769989</td>\n",
       "      <td>467.408330</td>\n",
       "      <td>462.837496</td>\n",
       "      <td>1.0</td>\n",
       "      <td>None</td>\n",
       "      <td>135285.616004</td>\n",
       "      <td>25682.854500</td>\n",
       "      <td>236.33</td>\n",
       "      <td>0.00</td>\n",
       "      <td>0.0</td>\n",
       "    </tr>\n",
       "    <tr>\n",
       "      <th>2021-11-12</th>\n",
       "      <td>465.119995</td>\n",
       "      <td>467.269989</td>\n",
       "      <td>467.368332</td>\n",
       "      <td>463.559995</td>\n",
       "      <td>1.0</td>\n",
       "      <td>Short</td>\n",
       "      <td>136112.771004</td>\n",
       "      <td>136111.771004</td>\n",
       "      <td>0.00</td>\n",
       "      <td>-236.33</td>\n",
       "      <td>1.0</td>\n",
       "    </tr>\n",
       "  </tbody>\n",
       "</table>\n",
       "<p>462 rows × 11 columns</p>\n",
       "</div>"
      ],
      "text/plain": [
       "                  Open       Close     ma_fast     ma_slow  trade_direction  \\\n",
       "2020-01-16  329.700012  330.920013  327.393341  324.670003              1.0   \n",
       "2020-01-17  331.700012  331.950012  328.316676  325.600838              1.0   \n",
       "2020-01-21  330.899994  331.299988  328.918340  326.214170              1.0   \n",
       "2020-01-22  332.239990  331.339996  329.893336  327.137502              1.0   \n",
       "2020-01-23  330.630005  331.720001  330.420003  327.982503              1.0   \n",
       "...                ...         ...         ...         ...              ...   \n",
       "2021-11-08  469.700012  468.929993  464.359996  459.879166              1.0   \n",
       "2021-11-09  469.320007  467.380005  465.863332  461.228333              1.0   \n",
       "2021-11-10  465.579987  463.619995  466.756663  462.169998              1.0   \n",
       "2021-11-11  465.209991  463.769989  467.408330  462.837496              1.0   \n",
       "2021-11-12  465.119995  467.269989  467.368332  463.559995              1.0   \n",
       "\n",
       "           trades    account_val       cash_bal  position  position_changes  \\\n",
       "2020-01-16   Long  100295.021096   20000.589038    242.64            242.64   \n",
       "2020-01-17   None  100544.940000   20000.589038    242.64              0.00   \n",
       "2020-01-21   None  100387.218076   20000.589038    242.64              0.00   \n",
       "2020-01-22   None  100396.925750   20000.589038    242.64              0.00   \n",
       "2020-01-23   None  100489.130134   20000.589038    242.64              0.00   \n",
       "...           ...            ...            ...       ...               ...   \n",
       "2021-11-08   None  136505.079669   25682.854500    236.33              0.00   \n",
       "2021-11-09   None  136138.771054   25682.854500    236.33              0.00   \n",
       "2021-11-10   None  135250.167946   25682.854500    236.33              0.00   \n",
       "2021-11-11   None  135285.616004   25682.854500    236.33              0.00   \n",
       "2021-11-12  Short  136112.771004  136111.771004      0.00           -236.33   \n",
       "\n",
       "            fees  \n",
       "2020-01-16   1.0  \n",
       "2020-01-17   0.0  \n",
       "2020-01-21   0.0  \n",
       "2020-01-22   0.0  \n",
       "2020-01-23   0.0  \n",
       "...          ...  \n",
       "2021-11-08   0.0  \n",
       "2021-11-09   0.0  \n",
       "2021-11-10   0.0  \n",
       "2021-11-11   0.0  \n",
       "2021-11-12   1.0  \n",
       "\n",
       "[462 rows x 11 columns]"
      ]
     },
     "execution_count": 10,
     "metadata": {},
     "output_type": "execute_result"
    }
   ],
   "source": [
    "#Here we can see a day by day breakdown of the account\n",
    "results['result_df']"
   ]
  },
  {
   "cell_type": "code",
   "execution_count": 11,
   "id": "4b4a860d-07a7-4ecc-bf63-6aa05f2cc34d",
   "metadata": {},
   "outputs": [
    {
     "data": {
      "text/html": [
       "<div>\n",
       "<style scoped>\n",
       "    .dataframe tbody tr th:only-of-type {\n",
       "        vertical-align: middle;\n",
       "    }\n",
       "\n",
       "    .dataframe tbody tr th {\n",
       "        vertical-align: top;\n",
       "    }\n",
       "\n",
       "    .dataframe thead th {\n",
       "        text-align: right;\n",
       "    }\n",
       "</style>\n",
       "<table border=\"1\" class=\"dataframe\">\n",
       "  <thead>\n",
       "    <tr style=\"text-align: right;\">\n",
       "      <th></th>\n",
       "      <th>symbol</th>\n",
       "      <th>date</th>\n",
       "      <th>time</th>\n",
       "      <th>order</th>\n",
       "      <th>order_type</th>\n",
       "      <th>price</th>\n",
       "      <th>size</th>\n",
       "      <th>exchange_fees</th>\n",
       "    </tr>\n",
       "  </thead>\n",
       "  <tbody>\n",
       "    <tr>\n",
       "      <th>2020-01-16</th>\n",
       "      <td>SPY</td>\n",
       "      <td>2020-01-16 00:00:00</td>\n",
       "      <td>At Market Open</td>\n",
       "      <td>BUY</td>\n",
       "      <td>MARKET</td>\n",
       "      <td>329.700012</td>\n",
       "      <td>242.64</td>\n",
       "      <td>1.0</td>\n",
       "    </tr>\n",
       "    <tr>\n",
       "      <th>2020-01-29</th>\n",
       "      <td>SPY</td>\n",
       "      <td>2020-01-29 00:00:00</td>\n",
       "      <td>At Market Open</td>\n",
       "      <td>SELL</td>\n",
       "      <td>MARKET</td>\n",
       "      <td>328.380005</td>\n",
       "      <td>242.64</td>\n",
       "      <td>1.0</td>\n",
       "    </tr>\n",
       "    <tr>\n",
       "      <th>2020-01-29</th>\n",
       "      <td>SPY</td>\n",
       "      <td>2020-01-29 00:00:00</td>\n",
       "      <td>At Market Open</td>\n",
       "      <td>SELL</td>\n",
       "      <td>MARKET</td>\n",
       "      <td>328.380005</td>\n",
       "      <td>242.84</td>\n",
       "      <td>1.0</td>\n",
       "    </tr>\n",
       "    <tr>\n",
       "      <th>2020-02-07</th>\n",
       "      <td>SPY</td>\n",
       "      <td>2020-02-07 00:00:00</td>\n",
       "      <td>At Market Open</td>\n",
       "      <td>BUY</td>\n",
       "      <td>MARKET</td>\n",
       "      <td>332.820007</td>\n",
       "      <td>242.84</td>\n",
       "      <td>1.0</td>\n",
       "    </tr>\n",
       "    <tr>\n",
       "      <th>2020-02-07</th>\n",
       "      <td>SPY</td>\n",
       "      <td>2020-02-07 00:00:00</td>\n",
       "      <td>At Market Open</td>\n",
       "      <td>BUY</td>\n",
       "      <td>MARKET</td>\n",
       "      <td>332.820007</td>\n",
       "      <td>237.00</td>\n",
       "      <td>1.0</td>\n",
       "    </tr>\n",
       "    <tr>\n",
       "      <th>...</th>\n",
       "      <td>...</td>\n",
       "      <td>...</td>\n",
       "      <td>...</td>\n",
       "      <td>...</td>\n",
       "      <td>...</td>\n",
       "      <td>...</td>\n",
       "      <td>...</td>\n",
       "      <td>...</td>\n",
       "    </tr>\n",
       "    <tr>\n",
       "      <th>2021-09-14</th>\n",
       "      <td>SPY</td>\n",
       "      <td>2021-09-14 00:00:00</td>\n",
       "      <td>At Market Open</td>\n",
       "      <td>SELL</td>\n",
       "      <td>MARKET</td>\n",
       "      <td>448.119995</td>\n",
       "      <td>223.86</td>\n",
       "      <td>1.0</td>\n",
       "    </tr>\n",
       "    <tr>\n",
       "      <th>2021-09-14</th>\n",
       "      <td>SPY</td>\n",
       "      <td>2021-09-14 00:00:00</td>\n",
       "      <td>At Market Open</td>\n",
       "      <td>SELL</td>\n",
       "      <td>MARKET</td>\n",
       "      <td>448.119995</td>\n",
       "      <td>223.90</td>\n",
       "      <td>1.0</td>\n",
       "    </tr>\n",
       "    <tr>\n",
       "      <th>2021-10-13</th>\n",
       "      <td>SPY</td>\n",
       "      <td>2021-10-13 00:00:00</td>\n",
       "      <td>At Market Open</td>\n",
       "      <td>BUY</td>\n",
       "      <td>MARKET</td>\n",
       "      <td>434.709991</td>\n",
       "      <td>223.90</td>\n",
       "      <td>1.0</td>\n",
       "    </tr>\n",
       "    <tr>\n",
       "      <th>2021-10-13</th>\n",
       "      <td>SPY</td>\n",
       "      <td>2021-10-13 00:00:00</td>\n",
       "      <td>At Market Open</td>\n",
       "      <td>BUY</td>\n",
       "      <td>MARKET</td>\n",
       "      <td>434.709991</td>\n",
       "      <td>236.33</td>\n",
       "      <td>1.0</td>\n",
       "    </tr>\n",
       "    <tr>\n",
       "      <th>2021-11-12</th>\n",
       "      <td>SPY</td>\n",
       "      <td>2021-11-12 00:00:00</td>\n",
       "      <td>At Market Close</td>\n",
       "      <td>SELL</td>\n",
       "      <td>MARKET</td>\n",
       "      <td>467.269989</td>\n",
       "      <td>236.33</td>\n",
       "      <td>1.0</td>\n",
       "    </tr>\n",
       "  </tbody>\n",
       "</table>\n",
       "<p>66 rows × 8 columns</p>\n",
       "</div>"
      ],
      "text/plain": [
       "           symbol                 date             time order order_type  \\\n",
       "2020-01-16    SPY  2020-01-16 00:00:00   At Market Open   BUY     MARKET   \n",
       "2020-01-29    SPY  2020-01-29 00:00:00   At Market Open  SELL     MARKET   \n",
       "2020-01-29    SPY  2020-01-29 00:00:00   At Market Open  SELL     MARKET   \n",
       "2020-02-07    SPY  2020-02-07 00:00:00   At Market Open   BUY     MARKET   \n",
       "2020-02-07    SPY  2020-02-07 00:00:00   At Market Open   BUY     MARKET   \n",
       "...           ...                  ...              ...   ...        ...   \n",
       "2021-09-14    SPY  2021-09-14 00:00:00   At Market Open  SELL     MARKET   \n",
       "2021-09-14    SPY  2021-09-14 00:00:00   At Market Open  SELL     MARKET   \n",
       "2021-10-13    SPY  2021-10-13 00:00:00   At Market Open   BUY     MARKET   \n",
       "2021-10-13    SPY  2021-10-13 00:00:00   At Market Open   BUY     MARKET   \n",
       "2021-11-12    SPY  2021-11-12 00:00:00  At Market Close  SELL     MARKET   \n",
       "\n",
       "                 price    size  exchange_fees  \n",
       "2020-01-16  329.700012  242.64            1.0  \n",
       "2020-01-29  328.380005  242.64            1.0  \n",
       "2020-01-29  328.380005  242.84            1.0  \n",
       "2020-02-07  332.820007  242.84            1.0  \n",
       "2020-02-07  332.820007  237.00            1.0  \n",
       "...                ...     ...            ...  \n",
       "2021-09-14  448.119995  223.86            1.0  \n",
       "2021-09-14  448.119995  223.90            1.0  \n",
       "2021-10-13  434.709991  223.90            1.0  \n",
       "2021-10-13  434.709991  236.33            1.0  \n",
       "2021-11-12  467.269989  236.33            1.0  \n",
       "\n",
       "[66 rows x 8 columns]"
      ]
     },
     "execution_count": 11,
     "metadata": {},
     "output_type": "execute_result"
    }
   ],
   "source": [
    "# Here are our simulated orders as we would submit to an API endpoint for algorthmic trading. \n",
    "results['broker_orders'] "
   ]
  },
  {
   "cell_type": "code",
   "execution_count": 12,
   "id": "27a9f830-bdb6-4f34-aa45-a30f9158a2eb",
   "metadata": {},
   "outputs": [
    {
     "data": {
      "application/vnd.plotly.v1+json": {
       "config": {
        "linkText": "Export to plot.ly",
        "plotlyServerURL": "https://plot.ly",
        "showLink": true
       },
       "data": [
        {
         "line": {
          "color": "rgba(255, 153, 51, 1.0)",
          "dash": "solid",
          "shape": "linear",
          "width": 1.3
         },
         "mode": "lines",
         "name": "account_val",
         "text": "",
         "type": "scatter",
         "x": [
          "2020-01-16",
          "2020-01-17",
          "2020-01-21",
          "2020-01-22",
          "2020-01-23",
          "2020-01-24",
          "2020-01-27",
          "2020-01-28",
          "2020-01-29",
          "2020-01-30",
          "2020-01-31",
          "2020-02-03",
          "2020-02-04",
          "2020-02-05",
          "2020-02-06",
          "2020-02-07",
          "2020-02-10",
          "2020-02-11",
          "2020-02-12",
          "2020-02-13",
          "2020-02-14",
          "2020-02-18",
          "2020-02-19",
          "2020-02-20",
          "2020-02-21",
          "2020-02-24",
          "2020-02-25",
          "2020-02-26",
          "2020-02-27",
          "2020-02-28",
          "2020-03-02",
          "2020-03-03",
          "2020-03-04",
          "2020-03-05",
          "2020-03-06",
          "2020-03-09",
          "2020-03-10",
          "2020-03-11",
          "2020-03-12",
          "2020-03-13",
          "2020-03-16",
          "2020-03-17",
          "2020-03-18",
          "2020-03-19",
          "2020-03-20",
          "2020-03-23",
          "2020-03-24",
          "2020-03-25",
          "2020-03-26",
          "2020-03-27",
          "2020-03-30",
          "2020-03-31",
          "2020-04-01",
          "2020-04-02",
          "2020-04-03",
          "2020-04-06",
          "2020-04-07",
          "2020-04-08",
          "2020-04-09",
          "2020-04-13",
          "2020-04-14",
          "2020-04-15",
          "2020-04-16",
          "2020-04-17",
          "2020-04-20",
          "2020-04-21",
          "2020-04-22",
          "2020-04-23",
          "2020-04-24",
          "2020-04-27",
          "2020-04-28",
          "2020-04-29",
          "2020-04-30",
          "2020-05-01",
          "2020-05-04",
          "2020-05-05",
          "2020-05-06",
          "2020-05-07",
          "2020-05-08",
          "2020-05-11",
          "2020-05-12",
          "2020-05-13",
          "2020-05-14",
          "2020-05-15",
          "2020-05-18",
          "2020-05-19",
          "2020-05-20",
          "2020-05-21",
          "2020-05-22",
          "2020-05-26",
          "2020-05-27",
          "2020-05-28",
          "2020-05-29",
          "2020-06-01",
          "2020-06-02",
          "2020-06-03",
          "2020-06-04",
          "2020-06-05",
          "2020-06-08",
          "2020-06-09",
          "2020-06-10",
          "2020-06-11",
          "2020-06-12",
          "2020-06-15",
          "2020-06-16",
          "2020-06-17",
          "2020-06-18",
          "2020-06-19",
          "2020-06-22",
          "2020-06-23",
          "2020-06-24",
          "2020-06-25",
          "2020-06-26",
          "2020-06-29",
          "2020-06-30",
          "2020-07-01",
          "2020-07-02",
          "2020-07-06",
          "2020-07-07",
          "2020-07-08",
          "2020-07-09",
          "2020-07-10",
          "2020-07-13",
          "2020-07-14",
          "2020-07-15",
          "2020-07-16",
          "2020-07-17",
          "2020-07-20",
          "2020-07-21",
          "2020-07-22",
          "2020-07-23",
          "2020-07-24",
          "2020-07-27",
          "2020-07-28",
          "2020-07-29",
          "2020-07-30",
          "2020-07-31",
          "2020-08-03",
          "2020-08-04",
          "2020-08-05",
          "2020-08-06",
          "2020-08-07",
          "2020-08-10",
          "2020-08-11",
          "2020-08-12",
          "2020-08-13",
          "2020-08-14",
          "2020-08-17",
          "2020-08-18",
          "2020-08-19",
          "2020-08-20",
          "2020-08-21",
          "2020-08-24",
          "2020-08-25",
          "2020-08-26",
          "2020-08-27",
          "2020-08-28",
          "2020-08-31",
          "2020-09-01",
          "2020-09-02",
          "2020-09-03",
          "2020-09-04",
          "2020-09-08",
          "2020-09-09",
          "2020-09-10",
          "2020-09-11",
          "2020-09-14",
          "2020-09-15",
          "2020-09-16",
          "2020-09-17",
          "2020-09-18",
          "2020-09-21",
          "2020-09-22",
          "2020-09-23",
          "2020-09-24",
          "2020-09-25",
          "2020-09-28",
          "2020-09-29",
          "2020-09-30",
          "2020-10-01",
          "2020-10-02",
          "2020-10-05",
          "2020-10-06",
          "2020-10-07",
          "2020-10-08",
          "2020-10-09",
          "2020-10-12",
          "2020-10-13",
          "2020-10-14",
          "2020-10-15",
          "2020-10-16",
          "2020-10-19",
          "2020-10-20",
          "2020-10-21",
          "2020-10-22",
          "2020-10-23",
          "2020-10-26",
          "2020-10-27",
          "2020-10-28",
          "2020-10-29",
          "2020-10-30",
          "2020-11-02",
          "2020-11-03",
          "2020-11-04",
          "2020-11-05",
          "2020-11-06",
          "2020-11-09",
          "2020-11-10",
          "2020-11-11",
          "2020-11-12",
          "2020-11-13",
          "2020-11-16",
          "2020-11-17",
          "2020-11-18",
          "2020-11-19",
          "2020-11-20",
          "2020-11-23",
          "2020-11-24",
          "2020-11-25",
          "2020-11-27",
          "2020-11-30",
          "2020-12-01",
          "2020-12-02",
          "2020-12-03",
          "2020-12-04",
          "2020-12-07",
          "2020-12-08",
          "2020-12-09",
          "2020-12-10",
          "2020-12-11",
          "2020-12-14",
          "2020-12-15",
          "2020-12-16",
          "2020-12-17",
          "2020-12-18",
          "2020-12-21",
          "2020-12-22",
          "2020-12-23",
          "2020-12-24",
          "2020-12-28",
          "2020-12-29",
          "2020-12-30",
          "2020-12-31",
          "2021-01-04",
          "2021-01-05",
          "2021-01-06",
          "2021-01-07",
          "2021-01-08",
          "2021-01-11",
          "2021-01-12",
          "2021-01-13",
          "2021-01-14",
          "2021-01-15",
          "2021-01-19",
          "2021-01-20",
          "2021-01-21",
          "2021-01-22",
          "2021-01-25",
          "2021-01-26",
          "2021-01-27",
          "2021-01-28",
          "2021-01-29",
          "2021-02-01",
          "2021-02-02",
          "2021-02-03",
          "2021-02-04",
          "2021-02-05",
          "2021-02-08",
          "2021-02-09",
          "2021-02-10",
          "2021-02-11",
          "2021-02-12",
          "2021-02-16",
          "2021-02-17",
          "2021-02-18",
          "2021-02-19",
          "2021-02-22",
          "2021-02-23",
          "2021-02-24",
          "2021-02-25",
          "2021-02-26",
          "2021-03-01",
          "2021-03-02",
          "2021-03-03",
          "2021-03-04",
          "2021-03-05",
          "2021-03-08",
          "2021-03-09",
          "2021-03-10",
          "2021-03-11",
          "2021-03-12",
          "2021-03-15",
          "2021-03-16",
          "2021-03-17",
          "2021-03-18",
          "2021-03-19",
          "2021-03-22",
          "2021-03-23",
          "2021-03-24",
          "2021-03-25",
          "2021-03-26",
          "2021-03-29",
          "2021-03-30",
          "2021-03-31",
          "2021-04-01",
          "2021-04-05",
          "2021-04-06",
          "2021-04-07",
          "2021-04-08",
          "2021-04-09",
          "2021-04-12",
          "2021-04-13",
          "2021-04-14",
          "2021-04-15",
          "2021-04-16",
          "2021-04-19",
          "2021-04-20",
          "2021-04-21",
          "2021-04-22",
          "2021-04-23",
          "2021-04-26",
          "2021-04-27",
          "2021-04-28",
          "2021-04-29",
          "2021-04-30",
          "2021-05-03",
          "2021-05-04",
          "2021-05-05",
          "2021-05-06",
          "2021-05-07",
          "2021-05-10",
          "2021-05-11",
          "2021-05-12",
          "2021-05-13",
          "2021-05-14",
          "2021-05-17",
          "2021-05-18",
          "2021-05-19",
          "2021-05-20",
          "2021-05-21",
          "2021-05-24",
          "2021-05-25",
          "2021-05-26",
          "2021-05-27",
          "2021-05-28",
          "2021-06-01",
          "2021-06-02",
          "2021-06-03",
          "2021-06-04",
          "2021-06-07",
          "2021-06-08",
          "2021-06-09",
          "2021-06-10",
          "2021-06-11",
          "2021-06-14",
          "2021-06-15",
          "2021-06-16",
          "2021-06-17",
          "2021-06-18",
          "2021-06-21",
          "2021-06-22",
          "2021-06-23",
          "2021-06-24",
          "2021-06-25",
          "2021-06-28",
          "2021-06-29",
          "2021-06-30",
          "2021-07-01",
          "2021-07-02",
          "2021-07-06",
          "2021-07-07",
          "2021-07-08",
          "2021-07-09",
          "2021-07-12",
          "2021-07-13",
          "2021-07-14",
          "2021-07-15",
          "2021-07-16",
          "2021-07-19",
          "2021-07-20",
          "2021-07-21",
          "2021-07-22",
          "2021-07-23",
          "2021-07-26",
          "2021-07-27",
          "2021-07-28",
          "2021-07-29",
          "2021-07-30",
          "2021-08-02",
          "2021-08-03",
          "2021-08-04",
          "2021-08-05",
          "2021-08-06",
          "2021-08-09",
          "2021-08-10",
          "2021-08-11",
          "2021-08-12",
          "2021-08-13",
          "2021-08-16",
          "2021-08-17",
          "2021-08-18",
          "2021-08-19",
          "2021-08-20",
          "2021-08-23",
          "2021-08-24",
          "2021-08-25",
          "2021-08-26",
          "2021-08-27",
          "2021-08-30",
          "2021-08-31",
          "2021-09-01",
          "2021-09-02",
          "2021-09-03",
          "2021-09-07",
          "2021-09-08",
          "2021-09-09",
          "2021-09-10",
          "2021-09-13",
          "2021-09-14",
          "2021-09-15",
          "2021-09-16",
          "2021-09-17",
          "2021-09-20",
          "2021-09-21",
          "2021-09-22",
          "2021-09-23",
          "2021-09-24",
          "2021-09-27",
          "2021-09-28",
          "2021-09-29",
          "2021-09-30",
          "2021-10-01",
          "2021-10-04",
          "2021-10-05",
          "2021-10-06",
          "2021-10-07",
          "2021-10-08",
          "2021-10-11",
          "2021-10-12",
          "2021-10-13",
          "2021-10-14",
          "2021-10-15",
          "2021-10-18",
          "2021-10-19",
          "2021-10-20",
          "2021-10-21",
          "2021-10-22",
          "2021-10-25",
          "2021-10-26",
          "2021-10-27",
          "2021-10-28",
          "2021-10-29",
          "2021-11-01",
          "2021-11-02",
          "2021-11-03",
          "2021-11-04",
          "2021-11-05",
          "2021-11-08",
          "2021-11-09",
          "2021-11-10",
          "2021-11-11",
          "2021-11-12"
         ],
         "y": [
          100295.02109619141,
          100544.94,
          100387.21807617188,
          100396.92574951172,
          100489.13013427735,
          99773.33917236328,
          98494.62903808594,
          99317.18219238282,
          100104.11419433593,
          99846.70438720702,
          101291.59794067382,
          100711.21419433592,
          99511.58400146483,
          98588.7949658203,
          98316.80794067381,
          98449.56438720702,
          99037.31975830077,
          99174.78380859374,
          99686.70467651366,
          99601.38091552733,
          99729.36294067382,
          99523.17409790038,
          99904.7406262207,
          99575.31438720702,
          98752.92409790038,
          96131.70467651366,
          99180.23820892333,
          99454.2702545166,
          102787.94502746582,
          103085.8075274658,
          100028.55002716063,
          102137.41798156737,
          99130.19934509275,
          101608.41389068602,
          102799.86389068603,
          108335.33593658445,
          104954.00025482176,
          108304.36434509276,
          114559.47320907592,
          109505.3407092285,
          116527.74730010986,
          113441.89252731322,
          116492.00525451658,
          116370.47866348265,
          119160.85252731323,
          120554.85048171996,
          115741.39320892333,
          114874.017754364,
          111440.25434570311,
          113294.15389083861,
          111333.02820892332,
          110628.00207275391,
          106653.60798156737,
          108599.69230010986,
          107352.55570922852,
          113064.02525390625,
          113156.53934570312,
          116205.8552545166,
          117634.58525512695,
          116764.32752746582,
          119549.82980041504,
          117483.83161865234,
          117942.94116394043,
          120526.29889160156,
          118796.06161804199,
          115866.66480041503,
          117942.94116394043,
          117936.08207214354,
          119268.87889099121,
          120666.76389038085,
          120214.51343688964,
          122777.30434509277,
          121841.95843688965,
          119207.20980041503,
          119474.45298217773,
          120372.11570922851,
          119707.4320727539,
          120882.61616333008,
          121596.11907073973,
          121575.99408966063,
          118792.61373413085,
          117120.17041809081,
          118231.83070739744,
          118663.95960205077,
          121540.4264047241,
          120540.92070739745,
          121443.27084625245,
          120861.91551940919,
          121045.29791992188,
          122237.2835232544,
          123694.52902069093,
          123511.14662017823,
          123953.23311889649,
          124356.01482299806,
          125184.5135232544,
          126527.14252197267,
          126258.61472351075,
          128871.82892120362,
          130135.8683178711,
          129346.66441864014,
          128760.49032043458,
          122738.31222351074,
          123917.20622222901,
          124847.21982299806,
          126782.56872222901,
          127924.56940490723,
          127885.70778625489,
          128902.623046875,
          128261.38657226563,
          127798.26914428711,
          130376.19197692872,
          129320.4052142334,
          131684.5891442871,
          130256.36535827637,
          128993.31333496094,
          128293.7745489502,
          127739.96683288575,
          126178.96914428711,
          126203.50384765626,
          126974.9578857422,
          126396.36980957031,
          127428.18946289063,
          126544.22946289064,
          127855.71015625,
          128797.52700195313,
          128456.80138671875,
          128755.73823242188,
          129591.48419433595,
          129813.27857910158,
          130407.93473144532,
          129154.32069335939,
          128485.72980957032,
          129237.89823242188,
          128578.95015625001,
          129848.63227050782,
          128152.12805969238,
          127332.59604125976,
          126899.52075653076,
          127291.76956329346,
          127924.92879302979,
          128610.59837005615,
          128684.7311795044,
          128993.5911795044,
          128138.04294708252,
          129571.15787139893,
          129382.74837005616,
          129385.83998626709,
          129716.3224484253,
          129941.7936416626,
          129506.29991058349,
          129830.59914031983,
          130201.2349105835,
          131263.7140646362,
          131634.34040924074,
          132699.91117950442,
          132934.63837005617,
          133629.57337005617,
          133237.32456329346,
          134253.476602478,
          135828.66448760987,
          132026.5986416626,
          131155.6111795044,
          128264.67667816162,
          130296.98075653076,
          133351.79523529054,
          133299.71077178954,
          131951.50864196778,
          131427.54080932616,
          131841.1961795044,
          132754.3013458252,
          134344.56999389647,
          135472.1565496826,
          134451.81536407472,
          136798.90773529053,
          136535.39962371826,
          134932.87195739744,
          133259.87597564695,
          133817.54441986082,
          133045.3852352905,
          132386.60560546874,
          134712.56235382083,
          136626.14749420166,
          135064.8927700806,
          136949.38749420168,
          137925.56874298098,
          138917.91791046143,
          140721.5927700806,
          139978.14471588138,
          139267.0127700806,
          139128.02193756105,
          139060.1442996216,
          137353.4374942017,
          137796.2747158814,
          137586.17068878177,
          137128.6800354004,
          136752.97702362062,
          138804.86482788087,
          139180.56783966068,
          142892.59865570068,
          141826.5111038208,
          142931.13028778078,
          141755.86651184084,
          139883.79952362063,
          137472.26028778078,
          135320.8291674805,
          135489.58158477786,
          136851.77569519047,
          136690.7922964478,
          137505.0155081177,
          136433.82730560307,
          137947.72694061283,
          139331.5946185303,
          138727.8903393555,
          137384.27087310795,
          137848.65587310796,
          137090.15659393312,
          137749.58480560308,
          139532.8262289429,
          139359.45658477786,
          139672.1455081177,
          139173.70069519046,
          140399.6744497681,
          140638.06479644778,
          140607.1039068604,
          141585.40944061283,
          141350.11801727297,
          141684.4805081177,
          140656.6394406128,
          140619.49015228276,
          140486.3592718506,
          139978.63658477785,
          141504.91301727298,
          141684.4805081177,
          142325.3246276856,
          141377.97998352055,
          140969.31891601568,
          140777.37462768558,
          140879.54461853032,
          141322.2560510254,
          142303.6605081177,
          142083.84480560306,
          142247.92712768557,
          142833.05676269534,
          141257.2447964478,
          142043.59659393312,
          142730.88677185064,
          144449.11694061285,
          145117.83247436525,
          144322.1839068604,
          144346.9469497681,
          144662.7347964478,
          144250.97480560307,
          143396.51283020023,
          144309.797661438,
          145932.0556860352,
          146040.40462768558,
          145619.36676269537,
          146086.85068603518,
          145901.09479644778,
          142997.13908477785,
          143994.01926269534,
          141653.5196185303,
          142014.3367440796,
          140388.2858331299,
          140296.58523651125,
          138970.06535583496,
          138505.48071380617,
          138378.41174652101,
          138304.6573764038,
          138256.43136749268,
          138435.13855255127,
          138982.6089315796,
          138886.15691375732,
          138911.6939315796,
          138437.97792266845,
          138242.25183013917,
          137391.27183013916,
          135909.47445648193,
          134695.3457803345,
          137379.5160745239,
          137939.66622161865,
          135318.05107452394,
          136182.43842681884,
          137638.25783843995,
          138980.3429855347,
          137009.86886810302,
          137552.9593093872,
          136003.30283843994,
          135318.05107452394,
          134194.90460357667,
          135154.609291687,
          135800.0619680786,
          135662.7319680786,
          136033.5246444702,
          134445.9901797485,
          133896.67017974853,
          134750.85875640868,
          133902.16036224365,
          133358.33054473874,
          131908.38824340815,
          130178.06017974849,
          130233.1695431518,
          130522.47267974848,
          130081.63140655513,
          130084.01266632075,
          131579.35766632075,
          131516.94580596918,
          131639.17432342522,
          132141.0882186889,
          132913.46673614497,
          132952.48208526603,
          133269.74766632076,
          132903.07005035394,
          134052.53080596917,
          134414.01801544183,
          133880.890253601,
          133090.31356781,
          134104.54598052974,
          133116.3132186889,
          134278.78173614497,
          134505.03266632074,
          134481.6282186889,
          134450.42228851313,
          135142.1828408813,
          134424.41470123286,
          134658.47505035394,
          133987.5158059692,
          134021.32487579342,
          134884.72598052974,
          135677.90580596917,
          134590.8569107055,
          133043.5581454467,
          135315.80299346917,
          134058.3215542602,
          132431.60170623774,
          132705.30367584224,
          133629.69200866693,
          133908.56322143547,
          132767.2715542602,
          132855.06200866692,
          131762.83087188716,
          130938.37622253412,
          131146.0547985839,
          131201.10130401608,
          131388.75880401605,
          131296.18232574456,
          131461.31420623773,
          131070.987217102,
          132029.2957931518,
          131926.7087768554,
          131949.22676055902,
          131791.5932388305,
          132282.0027008056,
          132457.15275512688,
          132694.8553094482,
          132499.6918148803,
          131906.6877008056,
          131871.66227142327,
          130107.68482574457,
          129558.51602355952,
          128994.59852355951,
          129122.41462249751,
          128495.83962249751,
          128117.39352355953,
          128046.93176116938,
          128102.05849426264,
          128188.33618347162,
          128756.35291320796,
          129544.86926116938,
          129355.52791320796,
          129722.22272064204,
          128873.79618682856,
          129976.2723355102,
          130350.15695037837,
          129993.05099090571,
          130148.83502807612,
          129791.72906860347,
          128974.45349090571,
          127447.75676116938,
          128907.34618347163,
          128683.71453399652,
          128466.13265838618,
          127394.96203155511,
          127136.73724212642,
          127191.61515380854,
          127149.90558013911,
          127571.58307708736,
          127075.77015380854,
          126862.61224273677,
          127687.42807708736,
          127184.66473663325,
          127828.76265380855,
          127997.89182861322,
          127914.48682250972,
          128041.91349426264,
          128296.77390838618,
          128604.9184973144,
          128792.59390228266,
          129035.86557403559,
          128357.01557098384,
          127230.99849426265,
          127388.5459973144,
          126747.21867492673,
          125843.77801940915,
          125679.3084988403,
          125461.55693328854,
          125002.99064025875,
          125896.18985412594,
          126339.43511352535,
          126189.44590759273,
          126243.17012145992,
          126554.33880065914,
          126529.71064819332,
          126167.05854125973,
          126043.93827392574,
          125611.89011352535,
          124819.42380065915,
          125074.62064819332,
          126301.7678613281,
          125471.10077453611,
          125630.0678613281,
          126921.97523437499,
          128569.87595458982,
          128661.67577453611,
          127714.58314758299,
          126523.43350769041,
          126359.98404785154,
          126644.33458801267,
          128641.5255944824,
          128478.07613464353,
          129666.98458801268,
          128525.10005432127,
          129778.93458801268,
          128780.34250122069,
          128377.32523437498,
          127535.45904785155,
          127714.58314758299,
          128424.34232116697,
          128663.91696105956,
          128528.9421694946,
          130258.87950042723,
          131055.31044647214,
          131367.26777740475,
          132182.60916229244,
          132600.91066589352,
          132879.77833496092,
          132768.70294647216,
          133342.98311553954,
          133439.87928100582,
          132962.49527740476,
          133997.62183135984,
          134217.40700042722,
          134404.1097198486,
          134843.68005798338,
          135510.13238891598,
          136027.69566589355,
          136410.54911193845,
          136505.0796694946,
          136138.77105438232,
          135250.16794647212,
          135285.6160040283,
          136112.7710040283
         ]
        }
       ],
       "layout": {
        "legend": {
         "bgcolor": "#F5F6F9",
         "font": {
          "color": "#4D5663"
         }
        },
        "paper_bgcolor": "#F5F6F9",
        "plot_bgcolor": "#F5F6F9",
        "template": {
         "data": {
          "bar": [
           {
            "error_x": {
             "color": "#2a3f5f"
            },
            "error_y": {
             "color": "#2a3f5f"
            },
            "marker": {
             "line": {
              "color": "#E5ECF6",
              "width": 0.5
             },
             "pattern": {
              "fillmode": "overlay",
              "size": 10,
              "solidity": 0.2
             }
            },
            "type": "bar"
           }
          ],
          "barpolar": [
           {
            "marker": {
             "line": {
              "color": "#E5ECF6",
              "width": 0.5
             },
             "pattern": {
              "fillmode": "overlay",
              "size": 10,
              "solidity": 0.2
             }
            },
            "type": "barpolar"
           }
          ],
          "carpet": [
           {
            "aaxis": {
             "endlinecolor": "#2a3f5f",
             "gridcolor": "white",
             "linecolor": "white",
             "minorgridcolor": "white",
             "startlinecolor": "#2a3f5f"
            },
            "baxis": {
             "endlinecolor": "#2a3f5f",
             "gridcolor": "white",
             "linecolor": "white",
             "minorgridcolor": "white",
             "startlinecolor": "#2a3f5f"
            },
            "type": "carpet"
           }
          ],
          "choropleth": [
           {
            "colorbar": {
             "outlinewidth": 0,
             "ticks": ""
            },
            "type": "choropleth"
           }
          ],
          "contour": [
           {
            "colorbar": {
             "outlinewidth": 0,
             "ticks": ""
            },
            "colorscale": [
             [
              0,
              "#0d0887"
             ],
             [
              0.1111111111111111,
              "#46039f"
             ],
             [
              0.2222222222222222,
              "#7201a8"
             ],
             [
              0.3333333333333333,
              "#9c179e"
             ],
             [
              0.4444444444444444,
              "#bd3786"
             ],
             [
              0.5555555555555556,
              "#d8576b"
             ],
             [
              0.6666666666666666,
              "#ed7953"
             ],
             [
              0.7777777777777778,
              "#fb9f3a"
             ],
             [
              0.8888888888888888,
              "#fdca26"
             ],
             [
              1,
              "#f0f921"
             ]
            ],
            "type": "contour"
           }
          ],
          "contourcarpet": [
           {
            "colorbar": {
             "outlinewidth": 0,
             "ticks": ""
            },
            "type": "contourcarpet"
           }
          ],
          "heatmap": [
           {
            "colorbar": {
             "outlinewidth": 0,
             "ticks": ""
            },
            "colorscale": [
             [
              0,
              "#0d0887"
             ],
             [
              0.1111111111111111,
              "#46039f"
             ],
             [
              0.2222222222222222,
              "#7201a8"
             ],
             [
              0.3333333333333333,
              "#9c179e"
             ],
             [
              0.4444444444444444,
              "#bd3786"
             ],
             [
              0.5555555555555556,
              "#d8576b"
             ],
             [
              0.6666666666666666,
              "#ed7953"
             ],
             [
              0.7777777777777778,
              "#fb9f3a"
             ],
             [
              0.8888888888888888,
              "#fdca26"
             ],
             [
              1,
              "#f0f921"
             ]
            ],
            "type": "heatmap"
           }
          ],
          "heatmapgl": [
           {
            "colorbar": {
             "outlinewidth": 0,
             "ticks": ""
            },
            "colorscale": [
             [
              0,
              "#0d0887"
             ],
             [
              0.1111111111111111,
              "#46039f"
             ],
             [
              0.2222222222222222,
              "#7201a8"
             ],
             [
              0.3333333333333333,
              "#9c179e"
             ],
             [
              0.4444444444444444,
              "#bd3786"
             ],
             [
              0.5555555555555556,
              "#d8576b"
             ],
             [
              0.6666666666666666,
              "#ed7953"
             ],
             [
              0.7777777777777778,
              "#fb9f3a"
             ],
             [
              0.8888888888888888,
              "#fdca26"
             ],
             [
              1,
              "#f0f921"
             ]
            ],
            "type": "heatmapgl"
           }
          ],
          "histogram": [
           {
            "marker": {
             "pattern": {
              "fillmode": "overlay",
              "size": 10,
              "solidity": 0.2
             }
            },
            "type": "histogram"
           }
          ],
          "histogram2d": [
           {
            "colorbar": {
             "outlinewidth": 0,
             "ticks": ""
            },
            "colorscale": [
             [
              0,
              "#0d0887"
             ],
             [
              0.1111111111111111,
              "#46039f"
             ],
             [
              0.2222222222222222,
              "#7201a8"
             ],
             [
              0.3333333333333333,
              "#9c179e"
             ],
             [
              0.4444444444444444,
              "#bd3786"
             ],
             [
              0.5555555555555556,
              "#d8576b"
             ],
             [
              0.6666666666666666,
              "#ed7953"
             ],
             [
              0.7777777777777778,
              "#fb9f3a"
             ],
             [
              0.8888888888888888,
              "#fdca26"
             ],
             [
              1,
              "#f0f921"
             ]
            ],
            "type": "histogram2d"
           }
          ],
          "histogram2dcontour": [
           {
            "colorbar": {
             "outlinewidth": 0,
             "ticks": ""
            },
            "colorscale": [
             [
              0,
              "#0d0887"
             ],
             [
              0.1111111111111111,
              "#46039f"
             ],
             [
              0.2222222222222222,
              "#7201a8"
             ],
             [
              0.3333333333333333,
              "#9c179e"
             ],
             [
              0.4444444444444444,
              "#bd3786"
             ],
             [
              0.5555555555555556,
              "#d8576b"
             ],
             [
              0.6666666666666666,
              "#ed7953"
             ],
             [
              0.7777777777777778,
              "#fb9f3a"
             ],
             [
              0.8888888888888888,
              "#fdca26"
             ],
             [
              1,
              "#f0f921"
             ]
            ],
            "type": "histogram2dcontour"
           }
          ],
          "mesh3d": [
           {
            "colorbar": {
             "outlinewidth": 0,
             "ticks": ""
            },
            "type": "mesh3d"
           }
          ],
          "parcoords": [
           {
            "line": {
             "colorbar": {
              "outlinewidth": 0,
              "ticks": ""
             }
            },
            "type": "parcoords"
           }
          ],
          "pie": [
           {
            "automargin": true,
            "type": "pie"
           }
          ],
          "scatter": [
           {
            "marker": {
             "colorbar": {
              "outlinewidth": 0,
              "ticks": ""
             }
            },
            "type": "scatter"
           }
          ],
          "scatter3d": [
           {
            "line": {
             "colorbar": {
              "outlinewidth": 0,
              "ticks": ""
             }
            },
            "marker": {
             "colorbar": {
              "outlinewidth": 0,
              "ticks": ""
             }
            },
            "type": "scatter3d"
           }
          ],
          "scattercarpet": [
           {
            "marker": {
             "colorbar": {
              "outlinewidth": 0,
              "ticks": ""
             }
            },
            "type": "scattercarpet"
           }
          ],
          "scattergeo": [
           {
            "marker": {
             "colorbar": {
              "outlinewidth": 0,
              "ticks": ""
             }
            },
            "type": "scattergeo"
           }
          ],
          "scattergl": [
           {
            "marker": {
             "colorbar": {
              "outlinewidth": 0,
              "ticks": ""
             }
            },
            "type": "scattergl"
           }
          ],
          "scattermapbox": [
           {
            "marker": {
             "colorbar": {
              "outlinewidth": 0,
              "ticks": ""
             }
            },
            "type": "scattermapbox"
           }
          ],
          "scatterpolar": [
           {
            "marker": {
             "colorbar": {
              "outlinewidth": 0,
              "ticks": ""
             }
            },
            "type": "scatterpolar"
           }
          ],
          "scatterpolargl": [
           {
            "marker": {
             "colorbar": {
              "outlinewidth": 0,
              "ticks": ""
             }
            },
            "type": "scatterpolargl"
           }
          ],
          "scatterternary": [
           {
            "marker": {
             "colorbar": {
              "outlinewidth": 0,
              "ticks": ""
             }
            },
            "type": "scatterternary"
           }
          ],
          "surface": [
           {
            "colorbar": {
             "outlinewidth": 0,
             "ticks": ""
            },
            "colorscale": [
             [
              0,
              "#0d0887"
             ],
             [
              0.1111111111111111,
              "#46039f"
             ],
             [
              0.2222222222222222,
              "#7201a8"
             ],
             [
              0.3333333333333333,
              "#9c179e"
             ],
             [
              0.4444444444444444,
              "#bd3786"
             ],
             [
              0.5555555555555556,
              "#d8576b"
             ],
             [
              0.6666666666666666,
              "#ed7953"
             ],
             [
              0.7777777777777778,
              "#fb9f3a"
             ],
             [
              0.8888888888888888,
              "#fdca26"
             ],
             [
              1,
              "#f0f921"
             ]
            ],
            "type": "surface"
           }
          ],
          "table": [
           {
            "cells": {
             "fill": {
              "color": "#EBF0F8"
             },
             "line": {
              "color": "white"
             }
            },
            "header": {
             "fill": {
              "color": "#C8D4E3"
             },
             "line": {
              "color": "white"
             }
            },
            "type": "table"
           }
          ]
         },
         "layout": {
          "annotationdefaults": {
           "arrowcolor": "#2a3f5f",
           "arrowhead": 0,
           "arrowwidth": 1
          },
          "autotypenumbers": "strict",
          "coloraxis": {
           "colorbar": {
            "outlinewidth": 0,
            "ticks": ""
           }
          },
          "colorscale": {
           "diverging": [
            [
             0,
             "#8e0152"
            ],
            [
             0.1,
             "#c51b7d"
            ],
            [
             0.2,
             "#de77ae"
            ],
            [
             0.3,
             "#f1b6da"
            ],
            [
             0.4,
             "#fde0ef"
            ],
            [
             0.5,
             "#f7f7f7"
            ],
            [
             0.6,
             "#e6f5d0"
            ],
            [
             0.7,
             "#b8e186"
            ],
            [
             0.8,
             "#7fbc41"
            ],
            [
             0.9,
             "#4d9221"
            ],
            [
             1,
             "#276419"
            ]
           ],
           "sequential": [
            [
             0,
             "#0d0887"
            ],
            [
             0.1111111111111111,
             "#46039f"
            ],
            [
             0.2222222222222222,
             "#7201a8"
            ],
            [
             0.3333333333333333,
             "#9c179e"
            ],
            [
             0.4444444444444444,
             "#bd3786"
            ],
            [
             0.5555555555555556,
             "#d8576b"
            ],
            [
             0.6666666666666666,
             "#ed7953"
            ],
            [
             0.7777777777777778,
             "#fb9f3a"
            ],
            [
             0.8888888888888888,
             "#fdca26"
            ],
            [
             1,
             "#f0f921"
            ]
           ],
           "sequentialminus": [
            [
             0,
             "#0d0887"
            ],
            [
             0.1111111111111111,
             "#46039f"
            ],
            [
             0.2222222222222222,
             "#7201a8"
            ],
            [
             0.3333333333333333,
             "#9c179e"
            ],
            [
             0.4444444444444444,
             "#bd3786"
            ],
            [
             0.5555555555555556,
             "#d8576b"
            ],
            [
             0.6666666666666666,
             "#ed7953"
            ],
            [
             0.7777777777777778,
             "#fb9f3a"
            ],
            [
             0.8888888888888888,
             "#fdca26"
            ],
            [
             1,
             "#f0f921"
            ]
           ]
          },
          "colorway": [
           "#636efa",
           "#EF553B",
           "#00cc96",
           "#ab63fa",
           "#FFA15A",
           "#19d3f3",
           "#FF6692",
           "#B6E880",
           "#FF97FF",
           "#FECB52"
          ],
          "font": {
           "color": "#2a3f5f"
          },
          "geo": {
           "bgcolor": "white",
           "lakecolor": "white",
           "landcolor": "#E5ECF6",
           "showlakes": true,
           "showland": true,
           "subunitcolor": "white"
          },
          "hoverlabel": {
           "align": "left"
          },
          "hovermode": "closest",
          "mapbox": {
           "style": "light"
          },
          "paper_bgcolor": "white",
          "plot_bgcolor": "#E5ECF6",
          "polar": {
           "angularaxis": {
            "gridcolor": "white",
            "linecolor": "white",
            "ticks": ""
           },
           "bgcolor": "#E5ECF6",
           "radialaxis": {
            "gridcolor": "white",
            "linecolor": "white",
            "ticks": ""
           }
          },
          "scene": {
           "xaxis": {
            "backgroundcolor": "#E5ECF6",
            "gridcolor": "white",
            "gridwidth": 2,
            "linecolor": "white",
            "showbackground": true,
            "ticks": "",
            "zerolinecolor": "white"
           },
           "yaxis": {
            "backgroundcolor": "#E5ECF6",
            "gridcolor": "white",
            "gridwidth": 2,
            "linecolor": "white",
            "showbackground": true,
            "ticks": "",
            "zerolinecolor": "white"
           },
           "zaxis": {
            "backgroundcolor": "#E5ECF6",
            "gridcolor": "white",
            "gridwidth": 2,
            "linecolor": "white",
            "showbackground": true,
            "ticks": "",
            "zerolinecolor": "white"
           }
          },
          "shapedefaults": {
           "line": {
            "color": "#2a3f5f"
           }
          },
          "ternary": {
           "aaxis": {
            "gridcolor": "white",
            "linecolor": "white",
            "ticks": ""
           },
           "baxis": {
            "gridcolor": "white",
            "linecolor": "white",
            "ticks": ""
           },
           "bgcolor": "#E5ECF6",
           "caxis": {
            "gridcolor": "white",
            "linecolor": "white",
            "ticks": ""
           }
          },
          "title": {
           "x": 0.05
          },
          "xaxis": {
           "automargin": true,
           "gridcolor": "white",
           "linecolor": "white",
           "ticks": "",
           "title": {
            "standoff": 15
           },
           "zerolinecolor": "white",
           "zerolinewidth": 2
          },
          "yaxis": {
           "automargin": true,
           "gridcolor": "white",
           "linecolor": "white",
           "ticks": "",
           "title": {
            "standoff": 15
           },
           "zerolinecolor": "white",
           "zerolinewidth": 2
          }
         }
        },
        "title": {
         "font": {
          "color": "#4D5663"
         }
        },
        "xaxis": {
         "gridcolor": "#E1E5ED",
         "showgrid": true,
         "tickfont": {
          "color": "#4D5663"
         },
         "title": {
          "font": {
           "color": "#4D5663"
          },
          "text": ""
         },
         "zerolinecolor": "#E1E5ED"
        },
        "yaxis": {
         "gridcolor": "#E1E5ED",
         "showgrid": true,
         "tickfont": {
          "color": "#4D5663"
         },
         "title": {
          "font": {
           "color": "#4D5663"
          },
          "text": ""
         },
         "zerolinecolor": "#E1E5ED"
        }
       }
      },
      "text/html": [
       "<div>                            <div id=\"394331c5-f02f-48a0-9a83-0bea8d9f1fdf\" class=\"plotly-graph-div\" style=\"height:525px; width:100%;\"></div>            <script type=\"text/javascript\">                require([\"plotly\"], function(Plotly) {                    window.PLOTLYENV=window.PLOTLYENV || {};\n",
       "                    window.PLOTLYENV.BASE_URL='https://plot.ly';                                    if (document.getElementById(\"394331c5-f02f-48a0-9a83-0bea8d9f1fdf\")) {                    Plotly.newPlot(                        \"394331c5-f02f-48a0-9a83-0bea8d9f1fdf\",                        [{\"line\":{\"color\":\"rgba(255, 153, 51, 1.0)\",\"dash\":\"solid\",\"shape\":\"linear\",\"width\":1.3},\"mode\":\"lines\",\"name\":\"account_val\",\"text\":\"\",\"type\":\"scatter\",\"x\":[\"2020-01-16\",\"2020-01-17\",\"2020-01-21\",\"2020-01-22\",\"2020-01-23\",\"2020-01-24\",\"2020-01-27\",\"2020-01-28\",\"2020-01-29\",\"2020-01-30\",\"2020-01-31\",\"2020-02-03\",\"2020-02-04\",\"2020-02-05\",\"2020-02-06\",\"2020-02-07\",\"2020-02-10\",\"2020-02-11\",\"2020-02-12\",\"2020-02-13\",\"2020-02-14\",\"2020-02-18\",\"2020-02-19\",\"2020-02-20\",\"2020-02-21\",\"2020-02-24\",\"2020-02-25\",\"2020-02-26\",\"2020-02-27\",\"2020-02-28\",\"2020-03-02\",\"2020-03-03\",\"2020-03-04\",\"2020-03-05\",\"2020-03-06\",\"2020-03-09\",\"2020-03-10\",\"2020-03-11\",\"2020-03-12\",\"2020-03-13\",\"2020-03-16\",\"2020-03-17\",\"2020-03-18\",\"2020-03-19\",\"2020-03-20\",\"2020-03-23\",\"2020-03-24\",\"2020-03-25\",\"2020-03-26\",\"2020-03-27\",\"2020-03-30\",\"2020-03-31\",\"2020-04-01\",\"2020-04-02\",\"2020-04-03\",\"2020-04-06\",\"2020-04-07\",\"2020-04-08\",\"2020-04-09\",\"2020-04-13\",\"2020-04-14\",\"2020-04-15\",\"2020-04-16\",\"2020-04-17\",\"2020-04-20\",\"2020-04-21\",\"2020-04-22\",\"2020-04-23\",\"2020-04-24\",\"2020-04-27\",\"2020-04-28\",\"2020-04-29\",\"2020-04-30\",\"2020-05-01\",\"2020-05-04\",\"2020-05-05\",\"2020-05-06\",\"2020-05-07\",\"2020-05-08\",\"2020-05-11\",\"2020-05-12\",\"2020-05-13\",\"2020-05-14\",\"2020-05-15\",\"2020-05-18\",\"2020-05-19\",\"2020-05-20\",\"2020-05-21\",\"2020-05-22\",\"2020-05-26\",\"2020-05-27\",\"2020-05-28\",\"2020-05-29\",\"2020-06-01\",\"2020-06-02\",\"2020-06-03\",\"2020-06-04\",\"2020-06-05\",\"2020-06-08\",\"2020-06-09\",\"2020-06-10\",\"2020-06-11\",\"2020-06-12\",\"2020-06-15\",\"2020-06-16\",\"2020-06-17\",\"2020-06-18\",\"2020-06-19\",\"2020-06-22\",\"2020-06-23\",\"2020-06-24\",\"2020-06-25\",\"2020-06-26\",\"2020-06-29\",\"2020-06-30\",\"2020-07-01\",\"2020-07-02\",\"2020-07-06\",\"2020-07-07\",\"2020-07-08\",\"2020-07-09\",\"2020-07-10\",\"2020-07-13\",\"2020-07-14\",\"2020-07-15\",\"2020-07-16\",\"2020-07-17\",\"2020-07-20\",\"2020-07-21\",\"2020-07-22\",\"2020-07-23\",\"2020-07-24\",\"2020-07-27\",\"2020-07-28\",\"2020-07-29\",\"2020-07-30\",\"2020-07-31\",\"2020-08-03\",\"2020-08-04\",\"2020-08-05\",\"2020-08-06\",\"2020-08-07\",\"2020-08-10\",\"2020-08-11\",\"2020-08-12\",\"2020-08-13\",\"2020-08-14\",\"2020-08-17\",\"2020-08-18\",\"2020-08-19\",\"2020-08-20\",\"2020-08-21\",\"2020-08-24\",\"2020-08-25\",\"2020-08-26\",\"2020-08-27\",\"2020-08-28\",\"2020-08-31\",\"2020-09-01\",\"2020-09-02\",\"2020-09-03\",\"2020-09-04\",\"2020-09-08\",\"2020-09-09\",\"2020-09-10\",\"2020-09-11\",\"2020-09-14\",\"2020-09-15\",\"2020-09-16\",\"2020-09-17\",\"2020-09-18\",\"2020-09-21\",\"2020-09-22\",\"2020-09-23\",\"2020-09-24\",\"2020-09-25\",\"2020-09-28\",\"2020-09-29\",\"2020-09-30\",\"2020-10-01\",\"2020-10-02\",\"2020-10-05\",\"2020-10-06\",\"2020-10-07\",\"2020-10-08\",\"2020-10-09\",\"2020-10-12\",\"2020-10-13\",\"2020-10-14\",\"2020-10-15\",\"2020-10-16\",\"2020-10-19\",\"2020-10-20\",\"2020-10-21\",\"2020-10-22\",\"2020-10-23\",\"2020-10-26\",\"2020-10-27\",\"2020-10-28\",\"2020-10-29\",\"2020-10-30\",\"2020-11-02\",\"2020-11-03\",\"2020-11-04\",\"2020-11-05\",\"2020-11-06\",\"2020-11-09\",\"2020-11-10\",\"2020-11-11\",\"2020-11-12\",\"2020-11-13\",\"2020-11-16\",\"2020-11-17\",\"2020-11-18\",\"2020-11-19\",\"2020-11-20\",\"2020-11-23\",\"2020-11-24\",\"2020-11-25\",\"2020-11-27\",\"2020-11-30\",\"2020-12-01\",\"2020-12-02\",\"2020-12-03\",\"2020-12-04\",\"2020-12-07\",\"2020-12-08\",\"2020-12-09\",\"2020-12-10\",\"2020-12-11\",\"2020-12-14\",\"2020-12-15\",\"2020-12-16\",\"2020-12-17\",\"2020-12-18\",\"2020-12-21\",\"2020-12-22\",\"2020-12-23\",\"2020-12-24\",\"2020-12-28\",\"2020-12-29\",\"2020-12-30\",\"2020-12-31\",\"2021-01-04\",\"2021-01-05\",\"2021-01-06\",\"2021-01-07\",\"2021-01-08\",\"2021-01-11\",\"2021-01-12\",\"2021-01-13\",\"2021-01-14\",\"2021-01-15\",\"2021-01-19\",\"2021-01-20\",\"2021-01-21\",\"2021-01-22\",\"2021-01-25\",\"2021-01-26\",\"2021-01-27\",\"2021-01-28\",\"2021-01-29\",\"2021-02-01\",\"2021-02-02\",\"2021-02-03\",\"2021-02-04\",\"2021-02-05\",\"2021-02-08\",\"2021-02-09\",\"2021-02-10\",\"2021-02-11\",\"2021-02-12\",\"2021-02-16\",\"2021-02-17\",\"2021-02-18\",\"2021-02-19\",\"2021-02-22\",\"2021-02-23\",\"2021-02-24\",\"2021-02-25\",\"2021-02-26\",\"2021-03-01\",\"2021-03-02\",\"2021-03-03\",\"2021-03-04\",\"2021-03-05\",\"2021-03-08\",\"2021-03-09\",\"2021-03-10\",\"2021-03-11\",\"2021-03-12\",\"2021-03-15\",\"2021-03-16\",\"2021-03-17\",\"2021-03-18\",\"2021-03-19\",\"2021-03-22\",\"2021-03-23\",\"2021-03-24\",\"2021-03-25\",\"2021-03-26\",\"2021-03-29\",\"2021-03-30\",\"2021-03-31\",\"2021-04-01\",\"2021-04-05\",\"2021-04-06\",\"2021-04-07\",\"2021-04-08\",\"2021-04-09\",\"2021-04-12\",\"2021-04-13\",\"2021-04-14\",\"2021-04-15\",\"2021-04-16\",\"2021-04-19\",\"2021-04-20\",\"2021-04-21\",\"2021-04-22\",\"2021-04-23\",\"2021-04-26\",\"2021-04-27\",\"2021-04-28\",\"2021-04-29\",\"2021-04-30\",\"2021-05-03\",\"2021-05-04\",\"2021-05-05\",\"2021-05-06\",\"2021-05-07\",\"2021-05-10\",\"2021-05-11\",\"2021-05-12\",\"2021-05-13\",\"2021-05-14\",\"2021-05-17\",\"2021-05-18\",\"2021-05-19\",\"2021-05-20\",\"2021-05-21\",\"2021-05-24\",\"2021-05-25\",\"2021-05-26\",\"2021-05-27\",\"2021-05-28\",\"2021-06-01\",\"2021-06-02\",\"2021-06-03\",\"2021-06-04\",\"2021-06-07\",\"2021-06-08\",\"2021-06-09\",\"2021-06-10\",\"2021-06-11\",\"2021-06-14\",\"2021-06-15\",\"2021-06-16\",\"2021-06-17\",\"2021-06-18\",\"2021-06-21\",\"2021-06-22\",\"2021-06-23\",\"2021-06-24\",\"2021-06-25\",\"2021-06-28\",\"2021-06-29\",\"2021-06-30\",\"2021-07-01\",\"2021-07-02\",\"2021-07-06\",\"2021-07-07\",\"2021-07-08\",\"2021-07-09\",\"2021-07-12\",\"2021-07-13\",\"2021-07-14\",\"2021-07-15\",\"2021-07-16\",\"2021-07-19\",\"2021-07-20\",\"2021-07-21\",\"2021-07-22\",\"2021-07-23\",\"2021-07-26\",\"2021-07-27\",\"2021-07-28\",\"2021-07-29\",\"2021-07-30\",\"2021-08-02\",\"2021-08-03\",\"2021-08-04\",\"2021-08-05\",\"2021-08-06\",\"2021-08-09\",\"2021-08-10\",\"2021-08-11\",\"2021-08-12\",\"2021-08-13\",\"2021-08-16\",\"2021-08-17\",\"2021-08-18\",\"2021-08-19\",\"2021-08-20\",\"2021-08-23\",\"2021-08-24\",\"2021-08-25\",\"2021-08-26\",\"2021-08-27\",\"2021-08-30\",\"2021-08-31\",\"2021-09-01\",\"2021-09-02\",\"2021-09-03\",\"2021-09-07\",\"2021-09-08\",\"2021-09-09\",\"2021-09-10\",\"2021-09-13\",\"2021-09-14\",\"2021-09-15\",\"2021-09-16\",\"2021-09-17\",\"2021-09-20\",\"2021-09-21\",\"2021-09-22\",\"2021-09-23\",\"2021-09-24\",\"2021-09-27\",\"2021-09-28\",\"2021-09-29\",\"2021-09-30\",\"2021-10-01\",\"2021-10-04\",\"2021-10-05\",\"2021-10-06\",\"2021-10-07\",\"2021-10-08\",\"2021-10-11\",\"2021-10-12\",\"2021-10-13\",\"2021-10-14\",\"2021-10-15\",\"2021-10-18\",\"2021-10-19\",\"2021-10-20\",\"2021-10-21\",\"2021-10-22\",\"2021-10-25\",\"2021-10-26\",\"2021-10-27\",\"2021-10-28\",\"2021-10-29\",\"2021-11-01\",\"2021-11-02\",\"2021-11-03\",\"2021-11-04\",\"2021-11-05\",\"2021-11-08\",\"2021-11-09\",\"2021-11-10\",\"2021-11-11\",\"2021-11-12\"],\"y\":[100295.02109619141,100544.94,100387.21807617188,100396.92574951172,100489.13013427735,99773.33917236328,98494.62903808594,99317.18219238282,100104.11419433593,99846.70438720702,101291.59794067382,100711.21419433592,99511.58400146483,98588.7949658203,98316.80794067381,98449.56438720702,99037.31975830077,99174.78380859374,99686.70467651366,99601.38091552733,99729.36294067382,99523.17409790038,99904.7406262207,99575.31438720702,98752.92409790038,96131.70467651366,99180.23820892333,99454.2702545166,102787.94502746582,103085.8075274658,100028.55002716063,102137.41798156737,99130.19934509275,101608.41389068602,102799.86389068603,108335.33593658445,104954.00025482176,108304.36434509276,114559.47320907592,109505.3407092285,116527.74730010986,113441.89252731322,116492.00525451658,116370.47866348265,119160.85252731323,120554.85048171996,115741.39320892333,114874.017754364,111440.25434570311,113294.15389083861,111333.02820892332,110628.00207275391,106653.60798156737,108599.69230010986,107352.55570922852,113064.02525390625,113156.53934570312,116205.8552545166,117634.58525512695,116764.32752746582,119549.82980041504,117483.83161865234,117942.94116394043,120526.29889160156,118796.06161804199,115866.66480041503,117942.94116394043,117936.08207214354,119268.87889099121,120666.76389038085,120214.51343688964,122777.30434509277,121841.95843688965,119207.20980041503,119474.45298217773,120372.11570922851,119707.4320727539,120882.61616333008,121596.11907073973,121575.99408966063,118792.61373413085,117120.17041809081,118231.83070739744,118663.95960205077,121540.4264047241,120540.92070739745,121443.27084625245,120861.91551940919,121045.29791992188,122237.2835232544,123694.52902069093,123511.14662017823,123953.23311889649,124356.01482299806,125184.5135232544,126527.14252197267,126258.61472351075,128871.82892120362,130135.8683178711,129346.66441864014,128760.49032043458,122738.31222351074,123917.20622222901,124847.21982299806,126782.56872222901,127924.56940490723,127885.70778625489,128902.623046875,128261.38657226563,127798.26914428711,130376.19197692872,129320.4052142334,131684.5891442871,130256.36535827637,128993.31333496094,128293.7745489502,127739.96683288575,126178.96914428711,126203.50384765626,126974.9578857422,126396.36980957031,127428.18946289063,126544.22946289064,127855.71015625,128797.52700195313,128456.80138671875,128755.73823242188,129591.48419433595,129813.27857910158,130407.93473144532,129154.32069335939,128485.72980957032,129237.89823242188,128578.95015625001,129848.63227050782,128152.12805969238,127332.59604125976,126899.52075653076,127291.76956329346,127924.92879302979,128610.59837005615,128684.7311795044,128993.5911795044,128138.04294708252,129571.15787139893,129382.74837005616,129385.83998626709,129716.3224484253,129941.7936416626,129506.29991058349,129830.59914031983,130201.2349105835,131263.7140646362,131634.34040924074,132699.91117950442,132934.63837005617,133629.57337005617,133237.32456329346,134253.476602478,135828.66448760987,132026.5986416626,131155.6111795044,128264.67667816162,130296.98075653076,133351.79523529054,133299.71077178954,131951.50864196778,131427.54080932616,131841.1961795044,132754.3013458252,134344.56999389647,135472.1565496826,134451.81536407472,136798.90773529053,136535.39962371826,134932.87195739744,133259.87597564695,133817.54441986082,133045.3852352905,132386.60560546874,134712.56235382083,136626.14749420166,135064.8927700806,136949.38749420168,137925.56874298098,138917.91791046143,140721.5927700806,139978.14471588138,139267.0127700806,139128.02193756105,139060.1442996216,137353.4374942017,137796.2747158814,137586.17068878177,137128.6800354004,136752.97702362062,138804.86482788087,139180.56783966068,142892.59865570068,141826.5111038208,142931.13028778078,141755.86651184084,139883.79952362063,137472.26028778078,135320.8291674805,135489.58158477786,136851.77569519047,136690.7922964478,137505.0155081177,136433.82730560307,137947.72694061283,139331.5946185303,138727.8903393555,137384.27087310795,137848.65587310796,137090.15659393312,137749.58480560308,139532.8262289429,139359.45658477786,139672.1455081177,139173.70069519046,140399.6744497681,140638.06479644778,140607.1039068604,141585.40944061283,141350.11801727297,141684.4805081177,140656.6394406128,140619.49015228276,140486.3592718506,139978.63658477785,141504.91301727298,141684.4805081177,142325.3246276856,141377.97998352055,140969.31891601568,140777.37462768558,140879.54461853032,141322.2560510254,142303.6605081177,142083.84480560306,142247.92712768557,142833.05676269534,141257.2447964478,142043.59659393312,142730.88677185064,144449.11694061285,145117.83247436525,144322.1839068604,144346.9469497681,144662.7347964478,144250.97480560307,143396.51283020023,144309.797661438,145932.0556860352,146040.40462768558,145619.36676269537,146086.85068603518,145901.09479644778,142997.13908477785,143994.01926269534,141653.5196185303,142014.3367440796,140388.2858331299,140296.58523651125,138970.06535583496,138505.48071380617,138378.41174652101,138304.6573764038,138256.43136749268,138435.13855255127,138982.6089315796,138886.15691375732,138911.6939315796,138437.97792266845,138242.25183013917,137391.27183013916,135909.47445648193,134695.3457803345,137379.5160745239,137939.66622161865,135318.05107452394,136182.43842681884,137638.25783843995,138980.3429855347,137009.86886810302,137552.9593093872,136003.30283843994,135318.05107452394,134194.90460357667,135154.609291687,135800.0619680786,135662.7319680786,136033.5246444702,134445.9901797485,133896.67017974853,134750.85875640868,133902.16036224365,133358.33054473874,131908.38824340815,130178.06017974849,130233.1695431518,130522.47267974848,130081.63140655513,130084.01266632075,131579.35766632075,131516.94580596918,131639.17432342522,132141.0882186889,132913.46673614497,132952.48208526603,133269.74766632076,132903.07005035394,134052.53080596917,134414.01801544183,133880.890253601,133090.31356781,134104.54598052974,133116.3132186889,134278.78173614497,134505.03266632074,134481.6282186889,134450.42228851313,135142.1828408813,134424.41470123286,134658.47505035394,133987.5158059692,134021.32487579342,134884.72598052974,135677.90580596917,134590.8569107055,133043.5581454467,135315.80299346917,134058.3215542602,132431.60170623774,132705.30367584224,133629.69200866693,133908.56322143547,132767.2715542602,132855.06200866692,131762.83087188716,130938.37622253412,131146.0547985839,131201.10130401608,131388.75880401605,131296.18232574456,131461.31420623773,131070.987217102,132029.2957931518,131926.7087768554,131949.22676055902,131791.5932388305,132282.0027008056,132457.15275512688,132694.8553094482,132499.6918148803,131906.6877008056,131871.66227142327,130107.68482574457,129558.51602355952,128994.59852355951,129122.41462249751,128495.83962249751,128117.39352355953,128046.93176116938,128102.05849426264,128188.33618347162,128756.35291320796,129544.86926116938,129355.52791320796,129722.22272064204,128873.79618682856,129976.2723355102,130350.15695037837,129993.05099090571,130148.83502807612,129791.72906860347,128974.45349090571,127447.75676116938,128907.34618347163,128683.71453399652,128466.13265838618,127394.96203155511,127136.73724212642,127191.61515380854,127149.90558013911,127571.58307708736,127075.77015380854,126862.61224273677,127687.42807708736,127184.66473663325,127828.76265380855,127997.89182861322,127914.48682250972,128041.91349426264,128296.77390838618,128604.9184973144,128792.59390228266,129035.86557403559,128357.01557098384,127230.99849426265,127388.5459973144,126747.21867492673,125843.77801940915,125679.3084988403,125461.55693328854,125002.99064025875,125896.18985412594,126339.43511352535,126189.44590759273,126243.17012145992,126554.33880065914,126529.71064819332,126167.05854125973,126043.93827392574,125611.89011352535,124819.42380065915,125074.62064819332,126301.7678613281,125471.10077453611,125630.0678613281,126921.97523437499,128569.87595458982,128661.67577453611,127714.58314758299,126523.43350769041,126359.98404785154,126644.33458801267,128641.5255944824,128478.07613464353,129666.98458801268,128525.10005432127,129778.93458801268,128780.34250122069,128377.32523437498,127535.45904785155,127714.58314758299,128424.34232116697,128663.91696105956,128528.9421694946,130258.87950042723,131055.31044647214,131367.26777740475,132182.60916229244,132600.91066589352,132879.77833496092,132768.70294647216,133342.98311553954,133439.87928100582,132962.49527740476,133997.62183135984,134217.40700042722,134404.1097198486,134843.68005798338,135510.13238891598,136027.69566589355,136410.54911193845,136505.0796694946,136138.77105438232,135250.16794647212,135285.6160040283,136112.7710040283]}],                        {\"legend\":{\"bgcolor\":\"#F5F6F9\",\"font\":{\"color\":\"#4D5663\"}},\"paper_bgcolor\":\"#F5F6F9\",\"plot_bgcolor\":\"#F5F6F9\",\"template\":{\"data\":{\"bar\":[{\"error_x\":{\"color\":\"#2a3f5f\"},\"error_y\":{\"color\":\"#2a3f5f\"},\"marker\":{\"line\":{\"color\":\"#E5ECF6\",\"width\":0.5},\"pattern\":{\"fillmode\":\"overlay\",\"size\":10,\"solidity\":0.2}},\"type\":\"bar\"}],\"barpolar\":[{\"marker\":{\"line\":{\"color\":\"#E5ECF6\",\"width\":0.5},\"pattern\":{\"fillmode\":\"overlay\",\"size\":10,\"solidity\":0.2}},\"type\":\"barpolar\"}],\"carpet\":[{\"aaxis\":{\"endlinecolor\":\"#2a3f5f\",\"gridcolor\":\"white\",\"linecolor\":\"white\",\"minorgridcolor\":\"white\",\"startlinecolor\":\"#2a3f5f\"},\"baxis\":{\"endlinecolor\":\"#2a3f5f\",\"gridcolor\":\"white\",\"linecolor\":\"white\",\"minorgridcolor\":\"white\",\"startlinecolor\":\"#2a3f5f\"},\"type\":\"carpet\"}],\"choropleth\":[{\"colorbar\":{\"outlinewidth\":0,\"ticks\":\"\"},\"type\":\"choropleth\"}],\"contour\":[{\"colorbar\":{\"outlinewidth\":0,\"ticks\":\"\"},\"colorscale\":[[0.0,\"#0d0887\"],[0.1111111111111111,\"#46039f\"],[0.2222222222222222,\"#7201a8\"],[0.3333333333333333,\"#9c179e\"],[0.4444444444444444,\"#bd3786\"],[0.5555555555555556,\"#d8576b\"],[0.6666666666666666,\"#ed7953\"],[0.7777777777777778,\"#fb9f3a\"],[0.8888888888888888,\"#fdca26\"],[1.0,\"#f0f921\"]],\"type\":\"contour\"}],\"contourcarpet\":[{\"colorbar\":{\"outlinewidth\":0,\"ticks\":\"\"},\"type\":\"contourcarpet\"}],\"heatmap\":[{\"colorbar\":{\"outlinewidth\":0,\"ticks\":\"\"},\"colorscale\":[[0.0,\"#0d0887\"],[0.1111111111111111,\"#46039f\"],[0.2222222222222222,\"#7201a8\"],[0.3333333333333333,\"#9c179e\"],[0.4444444444444444,\"#bd3786\"],[0.5555555555555556,\"#d8576b\"],[0.6666666666666666,\"#ed7953\"],[0.7777777777777778,\"#fb9f3a\"],[0.8888888888888888,\"#fdca26\"],[1.0,\"#f0f921\"]],\"type\":\"heatmap\"}],\"heatmapgl\":[{\"colorbar\":{\"outlinewidth\":0,\"ticks\":\"\"},\"colorscale\":[[0.0,\"#0d0887\"],[0.1111111111111111,\"#46039f\"],[0.2222222222222222,\"#7201a8\"],[0.3333333333333333,\"#9c179e\"],[0.4444444444444444,\"#bd3786\"],[0.5555555555555556,\"#d8576b\"],[0.6666666666666666,\"#ed7953\"],[0.7777777777777778,\"#fb9f3a\"],[0.8888888888888888,\"#fdca26\"],[1.0,\"#f0f921\"]],\"type\":\"heatmapgl\"}],\"histogram\":[{\"marker\":{\"pattern\":{\"fillmode\":\"overlay\",\"size\":10,\"solidity\":0.2}},\"type\":\"histogram\"}],\"histogram2d\":[{\"colorbar\":{\"outlinewidth\":0,\"ticks\":\"\"},\"colorscale\":[[0.0,\"#0d0887\"],[0.1111111111111111,\"#46039f\"],[0.2222222222222222,\"#7201a8\"],[0.3333333333333333,\"#9c179e\"],[0.4444444444444444,\"#bd3786\"],[0.5555555555555556,\"#d8576b\"],[0.6666666666666666,\"#ed7953\"],[0.7777777777777778,\"#fb9f3a\"],[0.8888888888888888,\"#fdca26\"],[1.0,\"#f0f921\"]],\"type\":\"histogram2d\"}],\"histogram2dcontour\":[{\"colorbar\":{\"outlinewidth\":0,\"ticks\":\"\"},\"colorscale\":[[0.0,\"#0d0887\"],[0.1111111111111111,\"#46039f\"],[0.2222222222222222,\"#7201a8\"],[0.3333333333333333,\"#9c179e\"],[0.4444444444444444,\"#bd3786\"],[0.5555555555555556,\"#d8576b\"],[0.6666666666666666,\"#ed7953\"],[0.7777777777777778,\"#fb9f3a\"],[0.8888888888888888,\"#fdca26\"],[1.0,\"#f0f921\"]],\"type\":\"histogram2dcontour\"}],\"mesh3d\":[{\"colorbar\":{\"outlinewidth\":0,\"ticks\":\"\"},\"type\":\"mesh3d\"}],\"parcoords\":[{\"line\":{\"colorbar\":{\"outlinewidth\":0,\"ticks\":\"\"}},\"type\":\"parcoords\"}],\"pie\":[{\"automargin\":true,\"type\":\"pie\"}],\"scatter\":[{\"marker\":{\"colorbar\":{\"outlinewidth\":0,\"ticks\":\"\"}},\"type\":\"scatter\"}],\"scatter3d\":[{\"line\":{\"colorbar\":{\"outlinewidth\":0,\"ticks\":\"\"}},\"marker\":{\"colorbar\":{\"outlinewidth\":0,\"ticks\":\"\"}},\"type\":\"scatter3d\"}],\"scattercarpet\":[{\"marker\":{\"colorbar\":{\"outlinewidth\":0,\"ticks\":\"\"}},\"type\":\"scattercarpet\"}],\"scattergeo\":[{\"marker\":{\"colorbar\":{\"outlinewidth\":0,\"ticks\":\"\"}},\"type\":\"scattergeo\"}],\"scattergl\":[{\"marker\":{\"colorbar\":{\"outlinewidth\":0,\"ticks\":\"\"}},\"type\":\"scattergl\"}],\"scattermapbox\":[{\"marker\":{\"colorbar\":{\"outlinewidth\":0,\"ticks\":\"\"}},\"type\":\"scattermapbox\"}],\"scatterpolar\":[{\"marker\":{\"colorbar\":{\"outlinewidth\":0,\"ticks\":\"\"}},\"type\":\"scatterpolar\"}],\"scatterpolargl\":[{\"marker\":{\"colorbar\":{\"outlinewidth\":0,\"ticks\":\"\"}},\"type\":\"scatterpolargl\"}],\"scatterternary\":[{\"marker\":{\"colorbar\":{\"outlinewidth\":0,\"ticks\":\"\"}},\"type\":\"scatterternary\"}],\"surface\":[{\"colorbar\":{\"outlinewidth\":0,\"ticks\":\"\"},\"colorscale\":[[0.0,\"#0d0887\"],[0.1111111111111111,\"#46039f\"],[0.2222222222222222,\"#7201a8\"],[0.3333333333333333,\"#9c179e\"],[0.4444444444444444,\"#bd3786\"],[0.5555555555555556,\"#d8576b\"],[0.6666666666666666,\"#ed7953\"],[0.7777777777777778,\"#fb9f3a\"],[0.8888888888888888,\"#fdca26\"],[1.0,\"#f0f921\"]],\"type\":\"surface\"}],\"table\":[{\"cells\":{\"fill\":{\"color\":\"#EBF0F8\"},\"line\":{\"color\":\"white\"}},\"header\":{\"fill\":{\"color\":\"#C8D4E3\"},\"line\":{\"color\":\"white\"}},\"type\":\"table\"}]},\"layout\":{\"annotationdefaults\":{\"arrowcolor\":\"#2a3f5f\",\"arrowhead\":0,\"arrowwidth\":1},\"autotypenumbers\":\"strict\",\"coloraxis\":{\"colorbar\":{\"outlinewidth\":0,\"ticks\":\"\"}},\"colorscale\":{\"diverging\":[[0,\"#8e0152\"],[0.1,\"#c51b7d\"],[0.2,\"#de77ae\"],[0.3,\"#f1b6da\"],[0.4,\"#fde0ef\"],[0.5,\"#f7f7f7\"],[0.6,\"#e6f5d0\"],[0.7,\"#b8e186\"],[0.8,\"#7fbc41\"],[0.9,\"#4d9221\"],[1,\"#276419\"]],\"sequential\":[[0.0,\"#0d0887\"],[0.1111111111111111,\"#46039f\"],[0.2222222222222222,\"#7201a8\"],[0.3333333333333333,\"#9c179e\"],[0.4444444444444444,\"#bd3786\"],[0.5555555555555556,\"#d8576b\"],[0.6666666666666666,\"#ed7953\"],[0.7777777777777778,\"#fb9f3a\"],[0.8888888888888888,\"#fdca26\"],[1.0,\"#f0f921\"]],\"sequentialminus\":[[0.0,\"#0d0887\"],[0.1111111111111111,\"#46039f\"],[0.2222222222222222,\"#7201a8\"],[0.3333333333333333,\"#9c179e\"],[0.4444444444444444,\"#bd3786\"],[0.5555555555555556,\"#d8576b\"],[0.6666666666666666,\"#ed7953\"],[0.7777777777777778,\"#fb9f3a\"],[0.8888888888888888,\"#fdca26\"],[1.0,\"#f0f921\"]]},\"colorway\":[\"#636efa\",\"#EF553B\",\"#00cc96\",\"#ab63fa\",\"#FFA15A\",\"#19d3f3\",\"#FF6692\",\"#B6E880\",\"#FF97FF\",\"#FECB52\"],\"font\":{\"color\":\"#2a3f5f\"},\"geo\":{\"bgcolor\":\"white\",\"lakecolor\":\"white\",\"landcolor\":\"#E5ECF6\",\"showlakes\":true,\"showland\":true,\"subunitcolor\":\"white\"},\"hoverlabel\":{\"align\":\"left\"},\"hovermode\":\"closest\",\"mapbox\":{\"style\":\"light\"},\"paper_bgcolor\":\"white\",\"plot_bgcolor\":\"#E5ECF6\",\"polar\":{\"angularaxis\":{\"gridcolor\":\"white\",\"linecolor\":\"white\",\"ticks\":\"\"},\"bgcolor\":\"#E5ECF6\",\"radialaxis\":{\"gridcolor\":\"white\",\"linecolor\":\"white\",\"ticks\":\"\"}},\"scene\":{\"xaxis\":{\"backgroundcolor\":\"#E5ECF6\",\"gridcolor\":\"white\",\"gridwidth\":2,\"linecolor\":\"white\",\"showbackground\":true,\"ticks\":\"\",\"zerolinecolor\":\"white\"},\"yaxis\":{\"backgroundcolor\":\"#E5ECF6\",\"gridcolor\":\"white\",\"gridwidth\":2,\"linecolor\":\"white\",\"showbackground\":true,\"ticks\":\"\",\"zerolinecolor\":\"white\"},\"zaxis\":{\"backgroundcolor\":\"#E5ECF6\",\"gridcolor\":\"white\",\"gridwidth\":2,\"linecolor\":\"white\",\"showbackground\":true,\"ticks\":\"\",\"zerolinecolor\":\"white\"}},\"shapedefaults\":{\"line\":{\"color\":\"#2a3f5f\"}},\"ternary\":{\"aaxis\":{\"gridcolor\":\"white\",\"linecolor\":\"white\",\"ticks\":\"\"},\"baxis\":{\"gridcolor\":\"white\",\"linecolor\":\"white\",\"ticks\":\"\"},\"bgcolor\":\"#E5ECF6\",\"caxis\":{\"gridcolor\":\"white\",\"linecolor\":\"white\",\"ticks\":\"\"}},\"title\":{\"x\":0.05},\"xaxis\":{\"automargin\":true,\"gridcolor\":\"white\",\"linecolor\":\"white\",\"ticks\":\"\",\"title\":{\"standoff\":15},\"zerolinecolor\":\"white\",\"zerolinewidth\":2},\"yaxis\":{\"automargin\":true,\"gridcolor\":\"white\",\"linecolor\":\"white\",\"ticks\":\"\",\"title\":{\"standoff\":15},\"zerolinecolor\":\"white\",\"zerolinewidth\":2}}},\"title\":{\"font\":{\"color\":\"#4D5663\"}},\"xaxis\":{\"gridcolor\":\"#E1E5ED\",\"showgrid\":true,\"tickfont\":{\"color\":\"#4D5663\"},\"title\":{\"font\":{\"color\":\"#4D5663\"},\"text\":\"\"},\"zerolinecolor\":\"#E1E5ED\"},\"yaxis\":{\"gridcolor\":\"#E1E5ED\",\"showgrid\":true,\"tickfont\":{\"color\":\"#4D5663\"},\"title\":{\"font\":{\"color\":\"#4D5663\"},\"text\":\"\"},\"zerolinecolor\":\"#E1E5ED\"}},                        {\"showLink\": true, \"linkText\": \"Export to plot.ly\", \"plotlyServerURL\": \"https://plot.ly\", \"responsive\": true}                    ).then(function(){\n",
       "                            \n",
       "var gd = document.getElementById('394331c5-f02f-48a0-9a83-0bea8d9f1fdf');\n",
       "var x = new MutationObserver(function (mutations, observer) {{\n",
       "        var display = window.getComputedStyle(gd).display;\n",
       "        if (!display || display === 'none') {{\n",
       "            console.log([gd, 'removed!']);\n",
       "            Plotly.purge(gd);\n",
       "            observer.disconnect();\n",
       "        }}\n",
       "}});\n",
       "\n",
       "// Listen for the removal of the full notebook cells\n",
       "var notebookContainer = gd.closest('#notebook-container');\n",
       "if (notebookContainer) {{\n",
       "    x.observe(notebookContainer, {childList: true});\n",
       "}}\n",
       "\n",
       "// Listen for the clearing of the current output cell\n",
       "var outputEl = gd.closest('.output');\n",
       "if (outputEl) {{\n",
       "    x.observe(outputEl, {childList: true});\n",
       "}}\n",
       "\n",
       "                        })                };                });            </script>        </div>"
      ]
     },
     "metadata": {},
     "output_type": "display_data"
    },
    {
     "data": {
      "text/plain": [
       "<AxesSubplot:>"
      ]
     },
     "execution_count": 12,
     "metadata": {},
     "output_type": "execute_result"
    },
    {
     "data": {
      "image/png": "[encoded data removed]",
      "text/plain": [
       "<Figure size 432x288 with 1 Axes>"
      ]
     },
     "metadata": {
      "needs_background": "light"
     },
     "output_type": "display_data"
    }
   ],
   "source": [
    "#Todo:\n",
    "\n",
    "r_df = results['result_df']\n",
    "\n",
    "# Calculate the Absolute Return of our trend-following trading strategy\n",
    "absolute_return_tf = (r_df['account_val'].iloc[-1]-starting_capital)/starting_capital\n",
    "\n",
    "# Calculate the CAGR or our trend-following trading strategy\n",
    "CAGR_tf = ((r_df['account_val'].iloc[-1]/starting_capital)**(252/len(df)))-1\n",
    "#or\n",
    "CAGR_tf = ((r_df['account_val'].iloc[-1]/starting_capital)**(365/(df.index[-1] - df.index[0]).days))-1\n",
    "\n",
    "\n",
    "# Calculate the IR (Sharpe without RF-rate) of our trend-following trading strategy\n",
    "information_ratio_tf = (r_df.account_val.pct_change().mean()/r_df.account_val.pct_change().std())*((252) **0.5)\n",
    "\n",
    "#Plot the equity curve (hint: use 'account_val')\n",
    "r_df.account_val.iplot()\n",
    "#or\n",
    "r_df.account_val.plot()"
   ]
  },
  {
   "cell_type": "code",
   "execution_count": 13,
   "id": "6b3a25a4-4585-45e5-b468-47a87a2d48ff",
   "metadata": {},
   "outputs": [
    {
     "data": {
      "application/vnd.plotly.v1+json": {
       "config": {
        "linkText": "Export to plot.ly",
        "plotlyServerURL": "https://plot.ly",
        "showLink": true
       },
       "data": [
        {
         "line": {
          "color": "rgba(255, 153, 51, 1.0)",
          "dash": "solid",
          "shape": "linear",
          "width": 1.3
         },
         "mode": "lines",
         "name": "Close",
         "text": "",
         "type": "scatter",
         "x": [
          "2020-01-17",
          "2020-01-21",
          "2020-01-22",
          "2020-01-23",
          "2020-01-24",
          "2020-01-27",
          "2020-01-28",
          "2020-01-29",
          "2020-01-30",
          "2020-01-31",
          "2020-02-03",
          "2020-02-04",
          "2020-02-05",
          "2020-02-06",
          "2020-02-07",
          "2020-02-10",
          "2020-02-11",
          "2020-02-12",
          "2020-02-13",
          "2020-02-14",
          "2020-02-18",
          "2020-02-19",
          "2020-02-20",
          "2020-02-21",
          "2020-02-24",
          "2020-02-25",
          "2020-02-26",
          "2020-02-27",
          "2020-02-28",
          "2020-03-02",
          "2020-03-03",
          "2020-03-04",
          "2020-03-05",
          "2020-03-06",
          "2020-03-09",
          "2020-03-10",
          "2020-03-11",
          "2020-03-12",
          "2020-03-13",
          "2020-03-16",
          "2020-03-17",
          "2020-03-18",
          "2020-03-19",
          "2020-03-20",
          "2020-03-23",
          "2020-03-24",
          "2020-03-25",
          "2020-03-26",
          "2020-03-27",
          "2020-03-30",
          "2020-03-31",
          "2020-04-01",
          "2020-04-02",
          "2020-04-03",
          "2020-04-06",
          "2020-04-07",
          "2020-04-08",
          "2020-04-09",
          "2020-04-13",
          "2020-04-14",
          "2020-04-15",
          "2020-04-16",
          "2020-04-17",
          "2020-04-20",
          "2020-04-21",
          "2020-04-22",
          "2020-04-23",
          "2020-04-24",
          "2020-04-27",
          "2020-04-28",
          "2020-04-29",
          "2020-04-30",
          "2020-05-01",
          "2020-05-04",
          "2020-05-05",
          "2020-05-06",
          "2020-05-07",
          "2020-05-08",
          "2020-05-11",
          "2020-05-12",
          "2020-05-13",
          "2020-05-14",
          "2020-05-15",
          "2020-05-18",
          "2020-05-19",
          "2020-05-20",
          "2020-05-21",
          "2020-05-22",
          "2020-05-26",
          "2020-05-27",
          "2020-05-28",
          "2020-05-29",
          "2020-06-01",
          "2020-06-02",
          "2020-06-03",
          "2020-06-04",
          "2020-06-05",
          "2020-06-08",
          "2020-06-09",
          "2020-06-10",
          "2020-06-11",
          "2020-06-12",
          "2020-06-15",
          "2020-06-16",
          "2020-06-17",
          "2020-06-18",
          "2020-06-19",
          "2020-06-22",
          "2020-06-23",
          "2020-06-24",
          "2020-06-25",
          "2020-06-26",
          "2020-06-29",
          "2020-06-30",
          "2020-07-01",
          "2020-07-02",
          "2020-07-06",
          "2020-07-07",
          "2020-07-08",
          "2020-07-09",
          "2020-07-10",
          "2020-07-13",
          "2020-07-14",
          "2020-07-15",
          "2020-07-16",
          "2020-07-17",
          "2020-07-20",
          "2020-07-21",
          "2020-07-22",
          "2020-07-23",
          "2020-07-24",
          "2020-07-27",
          "2020-07-28",
          "2020-07-29",
          "2020-07-30",
          "2020-07-31",
          "2020-08-03",
          "2020-08-04",
          "2020-08-05",
          "2020-08-06",
          "2020-08-07",
          "2020-08-10",
          "2020-08-11",
          "2020-08-12",
          "2020-08-13",
          "2020-08-14",
          "2020-08-17",
          "2020-08-18",
          "2020-08-19",
          "2020-08-20",
          "2020-08-21",
          "2020-08-24",
          "2020-08-25",
          "2020-08-26",
          "2020-08-27",
          "2020-08-28",
          "2020-08-31",
          "2020-09-01",
          "2020-09-02",
          "2020-09-03",
          "2020-09-04",
          "2020-09-08",
          "2020-09-09",
          "2020-09-10",
          "2020-09-11",
          "2020-09-14",
          "2020-09-15",
          "2020-09-16",
          "2020-09-17",
          "2020-09-18",
          "2020-09-21",
          "2020-09-22",
          "2020-09-23",
          "2020-09-24",
          "2020-09-25",
          "2020-09-28",
          "2020-09-29",
          "2020-09-30",
          "2020-10-01",
          "2020-10-02",
          "2020-10-05",
          "2020-10-06",
          "2020-10-07",
          "2020-10-08",
          "2020-10-09",
          "2020-10-12",
          "2020-10-13",
          "2020-10-14",
          "2020-10-15",
          "2020-10-16",
          "2020-10-19",
          "2020-10-20",
          "2020-10-21",
          "2020-10-22",
          "2020-10-23",
          "2020-10-26",
          "2020-10-27",
          "2020-10-28",
          "2020-10-29",
          "2020-10-30",
          "2020-11-02",
          "2020-11-03",
          "2020-11-04",
          "2020-11-05",
          "2020-11-06",
          "2020-11-09",
          "2020-11-10",
          "2020-11-11",
          "2020-11-12",
          "2020-11-13",
          "2020-11-16",
          "2020-11-17",
          "2020-11-18",
          "2020-11-19",
          "2020-11-20",
          "2020-11-23",
          "2020-11-24",
          "2020-11-25",
          "2020-11-27",
          "2020-11-30",
          "2020-12-01",
          "2020-12-02",
          "2020-12-03",
          "2020-12-04",
          "2020-12-07",
          "2020-12-08",
          "2020-12-09",
          "2020-12-10",
          "2020-12-11",
          "2020-12-14",
          "2020-12-15",
          "2020-12-16",
          "2020-12-17",
          "2020-12-18",
          "2020-12-21",
          "2020-12-22",
          "2020-12-23",
          "2020-12-24",
          "2020-12-28",
          "2020-12-29",
          "2020-12-30",
          "2020-12-31",
          "2021-01-04",
          "2021-01-05",
          "2021-01-06",
          "2021-01-07",
          "2021-01-08",
          "2021-01-11",
          "2021-01-12",
          "2021-01-13",
          "2021-01-14",
          "2021-01-15",
          "2021-01-19",
          "2021-01-20",
          "2021-01-21",
          "2021-01-22",
          "2021-01-25",
          "2021-01-26",
          "2021-01-27",
          "2021-01-28",
          "2021-01-29",
          "2021-02-01",
          "2021-02-02",
          "2021-02-03",
          "2021-02-04",
          "2021-02-05",
          "2021-02-08",
          "2021-02-09",
          "2021-02-10",
          "2021-02-11",
          "2021-02-12",
          "2021-02-16",
          "2021-02-17",
          "2021-02-18",
          "2021-02-19",
          "2021-02-22",
          "2021-02-23",
          "2021-02-24",
          "2021-02-25",
          "2021-02-26",
          "2021-03-01",
          "2021-03-02",
          "2021-03-03",
          "2021-03-04",
          "2021-03-05",
          "2021-03-08",
          "2021-03-09",
          "2021-03-10",
          "2021-03-11",
          "2021-03-12",
          "2021-03-15",
          "2021-03-16",
          "2021-03-17",
          "2021-03-18",
          "2021-03-19",
          "2021-03-22",
          "2021-03-23",
          "2021-03-24",
          "2021-03-25",
          "2021-03-26",
          "2021-03-29",
          "2021-03-30",
          "2021-03-31",
          "2021-04-01",
          "2021-04-05",
          "2021-04-06",
          "2021-04-07",
          "2021-04-08",
          "2021-04-09",
          "2021-04-12",
          "2021-04-13",
          "2021-04-14",
          "2021-04-15",
          "2021-04-16",
          "2021-04-19",
          "2021-04-20",
          "2021-04-21",
          "2021-04-22",
          "2021-04-23",
          "2021-04-26",
          "2021-04-27",
          "2021-04-28",
          "2021-04-29",
          "2021-04-30",
          "2021-05-03",
          "2021-05-04",
          "2021-05-05",
          "2021-05-06",
          "2021-05-07",
          "2021-05-10",
          "2021-05-11",
          "2021-05-12",
          "2021-05-13",
          "2021-05-14",
          "2021-05-17",
          "2021-05-18",
          "2021-05-19",
          "2021-05-20",
          "2021-05-21",
          "2021-05-24",
          "2021-05-25",
          "2021-05-26",
          "2021-05-27",
          "2021-05-28",
          "2021-06-01",
          "2021-06-02",
          "2021-06-03",
          "2021-06-04",
          "2021-06-07",
          "2021-06-08",
          "2021-06-09",
          "2021-06-10",
          "2021-06-11",
          "2021-06-14",
          "2021-06-15",
          "2021-06-16",
          "2021-06-17",
          "2021-06-18",
          "2021-06-21",
          "2021-06-22",
          "2021-06-23",
          "2021-06-24",
          "2021-06-25",
          "2021-06-28",
          "2021-06-29",
          "2021-06-30",
          "2021-07-01",
          "2021-07-02",
          "2021-07-06",
          "2021-07-07",
          "2021-07-08",
          "2021-07-09",
          "2021-07-12",
          "2021-07-13",
          "2021-07-14",
          "2021-07-15",
          "2021-07-16",
          "2021-07-19",
          "2021-07-20",
          "2021-07-21",
          "2021-07-22",
          "2021-07-23",
          "2021-07-26",
          "2021-07-27",
          "2021-07-28",
          "2021-07-29",
          "2021-07-30",
          "2021-08-02",
          "2021-08-03",
          "2021-08-04",
          "2021-08-05",
          "2021-08-06",
          "2021-08-09",
          "2021-08-10",
          "2021-08-11",
          "2021-08-12",
          "2021-08-13",
          "2021-08-16",
          "2021-08-17",
          "2021-08-18",
          "2021-08-19",
          "2021-08-20",
          "2021-08-23",
          "2021-08-24",
          "2021-08-25",
          "2021-08-26",
          "2021-08-27",
          "2021-08-30",
          "2021-08-31",
          "2021-09-01",
          "2021-09-02",
          "2021-09-03",
          "2021-09-07",
          "2021-09-08",
          "2021-09-09",
          "2021-09-10",
          "2021-09-13",
          "2021-09-14",
          "2021-09-15",
          "2021-09-16",
          "2021-09-17",
          "2021-09-20",
          "2021-09-21",
          "2021-09-22",
          "2021-09-23",
          "2021-09-24",
          "2021-09-27",
          "2021-09-28",
          "2021-09-29",
          "2021-09-30",
          "2021-10-01",
          "2021-10-04",
          "2021-10-05",
          "2021-10-06",
          "2021-10-07",
          "2021-10-08",
          "2021-10-11",
          "2021-10-12",
          "2021-10-13",
          "2021-10-14",
          "2021-10-15",
          "2021-10-18",
          "2021-10-19",
          "2021-10-20",
          "2021-10-21",
          "2021-10-22",
          "2021-10-25",
          "2021-10-26",
          "2021-10-27",
          "2021-10-28",
          "2021-10-29",
          "2021-11-01",
          "2021-11-02",
          "2021-11-03",
          "2021-11-04",
          "2021-11-05",
          "2021-11-08",
          "2021-11-09",
          "2021-11-10",
          "2021-11-11",
          "2021-11-12"
         ],
         "y": [
          100311.25309364882,
          100114.82362801165,
          100126.91372329101,
          100241.7465733433,
          99350.28879281368,
          97757.7622607722,
          98782.18342325283,
          98700.58680766798,
          99020.90516726614,
          97222.89312567879,
          97945.11723841935,
          99437.92584501789,
          100586.23590145951,
          100924.69401499705,
          100386.80005057366,
          101136.2199611623,
          101311.49406557072,
          101964.2208800464,
          101855.42846661346,
          102018.61247574256,
          101755.71054117054,
          102242.22851718716,
          101822.19223214606,
          100773.60010114736,
          97431.40346455468,
          94479.02248582504,
          94131.50832837881,
          89903.90356991651,
          89526.16878529219,
          93403.23455697826,
          90728.87043743,
          94542.47934747057,
          91399.72778380441,
          89888.78864530716,
          82868.97130995493,
          87157.01732277339,
          82908.24798104173,
          74975.82211495147,
          81385.22796930576,
          72479.75231812133,
          76393.08376462516,
          72525.07864786813,
          72679.19278002753,
          69140.57589983832,
          67372.77526338842,
          73476.96846071325,
          74576.93196909844,
          78931.46428391272,
          76580.43874227231,
          79067.4432731531,
          77888.91258953337,
          74383.53194381163,
          76099.96120287506,
          74999.99769448987,
          80037.46361789694,
          80119.06023348181,
          82808.53005559879,
          84068.65735480339,
          83301.0976902754,
          85757.88620499845,
          83935.69397285239,
          84340.62455532479,
          86619.12335835001,
          85093.0692952434,
          82509.36705722936,
          84340.62455532479,
          84334.57489666478,
          85510.08997299515,
          86743.01225231103,
          86344.13132849865,
          88604.49037758453,
          87779.52351007104,
          85455.69837729902,
          85691.40451402296,
          86483.135147069,
          85896.89002356882,
          86933.39205928818,
          88371.80907019056,
          88389.93960208927,
          86628.18862429936,
          85096.0941245734,
          86114.46562839406,
          86510.33094491708,
          89145.40917133792,
          88229.7804222902,
          89728.6294655081,
          89109.14810754049,
          89278.37255328891,
          90378.33145065377,
          91723.07097273257,
          91553.84652698414,
          91961.80193878654,
          92333.48706475084,
          93098.02189994881,
          94336.9938379247,
          94089.19760592139,
          96500.65979089764,
          97667.10960127866,
          96938.8358298781,
          96397.91703612471,
          90840.6784581523,
          91928.55648227845,
          92786.76880630001,
          94572.69997464864,
          94179.85948745561,
          94216.12055125306,
          93267.25556773791,
          93865.5815644768,
          94297.70794479726,
          91892.29541848102,
          92877.43068783423,
          90671.45401240385,
          92004.1034392033,
          93182.63412282304,
          93835.36093729871,
          94352.10876253404,
          95808.64708329449,
          94820.49620665192,
          95545.74514872248,
          95001.81074767972,
          95971.83109242357,
          95140.81456625009,
          96373.7460676066,
          97259.15418947623,
          96938.83582987805,
          97219.86829634878,
          98005.5584927755,
          98214.06883165137,
          98773.10893526283,
          97594.5782516431,
          96966.03162772613,
          97673.15003789795,
          97053.66867993034,
          98247.30506611879,
          97896.76607934255,
          98670.3661804899,
          99356.33845147365,
          99740.11367271733,
          100359.59503068494,
          101030.45237705934,
          101102.98372669485,
          101405.17155439428,
          100568.10536956078,
          101970.26131666574,
          101785.92194630794,
          101788.94677563795,
          102112.28996456612,
          102332.89039872136,
          101906.80445502025,
          102224.09798528842,
          102586.72706734399,
          103626.25393239336,
          103988.87379240831,
          105031.42548678766,
          105261.0819648516,
          105941.00457717536,
          105557.2293559317,
          106551.42989123428,
          108092.58965690958,
          104372.6582356926,
          103520.48634829039,
          100692.0034855624,
          102680.40455616753,
          100897.49821714891,
          100948.86498351506,
          102278.4895809845,
          102795.23740621984,
          102387.28199441744,
          101486.75894793846,
          99918.40338441507,
          98806.35439177084,
          99812.63580031213,
          97497.88515553011,
          97757.76226077211,
          99338.20791957488,
          100988.1508766425,
          100438.16681693976,
          101199.6860448484,
          101849.38802999408,
          100882.38329253958,
          102671.33929021821,
          101211.76691808712,
          102973.52711791765,
          103886.13103763535,
          104813.84988196242,
          106500.05390282748,
          105805.02558793502,
          105140.20867817997,
          105010.27012555896,
          104946.81326391346,
          103351.26190254198,
          103765.25775096372,
          103568.8375073672,
          104136.94287692803,
          104490.50669303426,
          102559.53126949591,
          102205.96745338966,
          98712.67690294726,
          99715.94270419919,
          98676.41583914983,
          99782.4243951747,
          101544.17537296463,
          103813.6089100405,
          105838.26182240243,
          105814.09085388435,
          107143.7154513538,
          106986.58110088471,
          107781.33656326075,
          106735.76003955139,
          108213.46294358121,
          109564.24290227938,
          108974.97294944918,
          107663.47888387844,
          108116.76062542763,
          107376.39675874772,
          108020.05830727406,
          109760.6631458759,
          109591.43870012746,
          109896.65135715692,
          109410.12415909965,
          110606.78537461808,
          110839.47590405267,
          110809.2552768746,
          111764.16991904975,
          111534.50421894515,
          111860.87223720331,
          110857.6064359514,
          110821.34537215396,
          110691.39759749231,
          110195.81435552634,
          111685.59813279488,
          111860.87223720331,
          112486.3940317903,
          111561.70001679324,
          111162.80987094021,
          110975.45489329303,
          111075.18204077662,
          111507.30842109708,
          112465.24789260224,
          112250.68789506635,
          112410.84707486544,
          112981.9864957969,
          111443.85155945158,
          112211.40200193891,
          112882.25934831331,
          114559.40732526964,
          115212.13413974534,
          114435.509209268,
          114459.68017778607,
          114767.91766414551,
          114366.00268896249,
          113531.97055549963,
          114423.41911398864,
          116006.8896021214,
          116112.64796418368,
          115701.67694509195,
          116157.98351597114,
          115976.66897494334,
          113142.145675596,
          114115.19084966983,
          111830.65161002523,
          113692.12973529872,
          115299.7619699089,
          115390.42385144312,
          116701.91791701385,
          117161.24009518238,
          118007.37154596523,
          117928.79975971038,
          117877.4237713036,
          118067.80357828076,
          118651.03309449156,
          118548.281117678,
          118575.4861375667,
          118070.82840761074,
          117862.31806873486,
          116955.75458563652,
          117097.78323353687,
          118388.12193787891,
          115535.46810663285,
          114940.1577171833,
          117726.32985745386,
          116807.6855011168,
          115260.48529882211,
          113834.15838319909,
          115928.31781586653,
          115351.13795831571,
          116998.06530809395,
          117726.32985745386,
          118919.97546568293,
          119080.13464548202,
          119790.27788498384,
          119639.18397113412,
          120047.13938293651,
          118300.49410771532,
          117696.11845231643,
          118635.91816988222,
          117702.15888893578,
          117103.82367015624,
          117762.60014329191,
          119660.33933236284,
          119599.89807800668,
          119282.60454773852,
          119766.09769442512,
          121059.46122809715,
          122797.04123736899,
          122724.51910977413,
          122866.54775767452,
          123449.76805184472,
          124347.2662689937,
          124392.60182078113,
          124761.26211741545,
          124335.18539575499,
          125670.85042984378,
          126090.89593692553,
          125471.40535691728,
          124552.76100058021,
          125731.29168419992,
          124582.97240571764,
          125933.75236441579,
          126196.65429898784,
          126169.45850113976,
          126133.19743734233,
          126937.01816566773,
          126102.97681016424,
          126374.95323272627,
          125595.30347291894,
          125634.58936604636,
          126637.8551672983,
          127559.52435296535,
          126296.38144647142,
          125169.21752921783,
          122509.96833427894,
          123981.62157964877,
          125885.40120533905,
          125565.08284574086,
          124483.25448027471,
          124156.88646201654,
          125492.560718146,
          125389.81796337308,
          126668.07579447639,
          126387.03410596501,
          126637.85516729833,
          126704.33685827385,
          126930.97772904845,
          126819.16970832617,
          127018.60555921202,
          126547.19328576414,
          127704.57783019578,
          127580.67971419414,
          127607.8755120422,
          127417.49570506504,
          128009.78126518459,
          128221.31643339046,
          128508.39855852119,
          128272.69242179724,
          127556.49952363542,
          127514.19802321863,
          125383.77752675377,
          127178.76473901111,
          127858.68735133485,
          127704.57783019578,
          128460.04739944439,
          128916.34474828294,
          129176.23107556559,
          129245.7375958711,
          129354.52078726339,
          130070.7044633846,
          131064.90499868717,
          130826.17403263324,
          131288.52104013175,
          130218.78276994497,
          131608.8393997299,
          132080.25167317782,
          131629.99476095862,
          131826.41500455514,
          131376.15809233597,
          130345.69649323596,
          128420.76150631697,
          130261.08427036175,
          131315.71683797985,
          131590.70886783124,
          132944.5136558594,
          133270.8724520769,
          132663.48118938864,
          132609.08037165186,
          133159.06443135464,
          132512.38727553893,
          132234.37041635756,
          133310.15834520434,
          132654.4159234393,
          133494.49771556212,
          133715.0889276767,
          133606.3057362844,
          133772.50535270286,
          134104.9138075804,
          134506.8195607228,
          134751.60018543672,
          135068.8937157049,
          134183.48559383527,
          132714.8479557548,
          132920.33346530068,
          133977.99086224876,
          135156.53076790913,
          135371.08154340435,
          135655.13883920512,
          134854.3429402097,
          136060.0694216775,
          136658.404640457,
          136455.9347382005,
          136528.45686579536,
          136948.5023728771,
          136915.25691636902,
          136425.71411102242,
          136259.514494604,
          135676.2942004338,
          134606.54670820636,
          134951.0360363226,
          134222.77148696268,
          135343.88574555624,
          135129.334970061,
          133385.70530212918,
          131161.60731684073,
          131037.70920083908,
          132315.95780990174,
          133923.59926655257,
          134144.1997007078,
          133760.42447946413,
          131064.90499868715,
          131285.5054328424,
          129680.88880552155,
          131222.03934915623,
          129529.79489167185,
          130877.55002104002,
          131421.48442208278,
          132557.7136052857,
          132315.95780990177,
          131358.02756043727,
          131034.68437150911,
          131506.096644957,
          133718.11375700674,
          134736.48526082738,
          135135.3754066804,
          136177.92710105976,
          136712.79623615317,
          137069.37565954874,
          136927.34701164838,
          137661.66121966828,
          137785.5593356699,
          137175.14324365166,
          138498.72740450175,
          138779.75987097248,
          139018.49083702645,
          139580.55576996793,
          140432.72765737012,
          141094.51973779517,
          141584.06254314177,
          141704.93582981342,
          141236.54838569555,
          140100.31920249262,
          140145.6455322394,
          141203.30292918748
         ]
        }
       ],
       "layout": {
        "legend": {
         "bgcolor": "#F5F6F9",
         "font": {
          "color": "#4D5663"
         }
        },
        "paper_bgcolor": "#F5F6F9",
        "plot_bgcolor": "#F5F6F9",
        "template": {
         "data": {
          "bar": [
           {
            "error_x": {
             "color": "#2a3f5f"
            },
            "error_y": {
             "color": "#2a3f5f"
            },
            "marker": {
             "line": {
              "color": "#E5ECF6",
              "width": 0.5
             },
             "pattern": {
              "fillmode": "overlay",
              "size": 10,
              "solidity": 0.2
             }
            },
            "type": "bar"
           }
          ],
          "barpolar": [
           {
            "marker": {
             "line": {
              "color": "#E5ECF6",
              "width": 0.5
             },
             "pattern": {
              "fillmode": "overlay",
              "size": 10,
              "solidity": 0.2
             }
            },
            "type": "barpolar"
           }
          ],
          "carpet": [
           {
            "aaxis": {
             "endlinecolor": "#2a3f5f",
             "gridcolor": "white",
             "linecolor": "white",
             "minorgridcolor": "white",
             "startlinecolor": "#2a3f5f"
            },
            "baxis": {
             "endlinecolor": "#2a3f5f",
             "gridcolor": "white",
             "linecolor": "white",
             "minorgridcolor": "white",
             "startlinecolor": "#2a3f5f"
            },
            "type": "carpet"
           }
          ],
          "choropleth": [
           {
            "colorbar": {
             "outlinewidth": 0,
             "ticks": ""
            },
            "type": "choropleth"
           }
          ],
          "contour": [
           {
            "colorbar": {
             "outlinewidth": 0,
             "ticks": ""
            },
            "colorscale": [
             [
              0,
              "#0d0887"
             ],
             [
              0.1111111111111111,
              "#46039f"
             ],
             [
              0.2222222222222222,
              "#7201a8"
             ],
             [
              0.3333333333333333,
              "#9c179e"
             ],
             [
              0.4444444444444444,
              "#bd3786"
             ],
             [
              0.5555555555555556,
              "#d8576b"
             ],
             [
              0.6666666666666666,
              "#ed7953"
             ],
             [
              0.7777777777777778,
              "#fb9f3a"
             ],
             [
              0.8888888888888888,
              "#fdca26"
             ],
             [
              1,
              "#f0f921"
             ]
            ],
            "type": "contour"
           }
          ],
          "contourcarpet": [
           {
            "colorbar": {
             "outlinewidth": 0,
             "ticks": ""
            },
            "type": "contourcarpet"
           }
          ],
          "heatmap": [
           {
            "colorbar": {
             "outlinewidth": 0,
             "ticks": ""
            },
            "colorscale": [
             [
              0,
              "#0d0887"
             ],
             [
              0.1111111111111111,
              "#46039f"
             ],
             [
              0.2222222222222222,
              "#7201a8"
             ],
             [
              0.3333333333333333,
              "#9c179e"
             ],
             [
              0.4444444444444444,
              "#bd3786"
             ],
             [
              0.5555555555555556,
              "#d8576b"
             ],
             [
              0.6666666666666666,
              "#ed7953"
             ],
             [
              0.7777777777777778,
              "#fb9f3a"
             ],
             [
              0.8888888888888888,
              "#fdca26"
             ],
             [
              1,
              "#f0f921"
             ]
            ],
            "type": "heatmap"
           }
          ],
          "heatmapgl": [
           {
            "colorbar": {
             "outlinewidth": 0,
             "ticks": ""
            },
            "colorscale": [
             [
              0,
              "#0d0887"
             ],
             [
              0.1111111111111111,
              "#46039f"
             ],
             [
              0.2222222222222222,
              "#7201a8"
             ],
             [
              0.3333333333333333,
              "#9c179e"
             ],
             [
              0.4444444444444444,
              "#bd3786"
             ],
             [
              0.5555555555555556,
              "#d8576b"
             ],
             [
              0.6666666666666666,
              "#ed7953"
             ],
             [
              0.7777777777777778,
              "#fb9f3a"
             ],
             [
              0.8888888888888888,
              "#fdca26"
             ],
             [
              1,
              "#f0f921"
             ]
            ],
            "type": "heatmapgl"
           }
          ],
          "histogram": [
           {
            "marker": {
             "pattern": {
              "fillmode": "overlay",
              "size": 10,
              "solidity": 0.2
             }
            },
            "type": "histogram"
           }
          ],
          "histogram2d": [
           {
            "colorbar": {
             "outlinewidth": 0,
             "ticks": ""
            },
            "colorscale": [
             [
              0,
              "#0d0887"
             ],
             [
              0.1111111111111111,
              "#46039f"
             ],
             [
              0.2222222222222222,
              "#7201a8"
             ],
             [
              0.3333333333333333,
              "#9c179e"
             ],
             [
              0.4444444444444444,
              "#bd3786"
             ],
             [
              0.5555555555555556,
              "#d8576b"
             ],
             [
              0.6666666666666666,
              "#ed7953"
             ],
             [
              0.7777777777777778,
              "#fb9f3a"
             ],
             [
              0.8888888888888888,
              "#fdca26"
             ],
             [
              1,
              "#f0f921"
             ]
            ],
            "type": "histogram2d"
           }
          ],
          "histogram2dcontour": [
           {
            "colorbar": {
             "outlinewidth": 0,
             "ticks": ""
            },
            "colorscale": [
             [
              0,
              "#0d0887"
             ],
             [
              0.1111111111111111,
              "#46039f"
             ],
             [
              0.2222222222222222,
              "#7201a8"
             ],
             [
              0.3333333333333333,
              "#9c179e"
             ],
             [
              0.4444444444444444,
              "#bd3786"
             ],
             [
              0.5555555555555556,
              "#d8576b"
             ],
             [
              0.6666666666666666,
              "#ed7953"
             ],
             [
              0.7777777777777778,
              "#fb9f3a"
             ],
             [
              0.8888888888888888,
              "#fdca26"
             ],
             [
              1,
              "#f0f921"
             ]
            ],
            "type": "histogram2dcontour"
           }
          ],
          "mesh3d": [
           {
            "colorbar": {
             "outlinewidth": 0,
             "ticks": ""
            },
            "type": "mesh3d"
           }
          ],
          "parcoords": [
           {
            "line": {
             "colorbar": {
              "outlinewidth": 0,
              "ticks": ""
             }
            },
            "type": "parcoords"
           }
          ],
          "pie": [
           {
            "automargin": true,
            "type": "pie"
           }
          ],
          "scatter": [
           {
            "marker": {
             "colorbar": {
              "outlinewidth": 0,
              "ticks": ""
             }
            },
            "type": "scatter"
           }
          ],
          "scatter3d": [
           {
            "line": {
             "colorbar": {
              "outlinewidth": 0,
              "ticks": ""
             }
            },
            "marker": {
             "colorbar": {
              "outlinewidth": 0,
              "ticks": ""
             }
            },
            "type": "scatter3d"
           }
          ],
          "scattercarpet": [
           {
            "marker": {
             "colorbar": {
              "outlinewidth": 0,
              "ticks": ""
             }
            },
            "type": "scattercarpet"
           }
          ],
          "scattergeo": [
           {
            "marker": {
             "colorbar": {
              "outlinewidth": 0,
              "ticks": ""
             }
            },
            "type": "scattergeo"
           }
          ],
          "scattergl": [
           {
            "marker": {
             "colorbar": {
              "outlinewidth": 0,
              "ticks": ""
             }
            },
            "type": "scattergl"
           }
          ],
          "scattermapbox": [
           {
            "marker": {
             "colorbar": {
              "outlinewidth": 0,
              "ticks": ""
             }
            },
            "type": "scattermapbox"
           }
          ],
          "scatterpolar": [
           {
            "marker": {
             "colorbar": {
              "outlinewidth": 0,
              "ticks": ""
             }
            },
            "type": "scatterpolar"
           }
          ],
          "scatterpolargl": [
           {
            "marker": {
             "colorbar": {
              "outlinewidth": 0,
              "ticks": ""
             }
            },
            "type": "scatterpolargl"
           }
          ],
          "scatterternary": [
           {
            "marker": {
             "colorbar": {
              "outlinewidth": 0,
              "ticks": ""
             }
            },
            "type": "scatterternary"
           }
          ],
          "surface": [
           {
            "colorbar": {
             "outlinewidth": 0,
             "ticks": ""
            },
            "colorscale": [
             [
              0,
              "#0d0887"
             ],
             [
              0.1111111111111111,
              "#46039f"
             ],
             [
              0.2222222222222222,
              "#7201a8"
             ],
             [
              0.3333333333333333,
              "#9c179e"
             ],
             [
              0.4444444444444444,
              "#bd3786"
             ],
             [
              0.5555555555555556,
              "#d8576b"
             ],
             [
              0.6666666666666666,
              "#ed7953"
             ],
             [
              0.7777777777777778,
              "#fb9f3a"
             ],
             [
              0.8888888888888888,
              "#fdca26"
             ],
             [
              1,
              "#f0f921"
             ]
            ],
            "type": "surface"
           }
          ],
          "table": [
           {
            "cells": {
             "fill": {
              "color": "#EBF0F8"
             },
             "line": {
              "color": "white"
             }
            },
            "header": {
             "fill": {
              "color": "#C8D4E3"
             },
             "line": {
              "color": "white"
             }
            },
            "type": "table"
           }
          ]
         },
         "layout": {
          "annotationdefaults": {
           "arrowcolor": "#2a3f5f",
           "arrowhead": 0,
           "arrowwidth": 1
          },
          "autotypenumbers": "strict",
          "coloraxis": {
           "colorbar": {
            "outlinewidth": 0,
            "ticks": ""
           }
          },
          "colorscale": {
           "diverging": [
            [
             0,
             "#8e0152"
            ],
            [
             0.1,
             "#c51b7d"
            ],
            [
             0.2,
             "#de77ae"
            ],
            [
             0.3,
             "#f1b6da"
            ],
            [
             0.4,
             "#fde0ef"
            ],
            [
             0.5,
             "#f7f7f7"
            ],
            [
             0.6,
             "#e6f5d0"
            ],
            [
             0.7,
             "#b8e186"
            ],
            [
             0.8,
             "#7fbc41"
            ],
            [
             0.9,
             "#4d9221"
            ],
            [
             1,
             "#276419"
            ]
           ],
           "sequential": [
            [
             0,
             "#0d0887"
            ],
            [
             0.1111111111111111,
             "#46039f"
            ],
            [
             0.2222222222222222,
             "#7201a8"
            ],
            [
             0.3333333333333333,
             "#9c179e"
            ],
            [
             0.4444444444444444,
             "#bd3786"
            ],
            [
             0.5555555555555556,
             "#d8576b"
            ],
            [
             0.6666666666666666,
             "#ed7953"
            ],
            [
             0.7777777777777778,
             "#fb9f3a"
            ],
            [
             0.8888888888888888,
             "#fdca26"
            ],
            [
             1,
             "#f0f921"
            ]
           ],
           "sequentialminus": [
            [
             0,
             "#0d0887"
            ],
            [
             0.1111111111111111,
             "#46039f"
            ],
            [
             0.2222222222222222,
             "#7201a8"
            ],
            [
             0.3333333333333333,
             "#9c179e"
            ],
            [
             0.4444444444444444,
             "#bd3786"
            ],
            [
             0.5555555555555556,
             "#d8576b"
            ],
            [
             0.6666666666666666,
             "#ed7953"
            ],
            [
             0.7777777777777778,
             "#fb9f3a"
            ],
            [
             0.8888888888888888,
             "#fdca26"
            ],
            [
             1,
             "#f0f921"
            ]
           ]
          },
          "colorway": [
           "#636efa",
           "#EF553B",
           "#00cc96",
           "#ab63fa",
           "#FFA15A",
           "#19d3f3",
           "#FF6692",
           "#B6E880",
           "#FF97FF",
           "#FECB52"
          ],
          "font": {
           "color": "#2a3f5f"
          },
          "geo": {
           "bgcolor": "white",
           "lakecolor": "white",
           "landcolor": "#E5ECF6",
           "showlakes": true,
           "showland": true,
           "subunitcolor": "white"
          },
          "hoverlabel": {
           "align": "left"
          },
          "hovermode": "closest",
          "mapbox": {
           "style": "light"
          },
          "paper_bgcolor": "white",
          "plot_bgcolor": "#E5ECF6",
          "polar": {
           "angularaxis": {
            "gridcolor": "white",
            "linecolor": "white",
            "ticks": ""
           },
           "bgcolor": "#E5ECF6",
           "radialaxis": {
            "gridcolor": "white",
            "linecolor": "white",
            "ticks": ""
           }
          },
          "scene": {
           "xaxis": {
            "backgroundcolor": "#E5ECF6",
            "gridcolor": "white",
            "gridwidth": 2,
            "linecolor": "white",
            "showbackground": true,
            "ticks": "",
            "zerolinecolor": "white"
           },
           "yaxis": {
            "backgroundcolor": "#E5ECF6",
            "gridcolor": "white",
            "gridwidth": 2,
            "linecolor": "white",
            "showbackground": true,
            "ticks": "",
            "zerolinecolor": "white"
           },
           "zaxis": {
            "backgroundcolor": "#E5ECF6",
            "gridcolor": "white",
            "gridwidth": 2,
            "linecolor": "white",
            "showbackground": true,
            "ticks": "",
            "zerolinecolor": "white"
           }
          },
          "shapedefaults": {
           "line": {
            "color": "#2a3f5f"
           }
          },
          "ternary": {
           "aaxis": {
            "gridcolor": "white",
            "linecolor": "white",
            "ticks": ""
           },
           "baxis": {
            "gridcolor": "white",
            "linecolor": "white",
            "ticks": ""
           },
           "bgcolor": "#E5ECF6",
           "caxis": {
            "gridcolor": "white",
            "linecolor": "white",
            "ticks": ""
           }
          },
          "title": {
           "x": 0.05
          },
          "xaxis": {
           "automargin": true,
           "gridcolor": "white",
           "linecolor": "white",
           "ticks": "",
           "title": {
            "standoff": 15
           },
           "zerolinecolor": "white",
           "zerolinewidth": 2
          },
          "yaxis": {
           "automargin": true,
           "gridcolor": "white",
           "linecolor": "white",
           "ticks": "",
           "title": {
            "standoff": 15
           },
           "zerolinecolor": "white",
           "zerolinewidth": 2
          }
         }
        },
        "title": {
         "font": {
          "color": "#4D5663"
         }
        },
        "xaxis": {
         "gridcolor": "#E1E5ED",
         "showgrid": true,
         "tickfont": {
          "color": "#4D5663"
         },
         "title": {
          "font": {
           "color": "#4D5663"
          },
          "text": ""
         },
         "zerolinecolor": "#E1E5ED"
        },
        "yaxis": {
         "gridcolor": "#E1E5ED",
         "showgrid": true,
         "tickfont": {
          "color": "#4D5663"
         },
         "title": {
          "font": {
           "color": "#4D5663"
          },
          "text": ""
         },
         "zerolinecolor": "#E1E5ED"
        }
       }
      },
      "text/html": [
       "<div>                            <div id=\"3eae2ea7-d1d2-4f9c-a7be-ab4f1f73aa7e\" class=\"plotly-graph-div\" style=\"height:525px; width:100%;\"></div>            <script type=\"text/javascript\">                require([\"plotly\"], function(Plotly) {                    window.PLOTLYENV=window.PLOTLYENV || {};\n",
       "                    window.PLOTLYENV.BASE_URL='https://plot.ly';                                    if (document.getElementById(\"3eae2ea7-d1d2-4f9c-a7be-ab4f1f73aa7e\")) {                    Plotly.newPlot(                        \"3eae2ea7-d1d2-4f9c-a7be-ab4f1f73aa7e\",                        [{\"line\":{\"color\":\"rgba(255, 153, 51, 1.0)\",\"dash\":\"solid\",\"shape\":\"linear\",\"width\":1.3},\"mode\":\"lines\",\"name\":\"Close\",\"text\":\"\",\"type\":\"scatter\",\"x\":[\"2020-01-17\",\"2020-01-21\",\"2020-01-22\",\"2020-01-23\",\"2020-01-24\",\"2020-01-27\",\"2020-01-28\",\"2020-01-29\",\"2020-01-30\",\"2020-01-31\",\"2020-02-03\",\"2020-02-04\",\"2020-02-05\",\"2020-02-06\",\"2020-02-07\",\"2020-02-10\",\"2020-02-11\",\"2020-02-12\",\"2020-02-13\",\"2020-02-14\",\"2020-02-18\",\"2020-02-19\",\"2020-02-20\",\"2020-02-21\",\"2020-02-24\",\"2020-02-25\",\"2020-02-26\",\"2020-02-27\",\"2020-02-28\",\"2020-03-02\",\"2020-03-03\",\"2020-03-04\",\"2020-03-05\",\"2020-03-06\",\"2020-03-09\",\"2020-03-10\",\"2020-03-11\",\"2020-03-12\",\"2020-03-13\",\"2020-03-16\",\"2020-03-17\",\"2020-03-18\",\"2020-03-19\",\"2020-03-20\",\"2020-03-23\",\"2020-03-24\",\"2020-03-25\",\"2020-03-26\",\"2020-03-27\",\"2020-03-30\",\"2020-03-31\",\"2020-04-01\",\"2020-04-02\",\"2020-04-03\",\"2020-04-06\",\"2020-04-07\",\"2020-04-08\",\"2020-04-09\",\"2020-04-13\",\"2020-04-14\",\"2020-04-15\",\"2020-04-16\",\"2020-04-17\",\"2020-04-20\",\"2020-04-21\",\"2020-04-22\",\"2020-04-23\",\"2020-04-24\",\"2020-04-27\",\"2020-04-28\",\"2020-04-29\",\"2020-04-30\",\"2020-05-01\",\"2020-05-04\",\"2020-05-05\",\"2020-05-06\",\"2020-05-07\",\"2020-05-08\",\"2020-05-11\",\"2020-05-12\",\"2020-05-13\",\"2020-05-14\",\"2020-05-15\",\"2020-05-18\",\"2020-05-19\",\"2020-05-20\",\"2020-05-21\",\"2020-05-22\",\"2020-05-26\",\"2020-05-27\",\"2020-05-28\",\"2020-05-29\",\"2020-06-01\",\"2020-06-02\",\"2020-06-03\",\"2020-06-04\",\"2020-06-05\",\"2020-06-08\",\"2020-06-09\",\"2020-06-10\",\"2020-06-11\",\"2020-06-12\",\"2020-06-15\",\"2020-06-16\",\"2020-06-17\",\"2020-06-18\",\"2020-06-19\",\"2020-06-22\",\"2020-06-23\",\"2020-06-24\",\"2020-06-25\",\"2020-06-26\",\"2020-06-29\",\"2020-06-30\",\"2020-07-01\",\"2020-07-02\",\"2020-07-06\",\"2020-07-07\",\"2020-07-08\",\"2020-07-09\",\"2020-07-10\",\"2020-07-13\",\"2020-07-14\",\"2020-07-15\",\"2020-07-16\",\"2020-07-17\",\"2020-07-20\",\"2020-07-21\",\"2020-07-22\",\"2020-07-23\",\"2020-07-24\",\"2020-07-27\",\"2020-07-28\",\"2020-07-29\",\"2020-07-30\",\"2020-07-31\",\"2020-08-03\",\"2020-08-04\",\"2020-08-05\",\"2020-08-06\",\"2020-08-07\",\"2020-08-10\",\"2020-08-11\",\"2020-08-12\",\"2020-08-13\",\"2020-08-14\",\"2020-08-17\",\"2020-08-18\",\"2020-08-19\",\"2020-08-20\",\"2020-08-21\",\"2020-08-24\",\"2020-08-25\",\"2020-08-26\",\"2020-08-27\",\"2020-08-28\",\"2020-08-31\",\"2020-09-01\",\"2020-09-02\",\"2020-09-03\",\"2020-09-04\",\"2020-09-08\",\"2020-09-09\",\"2020-09-10\",\"2020-09-11\",\"2020-09-14\",\"2020-09-15\",\"2020-09-16\",\"2020-09-17\",\"2020-09-18\",\"2020-09-21\",\"2020-09-22\",\"2020-09-23\",\"2020-09-24\",\"2020-09-25\",\"2020-09-28\",\"2020-09-29\",\"2020-09-30\",\"2020-10-01\",\"2020-10-02\",\"2020-10-05\",\"2020-10-06\",\"2020-10-07\",\"2020-10-08\",\"2020-10-09\",\"2020-10-12\",\"2020-10-13\",\"2020-10-14\",\"2020-10-15\",\"2020-10-16\",\"2020-10-19\",\"2020-10-20\",\"2020-10-21\",\"2020-10-22\",\"2020-10-23\",\"2020-10-26\",\"2020-10-27\",\"2020-10-28\",\"2020-10-29\",\"2020-10-30\",\"2020-11-02\",\"2020-11-03\",\"2020-11-04\",\"2020-11-05\",\"2020-11-06\",\"2020-11-09\",\"2020-11-10\",\"2020-11-11\",\"2020-11-12\",\"2020-11-13\",\"2020-11-16\",\"2020-11-17\",\"2020-11-18\",\"2020-11-19\",\"2020-11-20\",\"2020-11-23\",\"2020-11-24\",\"2020-11-25\",\"2020-11-27\",\"2020-11-30\",\"2020-12-01\",\"2020-12-02\",\"2020-12-03\",\"2020-12-04\",\"2020-12-07\",\"2020-12-08\",\"2020-12-09\",\"2020-12-10\",\"2020-12-11\",\"2020-12-14\",\"2020-12-15\",\"2020-12-16\",\"2020-12-17\",\"2020-12-18\",\"2020-12-21\",\"2020-12-22\",\"2020-12-23\",\"2020-12-24\",\"2020-12-28\",\"2020-12-29\",\"2020-12-30\",\"2020-12-31\",\"2021-01-04\",\"2021-01-05\",\"2021-01-06\",\"2021-01-07\",\"2021-01-08\",\"2021-01-11\",\"2021-01-12\",\"2021-01-13\",\"2021-01-14\",\"2021-01-15\",\"2021-01-19\",\"2021-01-20\",\"2021-01-21\",\"2021-01-22\",\"2021-01-25\",\"2021-01-26\",\"2021-01-27\",\"2021-01-28\",\"2021-01-29\",\"2021-02-01\",\"2021-02-02\",\"2021-02-03\",\"2021-02-04\",\"2021-02-05\",\"2021-02-08\",\"2021-02-09\",\"2021-02-10\",\"2021-02-11\",\"2021-02-12\",\"2021-02-16\",\"2021-02-17\",\"2021-02-18\",\"2021-02-19\",\"2021-02-22\",\"2021-02-23\",\"2021-02-24\",\"2021-02-25\",\"2021-02-26\",\"2021-03-01\",\"2021-03-02\",\"2021-03-03\",\"2021-03-04\",\"2021-03-05\",\"2021-03-08\",\"2021-03-09\",\"2021-03-10\",\"2021-03-11\",\"2021-03-12\",\"2021-03-15\",\"2021-03-16\",\"2021-03-17\",\"2021-03-18\",\"2021-03-19\",\"2021-03-22\",\"2021-03-23\",\"2021-03-24\",\"2021-03-25\",\"2021-03-26\",\"2021-03-29\",\"2021-03-30\",\"2021-03-31\",\"2021-04-01\",\"2021-04-05\",\"2021-04-06\",\"2021-04-07\",\"2021-04-08\",\"2021-04-09\",\"2021-04-12\",\"2021-04-13\",\"2021-04-14\",\"2021-04-15\",\"2021-04-16\",\"2021-04-19\",\"2021-04-20\",\"2021-04-21\",\"2021-04-22\",\"2021-04-23\",\"2021-04-26\",\"2021-04-27\",\"2021-04-28\",\"2021-04-29\",\"2021-04-30\",\"2021-05-03\",\"2021-05-04\",\"2021-05-05\",\"2021-05-06\",\"2021-05-07\",\"2021-05-10\",\"2021-05-11\",\"2021-05-12\",\"2021-05-13\",\"2021-05-14\",\"2021-05-17\",\"2021-05-18\",\"2021-05-19\",\"2021-05-20\",\"2021-05-21\",\"2021-05-24\",\"2021-05-25\",\"2021-05-26\",\"2021-05-27\",\"2021-05-28\",\"2021-06-01\",\"2021-06-02\",\"2021-06-03\",\"2021-06-04\",\"2021-06-07\",\"2021-06-08\",\"2021-06-09\",\"2021-06-10\",\"2021-06-11\",\"2021-06-14\",\"2021-06-15\",\"2021-06-16\",\"2021-06-17\",\"2021-06-18\",\"2021-06-21\",\"2021-06-22\",\"2021-06-23\",\"2021-06-24\",\"2021-06-25\",\"2021-06-28\",\"2021-06-29\",\"2021-06-30\",\"2021-07-01\",\"2021-07-02\",\"2021-07-06\",\"2021-07-07\",\"2021-07-08\",\"2021-07-09\",\"2021-07-12\",\"2021-07-13\",\"2021-07-14\",\"2021-07-15\",\"2021-07-16\",\"2021-07-19\",\"2021-07-20\",\"2021-07-21\",\"2021-07-22\",\"2021-07-23\",\"2021-07-26\",\"2021-07-27\",\"2021-07-28\",\"2021-07-29\",\"2021-07-30\",\"2021-08-02\",\"2021-08-03\",\"2021-08-04\",\"2021-08-05\",\"2021-08-06\",\"2021-08-09\",\"2021-08-10\",\"2021-08-11\",\"2021-08-12\",\"2021-08-13\",\"2021-08-16\",\"2021-08-17\",\"2021-08-18\",\"2021-08-19\",\"2021-08-20\",\"2021-08-23\",\"2021-08-24\",\"2021-08-25\",\"2021-08-26\",\"2021-08-27\",\"2021-08-30\",\"2021-08-31\",\"2021-09-01\",\"2021-09-02\",\"2021-09-03\",\"2021-09-07\",\"2021-09-08\",\"2021-09-09\",\"2021-09-10\",\"2021-09-13\",\"2021-09-14\",\"2021-09-15\",\"2021-09-16\",\"2021-09-17\",\"2021-09-20\",\"2021-09-21\",\"2021-09-22\",\"2021-09-23\",\"2021-09-24\",\"2021-09-27\",\"2021-09-28\",\"2021-09-29\",\"2021-09-30\",\"2021-10-01\",\"2021-10-04\",\"2021-10-05\",\"2021-10-06\",\"2021-10-07\",\"2021-10-08\",\"2021-10-11\",\"2021-10-12\",\"2021-10-13\",\"2021-10-14\",\"2021-10-15\",\"2021-10-18\",\"2021-10-19\",\"2021-10-20\",\"2021-10-21\",\"2021-10-22\",\"2021-10-25\",\"2021-10-26\",\"2021-10-27\",\"2021-10-28\",\"2021-10-29\",\"2021-11-01\",\"2021-11-02\",\"2021-11-03\",\"2021-11-04\",\"2021-11-05\",\"2021-11-08\",\"2021-11-09\",\"2021-11-10\",\"2021-11-11\",\"2021-11-12\"],\"y\":[100311.25309364882,100114.82362801165,100126.91372329101,100241.7465733433,99350.28879281368,97757.7622607722,98782.18342325283,98700.58680766798,99020.90516726614,97222.89312567879,97945.11723841935,99437.92584501789,100586.23590145951,100924.69401499705,100386.80005057366,101136.2199611623,101311.49406557072,101964.2208800464,101855.42846661346,102018.61247574256,101755.71054117054,102242.22851718716,101822.19223214606,100773.60010114736,97431.40346455468,94479.02248582504,94131.50832837881,89903.90356991651,89526.16878529219,93403.23455697826,90728.87043743,94542.47934747057,91399.72778380441,89888.78864530716,82868.97130995493,87157.01732277339,82908.24798104173,74975.82211495147,81385.22796930576,72479.75231812133,76393.08376462516,72525.07864786813,72679.19278002753,69140.57589983832,67372.77526338842,73476.96846071325,74576.93196909844,78931.46428391272,76580.43874227231,79067.4432731531,77888.91258953337,74383.53194381163,76099.96120287506,74999.99769448987,80037.46361789694,80119.06023348181,82808.53005559879,84068.65735480339,83301.0976902754,85757.88620499845,83935.69397285239,84340.62455532479,86619.12335835001,85093.0692952434,82509.36705722936,84340.62455532479,84334.57489666478,85510.08997299515,86743.01225231103,86344.13132849865,88604.49037758453,87779.52351007104,85455.69837729902,85691.40451402296,86483.135147069,85896.89002356882,86933.39205928818,88371.80907019056,88389.93960208927,86628.18862429936,85096.0941245734,86114.46562839406,86510.33094491708,89145.40917133792,88229.7804222902,89728.6294655081,89109.14810754049,89278.37255328891,90378.33145065377,91723.07097273257,91553.84652698414,91961.80193878654,92333.48706475084,93098.02189994881,94336.9938379247,94089.19760592139,96500.65979089764,97667.10960127866,96938.8358298781,96397.91703612471,90840.6784581523,91928.55648227845,92786.76880630001,94572.69997464864,94179.85948745561,94216.12055125306,93267.25556773791,93865.5815644768,94297.70794479726,91892.29541848102,92877.43068783423,90671.45401240385,92004.1034392033,93182.63412282304,93835.36093729871,94352.10876253404,95808.64708329449,94820.49620665192,95545.74514872248,95001.81074767972,95971.83109242357,95140.81456625009,96373.7460676066,97259.15418947623,96938.83582987805,97219.86829634878,98005.5584927755,98214.06883165137,98773.10893526283,97594.5782516431,96966.03162772613,97673.15003789795,97053.66867993034,98247.30506611879,97896.76607934255,98670.3661804899,99356.33845147365,99740.11367271733,100359.59503068494,101030.45237705934,101102.98372669485,101405.17155439428,100568.10536956078,101970.26131666574,101785.92194630794,101788.94677563795,102112.28996456612,102332.89039872136,101906.80445502025,102224.09798528842,102586.72706734399,103626.25393239336,103988.87379240831,105031.42548678766,105261.0819648516,105941.00457717536,105557.2293559317,106551.42989123428,108092.58965690958,104372.6582356926,103520.48634829039,100692.0034855624,102680.40455616753,100897.49821714891,100948.86498351506,102278.4895809845,102795.23740621984,102387.28199441744,101486.75894793846,99918.40338441507,98806.35439177084,99812.63580031213,97497.88515553011,97757.76226077211,99338.20791957488,100988.1508766425,100438.16681693976,101199.6860448484,101849.38802999408,100882.38329253958,102671.33929021821,101211.76691808712,102973.52711791765,103886.13103763535,104813.84988196242,106500.05390282748,105805.02558793502,105140.20867817997,105010.27012555896,104946.81326391346,103351.26190254198,103765.25775096372,103568.8375073672,104136.94287692803,104490.50669303426,102559.53126949591,102205.96745338966,98712.67690294726,99715.94270419919,98676.41583914983,99782.4243951747,101544.17537296463,103813.6089100405,105838.26182240243,105814.09085388435,107143.7154513538,106986.58110088471,107781.33656326075,106735.76003955139,108213.46294358121,109564.24290227938,108974.97294944918,107663.47888387844,108116.76062542763,107376.39675874772,108020.05830727406,109760.6631458759,109591.43870012746,109896.65135715692,109410.12415909965,110606.78537461808,110839.47590405267,110809.2552768746,111764.16991904975,111534.50421894515,111860.87223720331,110857.6064359514,110821.34537215396,110691.39759749231,110195.81435552634,111685.59813279488,111860.87223720331,112486.3940317903,111561.70001679324,111162.80987094021,110975.45489329303,111075.18204077662,111507.30842109708,112465.24789260224,112250.68789506635,112410.84707486544,112981.9864957969,111443.85155945158,112211.40200193891,112882.25934831331,114559.40732526964,115212.13413974534,114435.509209268,114459.68017778607,114767.91766414551,114366.00268896249,113531.97055549963,114423.41911398864,116006.8896021214,116112.64796418368,115701.67694509195,116157.98351597114,115976.66897494334,113142.145675596,114115.19084966983,111830.65161002523,113692.12973529872,115299.7619699089,115390.42385144312,116701.91791701385,117161.24009518238,118007.37154596523,117928.79975971038,117877.4237713036,118067.80357828076,118651.03309449156,118548.281117678,118575.4861375667,118070.82840761074,117862.31806873486,116955.75458563652,117097.78323353687,118388.12193787891,115535.46810663285,114940.1577171833,117726.32985745386,116807.6855011168,115260.48529882211,113834.15838319909,115928.31781586653,115351.13795831571,116998.06530809395,117726.32985745386,118919.97546568293,119080.13464548202,119790.27788498384,119639.18397113412,120047.13938293651,118300.49410771532,117696.11845231643,118635.91816988222,117702.15888893578,117103.82367015624,117762.60014329191,119660.33933236284,119599.89807800668,119282.60454773852,119766.09769442512,121059.46122809715,122797.04123736899,122724.51910977413,122866.54775767452,123449.76805184472,124347.2662689937,124392.60182078113,124761.26211741545,124335.18539575499,125670.85042984378,126090.89593692553,125471.40535691728,124552.76100058021,125731.29168419992,124582.97240571764,125933.75236441579,126196.65429898784,126169.45850113976,126133.19743734233,126937.01816566773,126102.97681016424,126374.95323272627,125595.30347291894,125634.58936604636,126637.8551672983,127559.52435296535,126296.38144647142,125169.21752921783,122509.96833427894,123981.62157964877,125885.40120533905,125565.08284574086,124483.25448027471,124156.88646201654,125492.560718146,125389.81796337308,126668.07579447639,126387.03410596501,126637.85516729833,126704.33685827385,126930.97772904845,126819.16970832617,127018.60555921202,126547.19328576414,127704.57783019578,127580.67971419414,127607.8755120422,127417.49570506504,128009.78126518459,128221.31643339046,128508.39855852119,128272.69242179724,127556.49952363542,127514.19802321863,125383.77752675377,127178.76473901111,127858.68735133485,127704.57783019578,128460.04739944439,128916.34474828294,129176.23107556559,129245.7375958711,129354.52078726339,130070.7044633846,131064.90499868717,130826.17403263324,131288.52104013175,130218.78276994497,131608.8393997299,132080.25167317782,131629.99476095862,131826.41500455514,131376.15809233597,130345.69649323596,128420.76150631697,130261.08427036175,131315.71683797985,131590.70886783124,132944.5136558594,133270.8724520769,132663.48118938864,132609.08037165186,133159.06443135464,132512.38727553893,132234.37041635756,133310.15834520434,132654.4159234393,133494.49771556212,133715.0889276767,133606.3057362844,133772.50535270286,134104.9138075804,134506.8195607228,134751.60018543672,135068.8937157049,134183.48559383527,132714.8479557548,132920.33346530068,133977.99086224876,135156.53076790913,135371.08154340435,135655.13883920512,134854.3429402097,136060.0694216775,136658.404640457,136455.9347382005,136528.45686579536,136948.5023728771,136915.25691636902,136425.71411102242,136259.514494604,135676.2942004338,134606.54670820636,134951.0360363226,134222.77148696268,135343.88574555624,135129.334970061,133385.70530212918,131161.60731684073,131037.70920083908,132315.95780990174,133923.59926655257,134144.1997007078,133760.42447946413,131064.90499868715,131285.5054328424,129680.88880552155,131222.03934915623,129529.79489167185,130877.55002104002,131421.48442208278,132557.7136052857,132315.95780990177,131358.02756043727,131034.68437150911,131506.096644957,133718.11375700674,134736.48526082738,135135.3754066804,136177.92710105976,136712.79623615317,137069.37565954874,136927.34701164838,137661.66121966828,137785.5593356699,137175.14324365166,138498.72740450175,138779.75987097248,139018.49083702645,139580.55576996793,140432.72765737012,141094.51973779517,141584.06254314177,141704.93582981342,141236.54838569555,140100.31920249262,140145.6455322394,141203.30292918748]}],                        {\"legend\":{\"bgcolor\":\"#F5F6F9\",\"font\":{\"color\":\"#4D5663\"}},\"paper_bgcolor\":\"#F5F6F9\",\"plot_bgcolor\":\"#F5F6F9\",\"template\":{\"data\":{\"bar\":[{\"error_x\":{\"color\":\"#2a3f5f\"},\"error_y\":{\"color\":\"#2a3f5f\"},\"marker\":{\"line\":{\"color\":\"#E5ECF6\",\"width\":0.5},\"pattern\":{\"fillmode\":\"overlay\",\"size\":10,\"solidity\":0.2}},\"type\":\"bar\"}],\"barpolar\":[{\"marker\":{\"line\":{\"color\":\"#E5ECF6\",\"width\":0.5},\"pattern\":{\"fillmode\":\"overlay\",\"size\":10,\"solidity\":0.2}},\"type\":\"barpolar\"}],\"carpet\":[{\"aaxis\":{\"endlinecolor\":\"#2a3f5f\",\"gridcolor\":\"white\",\"linecolor\":\"white\",\"minorgridcolor\":\"white\",\"startlinecolor\":\"#2a3f5f\"},\"baxis\":{\"endlinecolor\":\"#2a3f5f\",\"gridcolor\":\"white\",\"linecolor\":\"white\",\"minorgridcolor\":\"white\",\"startlinecolor\":\"#2a3f5f\"},\"type\":\"carpet\"}],\"choropleth\":[{\"colorbar\":{\"outlinewidth\":0,\"ticks\":\"\"},\"type\":\"choropleth\"}],\"contour\":[{\"colorbar\":{\"outlinewidth\":0,\"ticks\":\"\"},\"colorscale\":[[0.0,\"#0d0887\"],[0.1111111111111111,\"#46039f\"],[0.2222222222222222,\"#7201a8\"],[0.3333333333333333,\"#9c179e\"],[0.4444444444444444,\"#bd3786\"],[0.5555555555555556,\"#d8576b\"],[0.6666666666666666,\"#ed7953\"],[0.7777777777777778,\"#fb9f3a\"],[0.8888888888888888,\"#fdca26\"],[1.0,\"#f0f921\"]],\"type\":\"contour\"}],\"contourcarpet\":[{\"colorbar\":{\"outlinewidth\":0,\"ticks\":\"\"},\"type\":\"contourcarpet\"}],\"heatmap\":[{\"colorbar\":{\"outlinewidth\":0,\"ticks\":\"\"},\"colorscale\":[[0.0,\"#0d0887\"],[0.1111111111111111,\"#46039f\"],[0.2222222222222222,\"#7201a8\"],[0.3333333333333333,\"#9c179e\"],[0.4444444444444444,\"#bd3786\"],[0.5555555555555556,\"#d8576b\"],[0.6666666666666666,\"#ed7953\"],[0.7777777777777778,\"#fb9f3a\"],[0.8888888888888888,\"#fdca26\"],[1.0,\"#f0f921\"]],\"type\":\"heatmap\"}],\"heatmapgl\":[{\"colorbar\":{\"outlinewidth\":0,\"ticks\":\"\"},\"colorscale\":[[0.0,\"#0d0887\"],[0.1111111111111111,\"#46039f\"],[0.2222222222222222,\"#7201a8\"],[0.3333333333333333,\"#9c179e\"],[0.4444444444444444,\"#bd3786\"],[0.5555555555555556,\"#d8576b\"],[0.6666666666666666,\"#ed7953\"],[0.7777777777777778,\"#fb9f3a\"],[0.8888888888888888,\"#fdca26\"],[1.0,\"#f0f921\"]],\"type\":\"heatmapgl\"}],\"histogram\":[{\"marker\":{\"pattern\":{\"fillmode\":\"overlay\",\"size\":10,\"solidity\":0.2}},\"type\":\"histogram\"}],\"histogram2d\":[{\"colorbar\":{\"outlinewidth\":0,\"ticks\":\"\"},\"colorscale\":[[0.0,\"#0d0887\"],[0.1111111111111111,\"#46039f\"],[0.2222222222222222,\"#7201a8\"],[0.3333333333333333,\"#9c179e\"],[0.4444444444444444,\"#bd3786\"],[0.5555555555555556,\"#d8576b\"],[0.6666666666666666,\"#ed7953\"],[0.7777777777777778,\"#fb9f3a\"],[0.8888888888888888,\"#fdca26\"],[1.0,\"#f0f921\"]],\"type\":\"histogram2d\"}],\"histogram2dcontour\":[{\"colorbar\":{\"outlinewidth\":0,\"ticks\":\"\"},\"colorscale\":[[0.0,\"#0d0887\"],[0.1111111111111111,\"#46039f\"],[0.2222222222222222,\"#7201a8\"],[0.3333333333333333,\"#9c179e\"],[0.4444444444444444,\"#bd3786\"],[0.5555555555555556,\"#d8576b\"],[0.6666666666666666,\"#ed7953\"],[0.7777777777777778,\"#fb9f3a\"],[0.8888888888888888,\"#fdca26\"],[1.0,\"#f0f921\"]],\"type\":\"histogram2dcontour\"}],\"mesh3d\":[{\"colorbar\":{\"outlinewidth\":0,\"ticks\":\"\"},\"type\":\"mesh3d\"}],\"parcoords\":[{\"line\":{\"colorbar\":{\"outlinewidth\":0,\"ticks\":\"\"}},\"type\":\"parcoords\"}],\"pie\":[{\"automargin\":true,\"type\":\"pie\"}],\"scatter\":[{\"marker\":{\"colorbar\":{\"outlinewidth\":0,\"ticks\":\"\"}},\"type\":\"scatter\"}],\"scatter3d\":[{\"line\":{\"colorbar\":{\"outlinewidth\":0,\"ticks\":\"\"}},\"marker\":{\"colorbar\":{\"outlinewidth\":0,\"ticks\":\"\"}},\"type\":\"scatter3d\"}],\"scattercarpet\":[{\"marker\":{\"colorbar\":{\"outlinewidth\":0,\"ticks\":\"\"}},\"type\":\"scattercarpet\"}],\"scattergeo\":[{\"marker\":{\"colorbar\":{\"outlinewidth\":0,\"ticks\":\"\"}},\"type\":\"scattergeo\"}],\"scattergl\":[{\"marker\":{\"colorbar\":{\"outlinewidth\":0,\"ticks\":\"\"}},\"type\":\"scattergl\"}],\"scattermapbox\":[{\"marker\":{\"colorbar\":{\"outlinewidth\":0,\"ticks\":\"\"}},\"type\":\"scattermapbox\"}],\"scatterpolar\":[{\"marker\":{\"colorbar\":{\"outlinewidth\":0,\"ticks\":\"\"}},\"type\":\"scatterpolar\"}],\"scatterpolargl\":[{\"marker\":{\"colorbar\":{\"outlinewidth\":0,\"ticks\":\"\"}},\"type\":\"scatterpolargl\"}],\"scatterternary\":[{\"marker\":{\"colorbar\":{\"outlinewidth\":0,\"ticks\":\"\"}},\"type\":\"scatterternary\"}],\"surface\":[{\"colorbar\":{\"outlinewidth\":0,\"ticks\":\"\"},\"colorscale\":[[0.0,\"#0d0887\"],[0.1111111111111111,\"#46039f\"],[0.2222222222222222,\"#7201a8\"],[0.3333333333333333,\"#9c179e\"],[0.4444444444444444,\"#bd3786\"],[0.5555555555555556,\"#d8576b\"],[0.6666666666666666,\"#ed7953\"],[0.7777777777777778,\"#fb9f3a\"],[0.8888888888888888,\"#fdca26\"],[1.0,\"#f0f921\"]],\"type\":\"surface\"}],\"table\":[{\"cells\":{\"fill\":{\"color\":\"#EBF0F8\"},\"line\":{\"color\":\"white\"}},\"header\":{\"fill\":{\"color\":\"#C8D4E3\"},\"line\":{\"color\":\"white\"}},\"type\":\"table\"}]},\"layout\":{\"annotationdefaults\":{\"arrowcolor\":\"#2a3f5f\",\"arrowhead\":0,\"arrowwidth\":1},\"autotypenumbers\":\"strict\",\"coloraxis\":{\"colorbar\":{\"outlinewidth\":0,\"ticks\":\"\"}},\"colorscale\":{\"diverging\":[[0,\"#8e0152\"],[0.1,\"#c51b7d\"],[0.2,\"#de77ae\"],[0.3,\"#f1b6da\"],[0.4,\"#fde0ef\"],[0.5,\"#f7f7f7\"],[0.6,\"#e6f5d0\"],[0.7,\"#b8e186\"],[0.8,\"#7fbc41\"],[0.9,\"#4d9221\"],[1,\"#276419\"]],\"sequential\":[[0.0,\"#0d0887\"],[0.1111111111111111,\"#46039f\"],[0.2222222222222222,\"#7201a8\"],[0.3333333333333333,\"#9c179e\"],[0.4444444444444444,\"#bd3786\"],[0.5555555555555556,\"#d8576b\"],[0.6666666666666666,\"#ed7953\"],[0.7777777777777778,\"#fb9f3a\"],[0.8888888888888888,\"#fdca26\"],[1.0,\"#f0f921\"]],\"sequentialminus\":[[0.0,\"#0d0887\"],[0.1111111111111111,\"#46039f\"],[0.2222222222222222,\"#7201a8\"],[0.3333333333333333,\"#9c179e\"],[0.4444444444444444,\"#bd3786\"],[0.5555555555555556,\"#d8576b\"],[0.6666666666666666,\"#ed7953\"],[0.7777777777777778,\"#fb9f3a\"],[0.8888888888888888,\"#fdca26\"],[1.0,\"#f0f921\"]]},\"colorway\":[\"#636efa\",\"#EF553B\",\"#00cc96\",\"#ab63fa\",\"#FFA15A\",\"#19d3f3\",\"#FF6692\",\"#B6E880\",\"#FF97FF\",\"#FECB52\"],\"font\":{\"color\":\"#2a3f5f\"},\"geo\":{\"bgcolor\":\"white\",\"lakecolor\":\"white\",\"landcolor\":\"#E5ECF6\",\"showlakes\":true,\"showland\":true,\"subunitcolor\":\"white\"},\"hoverlabel\":{\"align\":\"left\"},\"hovermode\":\"closest\",\"mapbox\":{\"style\":\"light\"},\"paper_bgcolor\":\"white\",\"plot_bgcolor\":\"#E5ECF6\",\"polar\":{\"angularaxis\":{\"gridcolor\":\"white\",\"linecolor\":\"white\",\"ticks\":\"\"},\"bgcolor\":\"#E5ECF6\",\"radialaxis\":{\"gridcolor\":\"white\",\"linecolor\":\"white\",\"ticks\":\"\"}},\"scene\":{\"xaxis\":{\"backgroundcolor\":\"#E5ECF6\",\"gridcolor\":\"white\",\"gridwidth\":2,\"linecolor\":\"white\",\"showbackground\":true,\"ticks\":\"\",\"zerolinecolor\":\"white\"},\"yaxis\":{\"backgroundcolor\":\"#E5ECF6\",\"gridcolor\":\"white\",\"gridwidth\":2,\"linecolor\":\"white\",\"showbackground\":true,\"ticks\":\"\",\"zerolinecolor\":\"white\"},\"zaxis\":{\"backgroundcolor\":\"#E5ECF6\",\"gridcolor\":\"white\",\"gridwidth\":2,\"linecolor\":\"white\",\"showbackground\":true,\"ticks\":\"\",\"zerolinecolor\":\"white\"}},\"shapedefaults\":{\"line\":{\"color\":\"#2a3f5f\"}},\"ternary\":{\"aaxis\":{\"gridcolor\":\"white\",\"linecolor\":\"white\",\"ticks\":\"\"},\"baxis\":{\"gridcolor\":\"white\",\"linecolor\":\"white\",\"ticks\":\"\"},\"bgcolor\":\"#E5ECF6\",\"caxis\":{\"gridcolor\":\"white\",\"linecolor\":\"white\",\"ticks\":\"\"}},\"title\":{\"x\":0.05},\"xaxis\":{\"automargin\":true,\"gridcolor\":\"white\",\"linecolor\":\"white\",\"ticks\":\"\",\"title\":{\"standoff\":15},\"zerolinecolor\":\"white\",\"zerolinewidth\":2},\"yaxis\":{\"automargin\":true,\"gridcolor\":\"white\",\"linecolor\":\"white\",\"ticks\":\"\",\"title\":{\"standoff\":15},\"zerolinecolor\":\"white\",\"zerolinewidth\":2}}},\"title\":{\"font\":{\"color\":\"#4D5663\"}},\"xaxis\":{\"gridcolor\":\"#E1E5ED\",\"showgrid\":true,\"tickfont\":{\"color\":\"#4D5663\"},\"title\":{\"font\":{\"color\":\"#4D5663\"},\"text\":\"\"},\"zerolinecolor\":\"#E1E5ED\"},\"yaxis\":{\"gridcolor\":\"#E1E5ED\",\"showgrid\":true,\"tickfont\":{\"color\":\"#4D5663\"},\"title\":{\"font\":{\"color\":\"#4D5663\"},\"text\":\"\"},\"zerolinecolor\":\"#E1E5ED\"}},                        {\"showLink\": true, \"linkText\": \"Export to plot.ly\", \"plotlyServerURL\": \"https://plot.ly\", \"responsive\": true}                    ).then(function(){\n",
       "                            \n",
       "var gd = document.getElementById('3eae2ea7-d1d2-4f9c-a7be-ab4f1f73aa7e');\n",
       "var x = new MutationObserver(function (mutations, observer) {{\n",
       "        var display = window.getComputedStyle(gd).display;\n",
       "        if (!display || display === 'none') {{\n",
       "            console.log([gd, 'removed!']);\n",
       "            Plotly.purge(gd);\n",
       "            observer.disconnect();\n",
       "        }}\n",
       "}});\n",
       "\n",
       "// Listen for the removal of the full notebook cells\n",
       "var notebookContainer = gd.closest('#notebook-container');\n",
       "if (notebookContainer) {{\n",
       "    x.observe(notebookContainer, {childList: true});\n",
       "}}\n",
       "\n",
       "// Listen for the clearing of the current output cell\n",
       "var outputEl = gd.closest('.output');\n",
       "if (outputEl) {{\n",
       "    x.observe(outputEl, {childList: true});\n",
       "}}\n",
       "\n",
       "                        })                };                });            </script>        </div>"
      ]
     },
     "metadata": {},
     "output_type": "display_data"
    },
    {
     "data": {
      "text/plain": [
       "<AxesSubplot:>"
      ]
     },
     "execution_count": 13,
     "metadata": {},
     "output_type": "execute_result"
    },
    {
     "data": {
      "image/png": "[encoded data removed]",
      "text/plain": [
       "<Figure size 432x288 with 1 Axes>"
      ]
     },
     "metadata": {
      "needs_background": "light"
     },
     "output_type": "display_data"
    }
   ],
   "source": [
    "#Todo:\n",
    "# Calculate the Absolute Return of a buy-and-hold strategy in the same period\n",
    "absolute_return_bh = (r_df.Close.iloc[-1]-r_df.Open.iloc[0])/r_df.Open.iloc[0]\n",
    "# Calculate the CAGR or a buy-and-hold trading strategy\n",
    "CAGR_bh = ((r_df.Close.iloc[-1]/r_df.Open.iloc[0])**(252/len(df)))-1\n",
    "#or\n",
    "CAGR_bh = ((r_df.Close.iloc[-1]/r_df.Open.iloc[0])**(365/(df.index[-1] - df.index[0]).days))-1\n",
    "\n",
    "# Calculate the IR (Sharpe without RF-rate) of a buy-and-hold trading strategy\n",
    "information_ratio_bh = (r_df.Close.pct_change().mean()/r_df.Close.pct_change().std())*((252) **0.5)\n",
    "\n",
    "#Plot the equity curve (hint: use 'close' returns and your initial capital value to generate an equity curve)\n",
    "((r_df.Close.pct_change().dropna()+1).cumprod()*starting_capital).iplot()\n",
    "#or\n",
    "((r_df.Close.pct_change().dropna()+1).cumprod()*starting_capital).plot()"
   ]
  },
  {
   "cell_type": "code",
   "execution_count": 14,
   "id": "422032a2-2266-4316-b196-cb55d5746b6e",
   "metadata": {},
   "outputs": [],
   "source": [
    "#Todo - optional, below:\n",
    "# Copy any of the code from above to new cells below, and see how changing the symbol, dates and trend parameters changes the performance\n",
    "# Can you beat the reference implementation?"
   ]
  },
  {
   "cell_type": "code",
   "execution_count": 15,
   "id": "bdaeffbe-3198-4596-af06-c9c8387977db",
   "metadata": {},
   "outputs": [],
   "source": [
    "def fun_with_assignment_2(symbol=symbol,\n",
    "                          allocation=0.8,\n",
    "                          starting_capital=100000,\n",
    "                          short_trend=6,\n",
    "                          long_trend=12,\n",
    "                          start_date='2020',\n",
    "                          end_date=None):\n",
    "\n",
    "#     starting_capital = 100000\n",
    "#     allocation = 0.8\n",
    "\n",
    "#     symbol = 'SPY'\n",
    "\n",
    "#     long_trend_days = 12\n",
    "#     short_trend_days = 6\n",
    "    \n",
    "    starting_capital = starting_capital\n",
    "    allocation = allocation\n",
    "\n",
    "    symbol = symbol\n",
    "\n",
    "    long_trend_days = long_trend\n",
    "    short_trend_days = short_trend\n",
    "    \n",
    "    df = fetch_data(symbol,start_date=start_date,end_date=end_date)\n",
    "    \n",
    "    fast_trend = df.Open.rolling(window=short_trend_days).mean()\n",
    "    slow_trend = df.Open.rolling(window=long_trend_days).mean()\n",
    "\n",
    "    df['ma_fast'] = fast_trend\n",
    "    df['ma_slow'] = slow_trend\n",
    "    df[['Close','ma_fast','ma_slow']].iplot()\n",
    "    \n",
    "    df['trade_direction'] = np.sign(fast_trend-slow_trend)\n",
    "    \n",
    "    #Determine the direction of the moving average differences\n",
    "    df_trades = df['trade_direction'].dropna().diff().dropna().apply(np.sign).astype('int8')\n",
    "    df_trades = pandas.DataFrame(df_trades[df_trades !=0])\n",
    "\n",
    "    #Label our intended trades\n",
    "    df_trades['trade'] = df['trade_direction'].map({1:'Long',-1:'Short'})\n",
    "    df['trades'] = df_trades['trade']\n",
    "    df_trades['trade']\n",
    "    #Label our opening trade after removing our window period\n",
    "    df['trades'].replace(pandas.np.NaN,'None',inplace=True)\n",
    "    df = df.dropna()\n",
    "    df['trades'].iloc[0]=('Long' if df['trade_direction'].iloc[0]==1.0 else 'Short')\n",
    "    \n",
    "    trading_strategy = AccountManager(\n",
    "    symbol=symbol,\n",
    "    trades_df=df,\n",
    "    starting_capital=starting_capital,\n",
    "    allocation_amount=allocation)\n",
    "\n",
    "    results = trading_strategy.run()\n",
    "    \n",
    "    r_df = results['result_df']\n",
    "\n",
    "\n",
    "    # Calculate the Absolute Return of our trend-following trading strategy\n",
    "    absolute_return_tf = (r_df['account_val'].iloc[-1]-starting_capital)/starting_capital\n",
    "\n",
    "\n",
    "    # Calculate the CAGR or our trend-following trading strategy\n",
    "    CAGR_tf = ((r_df['account_val'].iloc[-1] /starting_capital)**(252/len(df)))-1\n",
    "\n",
    "\n",
    "\n",
    "    # Calculate the IR (Sharpe without RF-rate) of our trend-following trading strategy\n",
    "    information_ratio_tf = (r_df.account_val.pct_change().mean()/r_df.account_val.pct_change().std())*((252) **0.5)\n",
    "\n",
    "    absolute_return_bh = (r_df.Close.iloc[-1]-r_df.Open.iloc[0])/r_df.Open.iloc[0]\n",
    "\n",
    "    # Calculate the CAGR or our trend-following trading strategy\n",
    "    CAGR_bh = ((r_df.Close.iloc[-1]/r_df.Close.iloc[0])**(252/len(df)))-1\n",
    "\n",
    "    # Calculate the IR (Sharpe without RF-rate) of our trend-following trading strategy\n",
    "    information_ratio_bh = (r_df.Close.pct_change().mean()/r_df.Close.pct_change().std())*((252) **0.5)\n",
    "\n",
    "    #Plot the equity curve (hint: use 'close' returns and your initial capital value to generate an equity curve)\n",
    "\n",
    "\n",
    "    print(f\"Trend Follow: Absolute_return % {np.round(absolute_return_tf,2)*100}\")\n",
    "    print(f\"Buy-and-Hold: Absolute_return % {np.round(absolute_return_bh,2)*100}\")\n",
    "\n",
    "    print(f\"Trend Follow: CAGR % {np.round(CAGR_tf,2)*100}\")\n",
    "    print(f\"Buy-and-Hold: CAGR % {np.round(CAGR_bh,2)*100}\")\n",
    "\n",
    "    print(f\"Trend Follow: information_ratio {np.round(information_ratio_tf,4)}\")\n",
    "    print(f\"Buy-and-Hold: information_ratio {np.round(information_ratio_bh,4)}\")\n",
    "    \n",
    "\n",
    "    #Plot the equity curve (hint: use 'account_val')\n",
    "    r_df.account_val.iplot(title=f'{symbol} Trend Following Equity Curve')\n",
    "    ((r_df.Close.pct_change().dropna()+1).cumprod()*starting_capital).iplot(title=f'{symbol} Buy-and-Hold Equity Curve')"
   ]
  },
  {
   "cell_type": "code",
   "execution_count": 16,
   "id": "9df0de87-45f2-4811-baea-287a6f4acf6e",
   "metadata": {},
   "outputs": [
    {
     "name": "stdout",
     "output_type": "stream",
     "text": [
      "[*********************100%***********************]  1 of 1 completed\n"
     ]
    },
    {
     "data": {
      "application/vnd.plotly.v1+json": {
       "config": {
        "linkText": "Export to plot.ly",
        "plotlyServerURL": "https://plot.ly",
        "showLink": true
       },
       "data": [
        {
         "line": {
          "color": "rgba(255, 153, 51, 1.0)",
          "dash": "solid",
          "shape": "linear",
          "width": 1.3
         },
         "mode": "lines",
         "name": "Close",
         "text": "",
         "type": "scatter",
         "x": [
          "2019-12-31",
          "2020-01-02",
          "2020-01-03",
          "2020-01-06",
          "2020-01-07",
          "2020-01-08",
          "2020-01-09",
          "2020-01-10",
          "2020-01-13",
          "2020-01-14",
          "2020-01-15",
          "2020-01-16",
          "2020-01-17",
          "2020-01-21",
          "2020-01-22",
          "2020-01-23",
          "2020-01-24",
          "2020-01-27",
          "2020-01-28",
          "2020-01-29",
          "2020-01-30",
          "2020-01-31",
          "2020-02-03",
          "2020-02-04",
          "2020-02-05",
          "2020-02-06",
          "2020-02-07",
          "2020-02-10",
          "2020-02-11",
          "2020-02-12",
          "2020-02-13",
          "2020-02-14",
          "2020-02-18",
          "2020-02-19",
          "2020-02-20",
          "2020-02-21",
          "2020-02-24",
          "2020-02-25",
          "2020-02-26",
          "2020-02-27",
          "2020-02-28",
          "2020-03-02",
          "2020-03-03",
          "2020-03-04",
          "2020-03-05",
          "2020-03-06",
          "2020-03-09",
          "2020-03-10",
          "2020-03-11",
          "2020-03-12",
          "2020-03-13",
          "2020-03-16",
          "2020-03-17",
          "2020-03-18",
          "2020-03-19",
          "2020-03-20",
          "2020-03-23",
          "2020-03-24",
          "2020-03-25",
          "2020-03-26",
          "2020-03-27",
          "2020-03-30",
          "2020-03-31",
          "2020-04-01",
          "2020-04-02",
          "2020-04-03",
          "2020-04-06",
          "2020-04-07",
          "2020-04-08",
          "2020-04-09",
          "2020-04-13",
          "2020-04-14",
          "2020-04-15",
          "2020-04-16",
          "2020-04-17",
          "2020-04-20",
          "2020-04-21",
          "2020-04-22",
          "2020-04-23",
          "2020-04-24",
          "2020-04-27",
          "2020-04-28",
          "2020-04-29",
          "2020-04-30",
          "2020-05-01",
          "2020-05-04",
          "2020-05-05",
          "2020-05-06",
          "2020-05-07",
          "2020-05-08",
          "2020-05-11",
          "2020-05-12",
          "2020-05-13",
          "2020-05-14",
          "2020-05-15",
          "2020-05-18",
          "2020-05-19",
          "2020-05-20",
          "2020-05-21",
          "2020-05-22",
          "2020-05-26",
          "2020-05-27",
          "2020-05-28",
          "2020-05-29",
          "2020-06-01",
          "2020-06-02",
          "2020-06-03",
          "2020-06-04",
          "2020-06-05",
          "2020-06-08",
          "2020-06-09",
          "2020-06-10",
          "2020-06-11",
          "2020-06-12",
          "2020-06-15",
          "2020-06-16",
          "2020-06-17",
          "2020-06-18",
          "2020-06-19",
          "2020-06-22",
          "2020-06-23",
          "2020-06-24",
          "2020-06-25",
          "2020-06-26",
          "2020-06-29",
          "2020-06-30",
          "2020-07-01",
          "2020-07-02",
          "2020-07-06",
          "2020-07-07",
          "2020-07-08",
          "2020-07-09",
          "2020-07-10",
          "2020-07-13",
          "2020-07-14",
          "2020-07-15",
          "2020-07-16",
          "2020-07-17",
          "2020-07-20",
          "2020-07-21",
          "2020-07-22",
          "2020-07-23",
          "2020-07-24",
          "2020-07-27",
          "2020-07-28",
          "2020-07-29",
          "2020-07-30",
          "2020-07-31",
          "2020-08-03",
          "2020-08-04",
          "2020-08-05",
          "2020-08-06",
          "2020-08-07",
          "2020-08-10",
          "2020-08-11",
          "2020-08-12",
          "2020-08-13",
          "2020-08-14",
          "2020-08-17",
          "2020-08-18",
          "2020-08-19",
          "2020-08-20",
          "2020-08-21",
          "2020-08-24",
          "2020-08-25",
          "2020-08-26",
          "2020-08-27",
          "2020-08-28",
          "2020-08-31",
          "2020-09-01",
          "2020-09-02",
          "2020-09-03",
          "2020-09-04",
          "2020-09-08",
          "2020-09-09",
          "2020-09-10",
          "2020-09-11",
          "2020-09-14",
          "2020-09-15",
          "2020-09-16",
          "2020-09-17",
          "2020-09-18",
          "2020-09-21",
          "2020-09-22",
          "2020-09-23",
          "2020-09-24",
          "2020-09-25",
          "2020-09-28",
          "2020-09-29",
          "2020-09-30",
          "2020-10-01",
          "2020-10-02",
          "2020-10-05",
          "2020-10-06",
          "2020-10-07",
          "2020-10-08",
          "2020-10-09",
          "2020-10-12",
          "2020-10-13",
          "2020-10-14",
          "2020-10-15",
          "2020-10-16",
          "2020-10-19",
          "2020-10-20",
          "2020-10-21",
          "2020-10-22",
          "2020-10-23",
          "2020-10-26",
          "2020-10-27",
          "2020-10-28",
          "2020-10-29",
          "2020-10-30",
          "2020-11-02",
          "2020-11-03",
          "2020-11-04",
          "2020-11-05",
          "2020-11-06",
          "2020-11-09",
          "2020-11-10",
          "2020-11-11",
          "2020-11-12",
          "2020-11-13",
          "2020-11-16",
          "2020-11-17",
          "2020-11-18",
          "2020-11-19",
          "2020-11-20",
          "2020-11-23",
          "2020-11-24",
          "2020-11-25",
          "2020-11-27",
          "2020-11-30",
          "2020-12-01",
          "2020-12-02",
          "2020-12-03",
          "2020-12-04",
          "2020-12-07",
          "2020-12-08",
          "2020-12-09",
          "2020-12-10",
          "2020-12-11",
          "2020-12-14",
          "2020-12-15",
          "2020-12-16",
          "2020-12-17",
          "2020-12-18",
          "2020-12-21",
          "2020-12-22",
          "2020-12-23",
          "2020-12-24",
          "2020-12-28",
          "2020-12-29",
          "2020-12-30",
          "2020-12-31"
         ],
         "y": [
          321.8599853515625,
          324.8699951171875,
          322.4100036621094,
          323.6400146484375,
          322.7300109863281,
          324.45001220703125,
          326.6499938964844,
          325.7099914550781,
          327.95001220703125,
          327.45001220703125,
          328.19000244140625,
          330.9200134277344,
          331.95001220703125,
          331.29998779296875,
          331.3399963378906,
          331.7200012207031,
          328.7699890136719,
          323.5,
          326.8900146484375,
          326.6199951171875,
          327.67999267578125,
          321.7300109863281,
          324.1199951171875,
          329.05999755859375,
          332.8599853515625,
          333.9800109863281,
          332.20001220703125,
          334.67999267578125,
          335.260009765625,
          337.4200134277344,
          337.05999755859375,
          337.6000061035156,
          336.7300109863281,
          338.3399963378906,
          336.95001220703125,
          333.4800109863281,
          322.4200134277344,
          312.6499938964844,
          311.5,
          297.510009765625,
          296.260009765625,
          309.0899963378906,
          300.239990234375,
          312.8599853515625,
          302.4599914550781,
          297.4599914550781,
          274.2300109863281,
          288.4200134277344,
          274.3599853515625,
          248.11000061035156,
          269.32000732421875,
          239.85000610351562,
          252.8000030517578,
          240,
          240.50999450683594,
          228.8000030517578,
          222.9499969482422,
          243.14999389648438,
          246.7899932861328,
          261.20001220703125,
          253.4199981689453,
          261.6499938964844,
          257.75,
          246.14999389648438,
          251.8300018310547,
          248.19000244140625,
          264.8599853515625,
          265.1300048828125,
          274.0299987792969,
          278.20001220703125,
          275.6600036621094,
          283.7900085449219,
          277.760009765625,
          279.1000061035156,
          286.6400146484375,
          281.5899963378906,
          273.0400085449219,
          279.1000061035156,
          279.0799865722656,
          282.9700012207031,
          287.04998779296875,
          285.7300109863281,
          293.2099914550781,
          290.4800109863281,
          282.7900085449219,
          283.57000732421875,
          286.19000244140625,
          284.25,
          287.67999267578125,
          292.44000244140625,
          292.5,
          286.6700134277344,
          281.6000061035156,
          284.9700012207031,
          286.2799987792969,
          295,
          291.9700012207031,
          296.92999267578125,
          294.8800048828125,
          295.44000244140625,
          299.0799865722656,
          303.5299987792969,
          302.9700012207031,
          304.32000732421875,
          305.54998779296875,
          308.0799865722656,
          312.17999267578125,
          311.3599853515625,
          319.3399963378906,
          323.20001220703125,
          320.7900085449219,
          319,
          300.6099853515625,
          304.2099914550781,
          307.04998779296875,
          312.9599914550781,
          311.6600036621094,
          311.7799987792969,
          308.6400146484375,
          310.6199951171875,
          312.04998779296875,
          304.0899963378906,
          307.3500061035156,
          300.04998779296875,
          304.4599914550781,
          308.3599853515625,
          310.5199890136719,
          312.2300109863281,
          317.04998779296875,
          313.7799987792969,
          316.17999267578125,
          314.3800048828125,
          317.5899963378906,
          314.8399963378906,
          318.9200134277344,
          321.8500061035156,
          320.7900085449219,
          321.7200012207031,
          324.32000732421875,
          325.010009765625,
          326.8599853515625,
          322.9599914550781,
          320.8800048828125,
          323.2200012207031,
          321.1700134277344,
          325.1199951171875,
          323.9599914550781,
          326.5199890136719,
          328.7900085449219,
          330.05999755859375,
          332.1099853515625,
          334.3299865722656,
          334.57000732421875,
          335.57000732421875,
          332.79998779296875,
          337.44000244140625,
          336.8299865722656,
          336.8399963378906,
          337.9100036621094,
          338.6400146484375,
          337.2300109863281,
          338.2799987792969,
          339.4800109863281,
          342.9200134277344,
          344.1199951171875,
          347.57000732421875,
          348.3299865722656,
          350.5799865722656,
          349.30999755859375,
          352.6000061035156,
          357.70001220703125,
          345.3900146484375,
          342.57000732421875,
          333.2099914550781,
          339.7900085449219,
          333.8900146484375,
          334.05999755859375,
          338.4599914550781,
          340.1700134277344,
          338.82000732421875,
          335.8399963378906,
          330.6499938964844,
          326.9700012207031,
          330.29998779296875,
          322.6400146484375,
          323.5,
          328.7300109863281,
          334.19000244140625,
          332.3699951171875,
          334.8900146484375,
          337.0400085449219,
          333.8399963378906,
          339.760009765625,
          334.92999267578125,
          340.760009765625,
          343.7799987792969,
          346.8500061035156,
          352.42999267578125,
          350.1300048828125,
          347.92999267578125,
          347.5,
          347.2900085449219,
          342.010009765625,
          343.3800048828125,
          342.7300109863281,
          344.6099853515625,
          345.7799987792969,
          339.3900146484375,
          338.2200012207031,
          326.6600036621094,
          329.9800109863281,
          326.5400085449219,
          330.20001220703125,
          336.0299987792969,
          343.5400085449219,
          350.239990234375,
          350.1600036621094,
          354.55999755859375,
          354.0400085449219,
          356.6700134277344,
          353.2099914550781,
          358.1000061035156,
          362.57000732421875,
          360.6199951171875,
          356.2799987792969,
          357.7799987792969,
          355.3299865722656,
          357.4599914550781,
          363.2200012207031,
          362.6600036621094,
          363.6700134277344,
          362.05999755859375,
          366.0199890136719,
          366.7900085449219,
          366.69000244140625,
          369.8500061035156,
          369.0899963378906,
          370.1700134277344,
          366.8500061035156,
          366.7300109863281,
          366.29998779296875,
          364.6600036621094,
          369.5899963378906,
          370.1700134277344,
          372.239990234375,
          369.17999267578125,
          367.8599853515625,
          367.239990234375,
          367.57000732421875,
          369,
          372.1700134277344,
          371.4599914550781,
          371.989990234375,
          373.8800048828125
         ]
        },
        {
         "line": {
          "color": "rgba(55, 128, 191, 1.0)",
          "dash": "solid",
          "shape": "linear",
          "width": 1.3
         },
         "mode": "lines",
         "name": "ma_fast",
         "text": "",
         "type": "scatter",
         "x": [
          "2019-12-31",
          "2020-01-02",
          "2020-01-03",
          "2020-01-06",
          "2020-01-07",
          "2020-01-08",
          "2020-01-09",
          "2020-01-10",
          "2020-01-13",
          "2020-01-14",
          "2020-01-15",
          "2020-01-16",
          "2020-01-17",
          "2020-01-21",
          "2020-01-22",
          "2020-01-23",
          "2020-01-24",
          "2020-01-27",
          "2020-01-28",
          "2020-01-29",
          "2020-01-30",
          "2020-01-31",
          "2020-02-03",
          "2020-02-04",
          "2020-02-05",
          "2020-02-06",
          "2020-02-07",
          "2020-02-10",
          "2020-02-11",
          "2020-02-12",
          "2020-02-13",
          "2020-02-14",
          "2020-02-18",
          "2020-02-19",
          "2020-02-20",
          "2020-02-21",
          "2020-02-24",
          "2020-02-25",
          "2020-02-26",
          "2020-02-27",
          "2020-02-28",
          "2020-03-02",
          "2020-03-03",
          "2020-03-04",
          "2020-03-05",
          "2020-03-06",
          "2020-03-09",
          "2020-03-10",
          "2020-03-11",
          "2020-03-12",
          "2020-03-13",
          "2020-03-16",
          "2020-03-17",
          "2020-03-18",
          "2020-03-19",
          "2020-03-20",
          "2020-03-23",
          "2020-03-24",
          "2020-03-25",
          "2020-03-26",
          "2020-03-27",
          "2020-03-30",
          "2020-03-31",
          "2020-04-01",
          "2020-04-02",
          "2020-04-03",
          "2020-04-06",
          "2020-04-07",
          "2020-04-08",
          "2020-04-09",
          "2020-04-13",
          "2020-04-14",
          "2020-04-15",
          "2020-04-16",
          "2020-04-17",
          "2020-04-20",
          "2020-04-21",
          "2020-04-22",
          "2020-04-23",
          "2020-04-24",
          "2020-04-27",
          "2020-04-28",
          "2020-04-29",
          "2020-04-30",
          "2020-05-01",
          "2020-05-04",
          "2020-05-05",
          "2020-05-06",
          "2020-05-07",
          "2020-05-08",
          "2020-05-11",
          "2020-05-12",
          "2020-05-13",
          "2020-05-14",
          "2020-05-15",
          "2020-05-18",
          "2020-05-19",
          "2020-05-20",
          "2020-05-21",
          "2020-05-22",
          "2020-05-26",
          "2020-05-27",
          "2020-05-28",
          "2020-05-29",
          "2020-06-01",
          "2020-06-02",
          "2020-06-03",
          "2020-06-04",
          "2020-06-05",
          "2020-06-08",
          "2020-06-09",
          "2020-06-10",
          "2020-06-11",
          "2020-06-12",
          "2020-06-15",
          "2020-06-16",
          "2020-06-17",
          "2020-06-18",
          "2020-06-19",
          "2020-06-22",
          "2020-06-23",
          "2020-06-24",
          "2020-06-25",
          "2020-06-26",
          "2020-06-29",
          "2020-06-30",
          "2020-07-01",
          "2020-07-02",
          "2020-07-06",
          "2020-07-07",
          "2020-07-08",
          "2020-07-09",
          "2020-07-10",
          "2020-07-13",
          "2020-07-14",
          "2020-07-15",
          "2020-07-16",
          "2020-07-17",
          "2020-07-20",
          "2020-07-21",
          "2020-07-22",
          "2020-07-23",
          "2020-07-24",
          "2020-07-27",
          "2020-07-28",
          "2020-07-29",
          "2020-07-30",
          "2020-07-31",
          "2020-08-03",
          "2020-08-04",
          "2020-08-05",
          "2020-08-06",
          "2020-08-07",
          "2020-08-10",
          "2020-08-11",
          "2020-08-12",
          "2020-08-13",
          "2020-08-14",
          "2020-08-17",
          "2020-08-18",
          "2020-08-19",
          "2020-08-20",
          "2020-08-21",
          "2020-08-24",
          "2020-08-25",
          "2020-08-26",
          "2020-08-27",
          "2020-08-28",
          "2020-08-31",
          "2020-09-01",
          "2020-09-02",
          "2020-09-03",
          "2020-09-04",
          "2020-09-08",
          "2020-09-09",
          "2020-09-10",
          "2020-09-11",
          "2020-09-14",
          "2020-09-15",
          "2020-09-16",
          "2020-09-17",
          "2020-09-18",
          "2020-09-21",
          "2020-09-22",
          "2020-09-23",
          "2020-09-24",
          "2020-09-25",
          "2020-09-28",
          "2020-09-29",
          "2020-09-30",
          "2020-10-01",
          "2020-10-02",
          "2020-10-05",
          "2020-10-06",
          "2020-10-07",
          "2020-10-08",
          "2020-10-09",
          "2020-10-12",
          "2020-10-13",
          "2020-10-14",
          "2020-10-15",
          "2020-10-16",
          "2020-10-19",
          "2020-10-20",
          "2020-10-21",
          "2020-10-22",
          "2020-10-23",
          "2020-10-26",
          "2020-10-27",
          "2020-10-28",
          "2020-10-29",
          "2020-10-30",
          "2020-11-02",
          "2020-11-03",
          "2020-11-04",
          "2020-11-05",
          "2020-11-06",
          "2020-11-09",
          "2020-11-10",
          "2020-11-11",
          "2020-11-12",
          "2020-11-13",
          "2020-11-16",
          "2020-11-17",
          "2020-11-18",
          "2020-11-19",
          "2020-11-20",
          "2020-11-23",
          "2020-11-24",
          "2020-11-25",
          "2020-11-27",
          "2020-11-30",
          "2020-12-01",
          "2020-12-02",
          "2020-12-03",
          "2020-12-04",
          "2020-12-07",
          "2020-12-08",
          "2020-12-09",
          "2020-12-10",
          "2020-12-11",
          "2020-12-14",
          "2020-12-15",
          "2020-12-16",
          "2020-12-17",
          "2020-12-18",
          "2020-12-21",
          "2020-12-22",
          "2020-12-23",
          "2020-12-24",
          "2020-12-28",
          "2020-12-29",
          "2020-12-30",
          "2020-12-31"
         ],
         "y": [
          "",
          "",
          321.7433369954427,
          321.73000081380206,
          321.55666097005206,
          322.1499938964844,
          324.0399983723958,
          325.4633382161458,
          326.61334228515625,
          327.0500081380208,
          327.07000732421875,
          328.17333984375,
          329.5833435058594,
          330.7666727701823,
          331.6133321126302,
          331.2566630045573,
          331.76999918619794,
          328.7000020345052,
          326.8433329264323,
          325.49000040690106,
          325.93332926432294,
          326.5799967447917,
          324.90333048502606,
          326.14000447591144,
          327.89666748046875,
          331.4166666666667,
          333,
          332.65334065755206,
          333.40334065755206,
          334.74000040690106,
          336.2833251953125,
          336.7333272298177,
          336.6266682942708,
          337.27000935872394,
          337.34666951497394,
          337,
          332.1166687011719,
          327.5166727701823,
          320.4200032552083,
          314.5266621907552,
          302.7799987792969,
          297.4566650390625,
          298.80333455403644,
          304.60999552408856,
          306.8666687011719,
          301.4166666666667,
          291.14333089192706,
          284.3633321126302,
          280.2133382161458,
          273.78000895182294,
          266.59666951497394,
          253.42332967122397,
          249.7699940999349,
          240.82332865397134,
          240.17999776204428,
          239.34333292643228,
          236.65666707356772,
          235.04666646321616,
          235.82666524251303,
          242.9366658528646,
          249.22000122070312,
          252.8300018310547,
          256.50999959309894,
          254.74666341145834,
          251.2433319091797,
          247.9766642252604,
          251.2633310953776,
          260.93666076660156,
          266.6699930826823,
          273.24998982747394,
          274.22666422526044,
          278.56667073567706,
          278.56334431966144,
          279.23333740234375,
          280.7000020345052,
          282.37999471028644,
          281.5733337402344,
          279.23000081380206,
          278.52333577473956,
          279.85666910807294,
          282.1133321126302,
          285.6233317057292,
          289.22332763671875,
          291.4199930826823,
          289.51666259765625,
          285.9199930826823,
          284.23000081380206,
          285.14000447591144,
          287.47667439778644,
          288.9600016276042,
          289.72666422526044,
          291.74000040690106,
          290.06333414713544,
          286.2666727701823,
          282.4600016276042,
          284.7899983723958,
          289.92332967122394,
          294.4066670735677,
          295.65334065755206,
          295.72667439778644,
          297.7633361816406,
          299.5399983723958,
          302.8999938964844,
          303.07666015625,
          303.57666015625,
          304.2099914550781,
          306.80332438151044,
          309.29998779296875,
          312.85999552408856,
          316.18666585286456,
          319.25,
          320.64666748046875,
          317.72666422526044,
          313.7066650390625,
          305.9066569010417,
          307.2466634114583,
          309.19000244140625,
          313.1866760253906,
          312.75001017252606,
          310.7233378092448,
          311.8833312988281,
          310.4399922688802,
          308.93332926432294,
          306.49000040690106,
          303.6800028483073,
          303.85333251953125,
          304.99000040690106,
          309.26666259765625,
          313.39333089192706,
          315.3299967447917,
          315.4533284505208,
          315.60999552408856,
          315.2533264160156,
          317.0933329264323,
          315.913330078125,
          318.6133321126302,
          318.5,
          321.36000569661456,
          321.03333536783856,
          323.2533365885417,
          324.1666666666667,
          325.84666951497394,
          324.0133361816406,
          323.0166727701823,
          321.6700032552083,
          322.05999755859375,
          322.1499938964844,
          323.30666097005206,
          325.3733317057292,
          327.35999552408856,
          329.21666463216144,
          330.26999918619794,
          332.07667032877606,
          333.27333577473956,
          335.06333414713544,
          335.78333536783856,
          336.2999979654948,
          336.15333048502606,
          336.9866638183594,
          337.56333414713544,
          338.4433288574219,
          337.5833231608073,
          337.4433288574219,
          338.46666463216144,
          341.19000244140625,
          343.4700012207031,
          345.6000061035156,
          347.57000732421875,
          349.43333943684894,
          350,
          351.7433369954427,
          353.5833333333333,
          352.2233378092448,
          346.2366638183594,
          340.12999471028644,
          338.6933288574219,
          338.39666748046875,
          338.3766682942708,
          338.14333089192706,
          340.0399983723958,
          338.73000081380206,
          336.81333414713544,
          331.5433349609375,
          329.8800048828125,
          328.39000447591144,
          326.89666748046875,
          324.8999938964844,
          325.67332967122394,
          329.92332967122394,
          333.4266662597656,
          334.9166666666667,
          334.1600036621094,
          335.15000406901044,
          335.89000447591144,
          338.0299987792969,
          340.2933349609375,
          342.1766662597656,
          346,
          349.14333089192706,
          350.8733317057292,
          348.913330078125,
          347.80666097005206,
          347.1066589355469,
          347.02332560221356,
          345.1466573079427,
          343.24998982747394,
          344.0733235677083,
          343.67332967122394,
          342.60666910807294,
          337.9966735839844,
          332.92333984375,
          329.09666951497394,
          328.4633382161458,
          330.7233378092448,
          334.9166666666667,
          341.26332600911456,
          346.67665608723956,
          354.37999471028644,
          355.7966613769531,
          357.9533284505208,
          355.1566569010417,
          355.74998982747394,
          357.2766621907552,
          358.74000040690106,
          360.62000528971356,
          358.82667032877606,
          358.0033365885417,
          356.7933349609375,
          358.3299967447917,
          360.2066650390625,
          362.39333089192706,
          363.26666259765625,
          364.0799967447917,
          364.4066670735677,
          365.69000244140625,
          366.27333577473956,
          367.67332967122394,
          368.01999918619794,
          369.2066650390625,
          367.99000040690106,
          367.0499979654948,
          366.30333455403644,
          366.98000081380206,
          368.62000528971356,
          369.7200012207031,
          370.9100036621094,
          369.2933349609375,
          368.0499979654948,
          367.15333048502606,
          368.1899922688802,
          369.3666585286458,
          371.2099914550781,
          372.62999471028644,
          372.64333089192706
         ]
        },
        {
         "line": {
          "color": "rgba(50, 171, 96, 1.0)",
          "dash": "solid",
          "shape": "linear",
          "width": 1.3
         },
         "mode": "lines",
         "name": "ma_slow",
         "text": "",
         "type": "scatter",
         "x": [
          "2019-12-31",
          "2020-01-02",
          "2020-01-03",
          "2020-01-06",
          "2020-01-07",
          "2020-01-08",
          "2020-01-09",
          "2020-01-10",
          "2020-01-13",
          "2020-01-14",
          "2020-01-15",
          "2020-01-16",
          "2020-01-17",
          "2020-01-21",
          "2020-01-22",
          "2020-01-23",
          "2020-01-24",
          "2020-01-27",
          "2020-01-28",
          "2020-01-29",
          "2020-01-30",
          "2020-01-31",
          "2020-02-03",
          "2020-02-04",
          "2020-02-05",
          "2020-02-06",
          "2020-02-07",
          "2020-02-10",
          "2020-02-11",
          "2020-02-12",
          "2020-02-13",
          "2020-02-14",
          "2020-02-18",
          "2020-02-19",
          "2020-02-20",
          "2020-02-21",
          "2020-02-24",
          "2020-02-25",
          "2020-02-26",
          "2020-02-27",
          "2020-02-28",
          "2020-03-02",
          "2020-03-03",
          "2020-03-04",
          "2020-03-05",
          "2020-03-06",
          "2020-03-09",
          "2020-03-10",
          "2020-03-11",
          "2020-03-12",
          "2020-03-13",
          "2020-03-16",
          "2020-03-17",
          "2020-03-18",
          "2020-03-19",
          "2020-03-20",
          "2020-03-23",
          "2020-03-24",
          "2020-03-25",
          "2020-03-26",
          "2020-03-27",
          "2020-03-30",
          "2020-03-31",
          "2020-04-01",
          "2020-04-02",
          "2020-04-03",
          "2020-04-06",
          "2020-04-07",
          "2020-04-08",
          "2020-04-09",
          "2020-04-13",
          "2020-04-14",
          "2020-04-15",
          "2020-04-16",
          "2020-04-17",
          "2020-04-20",
          "2020-04-21",
          "2020-04-22",
          "2020-04-23",
          "2020-04-24",
          "2020-04-27",
          "2020-04-28",
          "2020-04-29",
          "2020-04-30",
          "2020-05-01",
          "2020-05-04",
          "2020-05-05",
          "2020-05-06",
          "2020-05-07",
          "2020-05-08",
          "2020-05-11",
          "2020-05-12",
          "2020-05-13",
          "2020-05-14",
          "2020-05-15",
          "2020-05-18",
          "2020-05-19",
          "2020-05-20",
          "2020-05-21",
          "2020-05-22",
          "2020-05-26",
          "2020-05-27",
          "2020-05-28",
          "2020-05-29",
          "2020-06-01",
          "2020-06-02",
          "2020-06-03",
          "2020-06-04",
          "2020-06-05",
          "2020-06-08",
          "2020-06-09",
          "2020-06-10",
          "2020-06-11",
          "2020-06-12",
          "2020-06-15",
          "2020-06-16",
          "2020-06-17",
          "2020-06-18",
          "2020-06-19",
          "2020-06-22",
          "2020-06-23",
          "2020-06-24",
          "2020-06-25",
          "2020-06-26",
          "2020-06-29",
          "2020-06-30",
          "2020-07-01",
          "2020-07-02",
          "2020-07-06",
          "2020-07-07",
          "2020-07-08",
          "2020-07-09",
          "2020-07-10",
          "2020-07-13",
          "2020-07-14",
          "2020-07-15",
          "2020-07-16",
          "2020-07-17",
          "2020-07-20",
          "2020-07-21",
          "2020-07-22",
          "2020-07-23",
          "2020-07-24",
          "2020-07-27",
          "2020-07-28",
          "2020-07-29",
          "2020-07-30",
          "2020-07-31",
          "2020-08-03",
          "2020-08-04",
          "2020-08-05",
          "2020-08-06",
          "2020-08-07",
          "2020-08-10",
          "2020-08-11",
          "2020-08-12",
          "2020-08-13",
          "2020-08-14",
          "2020-08-17",
          "2020-08-18",
          "2020-08-19",
          "2020-08-20",
          "2020-08-21",
          "2020-08-24",
          "2020-08-25",
          "2020-08-26",
          "2020-08-27",
          "2020-08-28",
          "2020-08-31",
          "2020-09-01",
          "2020-09-02",
          "2020-09-03",
          "2020-09-04",
          "2020-09-08",
          "2020-09-09",
          "2020-09-10",
          "2020-09-11",
          "2020-09-14",
          "2020-09-15",
          "2020-09-16",
          "2020-09-17",
          "2020-09-18",
          "2020-09-21",
          "2020-09-22",
          "2020-09-23",
          "2020-09-24",
          "2020-09-25",
          "2020-09-28",
          "2020-09-29",
          "2020-09-30",
          "2020-10-01",
          "2020-10-02",
          "2020-10-05",
          "2020-10-06",
          "2020-10-07",
          "2020-10-08",
          "2020-10-09",
          "2020-10-12",
          "2020-10-13",
          "2020-10-14",
          "2020-10-15",
          "2020-10-16",
          "2020-10-19",
          "2020-10-20",
          "2020-10-21",
          "2020-10-22",
          "2020-10-23",
          "2020-10-26",
          "2020-10-27",
          "2020-10-28",
          "2020-10-29",
          "2020-10-30",
          "2020-11-02",
          "2020-11-03",
          "2020-11-04",
          "2020-11-05",
          "2020-11-06",
          "2020-11-09",
          "2020-11-10",
          "2020-11-11",
          "2020-11-12",
          "2020-11-13",
          "2020-11-16",
          "2020-11-17",
          "2020-11-18",
          "2020-11-19",
          "2020-11-20",
          "2020-11-23",
          "2020-11-24",
          "2020-11-25",
          "2020-11-27",
          "2020-11-30",
          "2020-12-01",
          "2020-12-02",
          "2020-12-03",
          "2020-12-04",
          "2020-12-07",
          "2020-12-08",
          "2020-12-09",
          "2020-12-10",
          "2020-12-11",
          "2020-12-14",
          "2020-12-15",
          "2020-12-16",
          "2020-12-17",
          "2020-12-18",
          "2020-12-21",
          "2020-12-22",
          "2020-12-23",
          "2020-12-24",
          "2020-12-28",
          "2020-12-29",
          "2020-12-30",
          "2020-12-31"
         ],
         "y": [
          "",
          "",
          "",
          "",
          "",
          "",
          "",
          "",
          "",
          "",
          "",
          324.6700032552083,
          325.60083770751953,
          326.2141698201497,
          327.1375020345052,
          327.9825032552083,
          328.7675043741862,
          328.77500406901044,
          328.68333689371747,
          328.774169921875,
          328.60500081380206,
          328.56583404541016,
          328.23250071207684,
          328.09666697184247,
          328.1441650390625,
          328.39499918619794,
          328.4433339436849,
          328.4933344523112,
          328.80333455403644,
          329.9533335367839,
          330.85333251953125,
          331.6141662597656,
          332.6266682942708,
          333.52583567301434,
          334.7250010172526,
          335.34166717529297,
          334.5808359781901,
          333.75000254313153,
          332.19666798909503,
          330.0491663614909,
          326.0941670735677,
          322.87583414713544,
          320.6791687011719,
          318.06333414713544,
          315.43583424886066,
          311.71583302815753,
          306.5124994913737,
          302.27666727701825,
          298.74000040690106,
          293.0783335367839,
          288.82083384195965,
          283.46416727701825,
          279.82583236694336,
          274.66249974568683,
          268.8083330790202,
          263.5091667175293,
          257.1099993387858,
          252.21583302815756,
          249.68000030517578,
          246.7533327738444,
          244.46749877929688,
          244.44249852498373,
          244.23166529337564,
          244.79833221435547,
          244.81083297729492,
          246.0199991861979,
          247.5691655476888,
          250.20916493733725,
          253.52333068847656,
          257.11999638875324,
          259.8091646830241,
          262.4308319091797,
          264.45583216349286,
          266.4099985758464,
          268.47833251953125,
          271.3641649881999,
          273.99249903361004,
          276.2916666666667,
          278.17916615804035,
          278.72250111897785,
          280.1525014241536,
          281.2725016276042,
          282.47166697184247,
          283.36583201090497,
          284.01083119710285,
          284.14333089192706,
          284.2483317057292,
          284.7008336385091,
          285.6191660563151,
          286.6808319091797,
          287.50166575113934,
          288.58999888102215,
          288.66833241780597,
          287.6625010172526,
          286.89916737874347,
          287.0108337402344,
          287.76416778564453,
          289.02083587646484,
          289.8666687011719,
          290.4108352661133,
          291.5925013224284,
          292.5116678873698,
          293.70416768391925,
          294.4266662597656,
          295.88999938964844,
          298.18999735514325,
          300.5124969482422,
          302.0174967447917,
          303.9241638183594,
          305.9574966430664,
          307.9166615804036,
          310.15416208902997,
          310.9483286539714,
          311.4583282470703,
          310.90582784016925,
          311.99082946777344,
          312.8616638183594,
          313.1499989827474,
          313.47750091552734,
          313.2175013224284,
          312.9058329264323,
          312.04083251953125,
          310.6383336385091,
          309.36666615804035,
          308.52916717529297,
          308.1750005086263,
          309.1375020345052,
          309.03416697184247,
          309.22583262125653,
          309.67333221435547,
          309.7099965413411,
          310.44749704996747,
          310.51583099365234,
          311.3733317057292,
          312.19249725341797,
          313.54666392008465,
          315.07833099365234,
          316.5691655476888,
          317.55749766031903,
          318.5749994913737,
          319.2624994913737,
          320.18666585286456,
          320.7150014241536,
          321.11416880289715,
          321.7908350626628,
          321.95666758219403,
          322.673334757487,
          322.96416727701825,
          323.6750005086263,
          324.17333221435547,
          325.00999959309894,
          325.42916615804035,
          326.1508331298828,
          326.86666615804035,
          328.19166564941406,
          329.3424987792969,
          330.524164835612,
          331.71499888102215,
          333.0516662597656,
          334.0883331298828,
          334.9824981689453,
          335.6074981689453,
          336.14499918619794,
          337.0316645304362,
          337.88583119710285,
          338.6941655476888,
          339.66583251953125,
          340.83249918619794,
          341.97750091552734,
          343.1274998982747,
          344.52166748046875,
          345.98250071207684,
          346.57250213623047,
          346.68500264485675,
          346.65416717529297,
          346.6291681925456,
          345.9866689046224,
          345.3808339436849,
          344.76499938964844,
          344.1041666666667,
          342.70499928792316,
          341.4683329264323,
          339.05416615804035,
          336.77916717529297,
          335.50999959309894,
          334.2191670735677,
          332.97166697184247,
          332.2549997965495,
          332.10083262125653,
          331.7341664632161,
          331.4483337402344,
          330.6308339436849,
          330.83916727701825,
          331.2175013224284,
          332.2524998982747,
          333.4424997965495,
          334.6641667683919,
          337.02833302815753,
          339.50333404541016,
          340.96416727701825,
          341.7758331298828,
          343.09833272298175,
          344.0116653442383,
          344.9916636149089,
          345.59749603271484,
          345.8516616821289,
          346.5024948120117,
          346.44249471028644,
          345.95916239420575,
          344.5016632080078,
          342.3874969482422,
          340.5149968465169,
          339.389165242513,
          338.11666615804035,
          337.4674987792969,
          337.9491653442383,
          338.49916585286456,
          340.25,
          340.8799997965495,
          342.0691655476888,
          343.3874969482422,
          345.3183288574219,
          348.1574961344401,
          350.79832967122394,
          353.3574956258138,
          355.18332926432294,
          356.5699971516927,
          357.23999786376953,
          358.09666442871094,
          358.0266647338867,
          358.889165242513,
          359.4249979654948,
          360.2574996948242,
          361.05333455403644,
          361.52833302815753,
          362.1408335367839,
          362.81666564941406,
          363.826665242513,
          364.94166564941406,
          365.61583201090497,
          366.0066655476888,
          366.46583302815753,
          366.7624994913737,
          367.3450012207031,
          367.87583414713544,
          368.3883336385091,
          368.24583435058594,
          368.3199996948242,
          368.25833384195965,
          368.28833262125653,
          368.35999806722003,
          369.0633316040039,
          369.6833318074544,
          369.9449971516927
         ]
        }
       ],
       "layout": {
        "legend": {
         "bgcolor": "#F5F6F9",
         "font": {
          "color": "#4D5663"
         }
        },
        "paper_bgcolor": "#F5F6F9",
        "plot_bgcolor": "#F5F6F9",
        "template": {
         "data": {
          "bar": [
           {
            "error_x": {
             "color": "#2a3f5f"
            },
            "error_y": {
             "color": "#2a3f5f"
            },
            "marker": {
             "line": {
              "color": "#E5ECF6",
              "width": 0.5
             },
             "pattern": {
              "fillmode": "overlay",
              "size": 10,
              "solidity": 0.2
             }
            },
            "type": "bar"
           }
          ],
          "barpolar": [
           {
            "marker": {
             "line": {
              "color": "#E5ECF6",
              "width": 0.5
             },
             "pattern": {
              "fillmode": "overlay",
              "size": 10,
              "solidity": 0.2
             }
            },
            "type": "barpolar"
           }
          ],
          "carpet": [
           {
            "aaxis": {
             "endlinecolor": "#2a3f5f",
             "gridcolor": "white",
             "linecolor": "white",
             "minorgridcolor": "white",
             "startlinecolor": "#2a3f5f"
            },
            "baxis": {
             "endlinecolor": "#2a3f5f",
             "gridcolor": "white",
             "linecolor": "white",
             "minorgridcolor": "white",
             "startlinecolor": "#2a3f5f"
            },
            "type": "carpet"
           }
          ],
          "choropleth": [
           {
            "colorbar": {
             "outlinewidth": 0,
             "ticks": ""
            },
            "type": "choropleth"
           }
          ],
          "contour": [
           {
            "colorbar": {
             "outlinewidth": 0,
             "ticks": ""
            },
            "colorscale": [
             [
              0,
              "#0d0887"
             ],
             [
              0.1111111111111111,
              "#46039f"
             ],
             [
              0.2222222222222222,
              "#7201a8"
             ],
             [
              0.3333333333333333,
              "#9c179e"
             ],
             [
              0.4444444444444444,
              "#bd3786"
             ],
             [
              0.5555555555555556,
              "#d8576b"
             ],
             [
              0.6666666666666666,
              "#ed7953"
             ],
             [
              0.7777777777777778,
              "#fb9f3a"
             ],
             [
              0.8888888888888888,
              "#fdca26"
             ],
             [
              1,
              "#f0f921"
             ]
            ],
            "type": "contour"
           }
          ],
          "contourcarpet": [
           {
            "colorbar": {
             "outlinewidth": 0,
             "ticks": ""
            },
            "type": "contourcarpet"
           }
          ],
          "heatmap": [
           {
            "colorbar": {
             "outlinewidth": 0,
             "ticks": ""
            },
            "colorscale": [
             [
              0,
              "#0d0887"
             ],
             [
              0.1111111111111111,
              "#46039f"
             ],
             [
              0.2222222222222222,
              "#7201a8"
             ],
             [
              0.3333333333333333,
              "#9c179e"
             ],
             [
              0.4444444444444444,
              "#bd3786"
             ],
             [
              0.5555555555555556,
              "#d8576b"
             ],
             [
              0.6666666666666666,
              "#ed7953"
             ],
             [
              0.7777777777777778,
              "#fb9f3a"
             ],
             [
              0.8888888888888888,
              "#fdca26"
             ],
             [
              1,
              "#f0f921"
             ]
            ],
            "type": "heatmap"
           }
          ],
          "heatmapgl": [
           {
            "colorbar": {
             "outlinewidth": 0,
             "ticks": ""
            },
            "colorscale": [
             [
              0,
              "#0d0887"
             ],
             [
              0.1111111111111111,
              "#46039f"
             ],
             [
              0.2222222222222222,
              "#7201a8"
             ],
             [
              0.3333333333333333,
              "#9c179e"
             ],
             [
              0.4444444444444444,
              "#bd3786"
             ],
             [
              0.5555555555555556,
              "#d8576b"
             ],
             [
              0.6666666666666666,
              "#ed7953"
             ],
             [
              0.7777777777777778,
              "#fb9f3a"
             ],
             [
              0.8888888888888888,
              "#fdca26"
             ],
             [
              1,
              "#f0f921"
             ]
            ],
            "type": "heatmapgl"
           }
          ],
          "histogram": [
           {
            "marker": {
             "pattern": {
              "fillmode": "overlay",
              "size": 10,
              "solidity": 0.2
             }
            },
            "type": "histogram"
           }
          ],
          "histogram2d": [
           {
            "colorbar": {
             "outlinewidth": 0,
             "ticks": ""
            },
            "colorscale": [
             [
              0,
              "#0d0887"
             ],
             [
              0.1111111111111111,
              "#46039f"
             ],
             [
              0.2222222222222222,
              "#7201a8"
             ],
             [
              0.3333333333333333,
              "#9c179e"
             ],
             [
              0.4444444444444444,
              "#bd3786"
             ],
             [
              0.5555555555555556,
              "#d8576b"
             ],
             [
              0.6666666666666666,
              "#ed7953"
             ],
             [
              0.7777777777777778,
              "#fb9f3a"
             ],
             [
              0.8888888888888888,
              "#fdca26"
             ],
             [
              1,
              "#f0f921"
             ]
            ],
            "type": "histogram2d"
           }
          ],
          "histogram2dcontour": [
           {
            "colorbar": {
             "outlinewidth": 0,
             "ticks": ""
            },
            "colorscale": [
             [
              0,
              "#0d0887"
             ],
             [
              0.1111111111111111,
              "#46039f"
             ],
             [
              0.2222222222222222,
              "#7201a8"
             ],
             [
              0.3333333333333333,
              "#9c179e"
             ],
             [
              0.4444444444444444,
              "#bd3786"
             ],
             [
              0.5555555555555556,
              "#d8576b"
             ],
             [
              0.6666666666666666,
              "#ed7953"
             ],
             [
              0.7777777777777778,
              "#fb9f3a"
             ],
             [
              0.8888888888888888,
              "#fdca26"
             ],
             [
              1,
              "#f0f921"
             ]
            ],
            "type": "histogram2dcontour"
           }
          ],
          "mesh3d": [
           {
            "colorbar": {
             "outlinewidth": 0,
             "ticks": ""
            },
            "type": "mesh3d"
           }
          ],
          "parcoords": [
           {
            "line": {
             "colorbar": {
              "outlinewidth": 0,
              "ticks": ""
             }
            },
            "type": "parcoords"
           }
          ],
          "pie": [
           {
            "automargin": true,
            "type": "pie"
           }
          ],
          "scatter": [
           {
            "marker": {
             "colorbar": {
              "outlinewidth": 0,
              "ticks": ""
             }
            },
            "type": "scatter"
           }
          ],
          "scatter3d": [
           {
            "line": {
             "colorbar": {
              "outlinewidth": 0,
              "ticks": ""
             }
            },
            "marker": {
             "colorbar": {
              "outlinewidth": 0,
              "ticks": ""
             }
            },
            "type": "scatter3d"
           }
          ],
          "scattercarpet": [
           {
            "marker": {
             "colorbar": {
              "outlinewidth": 0,
              "ticks": ""
             }
            },
            "type": "scattercarpet"
           }
          ],
          "scattergeo": [
           {
            "marker": {
             "colorbar": {
              "outlinewidth": 0,
              "ticks": ""
             }
            },
            "type": "scattergeo"
           }
          ],
          "scattergl": [
           {
            "marker": {
             "colorbar": {
              "outlinewidth": 0,
              "ticks": ""
             }
            },
            "type": "scattergl"
           }
          ],
          "scattermapbox": [
           {
            "marker": {
             "colorbar": {
              "outlinewidth": 0,
              "ticks": ""
             }
            },
            "type": "scattermapbox"
           }
          ],
          "scatterpolar": [
           {
            "marker": {
             "colorbar": {
              "outlinewidth": 0,
              "ticks": ""
             }
            },
            "type": "scatterpolar"
           }
          ],
          "scatterpolargl": [
           {
            "marker": {
             "colorbar": {
              "outlinewidth": 0,
              "ticks": ""
             }
            },
            "type": "scatterpolargl"
           }
          ],
          "scatterternary": [
           {
            "marker": {
             "colorbar": {
              "outlinewidth": 0,
              "ticks": ""
             }
            },
            "type": "scatterternary"
           }
          ],
          "surface": [
           {
            "colorbar": {
             "outlinewidth": 0,
             "ticks": ""
            },
            "colorscale": [
             [
              0,
              "#0d0887"
             ],
             [
              0.1111111111111111,
              "#46039f"
             ],
             [
              0.2222222222222222,
              "#7201a8"
             ],
             [
              0.3333333333333333,
              "#9c179e"
             ],
             [
              0.4444444444444444,
              "#bd3786"
             ],
             [
              0.5555555555555556,
              "#d8576b"
             ],
             [
              0.6666666666666666,
              "#ed7953"
             ],
             [
              0.7777777777777778,
              "#fb9f3a"
             ],
             [
              0.8888888888888888,
              "#fdca26"
             ],
             [
              1,
              "#f0f921"
             ]
            ],
            "type": "surface"
           }
          ],
          "table": [
           {
            "cells": {
             "fill": {
              "color": "#EBF0F8"
             },
             "line": {
              "color": "white"
             }
            },
            "header": {
             "fill": {
              "color": "#C8D4E3"
             },
             "line": {
              "color": "white"
             }
            },
            "type": "table"
           }
          ]
         },
         "layout": {
          "annotationdefaults": {
           "arrowcolor": "#2a3f5f",
           "arrowhead": 0,
           "arrowwidth": 1
          },
          "autotypenumbers": "strict",
          "coloraxis": {
           "colorbar": {
            "outlinewidth": 0,
            "ticks": ""
           }
          },
          "colorscale": {
           "diverging": [
            [
             0,
             "#8e0152"
            ],
            [
             0.1,
             "#c51b7d"
            ],
            [
             0.2,
             "#de77ae"
            ],
            [
             0.3,
             "#f1b6da"
            ],
            [
             0.4,
             "#fde0ef"
            ],
            [
             0.5,
             "#f7f7f7"
            ],
            [
             0.6,
             "#e6f5d0"
            ],
            [
             0.7,
             "#b8e186"
            ],
            [
             0.8,
             "#7fbc41"
            ],
            [
             0.9,
             "#4d9221"
            ],
            [
             1,
             "#276419"
            ]
           ],
           "sequential": [
            [
             0,
             "#0d0887"
            ],
            [
             0.1111111111111111,
             "#46039f"
            ],
            [
             0.2222222222222222,
             "#7201a8"
            ],
            [
             0.3333333333333333,
             "#9c179e"
            ],
            [
             0.4444444444444444,
             "#bd3786"
            ],
            [
             0.5555555555555556,
             "#d8576b"
            ],
            [
             0.6666666666666666,
             "#ed7953"
            ],
            [
             0.7777777777777778,
             "#fb9f3a"
            ],
            [
             0.8888888888888888,
             "#fdca26"
            ],
            [
             1,
             "#f0f921"
            ]
           ],
           "sequentialminus": [
            [
             0,
             "#0d0887"
            ],
            [
             0.1111111111111111,
             "#46039f"
            ],
            [
             0.2222222222222222,
             "#7201a8"
            ],
            [
             0.3333333333333333,
             "#9c179e"
            ],
            [
             0.4444444444444444,
             "#bd3786"
            ],
            [
             0.5555555555555556,
             "#d8576b"
            ],
            [
             0.6666666666666666,
             "#ed7953"
            ],
            [
             0.7777777777777778,
             "#fb9f3a"
            ],
            [
             0.8888888888888888,
             "#fdca26"
            ],
            [
             1,
             "#f0f921"
            ]
           ]
          },
          "colorway": [
           "#636efa",
           "#EF553B",
           "#00cc96",
           "#ab63fa",
           "#FFA15A",
           "#19d3f3",
           "#FF6692",
           "#B6E880",
           "#FF97FF",
           "#FECB52"
          ],
          "font": {
           "color": "#2a3f5f"
          },
          "geo": {
           "bgcolor": "white",
           "lakecolor": "white",
           "landcolor": "#E5ECF6",
           "showlakes": true,
           "showland": true,
           "subunitcolor": "white"
          },
          "hoverlabel": {
           "align": "left"
          },
          "hovermode": "closest",
          "mapbox": {
           "style": "light"
          },
          "paper_bgcolor": "white",
          "plot_bgcolor": "#E5ECF6",
          "polar": {
           "angularaxis": {
            "gridcolor": "white",
            "linecolor": "white",
            "ticks": ""
           },
           "bgcolor": "#E5ECF6",
           "radialaxis": {
            "gridcolor": "white",
            "linecolor": "white",
            "ticks": ""
           }
          },
          "scene": {
           "xaxis": {
            "backgroundcolor": "#E5ECF6",
            "gridcolor": "white",
            "gridwidth": 2,
            "linecolor": "white",
            "showbackground": true,
            "ticks": "",
            "zerolinecolor": "white"
           },
           "yaxis": {
            "backgroundcolor": "#E5ECF6",
            "gridcolor": "white",
            "gridwidth": 2,
            "linecolor": "white",
            "showbackground": true,
            "ticks": "",
            "zerolinecolor": "white"
           },
           "zaxis": {
            "backgroundcolor": "#E5ECF6",
            "gridcolor": "white",
            "gridwidth": 2,
            "linecolor": "white",
            "showbackground": true,
            "ticks": "",
            "zerolinecolor": "white"
           }
          },
          "shapedefaults": {
           "line": {
            "color": "#2a3f5f"
           }
          },
          "ternary": {
           "aaxis": {
            "gridcolor": "white",
            "linecolor": "white",
            "ticks": ""
           },
           "baxis": {
            "gridcolor": "white",
            "linecolor": "white",
            "ticks": ""
           },
           "bgcolor": "#E5ECF6",
           "caxis": {
            "gridcolor": "white",
            "linecolor": "white",
            "ticks": ""
           }
          },
          "title": {
           "x": 0.05
          },
          "xaxis": {
           "automargin": true,
           "gridcolor": "white",
           "linecolor": "white",
           "ticks": "",
           "title": {
            "standoff": 15
           },
           "zerolinecolor": "white",
           "zerolinewidth": 2
          },
          "yaxis": {
           "automargin": true,
           "gridcolor": "white",
           "linecolor": "white",
           "ticks": "",
           "title": {
            "standoff": 15
           },
           "zerolinecolor": "white",
           "zerolinewidth": 2
          }
         }
        },
        "title": {
         "font": {
          "color": "#4D5663"
         }
        },
        "xaxis": {
         "gridcolor": "#E1E5ED",
         "showgrid": true,
         "tickfont": {
          "color": "#4D5663"
         },
         "title": {
          "font": {
           "color": "#4D5663"
          },
          "text": ""
         },
         "zerolinecolor": "#E1E5ED"
        },
        "yaxis": {
         "gridcolor": "#E1E5ED",
         "showgrid": true,
         "tickfont": {
          "color": "#4D5663"
         },
         "title": {
          "font": {
           "color": "#4D5663"
          },
          "text": ""
         },
         "zerolinecolor": "#E1E5ED"
        }
       }
      },
      "text/html": [
       "<div>                            <div id=\"f64f3f8f-fc00-4675-abd4-86a262abdf89\" class=\"plotly-graph-div\" style=\"height:525px; width:100%;\"></div>            <script type=\"text/javascript\">                require([\"plotly\"], function(Plotly) {                    window.PLOTLYENV=window.PLOTLYENV || {};\n",
       "                    window.PLOTLYENV.BASE_URL='https://plot.ly';                                    if (document.getElementById(\"f64f3f8f-fc00-4675-abd4-86a262abdf89\")) {                    Plotly.newPlot(                        \"f64f3f8f-fc00-4675-abd4-86a262abdf89\",                        [{\"line\":{\"color\":\"rgba(255, 153, 51, 1.0)\",\"dash\":\"solid\",\"shape\":\"linear\",\"width\":1.3},\"mode\":\"lines\",\"name\":\"Close\",\"text\":\"\",\"type\":\"scatter\",\"x\":[\"2019-12-31\",\"2020-01-02\",\"2020-01-03\",\"2020-01-06\",\"2020-01-07\",\"2020-01-08\",\"2020-01-09\",\"2020-01-10\",\"2020-01-13\",\"2020-01-14\",\"2020-01-15\",\"2020-01-16\",\"2020-01-17\",\"2020-01-21\",\"2020-01-22\",\"2020-01-23\",\"2020-01-24\",\"2020-01-27\",\"2020-01-28\",\"2020-01-29\",\"2020-01-30\",\"2020-01-31\",\"2020-02-03\",\"2020-02-04\",\"2020-02-05\",\"2020-02-06\",\"2020-02-07\",\"2020-02-10\",\"2020-02-11\",\"2020-02-12\",\"2020-02-13\",\"2020-02-14\",\"2020-02-18\",\"2020-02-19\",\"2020-02-20\",\"2020-02-21\",\"2020-02-24\",\"2020-02-25\",\"2020-02-26\",\"2020-02-27\",\"2020-02-28\",\"2020-03-02\",\"2020-03-03\",\"2020-03-04\",\"2020-03-05\",\"2020-03-06\",\"2020-03-09\",\"2020-03-10\",\"2020-03-11\",\"2020-03-12\",\"2020-03-13\",\"2020-03-16\",\"2020-03-17\",\"2020-03-18\",\"2020-03-19\",\"2020-03-20\",\"2020-03-23\",\"2020-03-24\",\"2020-03-25\",\"2020-03-26\",\"2020-03-27\",\"2020-03-30\",\"2020-03-31\",\"2020-04-01\",\"2020-04-02\",\"2020-04-03\",\"2020-04-06\",\"2020-04-07\",\"2020-04-08\",\"2020-04-09\",\"2020-04-13\",\"2020-04-14\",\"2020-04-15\",\"2020-04-16\",\"2020-04-17\",\"2020-04-20\",\"2020-04-21\",\"2020-04-22\",\"2020-04-23\",\"2020-04-24\",\"2020-04-27\",\"2020-04-28\",\"2020-04-29\",\"2020-04-30\",\"2020-05-01\",\"2020-05-04\",\"2020-05-05\",\"2020-05-06\",\"2020-05-07\",\"2020-05-08\",\"2020-05-11\",\"2020-05-12\",\"2020-05-13\",\"2020-05-14\",\"2020-05-15\",\"2020-05-18\",\"2020-05-19\",\"2020-05-20\",\"2020-05-21\",\"2020-05-22\",\"2020-05-26\",\"2020-05-27\",\"2020-05-28\",\"2020-05-29\",\"2020-06-01\",\"2020-06-02\",\"2020-06-03\",\"2020-06-04\",\"2020-06-05\",\"2020-06-08\",\"2020-06-09\",\"2020-06-10\",\"2020-06-11\",\"2020-06-12\",\"2020-06-15\",\"2020-06-16\",\"2020-06-17\",\"2020-06-18\",\"2020-06-19\",\"2020-06-22\",\"2020-06-23\",\"2020-06-24\",\"2020-06-25\",\"2020-06-26\",\"2020-06-29\",\"2020-06-30\",\"2020-07-01\",\"2020-07-02\",\"2020-07-06\",\"2020-07-07\",\"2020-07-08\",\"2020-07-09\",\"2020-07-10\",\"2020-07-13\",\"2020-07-14\",\"2020-07-15\",\"2020-07-16\",\"2020-07-17\",\"2020-07-20\",\"2020-07-21\",\"2020-07-22\",\"2020-07-23\",\"2020-07-24\",\"2020-07-27\",\"2020-07-28\",\"2020-07-29\",\"2020-07-30\",\"2020-07-31\",\"2020-08-03\",\"2020-08-04\",\"2020-08-05\",\"2020-08-06\",\"2020-08-07\",\"2020-08-10\",\"2020-08-11\",\"2020-08-12\",\"2020-08-13\",\"2020-08-14\",\"2020-08-17\",\"2020-08-18\",\"2020-08-19\",\"2020-08-20\",\"2020-08-21\",\"2020-08-24\",\"2020-08-25\",\"2020-08-26\",\"2020-08-27\",\"2020-08-28\",\"2020-08-31\",\"2020-09-01\",\"2020-09-02\",\"2020-09-03\",\"2020-09-04\",\"2020-09-08\",\"2020-09-09\",\"2020-09-10\",\"2020-09-11\",\"2020-09-14\",\"2020-09-15\",\"2020-09-16\",\"2020-09-17\",\"2020-09-18\",\"2020-09-21\",\"2020-09-22\",\"2020-09-23\",\"2020-09-24\",\"2020-09-25\",\"2020-09-28\",\"2020-09-29\",\"2020-09-30\",\"2020-10-01\",\"2020-10-02\",\"2020-10-05\",\"2020-10-06\",\"2020-10-07\",\"2020-10-08\",\"2020-10-09\",\"2020-10-12\",\"2020-10-13\",\"2020-10-14\",\"2020-10-15\",\"2020-10-16\",\"2020-10-19\",\"2020-10-20\",\"2020-10-21\",\"2020-10-22\",\"2020-10-23\",\"2020-10-26\",\"2020-10-27\",\"2020-10-28\",\"2020-10-29\",\"2020-10-30\",\"2020-11-02\",\"2020-11-03\",\"2020-11-04\",\"2020-11-05\",\"2020-11-06\",\"2020-11-09\",\"2020-11-10\",\"2020-11-11\",\"2020-11-12\",\"2020-11-13\",\"2020-11-16\",\"2020-11-17\",\"2020-11-18\",\"2020-11-19\",\"2020-11-20\",\"2020-11-23\",\"2020-11-24\",\"2020-11-25\",\"2020-11-27\",\"2020-11-30\",\"2020-12-01\",\"2020-12-02\",\"2020-12-03\",\"2020-12-04\",\"2020-12-07\",\"2020-12-08\",\"2020-12-09\",\"2020-12-10\",\"2020-12-11\",\"2020-12-14\",\"2020-12-15\",\"2020-12-16\",\"2020-12-17\",\"2020-12-18\",\"2020-12-21\",\"2020-12-22\",\"2020-12-23\",\"2020-12-24\",\"2020-12-28\",\"2020-12-29\",\"2020-12-30\",\"2020-12-31\"],\"y\":[321.8599853515625,324.8699951171875,322.4100036621094,323.6400146484375,322.7300109863281,324.45001220703125,326.6499938964844,325.7099914550781,327.95001220703125,327.45001220703125,328.19000244140625,330.9200134277344,331.95001220703125,331.29998779296875,331.3399963378906,331.7200012207031,328.7699890136719,323.5,326.8900146484375,326.6199951171875,327.67999267578125,321.7300109863281,324.1199951171875,329.05999755859375,332.8599853515625,333.9800109863281,332.20001220703125,334.67999267578125,335.260009765625,337.4200134277344,337.05999755859375,337.6000061035156,336.7300109863281,338.3399963378906,336.95001220703125,333.4800109863281,322.4200134277344,312.6499938964844,311.5,297.510009765625,296.260009765625,309.0899963378906,300.239990234375,312.8599853515625,302.4599914550781,297.4599914550781,274.2300109863281,288.4200134277344,274.3599853515625,248.11000061035156,269.32000732421875,239.85000610351562,252.8000030517578,240.0,240.50999450683594,228.8000030517578,222.9499969482422,243.14999389648438,246.7899932861328,261.20001220703125,253.4199981689453,261.6499938964844,257.75,246.14999389648438,251.8300018310547,248.19000244140625,264.8599853515625,265.1300048828125,274.0299987792969,278.20001220703125,275.6600036621094,283.7900085449219,277.760009765625,279.1000061035156,286.6400146484375,281.5899963378906,273.0400085449219,279.1000061035156,279.0799865722656,282.9700012207031,287.04998779296875,285.7300109863281,293.2099914550781,290.4800109863281,282.7900085449219,283.57000732421875,286.19000244140625,284.25,287.67999267578125,292.44000244140625,292.5,286.6700134277344,281.6000061035156,284.9700012207031,286.2799987792969,295.0,291.9700012207031,296.92999267578125,294.8800048828125,295.44000244140625,299.0799865722656,303.5299987792969,302.9700012207031,304.32000732421875,305.54998779296875,308.0799865722656,312.17999267578125,311.3599853515625,319.3399963378906,323.20001220703125,320.7900085449219,319.0,300.6099853515625,304.2099914550781,307.04998779296875,312.9599914550781,311.6600036621094,311.7799987792969,308.6400146484375,310.6199951171875,312.04998779296875,304.0899963378906,307.3500061035156,300.04998779296875,304.4599914550781,308.3599853515625,310.5199890136719,312.2300109863281,317.04998779296875,313.7799987792969,316.17999267578125,314.3800048828125,317.5899963378906,314.8399963378906,318.9200134277344,321.8500061035156,320.7900085449219,321.7200012207031,324.32000732421875,325.010009765625,326.8599853515625,322.9599914550781,320.8800048828125,323.2200012207031,321.1700134277344,325.1199951171875,323.9599914550781,326.5199890136719,328.7900085449219,330.05999755859375,332.1099853515625,334.3299865722656,334.57000732421875,335.57000732421875,332.79998779296875,337.44000244140625,336.8299865722656,336.8399963378906,337.9100036621094,338.6400146484375,337.2300109863281,338.2799987792969,339.4800109863281,342.9200134277344,344.1199951171875,347.57000732421875,348.3299865722656,350.5799865722656,349.30999755859375,352.6000061035156,357.70001220703125,345.3900146484375,342.57000732421875,333.2099914550781,339.7900085449219,333.8900146484375,334.05999755859375,338.4599914550781,340.1700134277344,338.82000732421875,335.8399963378906,330.6499938964844,326.9700012207031,330.29998779296875,322.6400146484375,323.5,328.7300109863281,334.19000244140625,332.3699951171875,334.8900146484375,337.0400085449219,333.8399963378906,339.760009765625,334.92999267578125,340.760009765625,343.7799987792969,346.8500061035156,352.42999267578125,350.1300048828125,347.92999267578125,347.5,347.2900085449219,342.010009765625,343.3800048828125,342.7300109863281,344.6099853515625,345.7799987792969,339.3900146484375,338.2200012207031,326.6600036621094,329.9800109863281,326.5400085449219,330.20001220703125,336.0299987792969,343.5400085449219,350.239990234375,350.1600036621094,354.55999755859375,354.0400085449219,356.6700134277344,353.2099914550781,358.1000061035156,362.57000732421875,360.6199951171875,356.2799987792969,357.7799987792969,355.3299865722656,357.4599914550781,363.2200012207031,362.6600036621094,363.6700134277344,362.05999755859375,366.0199890136719,366.7900085449219,366.69000244140625,369.8500061035156,369.0899963378906,370.1700134277344,366.8500061035156,366.7300109863281,366.29998779296875,364.6600036621094,369.5899963378906,370.1700134277344,372.239990234375,369.17999267578125,367.8599853515625,367.239990234375,367.57000732421875,369.0,372.1700134277344,371.4599914550781,371.989990234375,373.8800048828125]},{\"line\":{\"color\":\"rgba(55, 128, 191, 1.0)\",\"dash\":\"solid\",\"shape\":\"linear\",\"width\":1.3},\"mode\":\"lines\",\"name\":\"ma_fast\",\"text\":\"\",\"type\":\"scatter\",\"x\":[\"2019-12-31\",\"2020-01-02\",\"2020-01-03\",\"2020-01-06\",\"2020-01-07\",\"2020-01-08\",\"2020-01-09\",\"2020-01-10\",\"2020-01-13\",\"2020-01-14\",\"2020-01-15\",\"2020-01-16\",\"2020-01-17\",\"2020-01-21\",\"2020-01-22\",\"2020-01-23\",\"2020-01-24\",\"2020-01-27\",\"2020-01-28\",\"2020-01-29\",\"2020-01-30\",\"2020-01-31\",\"2020-02-03\",\"2020-02-04\",\"2020-02-05\",\"2020-02-06\",\"2020-02-07\",\"2020-02-10\",\"2020-02-11\",\"2020-02-12\",\"2020-02-13\",\"2020-02-14\",\"2020-02-18\",\"2020-02-19\",\"2020-02-20\",\"2020-02-21\",\"2020-02-24\",\"2020-02-25\",\"2020-02-26\",\"2020-02-27\",\"2020-02-28\",\"2020-03-02\",\"2020-03-03\",\"2020-03-04\",\"2020-03-05\",\"2020-03-06\",\"2020-03-09\",\"2020-03-10\",\"2020-03-11\",\"2020-03-12\",\"2020-03-13\",\"2020-03-16\",\"2020-03-17\",\"2020-03-18\",\"2020-03-19\",\"2020-03-20\",\"2020-03-23\",\"2020-03-24\",\"2020-03-25\",\"2020-03-26\",\"2020-03-27\",\"2020-03-30\",\"2020-03-31\",\"2020-04-01\",\"2020-04-02\",\"2020-04-03\",\"2020-04-06\",\"2020-04-07\",\"2020-04-08\",\"2020-04-09\",\"2020-04-13\",\"2020-04-14\",\"2020-04-15\",\"2020-04-16\",\"2020-04-17\",\"2020-04-20\",\"2020-04-21\",\"2020-04-22\",\"2020-04-23\",\"2020-04-24\",\"2020-04-27\",\"2020-04-28\",\"2020-04-29\",\"2020-04-30\",\"2020-05-01\",\"2020-05-04\",\"2020-05-05\",\"2020-05-06\",\"2020-05-07\",\"2020-05-08\",\"2020-05-11\",\"2020-05-12\",\"2020-05-13\",\"2020-05-14\",\"2020-05-15\",\"2020-05-18\",\"2020-05-19\",\"2020-05-20\",\"2020-05-21\",\"2020-05-22\",\"2020-05-26\",\"2020-05-27\",\"2020-05-28\",\"2020-05-29\",\"2020-06-01\",\"2020-06-02\",\"2020-06-03\",\"2020-06-04\",\"2020-06-05\",\"2020-06-08\",\"2020-06-09\",\"2020-06-10\",\"2020-06-11\",\"2020-06-12\",\"2020-06-15\",\"2020-06-16\",\"2020-06-17\",\"2020-06-18\",\"2020-06-19\",\"2020-06-22\",\"2020-06-23\",\"2020-06-24\",\"2020-06-25\",\"2020-06-26\",\"2020-06-29\",\"2020-06-30\",\"2020-07-01\",\"2020-07-02\",\"2020-07-06\",\"2020-07-07\",\"2020-07-08\",\"2020-07-09\",\"2020-07-10\",\"2020-07-13\",\"2020-07-14\",\"2020-07-15\",\"2020-07-16\",\"2020-07-17\",\"2020-07-20\",\"2020-07-21\",\"2020-07-22\",\"2020-07-23\",\"2020-07-24\",\"2020-07-27\",\"2020-07-28\",\"2020-07-29\",\"2020-07-30\",\"2020-07-31\",\"2020-08-03\",\"2020-08-04\",\"2020-08-05\",\"2020-08-06\",\"2020-08-07\",\"2020-08-10\",\"2020-08-11\",\"2020-08-12\",\"2020-08-13\",\"2020-08-14\",\"2020-08-17\",\"2020-08-18\",\"2020-08-19\",\"2020-08-20\",\"2020-08-21\",\"2020-08-24\",\"2020-08-25\",\"2020-08-26\",\"2020-08-27\",\"2020-08-28\",\"2020-08-31\",\"2020-09-01\",\"2020-09-02\",\"2020-09-03\",\"2020-09-04\",\"2020-09-08\",\"2020-09-09\",\"2020-09-10\",\"2020-09-11\",\"2020-09-14\",\"2020-09-15\",\"2020-09-16\",\"2020-09-17\",\"2020-09-18\",\"2020-09-21\",\"2020-09-22\",\"2020-09-23\",\"2020-09-24\",\"2020-09-25\",\"2020-09-28\",\"2020-09-29\",\"2020-09-30\",\"2020-10-01\",\"2020-10-02\",\"2020-10-05\",\"2020-10-06\",\"2020-10-07\",\"2020-10-08\",\"2020-10-09\",\"2020-10-12\",\"2020-10-13\",\"2020-10-14\",\"2020-10-15\",\"2020-10-16\",\"2020-10-19\",\"2020-10-20\",\"2020-10-21\",\"2020-10-22\",\"2020-10-23\",\"2020-10-26\",\"2020-10-27\",\"2020-10-28\",\"2020-10-29\",\"2020-10-30\",\"2020-11-02\",\"2020-11-03\",\"2020-11-04\",\"2020-11-05\",\"2020-11-06\",\"2020-11-09\",\"2020-11-10\",\"2020-11-11\",\"2020-11-12\",\"2020-11-13\",\"2020-11-16\",\"2020-11-17\",\"2020-11-18\",\"2020-11-19\",\"2020-11-20\",\"2020-11-23\",\"2020-11-24\",\"2020-11-25\",\"2020-11-27\",\"2020-11-30\",\"2020-12-01\",\"2020-12-02\",\"2020-12-03\",\"2020-12-04\",\"2020-12-07\",\"2020-12-08\",\"2020-12-09\",\"2020-12-10\",\"2020-12-11\",\"2020-12-14\",\"2020-12-15\",\"2020-12-16\",\"2020-12-17\",\"2020-12-18\",\"2020-12-21\",\"2020-12-22\",\"2020-12-23\",\"2020-12-24\",\"2020-12-28\",\"2020-12-29\",\"2020-12-30\",\"2020-12-31\"],\"y\":[\"\",\"\",321.7433369954427,321.73000081380206,321.55666097005206,322.1499938964844,324.0399983723958,325.4633382161458,326.61334228515625,327.0500081380208,327.07000732421875,328.17333984375,329.5833435058594,330.7666727701823,331.6133321126302,331.2566630045573,331.76999918619794,328.7000020345052,326.8433329264323,325.49000040690106,325.93332926432294,326.5799967447917,324.90333048502606,326.14000447591144,327.89666748046875,331.4166666666667,333.0,332.65334065755206,333.40334065755206,334.74000040690106,336.2833251953125,336.7333272298177,336.6266682942708,337.27000935872394,337.34666951497394,337.0,332.1166687011719,327.5166727701823,320.4200032552083,314.5266621907552,302.7799987792969,297.4566650390625,298.80333455403644,304.60999552408856,306.8666687011719,301.4166666666667,291.14333089192706,284.3633321126302,280.2133382161458,273.78000895182294,266.59666951497394,253.42332967122397,249.7699940999349,240.82332865397134,240.17999776204428,239.34333292643228,236.65666707356772,235.04666646321616,235.82666524251303,242.9366658528646,249.22000122070312,252.8300018310547,256.50999959309894,254.74666341145834,251.2433319091797,247.9766642252604,251.2633310953776,260.93666076660156,266.6699930826823,273.24998982747394,274.22666422526044,278.56667073567706,278.56334431966144,279.23333740234375,280.7000020345052,282.37999471028644,281.5733337402344,279.23000081380206,278.52333577473956,279.85666910807294,282.1133321126302,285.6233317057292,289.22332763671875,291.4199930826823,289.51666259765625,285.9199930826823,284.23000081380206,285.14000447591144,287.47667439778644,288.9600016276042,289.72666422526044,291.74000040690106,290.06333414713544,286.2666727701823,282.4600016276042,284.7899983723958,289.92332967122394,294.4066670735677,295.65334065755206,295.72667439778644,297.7633361816406,299.5399983723958,302.8999938964844,303.07666015625,303.57666015625,304.2099914550781,306.80332438151044,309.29998779296875,312.85999552408856,316.18666585286456,319.25,320.64666748046875,317.72666422526044,313.7066650390625,305.9066569010417,307.2466634114583,309.19000244140625,313.1866760253906,312.75001017252606,310.7233378092448,311.8833312988281,310.4399922688802,308.93332926432294,306.49000040690106,303.6800028483073,303.85333251953125,304.99000040690106,309.26666259765625,313.39333089192706,315.3299967447917,315.4533284505208,315.60999552408856,315.2533264160156,317.0933329264323,315.913330078125,318.6133321126302,318.5,321.36000569661456,321.03333536783856,323.2533365885417,324.1666666666667,325.84666951497394,324.0133361816406,323.0166727701823,321.6700032552083,322.05999755859375,322.1499938964844,323.30666097005206,325.3733317057292,327.35999552408856,329.21666463216144,330.26999918619794,332.07667032877606,333.27333577473956,335.06333414713544,335.78333536783856,336.2999979654948,336.15333048502606,336.9866638183594,337.56333414713544,338.4433288574219,337.5833231608073,337.4433288574219,338.46666463216144,341.19000244140625,343.4700012207031,345.6000061035156,347.57000732421875,349.43333943684894,350.0,351.7433369954427,353.5833333333333,352.2233378092448,346.2366638183594,340.12999471028644,338.6933288574219,338.39666748046875,338.3766682942708,338.14333089192706,340.0399983723958,338.73000081380206,336.81333414713544,331.5433349609375,329.8800048828125,328.39000447591144,326.89666748046875,324.8999938964844,325.67332967122394,329.92332967122394,333.4266662597656,334.9166666666667,334.1600036621094,335.15000406901044,335.89000447591144,338.0299987792969,340.2933349609375,342.1766662597656,346.0,349.14333089192706,350.8733317057292,348.913330078125,347.80666097005206,347.1066589355469,347.02332560221356,345.1466573079427,343.24998982747394,344.0733235677083,343.67332967122394,342.60666910807294,337.9966735839844,332.92333984375,329.09666951497394,328.4633382161458,330.7233378092448,334.9166666666667,341.26332600911456,346.67665608723956,354.37999471028644,355.7966613769531,357.9533284505208,355.1566569010417,355.74998982747394,357.2766621907552,358.74000040690106,360.62000528971356,358.82667032877606,358.0033365885417,356.7933349609375,358.3299967447917,360.2066650390625,362.39333089192706,363.26666259765625,364.0799967447917,364.4066670735677,365.69000244140625,366.27333577473956,367.67332967122394,368.01999918619794,369.2066650390625,367.99000040690106,367.0499979654948,366.30333455403644,366.98000081380206,368.62000528971356,369.7200012207031,370.9100036621094,369.2933349609375,368.0499979654948,367.15333048502606,368.1899922688802,369.3666585286458,371.2099914550781,372.62999471028644,372.64333089192706]},{\"line\":{\"color\":\"rgba(50, 171, 96, 1.0)\",\"dash\":\"solid\",\"shape\":\"linear\",\"width\":1.3},\"mode\":\"lines\",\"name\":\"ma_slow\",\"text\":\"\",\"type\":\"scatter\",\"x\":[\"2019-12-31\",\"2020-01-02\",\"2020-01-03\",\"2020-01-06\",\"2020-01-07\",\"2020-01-08\",\"2020-01-09\",\"2020-01-10\",\"2020-01-13\",\"2020-01-14\",\"2020-01-15\",\"2020-01-16\",\"2020-01-17\",\"2020-01-21\",\"2020-01-22\",\"2020-01-23\",\"2020-01-24\",\"2020-01-27\",\"2020-01-28\",\"2020-01-29\",\"2020-01-30\",\"2020-01-31\",\"2020-02-03\",\"2020-02-04\",\"2020-02-05\",\"2020-02-06\",\"2020-02-07\",\"2020-02-10\",\"2020-02-11\",\"2020-02-12\",\"2020-02-13\",\"2020-02-14\",\"2020-02-18\",\"2020-02-19\",\"2020-02-20\",\"2020-02-21\",\"2020-02-24\",\"2020-02-25\",\"2020-02-26\",\"2020-02-27\",\"2020-02-28\",\"2020-03-02\",\"2020-03-03\",\"2020-03-04\",\"2020-03-05\",\"2020-03-06\",\"2020-03-09\",\"2020-03-10\",\"2020-03-11\",\"2020-03-12\",\"2020-03-13\",\"2020-03-16\",\"2020-03-17\",\"2020-03-18\",\"2020-03-19\",\"2020-03-20\",\"2020-03-23\",\"2020-03-24\",\"2020-03-25\",\"2020-03-26\",\"2020-03-27\",\"2020-03-30\",\"2020-03-31\",\"2020-04-01\",\"2020-04-02\",\"2020-04-03\",\"2020-04-06\",\"2020-04-07\",\"2020-04-08\",\"2020-04-09\",\"2020-04-13\",\"2020-04-14\",\"2020-04-15\",\"2020-04-16\",\"2020-04-17\",\"2020-04-20\",\"2020-04-21\",\"2020-04-22\",\"2020-04-23\",\"2020-04-24\",\"2020-04-27\",\"2020-04-28\",\"2020-04-29\",\"2020-04-30\",\"2020-05-01\",\"2020-05-04\",\"2020-05-05\",\"2020-05-06\",\"2020-05-07\",\"2020-05-08\",\"2020-05-11\",\"2020-05-12\",\"2020-05-13\",\"2020-05-14\",\"2020-05-15\",\"2020-05-18\",\"2020-05-19\",\"2020-05-20\",\"2020-05-21\",\"2020-05-22\",\"2020-05-26\",\"2020-05-27\",\"2020-05-28\",\"2020-05-29\",\"2020-06-01\",\"2020-06-02\",\"2020-06-03\",\"2020-06-04\",\"2020-06-05\",\"2020-06-08\",\"2020-06-09\",\"2020-06-10\",\"2020-06-11\",\"2020-06-12\",\"2020-06-15\",\"2020-06-16\",\"2020-06-17\",\"2020-06-18\",\"2020-06-19\",\"2020-06-22\",\"2020-06-23\",\"2020-06-24\",\"2020-06-25\",\"2020-06-26\",\"2020-06-29\",\"2020-06-30\",\"2020-07-01\",\"2020-07-02\",\"2020-07-06\",\"2020-07-07\",\"2020-07-08\",\"2020-07-09\",\"2020-07-10\",\"2020-07-13\",\"2020-07-14\",\"2020-07-15\",\"2020-07-16\",\"2020-07-17\",\"2020-07-20\",\"2020-07-21\",\"2020-07-22\",\"2020-07-23\",\"2020-07-24\",\"2020-07-27\",\"2020-07-28\",\"2020-07-29\",\"2020-07-30\",\"2020-07-31\",\"2020-08-03\",\"2020-08-04\",\"2020-08-05\",\"2020-08-06\",\"2020-08-07\",\"2020-08-10\",\"2020-08-11\",\"2020-08-12\",\"2020-08-13\",\"2020-08-14\",\"2020-08-17\",\"2020-08-18\",\"2020-08-19\",\"2020-08-20\",\"2020-08-21\",\"2020-08-24\",\"2020-08-25\",\"2020-08-26\",\"2020-08-27\",\"2020-08-28\",\"2020-08-31\",\"2020-09-01\",\"2020-09-02\",\"2020-09-03\",\"2020-09-04\",\"2020-09-08\",\"2020-09-09\",\"2020-09-10\",\"2020-09-11\",\"2020-09-14\",\"2020-09-15\",\"2020-09-16\",\"2020-09-17\",\"2020-09-18\",\"2020-09-21\",\"2020-09-22\",\"2020-09-23\",\"2020-09-24\",\"2020-09-25\",\"2020-09-28\",\"2020-09-29\",\"2020-09-30\",\"2020-10-01\",\"2020-10-02\",\"2020-10-05\",\"2020-10-06\",\"2020-10-07\",\"2020-10-08\",\"2020-10-09\",\"2020-10-12\",\"2020-10-13\",\"2020-10-14\",\"2020-10-15\",\"2020-10-16\",\"2020-10-19\",\"2020-10-20\",\"2020-10-21\",\"2020-10-22\",\"2020-10-23\",\"2020-10-26\",\"2020-10-27\",\"2020-10-28\",\"2020-10-29\",\"2020-10-30\",\"2020-11-02\",\"2020-11-03\",\"2020-11-04\",\"2020-11-05\",\"2020-11-06\",\"2020-11-09\",\"2020-11-10\",\"2020-11-11\",\"2020-11-12\",\"2020-11-13\",\"2020-11-16\",\"2020-11-17\",\"2020-11-18\",\"2020-11-19\",\"2020-11-20\",\"2020-11-23\",\"2020-11-24\",\"2020-11-25\",\"2020-11-27\",\"2020-11-30\",\"2020-12-01\",\"2020-12-02\",\"2020-12-03\",\"2020-12-04\",\"2020-12-07\",\"2020-12-08\",\"2020-12-09\",\"2020-12-10\",\"2020-12-11\",\"2020-12-14\",\"2020-12-15\",\"2020-12-16\",\"2020-12-17\",\"2020-12-18\",\"2020-12-21\",\"2020-12-22\",\"2020-12-23\",\"2020-12-24\",\"2020-12-28\",\"2020-12-29\",\"2020-12-30\",\"2020-12-31\"],\"y\":[\"\",\"\",\"\",\"\",\"\",\"\",\"\",\"\",\"\",\"\",\"\",324.6700032552083,325.60083770751953,326.2141698201497,327.1375020345052,327.9825032552083,328.7675043741862,328.77500406901044,328.68333689371747,328.774169921875,328.60500081380206,328.56583404541016,328.23250071207684,328.09666697184247,328.1441650390625,328.39499918619794,328.4433339436849,328.4933344523112,328.80333455403644,329.9533335367839,330.85333251953125,331.6141662597656,332.6266682942708,333.52583567301434,334.7250010172526,335.34166717529297,334.5808359781901,333.75000254313153,332.19666798909503,330.0491663614909,326.0941670735677,322.87583414713544,320.6791687011719,318.06333414713544,315.43583424886066,311.71583302815753,306.5124994913737,302.27666727701825,298.74000040690106,293.0783335367839,288.82083384195965,283.46416727701825,279.82583236694336,274.66249974568683,268.8083330790202,263.5091667175293,257.1099993387858,252.21583302815756,249.68000030517578,246.7533327738444,244.46749877929688,244.44249852498373,244.23166529337564,244.79833221435547,244.81083297729492,246.0199991861979,247.5691655476888,250.20916493733725,253.52333068847656,257.11999638875324,259.8091646830241,262.4308319091797,264.45583216349286,266.4099985758464,268.47833251953125,271.3641649881999,273.99249903361004,276.2916666666667,278.17916615804035,278.72250111897785,280.1525014241536,281.2725016276042,282.47166697184247,283.36583201090497,284.01083119710285,284.14333089192706,284.2483317057292,284.7008336385091,285.6191660563151,286.6808319091797,287.50166575113934,288.58999888102215,288.66833241780597,287.6625010172526,286.89916737874347,287.0108337402344,287.76416778564453,289.02083587646484,289.8666687011719,290.4108352661133,291.5925013224284,292.5116678873698,293.70416768391925,294.4266662597656,295.88999938964844,298.18999735514325,300.5124969482422,302.0174967447917,303.9241638183594,305.9574966430664,307.9166615804036,310.15416208902997,310.9483286539714,311.4583282470703,310.90582784016925,311.99082946777344,312.8616638183594,313.1499989827474,313.47750091552734,313.2175013224284,312.9058329264323,312.04083251953125,310.6383336385091,309.36666615804035,308.52916717529297,308.1750005086263,309.1375020345052,309.03416697184247,309.22583262125653,309.67333221435547,309.7099965413411,310.44749704996747,310.51583099365234,311.3733317057292,312.19249725341797,313.54666392008465,315.07833099365234,316.5691655476888,317.55749766031903,318.5749994913737,319.2624994913737,320.18666585286456,320.7150014241536,321.11416880289715,321.7908350626628,321.95666758219403,322.673334757487,322.96416727701825,323.6750005086263,324.17333221435547,325.00999959309894,325.42916615804035,326.1508331298828,326.86666615804035,328.19166564941406,329.3424987792969,330.524164835612,331.71499888102215,333.0516662597656,334.0883331298828,334.9824981689453,335.6074981689453,336.14499918619794,337.0316645304362,337.88583119710285,338.6941655476888,339.66583251953125,340.83249918619794,341.97750091552734,343.1274998982747,344.52166748046875,345.98250071207684,346.57250213623047,346.68500264485675,346.65416717529297,346.6291681925456,345.9866689046224,345.3808339436849,344.76499938964844,344.1041666666667,342.70499928792316,341.4683329264323,339.05416615804035,336.77916717529297,335.50999959309894,334.2191670735677,332.97166697184247,332.2549997965495,332.10083262125653,331.7341664632161,331.4483337402344,330.6308339436849,330.83916727701825,331.2175013224284,332.2524998982747,333.4424997965495,334.6641667683919,337.02833302815753,339.50333404541016,340.96416727701825,341.7758331298828,343.09833272298175,344.0116653442383,344.9916636149089,345.59749603271484,345.8516616821289,346.5024948120117,346.44249471028644,345.95916239420575,344.5016632080078,342.3874969482422,340.5149968465169,339.389165242513,338.11666615804035,337.4674987792969,337.9491653442383,338.49916585286456,340.25,340.8799997965495,342.0691655476888,343.3874969482422,345.3183288574219,348.1574961344401,350.79832967122394,353.3574956258138,355.18332926432294,356.5699971516927,357.23999786376953,358.09666442871094,358.0266647338867,358.889165242513,359.4249979654948,360.2574996948242,361.05333455403644,361.52833302815753,362.1408335367839,362.81666564941406,363.826665242513,364.94166564941406,365.61583201090497,366.0066655476888,366.46583302815753,366.7624994913737,367.3450012207031,367.87583414713544,368.3883336385091,368.24583435058594,368.3199996948242,368.25833384195965,368.28833262125653,368.35999806722003,369.0633316040039,369.6833318074544,369.9449971516927]}],                        {\"legend\":{\"bgcolor\":\"#F5F6F9\",\"font\":{\"color\":\"#4D5663\"}},\"paper_bgcolor\":\"#F5F6F9\",\"plot_bgcolor\":\"#F5F6F9\",\"template\":{\"data\":{\"bar\":[{\"error_x\":{\"color\":\"#2a3f5f\"},\"error_y\":{\"color\":\"#2a3f5f\"},\"marker\":{\"line\":{\"color\":\"#E5ECF6\",\"width\":0.5},\"pattern\":{\"fillmode\":\"overlay\",\"size\":10,\"solidity\":0.2}},\"type\":\"bar\"}],\"barpolar\":[{\"marker\":{\"line\":{\"color\":\"#E5ECF6\",\"width\":0.5},\"pattern\":{\"fillmode\":\"overlay\",\"size\":10,\"solidity\":0.2}},\"type\":\"barpolar\"}],\"carpet\":[{\"aaxis\":{\"endlinecolor\":\"#2a3f5f\",\"gridcolor\":\"white\",\"linecolor\":\"white\",\"minorgridcolor\":\"white\",\"startlinecolor\":\"#2a3f5f\"},\"baxis\":{\"endlinecolor\":\"#2a3f5f\",\"gridcolor\":\"white\",\"linecolor\":\"white\",\"minorgridcolor\":\"white\",\"startlinecolor\":\"#2a3f5f\"},\"type\":\"carpet\"}],\"choropleth\":[{\"colorbar\":{\"outlinewidth\":0,\"ticks\":\"\"},\"type\":\"choropleth\"}],\"contour\":[{\"colorbar\":{\"outlinewidth\":0,\"ticks\":\"\"},\"colorscale\":[[0.0,\"#0d0887\"],[0.1111111111111111,\"#46039f\"],[0.2222222222222222,\"#7201a8\"],[0.3333333333333333,\"#9c179e\"],[0.4444444444444444,\"#bd3786\"],[0.5555555555555556,\"#d8576b\"],[0.6666666666666666,\"#ed7953\"],[0.7777777777777778,\"#fb9f3a\"],[0.8888888888888888,\"#fdca26\"],[1.0,\"#f0f921\"]],\"type\":\"contour\"}],\"contourcarpet\":[{\"colorbar\":{\"outlinewidth\":0,\"ticks\":\"\"},\"type\":\"contourcarpet\"}],\"heatmap\":[{\"colorbar\":{\"outlinewidth\":0,\"ticks\":\"\"},\"colorscale\":[[0.0,\"#0d0887\"],[0.1111111111111111,\"#46039f\"],[0.2222222222222222,\"#7201a8\"],[0.3333333333333333,\"#9c179e\"],[0.4444444444444444,\"#bd3786\"],[0.5555555555555556,\"#d8576b\"],[0.6666666666666666,\"#ed7953\"],[0.7777777777777778,\"#fb9f3a\"],[0.8888888888888888,\"#fdca26\"],[1.0,\"#f0f921\"]],\"type\":\"heatmap\"}],\"heatmapgl\":[{\"colorbar\":{\"outlinewidth\":0,\"ticks\":\"\"},\"colorscale\":[[0.0,\"#0d0887\"],[0.1111111111111111,\"#46039f\"],[0.2222222222222222,\"#7201a8\"],[0.3333333333333333,\"#9c179e\"],[0.4444444444444444,\"#bd3786\"],[0.5555555555555556,\"#d8576b\"],[0.6666666666666666,\"#ed7953\"],[0.7777777777777778,\"#fb9f3a\"],[0.8888888888888888,\"#fdca26\"],[1.0,\"#f0f921\"]],\"type\":\"heatmapgl\"}],\"histogram\":[{\"marker\":{\"pattern\":{\"fillmode\":\"overlay\",\"size\":10,\"solidity\":0.2}},\"type\":\"histogram\"}],\"histogram2d\":[{\"colorbar\":{\"outlinewidth\":0,\"ticks\":\"\"},\"colorscale\":[[0.0,\"#0d0887\"],[0.1111111111111111,\"#46039f\"],[0.2222222222222222,\"#7201a8\"],[0.3333333333333333,\"#9c179e\"],[0.4444444444444444,\"#bd3786\"],[0.5555555555555556,\"#d8576b\"],[0.6666666666666666,\"#ed7953\"],[0.7777777777777778,\"#fb9f3a\"],[0.8888888888888888,\"#fdca26\"],[1.0,\"#f0f921\"]],\"type\":\"histogram2d\"}],\"histogram2dcontour\":[{\"colorbar\":{\"outlinewidth\":0,\"ticks\":\"\"},\"colorscale\":[[0.0,\"#0d0887\"],[0.1111111111111111,\"#46039f\"],[0.2222222222222222,\"#7201a8\"],[0.3333333333333333,\"#9c179e\"],[0.4444444444444444,\"#bd3786\"],[0.5555555555555556,\"#d8576b\"],[0.6666666666666666,\"#ed7953\"],[0.7777777777777778,\"#fb9f3a\"],[0.8888888888888888,\"#fdca26\"],[1.0,\"#f0f921\"]],\"type\":\"histogram2dcontour\"}],\"mesh3d\":[{\"colorbar\":{\"outlinewidth\":0,\"ticks\":\"\"},\"type\":\"mesh3d\"}],\"parcoords\":[{\"line\":{\"colorbar\":{\"outlinewidth\":0,\"ticks\":\"\"}},\"type\":\"parcoords\"}],\"pie\":[{\"automargin\":true,\"type\":\"pie\"}],\"scatter\":[{\"marker\":{\"colorbar\":{\"outlinewidth\":0,\"ticks\":\"\"}},\"type\":\"scatter\"}],\"scatter3d\":[{\"line\":{\"colorbar\":{\"outlinewidth\":0,\"ticks\":\"\"}},\"marker\":{\"colorbar\":{\"outlinewidth\":0,\"ticks\":\"\"}},\"type\":\"scatter3d\"}],\"scattercarpet\":[{\"marker\":{\"colorbar\":{\"outlinewidth\":0,\"ticks\":\"\"}},\"type\":\"scattercarpet\"}],\"scattergeo\":[{\"marker\":{\"colorbar\":{\"outlinewidth\":0,\"ticks\":\"\"}},\"type\":\"scattergeo\"}],\"scattergl\":[{\"marker\":{\"colorbar\":{\"outlinewidth\":0,\"ticks\":\"\"}},\"type\":\"scattergl\"}],\"scattermapbox\":[{\"marker\":{\"colorbar\":{\"outlinewidth\":0,\"ticks\":\"\"}},\"type\":\"scattermapbox\"}],\"scatterpolar\":[{\"marker\":{\"colorbar\":{\"outlinewidth\":0,\"ticks\":\"\"}},\"type\":\"scatterpolar\"}],\"scatterpolargl\":[{\"marker\":{\"colorbar\":{\"outlinewidth\":0,\"ticks\":\"\"}},\"type\":\"scatterpolargl\"}],\"scatterternary\":[{\"marker\":{\"colorbar\":{\"outlinewidth\":0,\"ticks\":\"\"}},\"type\":\"scatterternary\"}],\"surface\":[{\"colorbar\":{\"outlinewidth\":0,\"ticks\":\"\"},\"colorscale\":[[0.0,\"#0d0887\"],[0.1111111111111111,\"#46039f\"],[0.2222222222222222,\"#7201a8\"],[0.3333333333333333,\"#9c179e\"],[0.4444444444444444,\"#bd3786\"],[0.5555555555555556,\"#d8576b\"],[0.6666666666666666,\"#ed7953\"],[0.7777777777777778,\"#fb9f3a\"],[0.8888888888888888,\"#fdca26\"],[1.0,\"#f0f921\"]],\"type\":\"surface\"}],\"table\":[{\"cells\":{\"fill\":{\"color\":\"#EBF0F8\"},\"line\":{\"color\":\"white\"}},\"header\":{\"fill\":{\"color\":\"#C8D4E3\"},\"line\":{\"color\":\"white\"}},\"type\":\"table\"}]},\"layout\":{\"annotationdefaults\":{\"arrowcolor\":\"#2a3f5f\",\"arrowhead\":0,\"arrowwidth\":1},\"autotypenumbers\":\"strict\",\"coloraxis\":{\"colorbar\":{\"outlinewidth\":0,\"ticks\":\"\"}},\"colorscale\":{\"diverging\":[[0,\"#8e0152\"],[0.1,\"#c51b7d\"],[0.2,\"#de77ae\"],[0.3,\"#f1b6da\"],[0.4,\"#fde0ef\"],[0.5,\"#f7f7f7\"],[0.6,\"#e6f5d0\"],[0.7,\"#b8e186\"],[0.8,\"#7fbc41\"],[0.9,\"#4d9221\"],[1,\"#276419\"]],\"sequential\":[[0.0,\"#0d0887\"],[0.1111111111111111,\"#46039f\"],[0.2222222222222222,\"#7201a8\"],[0.3333333333333333,\"#9c179e\"],[0.4444444444444444,\"#bd3786\"],[0.5555555555555556,\"#d8576b\"],[0.6666666666666666,\"#ed7953\"],[0.7777777777777778,\"#fb9f3a\"],[0.8888888888888888,\"#fdca26\"],[1.0,\"#f0f921\"]],\"sequentialminus\":[[0.0,\"#0d0887\"],[0.1111111111111111,\"#46039f\"],[0.2222222222222222,\"#7201a8\"],[0.3333333333333333,\"#9c179e\"],[0.4444444444444444,\"#bd3786\"],[0.5555555555555556,\"#d8576b\"],[0.6666666666666666,\"#ed7953\"],[0.7777777777777778,\"#fb9f3a\"],[0.8888888888888888,\"#fdca26\"],[1.0,\"#f0f921\"]]},\"colorway\":[\"#636efa\",\"#EF553B\",\"#00cc96\",\"#ab63fa\",\"#FFA15A\",\"#19d3f3\",\"#FF6692\",\"#B6E880\",\"#FF97FF\",\"#FECB52\"],\"font\":{\"color\":\"#2a3f5f\"},\"geo\":{\"bgcolor\":\"white\",\"lakecolor\":\"white\",\"landcolor\":\"#E5ECF6\",\"showlakes\":true,\"showland\":true,\"subunitcolor\":\"white\"},\"hoverlabel\":{\"align\":\"left\"},\"hovermode\":\"closest\",\"mapbox\":{\"style\":\"light\"},\"paper_bgcolor\":\"white\",\"plot_bgcolor\":\"#E5ECF6\",\"polar\":{\"angularaxis\":{\"gridcolor\":\"white\",\"linecolor\":\"white\",\"ticks\":\"\"},\"bgcolor\":\"#E5ECF6\",\"radialaxis\":{\"gridcolor\":\"white\",\"linecolor\":\"white\",\"ticks\":\"\"}},\"scene\":{\"xaxis\":{\"backgroundcolor\":\"#E5ECF6\",\"gridcolor\":\"white\",\"gridwidth\":2,\"linecolor\":\"white\",\"showbackground\":true,\"ticks\":\"\",\"zerolinecolor\":\"white\"},\"yaxis\":{\"backgroundcolor\":\"#E5ECF6\",\"gridcolor\":\"white\",\"gridwidth\":2,\"linecolor\":\"white\",\"showbackground\":true,\"ticks\":\"\",\"zerolinecolor\":\"white\"},\"zaxis\":{\"backgroundcolor\":\"#E5ECF6\",\"gridcolor\":\"white\",\"gridwidth\":2,\"linecolor\":\"white\",\"showbackground\":true,\"ticks\":\"\",\"zerolinecolor\":\"white\"}},\"shapedefaults\":{\"line\":{\"color\":\"#2a3f5f\"}},\"ternary\":{\"aaxis\":{\"gridcolor\":\"white\",\"linecolor\":\"white\",\"ticks\":\"\"},\"baxis\":{\"gridcolor\":\"white\",\"linecolor\":\"white\",\"ticks\":\"\"},\"bgcolor\":\"#E5ECF6\",\"caxis\":{\"gridcolor\":\"white\",\"linecolor\":\"white\",\"ticks\":\"\"}},\"title\":{\"x\":0.05},\"xaxis\":{\"automargin\":true,\"gridcolor\":\"white\",\"linecolor\":\"white\",\"ticks\":\"\",\"title\":{\"standoff\":15},\"zerolinecolor\":\"white\",\"zerolinewidth\":2},\"yaxis\":{\"automargin\":true,\"gridcolor\":\"white\",\"linecolor\":\"white\",\"ticks\":\"\",\"title\":{\"standoff\":15},\"zerolinecolor\":\"white\",\"zerolinewidth\":2}}},\"title\":{\"font\":{\"color\":\"#4D5663\"}},\"xaxis\":{\"gridcolor\":\"#E1E5ED\",\"showgrid\":true,\"tickfont\":{\"color\":\"#4D5663\"},\"title\":{\"font\":{\"color\":\"#4D5663\"},\"text\":\"\"},\"zerolinecolor\":\"#E1E5ED\"},\"yaxis\":{\"gridcolor\":\"#E1E5ED\",\"showgrid\":true,\"tickfont\":{\"color\":\"#4D5663\"},\"title\":{\"font\":{\"color\":\"#4D5663\"},\"text\":\"\"},\"zerolinecolor\":\"#E1E5ED\"}},                        {\"showLink\": true, \"linkText\": \"Export to plot.ly\", \"plotlyServerURL\": \"https://plot.ly\", \"responsive\": true}                    ).then(function(){\n",
       "                            \n",
       "var gd = document.getElementById('f64f3f8f-fc00-4675-abd4-86a262abdf89');\n",
       "var x = new MutationObserver(function (mutations, observer) {{\n",
       "        var display = window.getComputedStyle(gd).display;\n",
       "        if (!display || display === 'none') {{\n",
       "            console.log([gd, 'removed!']);\n",
       "            Plotly.purge(gd);\n",
       "            observer.disconnect();\n",
       "        }}\n",
       "}});\n",
       "\n",
       "// Listen for the removal of the full notebook cells\n",
       "var notebookContainer = gd.closest('#notebook-container');\n",
       "if (notebookContainer) {{\n",
       "    x.observe(notebookContainer, {childList: true});\n",
       "}}\n",
       "\n",
       "// Listen for the clearing of the current output cell\n",
       "var outputEl = gd.closest('.output');\n",
       "if (outputEl) {{\n",
       "    x.observe(outputEl, {childList: true});\n",
       "}}\n",
       "\n",
       "                        })                };                });            </script>        </div>"
      ]
     },
     "metadata": {},
     "output_type": "display_data"
    },
    {
     "name": "stdout",
     "output_type": "stream",
     "text": [
      "Trend Follow: Absolute_return % 21.0\n",
      "Buy-and-Hold: Absolute_return % 13.0\n",
      "Trend Follow: CAGR % 22.0\n",
      "Buy-and-Hold: CAGR % 13.0\n",
      "Trend Follow: information_ratio 0.9427\n",
      "Buy-and-Hold: information_ratio 0.5436\n"
     ]
    },
    {
     "data": {
      "application/vnd.plotly.v1+json": {
       "config": {
        "linkText": "Export to plot.ly",
        "plotlyServerURL": "https://plot.ly",
        "showLink": true
       },
       "data": [
        {
         "line": {
          "color": "rgba(255, 153, 51, 1.0)",
          "dash": "solid",
          "shape": "linear",
          "width": 1.3
         },
         "mode": "lines",
         "name": "account_val",
         "text": "",
         "type": "scatter",
         "x": [
          "2020-01-16",
          "2020-01-17",
          "2020-01-21",
          "2020-01-22",
          "2020-01-23",
          "2020-01-24",
          "2020-01-27",
          "2020-01-28",
          "2020-01-29",
          "2020-01-30",
          "2020-01-31",
          "2020-02-03",
          "2020-02-04",
          "2020-02-05",
          "2020-02-06",
          "2020-02-07",
          "2020-02-10",
          "2020-02-11",
          "2020-02-12",
          "2020-02-13",
          "2020-02-14",
          "2020-02-18",
          "2020-02-19",
          "2020-02-20",
          "2020-02-21",
          "2020-02-24",
          "2020-02-25",
          "2020-02-26",
          "2020-02-27",
          "2020-02-28",
          "2020-03-02",
          "2020-03-03",
          "2020-03-04",
          "2020-03-05",
          "2020-03-06",
          "2020-03-09",
          "2020-03-10",
          "2020-03-11",
          "2020-03-12",
          "2020-03-13",
          "2020-03-16",
          "2020-03-17",
          "2020-03-18",
          "2020-03-19",
          "2020-03-20",
          "2020-03-23",
          "2020-03-24",
          "2020-03-25",
          "2020-03-26",
          "2020-03-27",
          "2020-03-30",
          "2020-03-31",
          "2020-04-01",
          "2020-04-02",
          "2020-04-03",
          "2020-04-06",
          "2020-04-07",
          "2020-04-08",
          "2020-04-09",
          "2020-04-13",
          "2020-04-14",
          "2020-04-15",
          "2020-04-16",
          "2020-04-17",
          "2020-04-20",
          "2020-04-21",
          "2020-04-22",
          "2020-04-23",
          "2020-04-24",
          "2020-04-27",
          "2020-04-28",
          "2020-04-29",
          "2020-04-30",
          "2020-05-01",
          "2020-05-04",
          "2020-05-05",
          "2020-05-06",
          "2020-05-07",
          "2020-05-08",
          "2020-05-11",
          "2020-05-12",
          "2020-05-13",
          "2020-05-14",
          "2020-05-15",
          "2020-05-18",
          "2020-05-19",
          "2020-05-20",
          "2020-05-21",
          "2020-05-22",
          "2020-05-26",
          "2020-05-27",
          "2020-05-28",
          "2020-05-29",
          "2020-06-01",
          "2020-06-02",
          "2020-06-03",
          "2020-06-04",
          "2020-06-05",
          "2020-06-08",
          "2020-06-09",
          "2020-06-10",
          "2020-06-11",
          "2020-06-12",
          "2020-06-15",
          "2020-06-16",
          "2020-06-17",
          "2020-06-18",
          "2020-06-19",
          "2020-06-22",
          "2020-06-23",
          "2020-06-24",
          "2020-06-25",
          "2020-06-26",
          "2020-06-29",
          "2020-06-30",
          "2020-07-01",
          "2020-07-02",
          "2020-07-06",
          "2020-07-07",
          "2020-07-08",
          "2020-07-09",
          "2020-07-10",
          "2020-07-13",
          "2020-07-14",
          "2020-07-15",
          "2020-07-16",
          "2020-07-17",
          "2020-07-20",
          "2020-07-21",
          "2020-07-22",
          "2020-07-23",
          "2020-07-24",
          "2020-07-27",
          "2020-07-28",
          "2020-07-29",
          "2020-07-30",
          "2020-07-31",
          "2020-08-03",
          "2020-08-04",
          "2020-08-05",
          "2020-08-06",
          "2020-08-07",
          "2020-08-10",
          "2020-08-11",
          "2020-08-12",
          "2020-08-13",
          "2020-08-14",
          "2020-08-17",
          "2020-08-18",
          "2020-08-19",
          "2020-08-20",
          "2020-08-21",
          "2020-08-24",
          "2020-08-25",
          "2020-08-26",
          "2020-08-27",
          "2020-08-28",
          "2020-08-31",
          "2020-09-01",
          "2020-09-02",
          "2020-09-03",
          "2020-09-04",
          "2020-09-08",
          "2020-09-09",
          "2020-09-10",
          "2020-09-11",
          "2020-09-14",
          "2020-09-15",
          "2020-09-16",
          "2020-09-17",
          "2020-09-18",
          "2020-09-21",
          "2020-09-22",
          "2020-09-23",
          "2020-09-24",
          "2020-09-25",
          "2020-09-28",
          "2020-09-29",
          "2020-09-30",
          "2020-10-01",
          "2020-10-02",
          "2020-10-05",
          "2020-10-06",
          "2020-10-07",
          "2020-10-08",
          "2020-10-09",
          "2020-10-12",
          "2020-10-13",
          "2020-10-14",
          "2020-10-15",
          "2020-10-16",
          "2020-10-19",
          "2020-10-20",
          "2020-10-21",
          "2020-10-22",
          "2020-10-23",
          "2020-10-26",
          "2020-10-27",
          "2020-10-28",
          "2020-10-29",
          "2020-10-30",
          "2020-11-02",
          "2020-11-03",
          "2020-11-04",
          "2020-11-05",
          "2020-11-06",
          "2020-11-09",
          "2020-11-10",
          "2020-11-11",
          "2020-11-12",
          "2020-11-13",
          "2020-11-16",
          "2020-11-17",
          "2020-11-18",
          "2020-11-19",
          "2020-11-20",
          "2020-11-23",
          "2020-11-24",
          "2020-11-25",
          "2020-11-27",
          "2020-11-30",
          "2020-12-01",
          "2020-12-02",
          "2020-12-03",
          "2020-12-04",
          "2020-12-07",
          "2020-12-08",
          "2020-12-09",
          "2020-12-10",
          "2020-12-11",
          "2020-12-14",
          "2020-12-15",
          "2020-12-16",
          "2020-12-17",
          "2020-12-18",
          "2020-12-21",
          "2020-12-22",
          "2020-12-23",
          "2020-12-24",
          "2020-12-28",
          "2020-12-29",
          "2020-12-30",
          "2020-12-31"
         ],
         "y": [
          100295.02109619141,
          100544.94,
          100387.21807617188,
          100396.92574951172,
          100489.13013427735,
          99773.33917236328,
          98264.07684448244,
          97438.13367553712,
          97503.92123413087,
          97245.66342895509,
          98695.31696777345,
          98113.02123413087,
          96909.43903930666,
          95983.61001342775,
          95741.83973205568,
          95333.59701202395,
          95902.38053253177,
          96035.40745208743,
          96530.80429199222,
          96448.2346524048,
          96572.08561218264,
          96372.55223205569,
          96741.80237243655,
          96423.00951202394,
          95627.16473205568,
          93419.91325378421,
          95675.51766296389,
          95941.01675384524,
          99170.8857992554,
          99459.47329925539,
          96497.41429931643,
          98540.61520843509,
          95627.03693573001,
          98028.08352661136,
          99182.43352661135,
          104545.53911743168,
          101269.49325378421,
          104515.53193573,
          110575.86591293337,
          105679.11166290285,
          112482.85084472658,
          109493.08504928592,
          112448.22175384524,
          112330.47932205204,
          115033.96504928591,
          116384.55595840457,
          111720.98266296388,
          110880.61600387577,
          107553.77493560794,
          109434.4002586365,
          112277.94608245851,
          110930.4591912842,
          106922.54108245851,
          108885.0406239319,
          107627.38443481448,
          113387.03023010255,
          113480.32467834474,
          116555.36156951907,
          117996.14290893557,
          117118.54455657961,
          119927.54254364016,
          117844.1176654053,
          118307.09980010988,
          120912.24815246584,
          119167.41632598879,
          116213.31004364016,
          118307.09980010988,
          118300.18285186769,
          119644.22181304934,
          121053.89797363283,
          120597.83278717042,
          123182.24083892824,
          122239.00528717042,
          119582.03254364016,
          119851.52992187502,
          121062.10927185058,
          119168.04835388184,
          120315.38090393067,
          121907.60417053223,
          121927.67335388184,
          119977.54284545899,
          118281.62539550781,
          115366.45273590086,
          114925.4158578491,
          111989.65304687498,
          111480.68020294188,
          112993.27919708249,
          112368.11491973874,
          112538.89177520749,
          113648.94133575437,
          115006.01705841062,
          114835.24020294187,
          115246.93806427,
          115622.03290802,
          116393.58133575437,
          117643.91919708249,
          117393.84976348875,
          119827.43391387937,
          121004.5843533325,
          120269.62963653562,
          119723.74863067624,
          114115.52976348875,
          115213.38762481687,
          110576.66855163572,
          108778.78633758542,
          109174.25562408444,
          110175.14255798337,
          112410.51725921629,
          111851.62817230223,
          111447.98413970944,
          113694.85092773435,
          112774.64797119139,
          114835.22413970945,
          113590.41240600584,
          112489.56112884519,
          111879.85689514158,
          110260.69650573729,
          111620.65296173094,
          110698.02556152342,
          111375.18383941648,
          110867.31728363036,
          111773.01637268065,
          110997.10387268064,
          112148.28069458005,
          112974.97812805173,
          112675.89981689451,
          112938.29725036619,
          113671.88897247313,
          113866.5731613159,
          114388.54377288817,
          113288.1604949951,
          112701.29228363035,
          113361.5222503662,
          113490.3101141357,
          114065.21075408932,
          112578.44549743649,
          112201.36346801755,
          112825.64153930661,
          113174.90121795652,
          113738.66836090085,
          114349.19089660642,
          114415.19900360105,
          114690.20900360105,
          113928.42593231199,
          115204.47636077878,
          115036.71589660642,
          115039.46868225095,
          115333.73139648435,
          115534.49171783445,
          115146.72661071774,
          115435.48375366208,
          115765.49911071775,
          116711.53418212887,
          117041.54114654538,
          117990.32900360104,
          118199.33089660642,
          118818.10339660641,
          118468.84371795652,
          119373.62896789548,
          120776.18164642331,
          117390.80921783445,
          116615.27900360104,
          115958.05603942869,
          114160.13216979978,
          115772.24650207517,
          115725.80037170407,
          114523.54603942868,
          114056.29963562009,
          114425.1753033447,
          115239.43350524899,
          116657.54977233884,
          117663.0709710693,
          116753.18544006345,
          118846.19650207517,
          118611.21410461424,
          117182.16590270994,
          115690.2778375244,
          116187.57663879392,
          116490.29260620114,
          117089.23790588375,
          116197.77850524899,
          117846.97584594724,
          116501.42968505855,
          118125.55584594722,
          118966.86438537594,
          119822.1070257568,
          121376.57968505856,
          120735.84908569332,
          120122.96968505856,
          120003.18232543941,
          119944.68290588375,
          118473.78084594723,
          118855.43408569333,
          119005.63922424313,
          118485.05552276608,
          118161.06710449215,
          119930.51761016842,
          120254.50602844235,
          123455.58495239254,
          122536.24172424313,
          123488.81280029293,
          122475.32118621822,
          120860.93960449216,
          118781.34280029293,
          117469.43087066647,
          117447.95687561033,
          118629.22323699947,
          118489.62178649899,
          119195.69919738766,
          118266.78709838864,
          119579.60933105466,
          120779.67055877682,
          120256.15078155514,
          119090.99196472164,
          119493.69696472165,
          118835.94218749997,
          119309.35712219233,
          119365.04809387203,
          119217.57833679195,
          119483.55430847163,
          119059.57272949214,
          120102.39687927242,
          120305.17382263178,
          120278.83821533198,
          121110.99357971187,
          120910.85260803218,
          121195.26430847163,
          120320.97357971186,
          120289.3740655517,
          120176.13175781246,
          121833.63470977779,
          121690.94851348874,
          121843.91062042232,
          122389.80490386959,
          121582.82234771724,
          121234.71001617429,
          121580.70594757078,
          121493.71344268798,
          121116.76737335204,
          120503.92065673826,
          120319.96106384275,
          120457.27844757079,
          120946.96234283445
         ]
        }
       ],
       "layout": {
        "legend": {
         "bgcolor": "#F5F6F9",
         "font": {
          "color": "#4D5663"
         }
        },
        "paper_bgcolor": "#F5F6F9",
        "plot_bgcolor": "#F5F6F9",
        "template": {
         "data": {
          "bar": [
           {
            "error_x": {
             "color": "#2a3f5f"
            },
            "error_y": {
             "color": "#2a3f5f"
            },
            "marker": {
             "line": {
              "color": "#E5ECF6",
              "width": 0.5
             },
             "pattern": {
              "fillmode": "overlay",
              "size": 10,
              "solidity": 0.2
             }
            },
            "type": "bar"
           }
          ],
          "barpolar": [
           {
            "marker": {
             "line": {
              "color": "#E5ECF6",
              "width": 0.5
             },
             "pattern": {
              "fillmode": "overlay",
              "size": 10,
              "solidity": 0.2
             }
            },
            "type": "barpolar"
           }
          ],
          "carpet": [
           {
            "aaxis": {
             "endlinecolor": "#2a3f5f",
             "gridcolor": "white",
             "linecolor": "white",
             "minorgridcolor": "white",
             "startlinecolor": "#2a3f5f"
            },
            "baxis": {
             "endlinecolor": "#2a3f5f",
             "gridcolor": "white",
             "linecolor": "white",
             "minorgridcolor": "white",
             "startlinecolor": "#2a3f5f"
            },
            "type": "carpet"
           }
          ],
          "choropleth": [
           {
            "colorbar": {
             "outlinewidth": 0,
             "ticks": ""
            },
            "type": "choropleth"
           }
          ],
          "contour": [
           {
            "colorbar": {
             "outlinewidth": 0,
             "ticks": ""
            },
            "colorscale": [
             [
              0,
              "#0d0887"
             ],
             [
              0.1111111111111111,
              "#46039f"
             ],
             [
              0.2222222222222222,
              "#7201a8"
             ],
             [
              0.3333333333333333,
              "#9c179e"
             ],
             [
              0.4444444444444444,
              "#bd3786"
             ],
             [
              0.5555555555555556,
              "#d8576b"
             ],
             [
              0.6666666666666666,
              "#ed7953"
             ],
             [
              0.7777777777777778,
              "#fb9f3a"
             ],
             [
              0.8888888888888888,
              "#fdca26"
             ],
             [
              1,
              "#f0f921"
             ]
            ],
            "type": "contour"
           }
          ],
          "contourcarpet": [
           {
            "colorbar": {
             "outlinewidth": 0,
             "ticks": ""
            },
            "type": "contourcarpet"
           }
          ],
          "heatmap": [
           {
            "colorbar": {
             "outlinewidth": 0,
             "ticks": ""
            },
            "colorscale": [
             [
              0,
              "#0d0887"
             ],
             [
              0.1111111111111111,
              "#46039f"
             ],
             [
              0.2222222222222222,
              "#7201a8"
             ],
             [
              0.3333333333333333,
              "#9c179e"
             ],
             [
              0.4444444444444444,
              "#bd3786"
             ],
             [
              0.5555555555555556,
              "#d8576b"
             ],
             [
              0.6666666666666666,
              "#ed7953"
             ],
             [
              0.7777777777777778,
              "#fb9f3a"
             ],
             [
              0.8888888888888888,
              "#fdca26"
             ],
             [
              1,
              "#f0f921"
             ]
            ],
            "type": "heatmap"
           }
          ],
          "heatmapgl": [
           {
            "colorbar": {
             "outlinewidth": 0,
             "ticks": ""
            },
            "colorscale": [
             [
              0,
              "#0d0887"
             ],
             [
              0.1111111111111111,
              "#46039f"
             ],
             [
              0.2222222222222222,
              "#7201a8"
             ],
             [
              0.3333333333333333,
              "#9c179e"
             ],
             [
              0.4444444444444444,
              "#bd3786"
             ],
             [
              0.5555555555555556,
              "#d8576b"
             ],
             [
              0.6666666666666666,
              "#ed7953"
             ],
             [
              0.7777777777777778,
              "#fb9f3a"
             ],
             [
              0.8888888888888888,
              "#fdca26"
             ],
             [
              1,
              "#f0f921"
             ]
            ],
            "type": "heatmapgl"
           }
          ],
          "histogram": [
           {
            "marker": {
             "pattern": {
              "fillmode": "overlay",
              "size": 10,
              "solidity": 0.2
             }
            },
            "type": "histogram"
           }
          ],
          "histogram2d": [
           {
            "colorbar": {
             "outlinewidth": 0,
             "ticks": ""
            },
            "colorscale": [
             [
              0,
              "#0d0887"
             ],
             [
              0.1111111111111111,
              "#46039f"
             ],
             [
              0.2222222222222222,
              "#7201a8"
             ],
             [
              0.3333333333333333,
              "#9c179e"
             ],
             [
              0.4444444444444444,
              "#bd3786"
             ],
             [
              0.5555555555555556,
              "#d8576b"
             ],
             [
              0.6666666666666666,
              "#ed7953"
             ],
             [
              0.7777777777777778,
              "#fb9f3a"
             ],
             [
              0.8888888888888888,
              "#fdca26"
             ],
             [
              1,
              "#f0f921"
             ]
            ],
            "type": "histogram2d"
           }
          ],
          "histogram2dcontour": [
           {
            "colorbar": {
             "outlinewidth": 0,
             "ticks": ""
            },
            "colorscale": [
             [
              0,
              "#0d0887"
             ],
             [
              0.1111111111111111,
              "#46039f"
             ],
             [
              0.2222222222222222,
              "#7201a8"
             ],
             [
              0.3333333333333333,
              "#9c179e"
             ],
             [
              0.4444444444444444,
              "#bd3786"
             ],
             [
              0.5555555555555556,
              "#d8576b"
             ],
             [
              0.6666666666666666,
              "#ed7953"
             ],
             [
              0.7777777777777778,
              "#fb9f3a"
             ],
             [
              0.8888888888888888,
              "#fdca26"
             ],
             [
              1,
              "#f0f921"
             ]
            ],
            "type": "histogram2dcontour"
           }
          ],
          "mesh3d": [
           {
            "colorbar": {
             "outlinewidth": 0,
             "ticks": ""
            },
            "type": "mesh3d"
           }
          ],
          "parcoords": [
           {
            "line": {
             "colorbar": {
              "outlinewidth": 0,
              "ticks": ""
             }
            },
            "type": "parcoords"
           }
          ],
          "pie": [
           {
            "automargin": true,
            "type": "pie"
           }
          ],
          "scatter": [
           {
            "marker": {
             "colorbar": {
              "outlinewidth": 0,
              "ticks": ""
             }
            },
            "type": "scatter"
           }
          ],
          "scatter3d": [
           {
            "line": {
             "colorbar": {
              "outlinewidth": 0,
              "ticks": ""
             }
            },
            "marker": {
             "colorbar": {
              "outlinewidth": 0,
              "ticks": ""
             }
            },
            "type": "scatter3d"
           }
          ],
          "scattercarpet": [
           {
            "marker": {
             "colorbar": {
              "outlinewidth": 0,
              "ticks": ""
             }
            },
            "type": "scattercarpet"
           }
          ],
          "scattergeo": [
           {
            "marker": {
             "colorbar": {
              "outlinewidth": 0,
              "ticks": ""
             }
            },
            "type": "scattergeo"
           }
          ],
          "scattergl": [
           {
            "marker": {
             "colorbar": {
              "outlinewidth": 0,
              "ticks": ""
             }
            },
            "type": "scattergl"
           }
          ],
          "scattermapbox": [
           {
            "marker": {
             "colorbar": {
              "outlinewidth": 0,
              "ticks": ""
             }
            },
            "type": "scattermapbox"
           }
          ],
          "scatterpolar": [
           {
            "marker": {
             "colorbar": {
              "outlinewidth": 0,
              "ticks": ""
             }
            },
            "type": "scatterpolar"
           }
          ],
          "scatterpolargl": [
           {
            "marker": {
             "colorbar": {
              "outlinewidth": 0,
              "ticks": ""
             }
            },
            "type": "scatterpolargl"
           }
          ],
          "scatterternary": [
           {
            "marker": {
             "colorbar": {
              "outlinewidth": 0,
              "ticks": ""
             }
            },
            "type": "scatterternary"
           }
          ],
          "surface": [
           {
            "colorbar": {
             "outlinewidth": 0,
             "ticks": ""
            },
            "colorscale": [
             [
              0,
              "#0d0887"
             ],
             [
              0.1111111111111111,
              "#46039f"
             ],
             [
              0.2222222222222222,
              "#7201a8"
             ],
             [
              0.3333333333333333,
              "#9c179e"
             ],
             [
              0.4444444444444444,
              "#bd3786"
             ],
             [
              0.5555555555555556,
              "#d8576b"
             ],
             [
              0.6666666666666666,
              "#ed7953"
             ],
             [
              0.7777777777777778,
              "#fb9f3a"
             ],
             [
              0.8888888888888888,
              "#fdca26"
             ],
             [
              1,
              "#f0f921"
             ]
            ],
            "type": "surface"
           }
          ],
          "table": [
           {
            "cells": {
             "fill": {
              "color": "#EBF0F8"
             },
             "line": {
              "color": "white"
             }
            },
            "header": {
             "fill": {
              "color": "#C8D4E3"
             },
             "line": {
              "color": "white"
             }
            },
            "type": "table"
           }
          ]
         },
         "layout": {
          "annotationdefaults": {
           "arrowcolor": "#2a3f5f",
           "arrowhead": 0,
           "arrowwidth": 1
          },
          "autotypenumbers": "strict",
          "coloraxis": {
           "colorbar": {
            "outlinewidth": 0,
            "ticks": ""
           }
          },
          "colorscale": {
           "diverging": [
            [
             0,
             "#8e0152"
            ],
            [
             0.1,
             "#c51b7d"
            ],
            [
             0.2,
             "#de77ae"
            ],
            [
             0.3,
             "#f1b6da"
            ],
            [
             0.4,
             "#fde0ef"
            ],
            [
             0.5,
             "#f7f7f7"
            ],
            [
             0.6,
             "#e6f5d0"
            ],
            [
             0.7,
             "#b8e186"
            ],
            [
             0.8,
             "#7fbc41"
            ],
            [
             0.9,
             "#4d9221"
            ],
            [
             1,
             "#276419"
            ]
           ],
           "sequential": [
            [
             0,
             "#0d0887"
            ],
            [
             0.1111111111111111,
             "#46039f"
            ],
            [
             0.2222222222222222,
             "#7201a8"
            ],
            [
             0.3333333333333333,
             "#9c179e"
            ],
            [
             0.4444444444444444,
             "#bd3786"
            ],
            [
             0.5555555555555556,
             "#d8576b"
            ],
            [
             0.6666666666666666,
             "#ed7953"
            ],
            [
             0.7777777777777778,
             "#fb9f3a"
            ],
            [
             0.8888888888888888,
             "#fdca26"
            ],
            [
             1,
             "#f0f921"
            ]
           ],
           "sequentialminus": [
            [
             0,
             "#0d0887"
            ],
            [
             0.1111111111111111,
             "#46039f"
            ],
            [
             0.2222222222222222,
             "#7201a8"
            ],
            [
             0.3333333333333333,
             "#9c179e"
            ],
            [
             0.4444444444444444,
             "#bd3786"
            ],
            [
             0.5555555555555556,
             "#d8576b"
            ],
            [
             0.6666666666666666,
             "#ed7953"
            ],
            [
             0.7777777777777778,
             "#fb9f3a"
            ],
            [
             0.8888888888888888,
             "#fdca26"
            ],
            [
             1,
             "#f0f921"
            ]
           ]
          },
          "colorway": [
           "#636efa",
           "#EF553B",
           "#00cc96",
           "#ab63fa",
           "#FFA15A",
           "#19d3f3",
           "#FF6692",
           "#B6E880",
           "#FF97FF",
           "#FECB52"
          ],
          "font": {
           "color": "#2a3f5f"
          },
          "geo": {
           "bgcolor": "white",
           "lakecolor": "white",
           "landcolor": "#E5ECF6",
           "showlakes": true,
           "showland": true,
           "subunitcolor": "white"
          },
          "hoverlabel": {
           "align": "left"
          },
          "hovermode": "closest",
          "mapbox": {
           "style": "light"
          },
          "paper_bgcolor": "white",
          "plot_bgcolor": "#E5ECF6",
          "polar": {
           "angularaxis": {
            "gridcolor": "white",
            "linecolor": "white",
            "ticks": ""
           },
           "bgcolor": "#E5ECF6",
           "radialaxis": {
            "gridcolor": "white",
            "linecolor": "white",
            "ticks": ""
           }
          },
          "scene": {
           "xaxis": {
            "backgroundcolor": "#E5ECF6",
            "gridcolor": "white",
            "gridwidth": 2,
            "linecolor": "white",
            "showbackground": true,
            "ticks": "",
            "zerolinecolor": "white"
           },
           "yaxis": {
            "backgroundcolor": "#E5ECF6",
            "gridcolor": "white",
            "gridwidth": 2,
            "linecolor": "white",
            "showbackground": true,
            "ticks": "",
            "zerolinecolor": "white"
           },
           "zaxis": {
            "backgroundcolor": "#E5ECF6",
            "gridcolor": "white",
            "gridwidth": 2,
            "linecolor": "white",
            "showbackground": true,
            "ticks": "",
            "zerolinecolor": "white"
           }
          },
          "shapedefaults": {
           "line": {
            "color": "#2a3f5f"
           }
          },
          "ternary": {
           "aaxis": {
            "gridcolor": "white",
            "linecolor": "white",
            "ticks": ""
           },
           "baxis": {
            "gridcolor": "white",
            "linecolor": "white",
            "ticks": ""
           },
           "bgcolor": "#E5ECF6",
           "caxis": {
            "gridcolor": "white",
            "linecolor": "white",
            "ticks": ""
           }
          },
          "title": {
           "x": 0.05
          },
          "xaxis": {
           "automargin": true,
           "gridcolor": "white",
           "linecolor": "white",
           "ticks": "",
           "title": {
            "standoff": 15
           },
           "zerolinecolor": "white",
           "zerolinewidth": 2
          },
          "yaxis": {
           "automargin": true,
           "gridcolor": "white",
           "linecolor": "white",
           "ticks": "",
           "title": {
            "standoff": 15
           },
           "zerolinecolor": "white",
           "zerolinewidth": 2
          }
         }
        },
        "title": {
         "font": {
          "color": "#4D5663"
         },
         "text": "SPY Trend Following Equity Curve"
        },
        "xaxis": {
         "gridcolor": "#E1E5ED",
         "showgrid": true,
         "tickfont": {
          "color": "#4D5663"
         },
         "title": {
          "font": {
           "color": "#4D5663"
          },
          "text": ""
         },
         "zerolinecolor": "#E1E5ED"
        },
        "yaxis": {
         "gridcolor": "#E1E5ED",
         "showgrid": true,
         "tickfont": {
          "color": "#4D5663"
         },
         "title": {
          "font": {
           "color": "#4D5663"
          },
          "text": ""
         },
         "zerolinecolor": "#E1E5ED"
        }
       }
      },
      "text/html": [
       "<div>                            <div id=\"ff16f521-6025-458c-8e85-38dadc35a559\" class=\"plotly-graph-div\" style=\"height:525px; width:100%;\"></div>            <script type=\"text/javascript\">                require([\"plotly\"], function(Plotly) {                    window.PLOTLYENV=window.PLOTLYENV || {};\n",
       "                    window.PLOTLYENV.BASE_URL='https://plot.ly';                                    if (document.getElementById(\"ff16f521-6025-458c-8e85-38dadc35a559\")) {                    Plotly.newPlot(                        \"ff16f521-6025-458c-8e85-38dadc35a559\",                        [{\"line\":{\"color\":\"rgba(255, 153, 51, 1.0)\",\"dash\":\"solid\",\"shape\":\"linear\",\"width\":1.3},\"mode\":\"lines\",\"name\":\"account_val\",\"text\":\"\",\"type\":\"scatter\",\"x\":[\"2020-01-16\",\"2020-01-17\",\"2020-01-21\",\"2020-01-22\",\"2020-01-23\",\"2020-01-24\",\"2020-01-27\",\"2020-01-28\",\"2020-01-29\",\"2020-01-30\",\"2020-01-31\",\"2020-02-03\",\"2020-02-04\",\"2020-02-05\",\"2020-02-06\",\"2020-02-07\",\"2020-02-10\",\"2020-02-11\",\"2020-02-12\",\"2020-02-13\",\"2020-02-14\",\"2020-02-18\",\"2020-02-19\",\"2020-02-20\",\"2020-02-21\",\"2020-02-24\",\"2020-02-25\",\"2020-02-26\",\"2020-02-27\",\"2020-02-28\",\"2020-03-02\",\"2020-03-03\",\"2020-03-04\",\"2020-03-05\",\"2020-03-06\",\"2020-03-09\",\"2020-03-10\",\"2020-03-11\",\"2020-03-12\",\"2020-03-13\",\"2020-03-16\",\"2020-03-17\",\"2020-03-18\",\"2020-03-19\",\"2020-03-20\",\"2020-03-23\",\"2020-03-24\",\"2020-03-25\",\"2020-03-26\",\"2020-03-27\",\"2020-03-30\",\"2020-03-31\",\"2020-04-01\",\"2020-04-02\",\"2020-04-03\",\"2020-04-06\",\"2020-04-07\",\"2020-04-08\",\"2020-04-09\",\"2020-04-13\",\"2020-04-14\",\"2020-04-15\",\"2020-04-16\",\"2020-04-17\",\"2020-04-20\",\"2020-04-21\",\"2020-04-22\",\"2020-04-23\",\"2020-04-24\",\"2020-04-27\",\"2020-04-28\",\"2020-04-29\",\"2020-04-30\",\"2020-05-01\",\"2020-05-04\",\"2020-05-05\",\"2020-05-06\",\"2020-05-07\",\"2020-05-08\",\"2020-05-11\",\"2020-05-12\",\"2020-05-13\",\"2020-05-14\",\"2020-05-15\",\"2020-05-18\",\"2020-05-19\",\"2020-05-20\",\"2020-05-21\",\"2020-05-22\",\"2020-05-26\",\"2020-05-27\",\"2020-05-28\",\"2020-05-29\",\"2020-06-01\",\"2020-06-02\",\"2020-06-03\",\"2020-06-04\",\"2020-06-05\",\"2020-06-08\",\"2020-06-09\",\"2020-06-10\",\"2020-06-11\",\"2020-06-12\",\"2020-06-15\",\"2020-06-16\",\"2020-06-17\",\"2020-06-18\",\"2020-06-19\",\"2020-06-22\",\"2020-06-23\",\"2020-06-24\",\"2020-06-25\",\"2020-06-26\",\"2020-06-29\",\"2020-06-30\",\"2020-07-01\",\"2020-07-02\",\"2020-07-06\",\"2020-07-07\",\"2020-07-08\",\"2020-07-09\",\"2020-07-10\",\"2020-07-13\",\"2020-07-14\",\"2020-07-15\",\"2020-07-16\",\"2020-07-17\",\"2020-07-20\",\"2020-07-21\",\"2020-07-22\",\"2020-07-23\",\"2020-07-24\",\"2020-07-27\",\"2020-07-28\",\"2020-07-29\",\"2020-07-30\",\"2020-07-31\",\"2020-08-03\",\"2020-08-04\",\"2020-08-05\",\"2020-08-06\",\"2020-08-07\",\"2020-08-10\",\"2020-08-11\",\"2020-08-12\",\"2020-08-13\",\"2020-08-14\",\"2020-08-17\",\"2020-08-18\",\"2020-08-19\",\"2020-08-20\",\"2020-08-21\",\"2020-08-24\",\"2020-08-25\",\"2020-08-26\",\"2020-08-27\",\"2020-08-28\",\"2020-08-31\",\"2020-09-01\",\"2020-09-02\",\"2020-09-03\",\"2020-09-04\",\"2020-09-08\",\"2020-09-09\",\"2020-09-10\",\"2020-09-11\",\"2020-09-14\",\"2020-09-15\",\"2020-09-16\",\"2020-09-17\",\"2020-09-18\",\"2020-09-21\",\"2020-09-22\",\"2020-09-23\",\"2020-09-24\",\"2020-09-25\",\"2020-09-28\",\"2020-09-29\",\"2020-09-30\",\"2020-10-01\",\"2020-10-02\",\"2020-10-05\",\"2020-10-06\",\"2020-10-07\",\"2020-10-08\",\"2020-10-09\",\"2020-10-12\",\"2020-10-13\",\"2020-10-14\",\"2020-10-15\",\"2020-10-16\",\"2020-10-19\",\"2020-10-20\",\"2020-10-21\",\"2020-10-22\",\"2020-10-23\",\"2020-10-26\",\"2020-10-27\",\"2020-10-28\",\"2020-10-29\",\"2020-10-30\",\"2020-11-02\",\"2020-11-03\",\"2020-11-04\",\"2020-11-05\",\"2020-11-06\",\"2020-11-09\",\"2020-11-10\",\"2020-11-11\",\"2020-11-12\",\"2020-11-13\",\"2020-11-16\",\"2020-11-17\",\"2020-11-18\",\"2020-11-19\",\"2020-11-20\",\"2020-11-23\",\"2020-11-24\",\"2020-11-25\",\"2020-11-27\",\"2020-11-30\",\"2020-12-01\",\"2020-12-02\",\"2020-12-03\",\"2020-12-04\",\"2020-12-07\",\"2020-12-08\",\"2020-12-09\",\"2020-12-10\",\"2020-12-11\",\"2020-12-14\",\"2020-12-15\",\"2020-12-16\",\"2020-12-17\",\"2020-12-18\",\"2020-12-21\",\"2020-12-22\",\"2020-12-23\",\"2020-12-24\",\"2020-12-28\",\"2020-12-29\",\"2020-12-30\",\"2020-12-31\"],\"y\":[100295.02109619141,100544.94,100387.21807617188,100396.92574951172,100489.13013427735,99773.33917236328,98264.07684448244,97438.13367553712,97503.92123413087,97245.66342895509,98695.31696777345,98113.02123413087,96909.43903930666,95983.61001342775,95741.83973205568,95333.59701202395,95902.38053253177,96035.40745208743,96530.80429199222,96448.2346524048,96572.08561218264,96372.55223205569,96741.80237243655,96423.00951202394,95627.16473205568,93419.91325378421,95675.51766296389,95941.01675384524,99170.8857992554,99459.47329925539,96497.41429931643,98540.61520843509,95627.03693573001,98028.08352661136,99182.43352661135,104545.53911743168,101269.49325378421,104515.53193573,110575.86591293337,105679.11166290285,112482.85084472658,109493.08504928592,112448.22175384524,112330.47932205204,115033.96504928591,116384.55595840457,111720.98266296388,110880.61600387577,107553.77493560794,109434.4002586365,112277.94608245851,110930.4591912842,106922.54108245851,108885.0406239319,107627.38443481448,113387.03023010255,113480.32467834474,116555.36156951907,117996.14290893557,117118.54455657961,119927.54254364016,117844.1176654053,118307.09980010988,120912.24815246584,119167.41632598879,116213.31004364016,118307.09980010988,118300.18285186769,119644.22181304934,121053.89797363283,120597.83278717042,123182.24083892824,122239.00528717042,119582.03254364016,119851.52992187502,121062.10927185058,119168.04835388184,120315.38090393067,121907.60417053223,121927.67335388184,119977.54284545899,118281.62539550781,115366.45273590086,114925.4158578491,111989.65304687498,111480.68020294188,112993.27919708249,112368.11491973874,112538.89177520749,113648.94133575437,115006.01705841062,114835.24020294187,115246.93806427,115622.03290802,116393.58133575437,117643.91919708249,117393.84976348875,119827.43391387937,121004.5843533325,120269.62963653562,119723.74863067624,114115.52976348875,115213.38762481687,110576.66855163572,108778.78633758542,109174.25562408444,110175.14255798337,112410.51725921629,111851.62817230223,111447.98413970944,113694.85092773435,112774.64797119139,114835.22413970945,113590.41240600584,112489.56112884519,111879.85689514158,110260.69650573729,111620.65296173094,110698.02556152342,111375.18383941648,110867.31728363036,111773.01637268065,110997.10387268064,112148.28069458005,112974.97812805173,112675.89981689451,112938.29725036619,113671.88897247313,113866.5731613159,114388.54377288817,113288.1604949951,112701.29228363035,113361.5222503662,113490.3101141357,114065.21075408932,112578.44549743649,112201.36346801755,112825.64153930661,113174.90121795652,113738.66836090085,114349.19089660642,114415.19900360105,114690.20900360105,113928.42593231199,115204.47636077878,115036.71589660642,115039.46868225095,115333.73139648435,115534.49171783445,115146.72661071774,115435.48375366208,115765.49911071775,116711.53418212887,117041.54114654538,117990.32900360104,118199.33089660642,118818.10339660641,118468.84371795652,119373.62896789548,120776.18164642331,117390.80921783445,116615.27900360104,115958.05603942869,114160.13216979978,115772.24650207517,115725.80037170407,114523.54603942868,114056.29963562009,114425.1753033447,115239.43350524899,116657.54977233884,117663.0709710693,116753.18544006345,118846.19650207517,118611.21410461424,117182.16590270994,115690.2778375244,116187.57663879392,116490.29260620114,117089.23790588375,116197.77850524899,117846.97584594724,116501.42968505855,118125.55584594722,118966.86438537594,119822.1070257568,121376.57968505856,120735.84908569332,120122.96968505856,120003.18232543941,119944.68290588375,118473.78084594723,118855.43408569333,119005.63922424313,118485.05552276608,118161.06710449215,119930.51761016842,120254.50602844235,123455.58495239254,122536.24172424313,123488.81280029293,122475.32118621822,120860.93960449216,118781.34280029293,117469.43087066647,117447.95687561033,118629.22323699947,118489.62178649899,119195.69919738766,118266.78709838864,119579.60933105466,120779.67055877682,120256.15078155514,119090.99196472164,119493.69696472165,118835.94218749997,119309.35712219233,119365.04809387203,119217.57833679195,119483.55430847163,119059.57272949214,120102.39687927242,120305.17382263178,120278.83821533198,121110.99357971187,120910.85260803218,121195.26430847163,120320.97357971186,120289.3740655517,120176.13175781246,121833.63470977779,121690.94851348874,121843.91062042232,122389.80490386959,121582.82234771724,121234.71001617429,121580.70594757078,121493.71344268798,121116.76737335204,120503.92065673826,120319.96106384275,120457.27844757079,120946.96234283445]}],                        {\"legend\":{\"bgcolor\":\"#F5F6F9\",\"font\":{\"color\":\"#4D5663\"}},\"paper_bgcolor\":\"#F5F6F9\",\"plot_bgcolor\":\"#F5F6F9\",\"template\":{\"data\":{\"bar\":[{\"error_x\":{\"color\":\"#2a3f5f\"},\"error_y\":{\"color\":\"#2a3f5f\"},\"marker\":{\"line\":{\"color\":\"#E5ECF6\",\"width\":0.5},\"pattern\":{\"fillmode\":\"overlay\",\"size\":10,\"solidity\":0.2}},\"type\":\"bar\"}],\"barpolar\":[{\"marker\":{\"line\":{\"color\":\"#E5ECF6\",\"width\":0.5},\"pattern\":{\"fillmode\":\"overlay\",\"size\":10,\"solidity\":0.2}},\"type\":\"barpolar\"}],\"carpet\":[{\"aaxis\":{\"endlinecolor\":\"#2a3f5f\",\"gridcolor\":\"white\",\"linecolor\":\"white\",\"minorgridcolor\":\"white\",\"startlinecolor\":\"#2a3f5f\"},\"baxis\":{\"endlinecolor\":\"#2a3f5f\",\"gridcolor\":\"white\",\"linecolor\":\"white\",\"minorgridcolor\":\"white\",\"startlinecolor\":\"#2a3f5f\"},\"type\":\"carpet\"}],\"choropleth\":[{\"colorbar\":{\"outlinewidth\":0,\"ticks\":\"\"},\"type\":\"choropleth\"}],\"contour\":[{\"colorbar\":{\"outlinewidth\":0,\"ticks\":\"\"},\"colorscale\":[[0.0,\"#0d0887\"],[0.1111111111111111,\"#46039f\"],[0.2222222222222222,\"#7201a8\"],[0.3333333333333333,\"#9c179e\"],[0.4444444444444444,\"#bd3786\"],[0.5555555555555556,\"#d8576b\"],[0.6666666666666666,\"#ed7953\"],[0.7777777777777778,\"#fb9f3a\"],[0.8888888888888888,\"#fdca26\"],[1.0,\"#f0f921\"]],\"type\":\"contour\"}],\"contourcarpet\":[{\"colorbar\":{\"outlinewidth\":0,\"ticks\":\"\"},\"type\":\"contourcarpet\"}],\"heatmap\":[{\"colorbar\":{\"outlinewidth\":0,\"ticks\":\"\"},\"colorscale\":[[0.0,\"#0d0887\"],[0.1111111111111111,\"#46039f\"],[0.2222222222222222,\"#7201a8\"],[0.3333333333333333,\"#9c179e\"],[0.4444444444444444,\"#bd3786\"],[0.5555555555555556,\"#d8576b\"],[0.6666666666666666,\"#ed7953\"],[0.7777777777777778,\"#fb9f3a\"],[0.8888888888888888,\"#fdca26\"],[1.0,\"#f0f921\"]],\"type\":\"heatmap\"}],\"heatmapgl\":[{\"colorbar\":{\"outlinewidth\":0,\"ticks\":\"\"},\"colorscale\":[[0.0,\"#0d0887\"],[0.1111111111111111,\"#46039f\"],[0.2222222222222222,\"#7201a8\"],[0.3333333333333333,\"#9c179e\"],[0.4444444444444444,\"#bd3786\"],[0.5555555555555556,\"#d8576b\"],[0.6666666666666666,\"#ed7953\"],[0.7777777777777778,\"#fb9f3a\"],[0.8888888888888888,\"#fdca26\"],[1.0,\"#f0f921\"]],\"type\":\"heatmapgl\"}],\"histogram\":[{\"marker\":{\"pattern\":{\"fillmode\":\"overlay\",\"size\":10,\"solidity\":0.2}},\"type\":\"histogram\"}],\"histogram2d\":[{\"colorbar\":{\"outlinewidth\":0,\"ticks\":\"\"},\"colorscale\":[[0.0,\"#0d0887\"],[0.1111111111111111,\"#46039f\"],[0.2222222222222222,\"#7201a8\"],[0.3333333333333333,\"#9c179e\"],[0.4444444444444444,\"#bd3786\"],[0.5555555555555556,\"#d8576b\"],[0.6666666666666666,\"#ed7953\"],[0.7777777777777778,\"#fb9f3a\"],[0.8888888888888888,\"#fdca26\"],[1.0,\"#f0f921\"]],\"type\":\"histogram2d\"}],\"histogram2dcontour\":[{\"colorbar\":{\"outlinewidth\":0,\"ticks\":\"\"},\"colorscale\":[[0.0,\"#0d0887\"],[0.1111111111111111,\"#46039f\"],[0.2222222222222222,\"#7201a8\"],[0.3333333333333333,\"#9c179e\"],[0.4444444444444444,\"#bd3786\"],[0.5555555555555556,\"#d8576b\"],[0.6666666666666666,\"#ed7953\"],[0.7777777777777778,\"#fb9f3a\"],[0.8888888888888888,\"#fdca26\"],[1.0,\"#f0f921\"]],\"type\":\"histogram2dcontour\"}],\"mesh3d\":[{\"colorbar\":{\"outlinewidth\":0,\"ticks\":\"\"},\"type\":\"mesh3d\"}],\"parcoords\":[{\"line\":{\"colorbar\":{\"outlinewidth\":0,\"ticks\":\"\"}},\"type\":\"parcoords\"}],\"pie\":[{\"automargin\":true,\"type\":\"pie\"}],\"scatter\":[{\"marker\":{\"colorbar\":{\"outlinewidth\":0,\"ticks\":\"\"}},\"type\":\"scatter\"}],\"scatter3d\":[{\"line\":{\"colorbar\":{\"outlinewidth\":0,\"ticks\":\"\"}},\"marker\":{\"colorbar\":{\"outlinewidth\":0,\"ticks\":\"\"}},\"type\":\"scatter3d\"}],\"scattercarpet\":[{\"marker\":{\"colorbar\":{\"outlinewidth\":0,\"ticks\":\"\"}},\"type\":\"scattercarpet\"}],\"scattergeo\":[{\"marker\":{\"colorbar\":{\"outlinewidth\":0,\"ticks\":\"\"}},\"type\":\"scattergeo\"}],\"scattergl\":[{\"marker\":{\"colorbar\":{\"outlinewidth\":0,\"ticks\":\"\"}},\"type\":\"scattergl\"}],\"scattermapbox\":[{\"marker\":{\"colorbar\":{\"outlinewidth\":0,\"ticks\":\"\"}},\"type\":\"scattermapbox\"}],\"scatterpolar\":[{\"marker\":{\"colorbar\":{\"outlinewidth\":0,\"ticks\":\"\"}},\"type\":\"scatterpolar\"}],\"scatterpolargl\":[{\"marker\":{\"colorbar\":{\"outlinewidth\":0,\"ticks\":\"\"}},\"type\":\"scatterpolargl\"}],\"scatterternary\":[{\"marker\":{\"colorbar\":{\"outlinewidth\":0,\"ticks\":\"\"}},\"type\":\"scatterternary\"}],\"surface\":[{\"colorbar\":{\"outlinewidth\":0,\"ticks\":\"\"},\"colorscale\":[[0.0,\"#0d0887\"],[0.1111111111111111,\"#46039f\"],[0.2222222222222222,\"#7201a8\"],[0.3333333333333333,\"#9c179e\"],[0.4444444444444444,\"#bd3786\"],[0.5555555555555556,\"#d8576b\"],[0.6666666666666666,\"#ed7953\"],[0.7777777777777778,\"#fb9f3a\"],[0.8888888888888888,\"#fdca26\"],[1.0,\"#f0f921\"]],\"type\":\"surface\"}],\"table\":[{\"cells\":{\"fill\":{\"color\":\"#EBF0F8\"},\"line\":{\"color\":\"white\"}},\"header\":{\"fill\":{\"color\":\"#C8D4E3\"},\"line\":{\"color\":\"white\"}},\"type\":\"table\"}]},\"layout\":{\"annotationdefaults\":{\"arrowcolor\":\"#2a3f5f\",\"arrowhead\":0,\"arrowwidth\":1},\"autotypenumbers\":\"strict\",\"coloraxis\":{\"colorbar\":{\"outlinewidth\":0,\"ticks\":\"\"}},\"colorscale\":{\"diverging\":[[0,\"#8e0152\"],[0.1,\"#c51b7d\"],[0.2,\"#de77ae\"],[0.3,\"#f1b6da\"],[0.4,\"#fde0ef\"],[0.5,\"#f7f7f7\"],[0.6,\"#e6f5d0\"],[0.7,\"#b8e186\"],[0.8,\"#7fbc41\"],[0.9,\"#4d9221\"],[1,\"#276419\"]],\"sequential\":[[0.0,\"#0d0887\"],[0.1111111111111111,\"#46039f\"],[0.2222222222222222,\"#7201a8\"],[0.3333333333333333,\"#9c179e\"],[0.4444444444444444,\"#bd3786\"],[0.5555555555555556,\"#d8576b\"],[0.6666666666666666,\"#ed7953\"],[0.7777777777777778,\"#fb9f3a\"],[0.8888888888888888,\"#fdca26\"],[1.0,\"#f0f921\"]],\"sequentialminus\":[[0.0,\"#0d0887\"],[0.1111111111111111,\"#46039f\"],[0.2222222222222222,\"#7201a8\"],[0.3333333333333333,\"#9c179e\"],[0.4444444444444444,\"#bd3786\"],[0.5555555555555556,\"#d8576b\"],[0.6666666666666666,\"#ed7953\"],[0.7777777777777778,\"#fb9f3a\"],[0.8888888888888888,\"#fdca26\"],[1.0,\"#f0f921\"]]},\"colorway\":[\"#636efa\",\"#EF553B\",\"#00cc96\",\"#ab63fa\",\"#FFA15A\",\"#19d3f3\",\"#FF6692\",\"#B6E880\",\"#FF97FF\",\"#FECB52\"],\"font\":{\"color\":\"#2a3f5f\"},\"geo\":{\"bgcolor\":\"white\",\"lakecolor\":\"white\",\"landcolor\":\"#E5ECF6\",\"showlakes\":true,\"showland\":true,\"subunitcolor\":\"white\"},\"hoverlabel\":{\"align\":\"left\"},\"hovermode\":\"closest\",\"mapbox\":{\"style\":\"light\"},\"paper_bgcolor\":\"white\",\"plot_bgcolor\":\"#E5ECF6\",\"polar\":{\"angularaxis\":{\"gridcolor\":\"white\",\"linecolor\":\"white\",\"ticks\":\"\"},\"bgcolor\":\"#E5ECF6\",\"radialaxis\":{\"gridcolor\":\"white\",\"linecolor\":\"white\",\"ticks\":\"\"}},\"scene\":{\"xaxis\":{\"backgroundcolor\":\"#E5ECF6\",\"gridcolor\":\"white\",\"gridwidth\":2,\"linecolor\":\"white\",\"showbackground\":true,\"ticks\":\"\",\"zerolinecolor\":\"white\"},\"yaxis\":{\"backgroundcolor\":\"#E5ECF6\",\"gridcolor\":\"white\",\"gridwidth\":2,\"linecolor\":\"white\",\"showbackground\":true,\"ticks\":\"\",\"zerolinecolor\":\"white\"},\"zaxis\":{\"backgroundcolor\":\"#E5ECF6\",\"gridcolor\":\"white\",\"gridwidth\":2,\"linecolor\":\"white\",\"showbackground\":true,\"ticks\":\"\",\"zerolinecolor\":\"white\"}},\"shapedefaults\":{\"line\":{\"color\":\"#2a3f5f\"}},\"ternary\":{\"aaxis\":{\"gridcolor\":\"white\",\"linecolor\":\"white\",\"ticks\":\"\"},\"baxis\":{\"gridcolor\":\"white\",\"linecolor\":\"white\",\"ticks\":\"\"},\"bgcolor\":\"#E5ECF6\",\"caxis\":{\"gridcolor\":\"white\",\"linecolor\":\"white\",\"ticks\":\"\"}},\"title\":{\"x\":0.05},\"xaxis\":{\"automargin\":true,\"gridcolor\":\"white\",\"linecolor\":\"white\",\"ticks\":\"\",\"title\":{\"standoff\":15},\"zerolinecolor\":\"white\",\"zerolinewidth\":2},\"yaxis\":{\"automargin\":true,\"gridcolor\":\"white\",\"linecolor\":\"white\",\"ticks\":\"\",\"title\":{\"standoff\":15},\"zerolinecolor\":\"white\",\"zerolinewidth\":2}}},\"title\":{\"font\":{\"color\":\"#4D5663\"},\"text\":\"SPY Trend Following Equity Curve\"},\"xaxis\":{\"gridcolor\":\"#E1E5ED\",\"showgrid\":true,\"tickfont\":{\"color\":\"#4D5663\"},\"title\":{\"font\":{\"color\":\"#4D5663\"},\"text\":\"\"},\"zerolinecolor\":\"#E1E5ED\"},\"yaxis\":{\"gridcolor\":\"#E1E5ED\",\"showgrid\":true,\"tickfont\":{\"color\":\"#4D5663\"},\"title\":{\"font\":{\"color\":\"#4D5663\"},\"text\":\"\"},\"zerolinecolor\":\"#E1E5ED\"}},                        {\"showLink\": true, \"linkText\": \"Export to plot.ly\", \"plotlyServerURL\": \"https://plot.ly\", \"responsive\": true}                    ).then(function(){\n",
       "                            \n",
       "var gd = document.getElementById('ff16f521-6025-458c-8e85-38dadc35a559');\n",
       "var x = new MutationObserver(function (mutations, observer) {{\n",
       "        var display = window.getComputedStyle(gd).display;\n",
       "        if (!display || display === 'none') {{\n",
       "            console.log([gd, 'removed!']);\n",
       "            Plotly.purge(gd);\n",
       "            observer.disconnect();\n",
       "        }}\n",
       "}});\n",
       "\n",
       "// Listen for the removal of the full notebook cells\n",
       "var notebookContainer = gd.closest('#notebook-container');\n",
       "if (notebookContainer) {{\n",
       "    x.observe(notebookContainer, {childList: true});\n",
       "}}\n",
       "\n",
       "// Listen for the clearing of the current output cell\n",
       "var outputEl = gd.closest('.output');\n",
       "if (outputEl) {{\n",
       "    x.observe(outputEl, {childList: true});\n",
       "}}\n",
       "\n",
       "                        })                };                });            </script>        </div>"
      ]
     },
     "metadata": {},
     "output_type": "display_data"
    },
    {
     "data": {
      "application/vnd.plotly.v1+json": {
       "config": {
        "linkText": "Export to plot.ly",
        "plotlyServerURL": "https://plot.ly",
        "showLink": true
       },
       "data": [
        {
         "line": {
          "color": "rgba(255, 153, 51, 1.0)",
          "dash": "solid",
          "shape": "linear",
          "width": 1.3
         },
         "mode": "lines",
         "name": "Close",
         "text": "",
         "type": "scatter",
         "x": [
          "2020-01-17",
          "2020-01-21",
          "2020-01-22",
          "2020-01-23",
          "2020-01-24",
          "2020-01-27",
          "2020-01-28",
          "2020-01-29",
          "2020-01-30",
          "2020-01-31",
          "2020-02-03",
          "2020-02-04",
          "2020-02-05",
          "2020-02-06",
          "2020-02-07",
          "2020-02-10",
          "2020-02-11",
          "2020-02-12",
          "2020-02-13",
          "2020-02-14",
          "2020-02-18",
          "2020-02-19",
          "2020-02-20",
          "2020-02-21",
          "2020-02-24",
          "2020-02-25",
          "2020-02-26",
          "2020-02-27",
          "2020-02-28",
          "2020-03-02",
          "2020-03-03",
          "2020-03-04",
          "2020-03-05",
          "2020-03-06",
          "2020-03-09",
          "2020-03-10",
          "2020-03-11",
          "2020-03-12",
          "2020-03-13",
          "2020-03-16",
          "2020-03-17",
          "2020-03-18",
          "2020-03-19",
          "2020-03-20",
          "2020-03-23",
          "2020-03-24",
          "2020-03-25",
          "2020-03-26",
          "2020-03-27",
          "2020-03-30",
          "2020-03-31",
          "2020-04-01",
          "2020-04-02",
          "2020-04-03",
          "2020-04-06",
          "2020-04-07",
          "2020-04-08",
          "2020-04-09",
          "2020-04-13",
          "2020-04-14",
          "2020-04-15",
          "2020-04-16",
          "2020-04-17",
          "2020-04-20",
          "2020-04-21",
          "2020-04-22",
          "2020-04-23",
          "2020-04-24",
          "2020-04-27",
          "2020-04-28",
          "2020-04-29",
          "2020-04-30",
          "2020-05-01",
          "2020-05-04",
          "2020-05-05",
          "2020-05-06",
          "2020-05-07",
          "2020-05-08",
          "2020-05-11",
          "2020-05-12",
          "2020-05-13",
          "2020-05-14",
          "2020-05-15",
          "2020-05-18",
          "2020-05-19",
          "2020-05-20",
          "2020-05-21",
          "2020-05-22",
          "2020-05-26",
          "2020-05-27",
          "2020-05-28",
          "2020-05-29",
          "2020-06-01",
          "2020-06-02",
          "2020-06-03",
          "2020-06-04",
          "2020-06-05",
          "2020-06-08",
          "2020-06-09",
          "2020-06-10",
          "2020-06-11",
          "2020-06-12",
          "2020-06-15",
          "2020-06-16",
          "2020-06-17",
          "2020-06-18",
          "2020-06-19",
          "2020-06-22",
          "2020-06-23",
          "2020-06-24",
          "2020-06-25",
          "2020-06-26",
          "2020-06-29",
          "2020-06-30",
          "2020-07-01",
          "2020-07-02",
          "2020-07-06",
          "2020-07-07",
          "2020-07-08",
          "2020-07-09",
          "2020-07-10",
          "2020-07-13",
          "2020-07-14",
          "2020-07-15",
          "2020-07-16",
          "2020-07-17",
          "2020-07-20",
          "2020-07-21",
          "2020-07-22",
          "2020-07-23",
          "2020-07-24",
          "2020-07-27",
          "2020-07-28",
          "2020-07-29",
          "2020-07-30",
          "2020-07-31",
          "2020-08-03",
          "2020-08-04",
          "2020-08-05",
          "2020-08-06",
          "2020-08-07",
          "2020-08-10",
          "2020-08-11",
          "2020-08-12",
          "2020-08-13",
          "2020-08-14",
          "2020-08-17",
          "2020-08-18",
          "2020-08-19",
          "2020-08-20",
          "2020-08-21",
          "2020-08-24",
          "2020-08-25",
          "2020-08-26",
          "2020-08-27",
          "2020-08-28",
          "2020-08-31",
          "2020-09-01",
          "2020-09-02",
          "2020-09-03",
          "2020-09-04",
          "2020-09-08",
          "2020-09-09",
          "2020-09-10",
          "2020-09-11",
          "2020-09-14",
          "2020-09-15",
          "2020-09-16",
          "2020-09-17",
          "2020-09-18",
          "2020-09-21",
          "2020-09-22",
          "2020-09-23",
          "2020-09-24",
          "2020-09-25",
          "2020-09-28",
          "2020-09-29",
          "2020-09-30",
          "2020-10-01",
          "2020-10-02",
          "2020-10-05",
          "2020-10-06",
          "2020-10-07",
          "2020-10-08",
          "2020-10-09",
          "2020-10-12",
          "2020-10-13",
          "2020-10-14",
          "2020-10-15",
          "2020-10-16",
          "2020-10-19",
          "2020-10-20",
          "2020-10-21",
          "2020-10-22",
          "2020-10-23",
          "2020-10-26",
          "2020-10-27",
          "2020-10-28",
          "2020-10-29",
          "2020-10-30",
          "2020-11-02",
          "2020-11-03",
          "2020-11-04",
          "2020-11-05",
          "2020-11-06",
          "2020-11-09",
          "2020-11-10",
          "2020-11-11",
          "2020-11-12",
          "2020-11-13",
          "2020-11-16",
          "2020-11-17",
          "2020-11-18",
          "2020-11-19",
          "2020-11-20",
          "2020-11-23",
          "2020-11-24",
          "2020-11-25",
          "2020-11-27",
          "2020-11-30",
          "2020-12-01",
          "2020-12-02",
          "2020-12-03",
          "2020-12-04",
          "2020-12-07",
          "2020-12-08",
          "2020-12-09",
          "2020-12-10",
          "2020-12-11",
          "2020-12-14",
          "2020-12-15",
          "2020-12-16",
          "2020-12-17",
          "2020-12-18",
          "2020-12-21",
          "2020-12-22",
          "2020-12-23",
          "2020-12-24",
          "2020-12-28",
          "2020-12-29",
          "2020-12-30",
          "2020-12-31"
         ],
         "y": [
          100311.25309364882,
          100114.82362801165,
          100126.91372329101,
          100241.7465733433,
          99350.28879281368,
          97757.7622607722,
          98782.18342325283,
          98700.58680766798,
          99020.90516726614,
          97222.89312567879,
          97945.11723841935,
          99437.92584501789,
          100586.23590145951,
          100924.69401499705,
          100386.80005057366,
          101136.2199611623,
          101311.49406557072,
          101964.2208800464,
          101855.42846661346,
          102018.61247574256,
          101755.71054117054,
          102242.22851718716,
          101822.19223214606,
          100773.60010114736,
          97431.40346455468,
          94479.02248582504,
          94131.50832837881,
          89903.90356991651,
          89526.16878529219,
          93403.23455697826,
          90728.87043743,
          94542.47934747057,
          91399.72778380441,
          89888.78864530716,
          82868.97130995493,
          87157.01732277339,
          82908.24798104173,
          74975.82211495147,
          81385.22796930576,
          72479.75231812133,
          76393.08376462516,
          72525.07864786813,
          72679.19278002753,
          69140.57589983832,
          67372.77526338842,
          73476.96846071325,
          74576.93196909844,
          78931.46428391272,
          76580.43874227231,
          79067.4432731531,
          77888.91258953337,
          74383.53194381163,
          76099.96120287506,
          74999.99769448987,
          80037.46361789694,
          80119.06023348181,
          82808.53005559879,
          84068.65735480339,
          83301.0976902754,
          85757.88620499845,
          83935.69397285239,
          84340.62455532479,
          86619.12335835001,
          85093.0692952434,
          82509.36705722936,
          84340.62455532479,
          84334.57489666478,
          85510.08997299515,
          86743.01225231103,
          86344.13132849865,
          88604.49037758453,
          87779.52351007104,
          85455.69837729902,
          85691.40451402296,
          86483.135147069,
          85896.89002356882,
          86933.39205928818,
          88371.80907019056,
          88389.93960208927,
          86628.18862429936,
          85096.0941245734,
          86114.46562839406,
          86510.33094491708,
          89145.40917133792,
          88229.7804222902,
          89728.6294655081,
          89109.14810754049,
          89278.37255328891,
          90378.33145065377,
          91723.07097273257,
          91553.84652698414,
          91961.80193878654,
          92333.48706475084,
          93098.02189994881,
          94336.9938379247,
          94089.19760592139,
          96500.65979089764,
          97667.10960127866,
          96938.8358298781,
          96397.91703612471,
          90840.6784581523,
          91928.55648227845,
          92786.76880630001,
          94572.69997464864,
          94179.85948745561,
          94216.12055125306,
          93267.25556773791,
          93865.5815644768,
          94297.70794479726,
          91892.29541848102,
          92877.43068783423,
          90671.45401240385,
          92004.1034392033,
          93182.63412282304,
          93835.36093729871,
          94352.10876253404,
          95808.64708329449,
          94820.49620665192,
          95545.74514872248,
          95001.81074767972,
          95971.83109242357,
          95140.81456625009,
          96373.7460676066,
          97259.15418947623,
          96938.83582987805,
          97219.86829634878,
          98005.5584927755,
          98214.06883165137,
          98773.10893526283,
          97594.5782516431,
          96966.03162772613,
          97673.15003789795,
          97053.66867993034,
          98247.30506611879,
          97896.76607934255,
          98670.3661804899,
          99356.33845147365,
          99740.11367271733,
          100359.59503068494,
          101030.45237705934,
          101102.98372669485,
          101405.17155439428,
          100568.10536956078,
          101970.26131666574,
          101785.92194630794,
          101788.94677563795,
          102112.28996456612,
          102332.89039872136,
          101906.80445502025,
          102224.09798528842,
          102586.72706734399,
          103626.25393239336,
          103988.87379240831,
          105031.42548678766,
          105261.0819648516,
          105941.00457717536,
          105557.2293559317,
          106551.42989123428,
          108092.58965690958,
          104372.6582356926,
          103520.48634829039,
          100692.0034855624,
          102680.40455616753,
          100897.49821714891,
          100948.86498351506,
          102278.4895809845,
          102795.23740621984,
          102387.28199441744,
          101486.75894793846,
          99918.40338441507,
          98806.35439177084,
          99812.63580031213,
          97497.88515553011,
          97757.76226077211,
          99338.20791957488,
          100988.1508766425,
          100438.16681693976,
          101199.6860448484,
          101849.38802999408,
          100882.38329253958,
          102671.33929021821,
          101211.76691808712,
          102973.52711791765,
          103886.13103763535,
          104813.84988196242,
          106500.05390282748,
          105805.02558793502,
          105140.20867817997,
          105010.27012555896,
          104946.81326391346,
          103351.26190254198,
          103765.25775096372,
          103568.8375073672,
          104136.94287692803,
          104490.50669303426,
          102559.53126949591,
          102205.96745338966,
          98712.67690294726,
          99715.94270419919,
          98676.41583914983,
          99782.4243951747,
          101544.17537296463,
          103813.6089100405,
          105838.26182240243,
          105814.09085388435,
          107143.7154513538,
          106986.58110088471,
          107781.33656326075,
          106735.76003955139,
          108213.46294358121,
          109564.24290227938,
          108974.97294944918,
          107663.47888387844,
          108116.76062542763,
          107376.39675874772,
          108020.05830727406,
          109760.6631458759,
          109591.43870012746,
          109896.65135715692,
          109410.12415909965,
          110606.78537461808,
          110839.47590405267,
          110809.2552768746,
          111764.16991904975,
          111534.50421894515,
          111860.87223720331,
          110857.6064359514,
          110821.34537215396,
          110691.39759749231,
          110195.81435552634,
          111685.59813279488,
          111860.87223720331,
          112486.3940317903,
          111561.70001679324,
          111162.80987094021,
          110975.45489329303,
          111075.18204077662,
          111507.30842109708,
          112465.24789260224,
          112250.68789506635,
          112410.84707486544,
          112981.9864957969
         ]
        }
       ],
       "layout": {
        "legend": {
         "bgcolor": "#F5F6F9",
         "font": {
          "color": "#4D5663"
         }
        },
        "paper_bgcolor": "#F5F6F9",
        "plot_bgcolor": "#F5F6F9",
        "template": {
         "data": {
          "bar": [
           {
            "error_x": {
             "color": "#2a3f5f"
            },
            "error_y": {
             "color": "#2a3f5f"
            },
            "marker": {
             "line": {
              "color": "#E5ECF6",
              "width": 0.5
             },
             "pattern": {
              "fillmode": "overlay",
              "size": 10,
              "solidity": 0.2
             }
            },
            "type": "bar"
           }
          ],
          "barpolar": [
           {
            "marker": {
             "line": {
              "color": "#E5ECF6",
              "width": 0.5
             },
             "pattern": {
              "fillmode": "overlay",
              "size": 10,
              "solidity": 0.2
             }
            },
            "type": "barpolar"
           }
          ],
          "carpet": [
           {
            "aaxis": {
             "endlinecolor": "#2a3f5f",
             "gridcolor": "white",
             "linecolor": "white",
             "minorgridcolor": "white",
             "startlinecolor": "#2a3f5f"
            },
            "baxis": {
             "endlinecolor": "#2a3f5f",
             "gridcolor": "white",
             "linecolor": "white",
             "minorgridcolor": "white",
             "startlinecolor": "#2a3f5f"
            },
            "type": "carpet"
           }
          ],
          "choropleth": [
           {
            "colorbar": {
             "outlinewidth": 0,
             "ticks": ""
            },
            "type": "choropleth"
           }
          ],
          "contour": [
           {
            "colorbar": {
             "outlinewidth": 0,
             "ticks": ""
            },
            "colorscale": [
             [
              0,
              "#0d0887"
             ],
             [
              0.1111111111111111,
              "#46039f"
             ],
             [
              0.2222222222222222,
              "#7201a8"
             ],
             [
              0.3333333333333333,
              "#9c179e"
             ],
             [
              0.4444444444444444,
              "#bd3786"
             ],
             [
              0.5555555555555556,
              "#d8576b"
             ],
             [
              0.6666666666666666,
              "#ed7953"
             ],
             [
              0.7777777777777778,
              "#fb9f3a"
             ],
             [
              0.8888888888888888,
              "#fdca26"
             ],
             [
              1,
              "#f0f921"
             ]
            ],
            "type": "contour"
           }
          ],
          "contourcarpet": [
           {
            "colorbar": {
             "outlinewidth": 0,
             "ticks": ""
            },
            "type": "contourcarpet"
           }
          ],
          "heatmap": [
           {
            "colorbar": {
             "outlinewidth": 0,
             "ticks": ""
            },
            "colorscale": [
             [
              0,
              "#0d0887"
             ],
             [
              0.1111111111111111,
              "#46039f"
             ],
             [
              0.2222222222222222,
              "#7201a8"
             ],
             [
              0.3333333333333333,
              "#9c179e"
             ],
             [
              0.4444444444444444,
              "#bd3786"
             ],
             [
              0.5555555555555556,
              "#d8576b"
             ],
             [
              0.6666666666666666,
              "#ed7953"
             ],
             [
              0.7777777777777778,
              "#fb9f3a"
             ],
             [
              0.8888888888888888,
              "#fdca26"
             ],
             [
              1,
              "#f0f921"
             ]
            ],
            "type": "heatmap"
           }
          ],
          "heatmapgl": [
           {
            "colorbar": {
             "outlinewidth": 0,
             "ticks": ""
            },
            "colorscale": [
             [
              0,
              "#0d0887"
             ],
             [
              0.1111111111111111,
              "#46039f"
             ],
             [
              0.2222222222222222,
              "#7201a8"
             ],
             [
              0.3333333333333333,
              "#9c179e"
             ],
             [
              0.4444444444444444,
              "#bd3786"
             ],
             [
              0.5555555555555556,
              "#d8576b"
             ],
             [
              0.6666666666666666,
              "#ed7953"
             ],
             [
              0.7777777777777778,
              "#fb9f3a"
             ],
             [
              0.8888888888888888,
              "#fdca26"
             ],
             [
              1,
              "#f0f921"
             ]
            ],
            "type": "heatmapgl"
           }
          ],
          "histogram": [
           {
            "marker": {
             "pattern": {
              "fillmode": "overlay",
              "size": 10,
              "solidity": 0.2
             }
            },
            "type": "histogram"
           }
          ],
          "histogram2d": [
           {
            "colorbar": {
             "outlinewidth": 0,
             "ticks": ""
            },
            "colorscale": [
             [
              0,
              "#0d0887"
             ],
             [
              0.1111111111111111,
              "#46039f"
             ],
             [
              0.2222222222222222,
              "#7201a8"
             ],
             [
              0.3333333333333333,
              "#9c179e"
             ],
             [
              0.4444444444444444,
              "#bd3786"
             ],
             [
              0.5555555555555556,
              "#d8576b"
             ],
             [
              0.6666666666666666,
              "#ed7953"
             ],
             [
              0.7777777777777778,
              "#fb9f3a"
             ],
             [
              0.8888888888888888,
              "#fdca26"
             ],
             [
              1,
              "#f0f921"
             ]
            ],
            "type": "histogram2d"
           }
          ],
          "histogram2dcontour": [
           {
            "colorbar": {
             "outlinewidth": 0,
             "ticks": ""
            },
            "colorscale": [
             [
              0,
              "#0d0887"
             ],
             [
              0.1111111111111111,
              "#46039f"
             ],
             [
              0.2222222222222222,
              "#7201a8"
             ],
             [
              0.3333333333333333,
              "#9c179e"
             ],
             [
              0.4444444444444444,
              "#bd3786"
             ],
             [
              0.5555555555555556,
              "#d8576b"
             ],
             [
              0.6666666666666666,
              "#ed7953"
             ],
             [
              0.7777777777777778,
              "#fb9f3a"
             ],
             [
              0.8888888888888888,
              "#fdca26"
             ],
             [
              1,
              "#f0f921"
             ]
            ],
            "type": "histogram2dcontour"
           }
          ],
          "mesh3d": [
           {
            "colorbar": {
             "outlinewidth": 0,
             "ticks": ""
            },
            "type": "mesh3d"
           }
          ],
          "parcoords": [
           {
            "line": {
             "colorbar": {
              "outlinewidth": 0,
              "ticks": ""
             }
            },
            "type": "parcoords"
           }
          ],
          "pie": [
           {
            "automargin": true,
            "type": "pie"
           }
          ],
          "scatter": [
           {
            "marker": {
             "colorbar": {
              "outlinewidth": 0,
              "ticks": ""
             }
            },
            "type": "scatter"
           }
          ],
          "scatter3d": [
           {
            "line": {
             "colorbar": {
              "outlinewidth": 0,
              "ticks": ""
             }
            },
            "marker": {
             "colorbar": {
              "outlinewidth": 0,
              "ticks": ""
             }
            },
            "type": "scatter3d"
           }
          ],
          "scattercarpet": [
           {
            "marker": {
             "colorbar": {
              "outlinewidth": 0,
              "ticks": ""
             }
            },
            "type": "scattercarpet"
           }
          ],
          "scattergeo": [
           {
            "marker": {
             "colorbar": {
              "outlinewidth": 0,
              "ticks": ""
             }
            },
            "type": "scattergeo"
           }
          ],
          "scattergl": [
           {
            "marker": {
             "colorbar": {
              "outlinewidth": 0,
              "ticks": ""
             }
            },
            "type": "scattergl"
           }
          ],
          "scattermapbox": [
           {
            "marker": {
             "colorbar": {
              "outlinewidth": 0,
              "ticks": ""
             }
            },
            "type": "scattermapbox"
           }
          ],
          "scatterpolar": [
           {
            "marker": {
             "colorbar": {
              "outlinewidth": 0,
              "ticks": ""
             }
            },
            "type": "scatterpolar"
           }
          ],
          "scatterpolargl": [
           {
            "marker": {
             "colorbar": {
              "outlinewidth": 0,
              "ticks": ""
             }
            },
            "type": "scatterpolargl"
           }
          ],
          "scatterternary": [
           {
            "marker": {
             "colorbar": {
              "outlinewidth": 0,
              "ticks": ""
             }
            },
            "type": "scatterternary"
           }
          ],
          "surface": [
           {
            "colorbar": {
             "outlinewidth": 0,
             "ticks": ""
            },
            "colorscale": [
             [
              0,
              "#0d0887"
             ],
             [
              0.1111111111111111,
              "#46039f"
             ],
             [
              0.2222222222222222,
              "#7201a8"
             ],
             [
              0.3333333333333333,
              "#9c179e"
             ],
             [
              0.4444444444444444,
              "#bd3786"
             ],
             [
              0.5555555555555556,
              "#d8576b"
             ],
             [
              0.6666666666666666,
              "#ed7953"
             ],
             [
              0.7777777777777778,
              "#fb9f3a"
             ],
             [
              0.8888888888888888,
              "#fdca26"
             ],
             [
              1,
              "#f0f921"
             ]
            ],
            "type": "surface"
           }
          ],
          "table": [
           {
            "cells": {
             "fill": {
              "color": "#EBF0F8"
             },
             "line": {
              "color": "white"
             }
            },
            "header": {
             "fill": {
              "color": "#C8D4E3"
             },
             "line": {
              "color": "white"
             }
            },
            "type": "table"
           }
          ]
         },
         "layout": {
          "annotationdefaults": {
           "arrowcolor": "#2a3f5f",
           "arrowhead": 0,
           "arrowwidth": 1
          },
          "autotypenumbers": "strict",
          "coloraxis": {
           "colorbar": {
            "outlinewidth": 0,
            "ticks": ""
           }
          },
          "colorscale": {
           "diverging": [
            [
             0,
             "#8e0152"
            ],
            [
             0.1,
             "#c51b7d"
            ],
            [
             0.2,
             "#de77ae"
            ],
            [
             0.3,
             "#f1b6da"
            ],
            [
             0.4,
             "#fde0ef"
            ],
            [
             0.5,
             "#f7f7f7"
            ],
            [
             0.6,
             "#e6f5d0"
            ],
            [
             0.7,
             "#b8e186"
            ],
            [
             0.8,
             "#7fbc41"
            ],
            [
             0.9,
             "#4d9221"
            ],
            [
             1,
             "#276419"
            ]
           ],
           "sequential": [
            [
             0,
             "#0d0887"
            ],
            [
             0.1111111111111111,
             "#46039f"
            ],
            [
             0.2222222222222222,
             "#7201a8"
            ],
            [
             0.3333333333333333,
             "#9c179e"
            ],
            [
             0.4444444444444444,
             "#bd3786"
            ],
            [
             0.5555555555555556,
             "#d8576b"
            ],
            [
             0.6666666666666666,
             "#ed7953"
            ],
            [
             0.7777777777777778,
             "#fb9f3a"
            ],
            [
             0.8888888888888888,
             "#fdca26"
            ],
            [
             1,
             "#f0f921"
            ]
           ],
           "sequentialminus": [
            [
             0,
             "#0d0887"
            ],
            [
             0.1111111111111111,
             "#46039f"
            ],
            [
             0.2222222222222222,
             "#7201a8"
            ],
            [
             0.3333333333333333,
             "#9c179e"
            ],
            [
             0.4444444444444444,
             "#bd3786"
            ],
            [
             0.5555555555555556,
             "#d8576b"
            ],
            [
             0.6666666666666666,
             "#ed7953"
            ],
            [
             0.7777777777777778,
             "#fb9f3a"
            ],
            [
             0.8888888888888888,
             "#fdca26"
            ],
            [
             1,
             "#f0f921"
            ]
           ]
          },
          "colorway": [
           "#636efa",
           "#EF553B",
           "#00cc96",
           "#ab63fa",
           "#FFA15A",
           "#19d3f3",
           "#FF6692",
           "#B6E880",
           "#FF97FF",
           "#FECB52"
          ],
          "font": {
           "color": "#2a3f5f"
          },
          "geo": {
           "bgcolor": "white",
           "lakecolor": "white",
           "landcolor": "#E5ECF6",
           "showlakes": true,
           "showland": true,
           "subunitcolor": "white"
          },
          "hoverlabel": {
           "align": "left"
          },
          "hovermode": "closest",
          "mapbox": {
           "style": "light"
          },
          "paper_bgcolor": "white",
          "plot_bgcolor": "#E5ECF6",
          "polar": {
           "angularaxis": {
            "gridcolor": "white",
            "linecolor": "white",
            "ticks": ""
           },
           "bgcolor": "#E5ECF6",
           "radialaxis": {
            "gridcolor": "white",
            "linecolor": "white",
            "ticks": ""
           }
          },
          "scene": {
           "xaxis": {
            "backgroundcolor": "#E5ECF6",
            "gridcolor": "white",
            "gridwidth": 2,
            "linecolor": "white",
            "showbackground": true,
            "ticks": "",
            "zerolinecolor": "white"
           },
           "yaxis": {
            "backgroundcolor": "#E5ECF6",
            "gridcolor": "white",
            "gridwidth": 2,
            "linecolor": "white",
            "showbackground": true,
            "ticks": "",
            "zerolinecolor": "white"
           },
           "zaxis": {
            "backgroundcolor": "#E5ECF6",
            "gridcolor": "white",
            "gridwidth": 2,
            "linecolor": "white",
            "showbackground": true,
            "ticks": "",
            "zerolinecolor": "white"
           }
          },
          "shapedefaults": {
           "line": {
            "color": "#2a3f5f"
           }
          },
          "ternary": {
           "aaxis": {
            "gridcolor": "white",
            "linecolor": "white",
            "ticks": ""
           },
           "baxis": {
            "gridcolor": "white",
            "linecolor": "white",
            "ticks": ""
           },
           "bgcolor": "#E5ECF6",
           "caxis": {
            "gridcolor": "white",
            "linecolor": "white",
            "ticks": ""
           }
          },
          "title": {
           "x": 0.05
          },
          "xaxis": {
           "automargin": true,
           "gridcolor": "white",
           "linecolor": "white",
           "ticks": "",
           "title": {
            "standoff": 15
           },
           "zerolinecolor": "white",
           "zerolinewidth": 2
          },
          "yaxis": {
           "automargin": true,
           "gridcolor": "white",
           "linecolor": "white",
           "ticks": "",
           "title": {
            "standoff": 15
           },
           "zerolinecolor": "white",
           "zerolinewidth": 2
          }
         }
        },
        "title": {
         "font": {
          "color": "#4D5663"
         },
         "text": "SPY Buy-and-Hold Equity Curve"
        },
        "xaxis": {
         "gridcolor": "#E1E5ED",
         "showgrid": true,
         "tickfont": {
          "color": "#4D5663"
         },
         "title": {
          "font": {
           "color": "#4D5663"
          },
          "text": ""
         },
         "zerolinecolor": "#E1E5ED"
        },
        "yaxis": {
         "gridcolor": "#E1E5ED",
         "showgrid": true,
         "tickfont": {
          "color": "#4D5663"
         },
         "title": {
          "font": {
           "color": "#4D5663"
          },
          "text": ""
         },
         "zerolinecolor": "#E1E5ED"
        }
       }
      },
      "text/html": [
       "<div>                            <div id=\"0941254c-c641-4781-8c24-9025ca85850e\" class=\"plotly-graph-div\" style=\"height:525px; width:100%;\"></div>            <script type=\"text/javascript\">                require([\"plotly\"], function(Plotly) {                    window.PLOTLYENV=window.PLOTLYENV || {};\n",
       "                    window.PLOTLYENV.BASE_URL='https://plot.ly';                                    if (document.getElementById(\"0941254c-c641-4781-8c24-9025ca85850e\")) {                    Plotly.newPlot(                        \"0941254c-c641-4781-8c24-9025ca85850e\",                        [{\"line\":{\"color\":\"rgba(255, 153, 51, 1.0)\",\"dash\":\"solid\",\"shape\":\"linear\",\"width\":1.3},\"mode\":\"lines\",\"name\":\"Close\",\"text\":\"\",\"type\":\"scatter\",\"x\":[\"2020-01-17\",\"2020-01-21\",\"2020-01-22\",\"2020-01-23\",\"2020-01-24\",\"2020-01-27\",\"2020-01-28\",\"2020-01-29\",\"2020-01-30\",\"2020-01-31\",\"2020-02-03\",\"2020-02-04\",\"2020-02-05\",\"2020-02-06\",\"2020-02-07\",\"2020-02-10\",\"2020-02-11\",\"2020-02-12\",\"2020-02-13\",\"2020-02-14\",\"2020-02-18\",\"2020-02-19\",\"2020-02-20\",\"2020-02-21\",\"2020-02-24\",\"2020-02-25\",\"2020-02-26\",\"2020-02-27\",\"2020-02-28\",\"2020-03-02\",\"2020-03-03\",\"2020-03-04\",\"2020-03-05\",\"2020-03-06\",\"2020-03-09\",\"2020-03-10\",\"2020-03-11\",\"2020-03-12\",\"2020-03-13\",\"2020-03-16\",\"2020-03-17\",\"2020-03-18\",\"2020-03-19\",\"2020-03-20\",\"2020-03-23\",\"2020-03-24\",\"2020-03-25\",\"2020-03-26\",\"2020-03-27\",\"2020-03-30\",\"2020-03-31\",\"2020-04-01\",\"2020-04-02\",\"2020-04-03\",\"2020-04-06\",\"2020-04-07\",\"2020-04-08\",\"2020-04-09\",\"2020-04-13\",\"2020-04-14\",\"2020-04-15\",\"2020-04-16\",\"2020-04-17\",\"2020-04-20\",\"2020-04-21\",\"2020-04-22\",\"2020-04-23\",\"2020-04-24\",\"2020-04-27\",\"2020-04-28\",\"2020-04-29\",\"2020-04-30\",\"2020-05-01\",\"2020-05-04\",\"2020-05-05\",\"2020-05-06\",\"2020-05-07\",\"2020-05-08\",\"2020-05-11\",\"2020-05-12\",\"2020-05-13\",\"2020-05-14\",\"2020-05-15\",\"2020-05-18\",\"2020-05-19\",\"2020-05-20\",\"2020-05-21\",\"2020-05-22\",\"2020-05-26\",\"2020-05-27\",\"2020-05-28\",\"2020-05-29\",\"2020-06-01\",\"2020-06-02\",\"2020-06-03\",\"2020-06-04\",\"2020-06-05\",\"2020-06-08\",\"2020-06-09\",\"2020-06-10\",\"2020-06-11\",\"2020-06-12\",\"2020-06-15\",\"2020-06-16\",\"2020-06-17\",\"2020-06-18\",\"2020-06-19\",\"2020-06-22\",\"2020-06-23\",\"2020-06-24\",\"2020-06-25\",\"2020-06-26\",\"2020-06-29\",\"2020-06-30\",\"2020-07-01\",\"2020-07-02\",\"2020-07-06\",\"2020-07-07\",\"2020-07-08\",\"2020-07-09\",\"2020-07-10\",\"2020-07-13\",\"2020-07-14\",\"2020-07-15\",\"2020-07-16\",\"2020-07-17\",\"2020-07-20\",\"2020-07-21\",\"2020-07-22\",\"2020-07-23\",\"2020-07-24\",\"2020-07-27\",\"2020-07-28\",\"2020-07-29\",\"2020-07-30\",\"2020-07-31\",\"2020-08-03\",\"2020-08-04\",\"2020-08-05\",\"2020-08-06\",\"2020-08-07\",\"2020-08-10\",\"2020-08-11\",\"2020-08-12\",\"2020-08-13\",\"2020-08-14\",\"2020-08-17\",\"2020-08-18\",\"2020-08-19\",\"2020-08-20\",\"2020-08-21\",\"2020-08-24\",\"2020-08-25\",\"2020-08-26\",\"2020-08-27\",\"2020-08-28\",\"2020-08-31\",\"2020-09-01\",\"2020-09-02\",\"2020-09-03\",\"2020-09-04\",\"2020-09-08\",\"2020-09-09\",\"2020-09-10\",\"2020-09-11\",\"2020-09-14\",\"2020-09-15\",\"2020-09-16\",\"2020-09-17\",\"2020-09-18\",\"2020-09-21\",\"2020-09-22\",\"2020-09-23\",\"2020-09-24\",\"2020-09-25\",\"2020-09-28\",\"2020-09-29\",\"2020-09-30\",\"2020-10-01\",\"2020-10-02\",\"2020-10-05\",\"2020-10-06\",\"2020-10-07\",\"2020-10-08\",\"2020-10-09\",\"2020-10-12\",\"2020-10-13\",\"2020-10-14\",\"2020-10-15\",\"2020-10-16\",\"2020-10-19\",\"2020-10-20\",\"2020-10-21\",\"2020-10-22\",\"2020-10-23\",\"2020-10-26\",\"2020-10-27\",\"2020-10-28\",\"2020-10-29\",\"2020-10-30\",\"2020-11-02\",\"2020-11-03\",\"2020-11-04\",\"2020-11-05\",\"2020-11-06\",\"2020-11-09\",\"2020-11-10\",\"2020-11-11\",\"2020-11-12\",\"2020-11-13\",\"2020-11-16\",\"2020-11-17\",\"2020-11-18\",\"2020-11-19\",\"2020-11-20\",\"2020-11-23\",\"2020-11-24\",\"2020-11-25\",\"2020-11-27\",\"2020-11-30\",\"2020-12-01\",\"2020-12-02\",\"2020-12-03\",\"2020-12-04\",\"2020-12-07\",\"2020-12-08\",\"2020-12-09\",\"2020-12-10\",\"2020-12-11\",\"2020-12-14\",\"2020-12-15\",\"2020-12-16\",\"2020-12-17\",\"2020-12-18\",\"2020-12-21\",\"2020-12-22\",\"2020-12-23\",\"2020-12-24\",\"2020-12-28\",\"2020-12-29\",\"2020-12-30\",\"2020-12-31\"],\"y\":[100311.25309364882,100114.82362801165,100126.91372329101,100241.7465733433,99350.28879281368,97757.7622607722,98782.18342325283,98700.58680766798,99020.90516726614,97222.89312567879,97945.11723841935,99437.92584501789,100586.23590145951,100924.69401499705,100386.80005057366,101136.2199611623,101311.49406557072,101964.2208800464,101855.42846661346,102018.61247574256,101755.71054117054,102242.22851718716,101822.19223214606,100773.60010114736,97431.40346455468,94479.02248582504,94131.50832837881,89903.90356991651,89526.16878529219,93403.23455697826,90728.87043743,94542.47934747057,91399.72778380441,89888.78864530716,82868.97130995493,87157.01732277339,82908.24798104173,74975.82211495147,81385.22796930576,72479.75231812133,76393.08376462516,72525.07864786813,72679.19278002753,69140.57589983832,67372.77526338842,73476.96846071325,74576.93196909844,78931.46428391272,76580.43874227231,79067.4432731531,77888.91258953337,74383.53194381163,76099.96120287506,74999.99769448987,80037.46361789694,80119.06023348181,82808.53005559879,84068.65735480339,83301.0976902754,85757.88620499845,83935.69397285239,84340.62455532479,86619.12335835001,85093.0692952434,82509.36705722936,84340.62455532479,84334.57489666478,85510.08997299515,86743.01225231103,86344.13132849865,88604.49037758453,87779.52351007104,85455.69837729902,85691.40451402296,86483.135147069,85896.89002356882,86933.39205928818,88371.80907019056,88389.93960208927,86628.18862429936,85096.0941245734,86114.46562839406,86510.33094491708,89145.40917133792,88229.7804222902,89728.6294655081,89109.14810754049,89278.37255328891,90378.33145065377,91723.07097273257,91553.84652698414,91961.80193878654,92333.48706475084,93098.02189994881,94336.9938379247,94089.19760592139,96500.65979089764,97667.10960127866,96938.8358298781,96397.91703612471,90840.6784581523,91928.55648227845,92786.76880630001,94572.69997464864,94179.85948745561,94216.12055125306,93267.25556773791,93865.5815644768,94297.70794479726,91892.29541848102,92877.43068783423,90671.45401240385,92004.1034392033,93182.63412282304,93835.36093729871,94352.10876253404,95808.64708329449,94820.49620665192,95545.74514872248,95001.81074767972,95971.83109242357,95140.81456625009,96373.7460676066,97259.15418947623,96938.83582987805,97219.86829634878,98005.5584927755,98214.06883165137,98773.10893526283,97594.5782516431,96966.03162772613,97673.15003789795,97053.66867993034,98247.30506611879,97896.76607934255,98670.3661804899,99356.33845147365,99740.11367271733,100359.59503068494,101030.45237705934,101102.98372669485,101405.17155439428,100568.10536956078,101970.26131666574,101785.92194630794,101788.94677563795,102112.28996456612,102332.89039872136,101906.80445502025,102224.09798528842,102586.72706734399,103626.25393239336,103988.87379240831,105031.42548678766,105261.0819648516,105941.00457717536,105557.2293559317,106551.42989123428,108092.58965690958,104372.6582356926,103520.48634829039,100692.0034855624,102680.40455616753,100897.49821714891,100948.86498351506,102278.4895809845,102795.23740621984,102387.28199441744,101486.75894793846,99918.40338441507,98806.35439177084,99812.63580031213,97497.88515553011,97757.76226077211,99338.20791957488,100988.1508766425,100438.16681693976,101199.6860448484,101849.38802999408,100882.38329253958,102671.33929021821,101211.76691808712,102973.52711791765,103886.13103763535,104813.84988196242,106500.05390282748,105805.02558793502,105140.20867817997,105010.27012555896,104946.81326391346,103351.26190254198,103765.25775096372,103568.8375073672,104136.94287692803,104490.50669303426,102559.53126949591,102205.96745338966,98712.67690294726,99715.94270419919,98676.41583914983,99782.4243951747,101544.17537296463,103813.6089100405,105838.26182240243,105814.09085388435,107143.7154513538,106986.58110088471,107781.33656326075,106735.76003955139,108213.46294358121,109564.24290227938,108974.97294944918,107663.47888387844,108116.76062542763,107376.39675874772,108020.05830727406,109760.6631458759,109591.43870012746,109896.65135715692,109410.12415909965,110606.78537461808,110839.47590405267,110809.2552768746,111764.16991904975,111534.50421894515,111860.87223720331,110857.6064359514,110821.34537215396,110691.39759749231,110195.81435552634,111685.59813279488,111860.87223720331,112486.3940317903,111561.70001679324,111162.80987094021,110975.45489329303,111075.18204077662,111507.30842109708,112465.24789260224,112250.68789506635,112410.84707486544,112981.9864957969]}],                        {\"legend\":{\"bgcolor\":\"#F5F6F9\",\"font\":{\"color\":\"#4D5663\"}},\"paper_bgcolor\":\"#F5F6F9\",\"plot_bgcolor\":\"#F5F6F9\",\"template\":{\"data\":{\"bar\":[{\"error_x\":{\"color\":\"#2a3f5f\"},\"error_y\":{\"color\":\"#2a3f5f\"},\"marker\":{\"line\":{\"color\":\"#E5ECF6\",\"width\":0.5},\"pattern\":{\"fillmode\":\"overlay\",\"size\":10,\"solidity\":0.2}},\"type\":\"bar\"}],\"barpolar\":[{\"marker\":{\"line\":{\"color\":\"#E5ECF6\",\"width\":0.5},\"pattern\":{\"fillmode\":\"overlay\",\"size\":10,\"solidity\":0.2}},\"type\":\"barpolar\"}],\"carpet\":[{\"aaxis\":{\"endlinecolor\":\"#2a3f5f\",\"gridcolor\":\"white\",\"linecolor\":\"white\",\"minorgridcolor\":\"white\",\"startlinecolor\":\"#2a3f5f\"},\"baxis\":{\"endlinecolor\":\"#2a3f5f\",\"gridcolor\":\"white\",\"linecolor\":\"white\",\"minorgridcolor\":\"white\",\"startlinecolor\":\"#2a3f5f\"},\"type\":\"carpet\"}],\"choropleth\":[{\"colorbar\":{\"outlinewidth\":0,\"ticks\":\"\"},\"type\":\"choropleth\"}],\"contour\":[{\"colorbar\":{\"outlinewidth\":0,\"ticks\":\"\"},\"colorscale\":[[0.0,\"#0d0887\"],[0.1111111111111111,\"#46039f\"],[0.2222222222222222,\"#7201a8\"],[0.3333333333333333,\"#9c179e\"],[0.4444444444444444,\"#bd3786\"],[0.5555555555555556,\"#d8576b\"],[0.6666666666666666,\"#ed7953\"],[0.7777777777777778,\"#fb9f3a\"],[0.8888888888888888,\"#fdca26\"],[1.0,\"#f0f921\"]],\"type\":\"contour\"}],\"contourcarpet\":[{\"colorbar\":{\"outlinewidth\":0,\"ticks\":\"\"},\"type\":\"contourcarpet\"}],\"heatmap\":[{\"colorbar\":{\"outlinewidth\":0,\"ticks\":\"\"},\"colorscale\":[[0.0,\"#0d0887\"],[0.1111111111111111,\"#46039f\"],[0.2222222222222222,\"#7201a8\"],[0.3333333333333333,\"#9c179e\"],[0.4444444444444444,\"#bd3786\"],[0.5555555555555556,\"#d8576b\"],[0.6666666666666666,\"#ed7953\"],[0.7777777777777778,\"#fb9f3a\"],[0.8888888888888888,\"#fdca26\"],[1.0,\"#f0f921\"]],\"type\":\"heatmap\"}],\"heatmapgl\":[{\"colorbar\":{\"outlinewidth\":0,\"ticks\":\"\"},\"colorscale\":[[0.0,\"#0d0887\"],[0.1111111111111111,\"#46039f\"],[0.2222222222222222,\"#7201a8\"],[0.3333333333333333,\"#9c179e\"],[0.4444444444444444,\"#bd3786\"],[0.5555555555555556,\"#d8576b\"],[0.6666666666666666,\"#ed7953\"],[0.7777777777777778,\"#fb9f3a\"],[0.8888888888888888,\"#fdca26\"],[1.0,\"#f0f921\"]],\"type\":\"heatmapgl\"}],\"histogram\":[{\"marker\":{\"pattern\":{\"fillmode\":\"overlay\",\"size\":10,\"solidity\":0.2}},\"type\":\"histogram\"}],\"histogram2d\":[{\"colorbar\":{\"outlinewidth\":0,\"ticks\":\"\"},\"colorscale\":[[0.0,\"#0d0887\"],[0.1111111111111111,\"#46039f\"],[0.2222222222222222,\"#7201a8\"],[0.3333333333333333,\"#9c179e\"],[0.4444444444444444,\"#bd3786\"],[0.5555555555555556,\"#d8576b\"],[0.6666666666666666,\"#ed7953\"],[0.7777777777777778,\"#fb9f3a\"],[0.8888888888888888,\"#fdca26\"],[1.0,\"#f0f921\"]],\"type\":\"histogram2d\"}],\"histogram2dcontour\":[{\"colorbar\":{\"outlinewidth\":0,\"ticks\":\"\"},\"colorscale\":[[0.0,\"#0d0887\"],[0.1111111111111111,\"#46039f\"],[0.2222222222222222,\"#7201a8\"],[0.3333333333333333,\"#9c179e\"],[0.4444444444444444,\"#bd3786\"],[0.5555555555555556,\"#d8576b\"],[0.6666666666666666,\"#ed7953\"],[0.7777777777777778,\"#fb9f3a\"],[0.8888888888888888,\"#fdca26\"],[1.0,\"#f0f921\"]],\"type\":\"histogram2dcontour\"}],\"mesh3d\":[{\"colorbar\":{\"outlinewidth\":0,\"ticks\":\"\"},\"type\":\"mesh3d\"}],\"parcoords\":[{\"line\":{\"colorbar\":{\"outlinewidth\":0,\"ticks\":\"\"}},\"type\":\"parcoords\"}],\"pie\":[{\"automargin\":true,\"type\":\"pie\"}],\"scatter\":[{\"marker\":{\"colorbar\":{\"outlinewidth\":0,\"ticks\":\"\"}},\"type\":\"scatter\"}],\"scatter3d\":[{\"line\":{\"colorbar\":{\"outlinewidth\":0,\"ticks\":\"\"}},\"marker\":{\"colorbar\":{\"outlinewidth\":0,\"ticks\":\"\"}},\"type\":\"scatter3d\"}],\"scattercarpet\":[{\"marker\":{\"colorbar\":{\"outlinewidth\":0,\"ticks\":\"\"}},\"type\":\"scattercarpet\"}],\"scattergeo\":[{\"marker\":{\"colorbar\":{\"outlinewidth\":0,\"ticks\":\"\"}},\"type\":\"scattergeo\"}],\"scattergl\":[{\"marker\":{\"colorbar\":{\"outlinewidth\":0,\"ticks\":\"\"}},\"type\":\"scattergl\"}],\"scattermapbox\":[{\"marker\":{\"colorbar\":{\"outlinewidth\":0,\"ticks\":\"\"}},\"type\":\"scattermapbox\"}],\"scatterpolar\":[{\"marker\":{\"colorbar\":{\"outlinewidth\":0,\"ticks\":\"\"}},\"type\":\"scatterpolar\"}],\"scatterpolargl\":[{\"marker\":{\"colorbar\":{\"outlinewidth\":0,\"ticks\":\"\"}},\"type\":\"scatterpolargl\"}],\"scatterternary\":[{\"marker\":{\"colorbar\":{\"outlinewidth\":0,\"ticks\":\"\"}},\"type\":\"scatterternary\"}],\"surface\":[{\"colorbar\":{\"outlinewidth\":0,\"ticks\":\"\"},\"colorscale\":[[0.0,\"#0d0887\"],[0.1111111111111111,\"#46039f\"],[0.2222222222222222,\"#7201a8\"],[0.3333333333333333,\"#9c179e\"],[0.4444444444444444,\"#bd3786\"],[0.5555555555555556,\"#d8576b\"],[0.6666666666666666,\"#ed7953\"],[0.7777777777777778,\"#fb9f3a\"],[0.8888888888888888,\"#fdca26\"],[1.0,\"#f0f921\"]],\"type\":\"surface\"}],\"table\":[{\"cells\":{\"fill\":{\"color\":\"#EBF0F8\"},\"line\":{\"color\":\"white\"}},\"header\":{\"fill\":{\"color\":\"#C8D4E3\"},\"line\":{\"color\":\"white\"}},\"type\":\"table\"}]},\"layout\":{\"annotationdefaults\":{\"arrowcolor\":\"#2a3f5f\",\"arrowhead\":0,\"arrowwidth\":1},\"autotypenumbers\":\"strict\",\"coloraxis\":{\"colorbar\":{\"outlinewidth\":0,\"ticks\":\"\"}},\"colorscale\":{\"diverging\":[[0,\"#8e0152\"],[0.1,\"#c51b7d\"],[0.2,\"#de77ae\"],[0.3,\"#f1b6da\"],[0.4,\"#fde0ef\"],[0.5,\"#f7f7f7\"],[0.6,\"#e6f5d0\"],[0.7,\"#b8e186\"],[0.8,\"#7fbc41\"],[0.9,\"#4d9221\"],[1,\"#276419\"]],\"sequential\":[[0.0,\"#0d0887\"],[0.1111111111111111,\"#46039f\"],[0.2222222222222222,\"#7201a8\"],[0.3333333333333333,\"#9c179e\"],[0.4444444444444444,\"#bd3786\"],[0.5555555555555556,\"#d8576b\"],[0.6666666666666666,\"#ed7953\"],[0.7777777777777778,\"#fb9f3a\"],[0.8888888888888888,\"#fdca26\"],[1.0,\"#f0f921\"]],\"sequentialminus\":[[0.0,\"#0d0887\"],[0.1111111111111111,\"#46039f\"],[0.2222222222222222,\"#7201a8\"],[0.3333333333333333,\"#9c179e\"],[0.4444444444444444,\"#bd3786\"],[0.5555555555555556,\"#d8576b\"],[0.6666666666666666,\"#ed7953\"],[0.7777777777777778,\"#fb9f3a\"],[0.8888888888888888,\"#fdca26\"],[1.0,\"#f0f921\"]]},\"colorway\":[\"#636efa\",\"#EF553B\",\"#00cc96\",\"#ab63fa\",\"#FFA15A\",\"#19d3f3\",\"#FF6692\",\"#B6E880\",\"#FF97FF\",\"#FECB52\"],\"font\":{\"color\":\"#2a3f5f\"},\"geo\":{\"bgcolor\":\"white\",\"lakecolor\":\"white\",\"landcolor\":\"#E5ECF6\",\"showlakes\":true,\"showland\":true,\"subunitcolor\":\"white\"},\"hoverlabel\":{\"align\":\"left\"},\"hovermode\":\"closest\",\"mapbox\":{\"style\":\"light\"},\"paper_bgcolor\":\"white\",\"plot_bgcolor\":\"#E5ECF6\",\"polar\":{\"angularaxis\":{\"gridcolor\":\"white\",\"linecolor\":\"white\",\"ticks\":\"\"},\"bgcolor\":\"#E5ECF6\",\"radialaxis\":{\"gridcolor\":\"white\",\"linecolor\":\"white\",\"ticks\":\"\"}},\"scene\":{\"xaxis\":{\"backgroundcolor\":\"#E5ECF6\",\"gridcolor\":\"white\",\"gridwidth\":2,\"linecolor\":\"white\",\"showbackground\":true,\"ticks\":\"\",\"zerolinecolor\":\"white\"},\"yaxis\":{\"backgroundcolor\":\"#E5ECF6\",\"gridcolor\":\"white\",\"gridwidth\":2,\"linecolor\":\"white\",\"showbackground\":true,\"ticks\":\"\",\"zerolinecolor\":\"white\"},\"zaxis\":{\"backgroundcolor\":\"#E5ECF6\",\"gridcolor\":\"white\",\"gridwidth\":2,\"linecolor\":\"white\",\"showbackground\":true,\"ticks\":\"\",\"zerolinecolor\":\"white\"}},\"shapedefaults\":{\"line\":{\"color\":\"#2a3f5f\"}},\"ternary\":{\"aaxis\":{\"gridcolor\":\"white\",\"linecolor\":\"white\",\"ticks\":\"\"},\"baxis\":{\"gridcolor\":\"white\",\"linecolor\":\"white\",\"ticks\":\"\"},\"bgcolor\":\"#E5ECF6\",\"caxis\":{\"gridcolor\":\"white\",\"linecolor\":\"white\",\"ticks\":\"\"}},\"title\":{\"x\":0.05},\"xaxis\":{\"automargin\":true,\"gridcolor\":\"white\",\"linecolor\":\"white\",\"ticks\":\"\",\"title\":{\"standoff\":15},\"zerolinecolor\":\"white\",\"zerolinewidth\":2},\"yaxis\":{\"automargin\":true,\"gridcolor\":\"white\",\"linecolor\":\"white\",\"ticks\":\"\",\"title\":{\"standoff\":15},\"zerolinecolor\":\"white\",\"zerolinewidth\":2}}},\"title\":{\"font\":{\"color\":\"#4D5663\"},\"text\":\"SPY Buy-and-Hold Equity Curve\"},\"xaxis\":{\"gridcolor\":\"#E1E5ED\",\"showgrid\":true,\"tickfont\":{\"color\":\"#4D5663\"},\"title\":{\"font\":{\"color\":\"#4D5663\"},\"text\":\"\"},\"zerolinecolor\":\"#E1E5ED\"},\"yaxis\":{\"gridcolor\":\"#E1E5ED\",\"showgrid\":true,\"tickfont\":{\"color\":\"#4D5663\"},\"title\":{\"font\":{\"color\":\"#4D5663\"},\"text\":\"\"},\"zerolinecolor\":\"#E1E5ED\"}},                        {\"showLink\": true, \"linkText\": \"Export to plot.ly\", \"plotlyServerURL\": \"https://plot.ly\", \"responsive\": true}                    ).then(function(){\n",
       "                            \n",
       "var gd = document.getElementById('0941254c-c641-4781-8c24-9025ca85850e');\n",
       "var x = new MutationObserver(function (mutations, observer) {{\n",
       "        var display = window.getComputedStyle(gd).display;\n",
       "        if (!display || display === 'none') {{\n",
       "            console.log([gd, 'removed!']);\n",
       "            Plotly.purge(gd);\n",
       "            observer.disconnect();\n",
       "        }}\n",
       "}});\n",
       "\n",
       "// Listen for the removal of the full notebook cells\n",
       "var notebookContainer = gd.closest('#notebook-container');\n",
       "if (notebookContainer) {{\n",
       "    x.observe(notebookContainer, {childList: true});\n",
       "}}\n",
       "\n",
       "// Listen for the clearing of the current output cell\n",
       "var outputEl = gd.closest('.output');\n",
       "if (outputEl) {{\n",
       "    x.observe(outputEl, {childList: true});\n",
       "}}\n",
       "\n",
       "                        })                };                });            </script>        </div>"
      ]
     },
     "metadata": {},
     "output_type": "display_data"
    }
   ],
   "source": [
    "fun_with_assignment_2(symbol='SPY',\n",
    "                      allocation=0.8,\n",
    "                      starting_capital=100000,\n",
    "                      short_trend=3,\n",
    "                      long_trend=12,\n",
    "                      start_date='2020',\n",
    "                      end_date='2021')"
   ]
  },
  {
   "cell_type": "code",
   "execution_count": 17,
   "id": "647e76c9-fb00-4fc8-801b-9a8796abc2bd",
   "metadata": {},
   "outputs": [
    {
     "name": "stdout",
     "output_type": "stream",
     "text": [
      "[*********************100%***********************]  1 of 1 completed\n"
     ]
    },
    {
     "data": {
      "application/vnd.plotly.v1+json": {
       "config": {
        "linkText": "Export to plot.ly",
        "plotlyServerURL": "https://plot.ly",
        "showLink": true
       },
       "data": [
        {
         "line": {
          "color": "rgba(255, 153, 51, 1.0)",
          "dash": "solid",
          "shape": "linear",
          "width": 1.3
         },
         "mode": "lines",
         "name": "Close",
         "text": "",
         "type": "scatter",
         "x": [
          "2019-12-31",
          "2020-01-01",
          "2020-01-02",
          "2020-01-03",
          "2020-01-04",
          "2020-01-05",
          "2020-01-06",
          "2020-01-07",
          "2020-01-08",
          "2020-01-09",
          "2020-01-10",
          "2020-01-11",
          "2020-01-12",
          "2020-01-13",
          "2020-01-14",
          "2020-01-15",
          "2020-01-16",
          "2020-01-17",
          "2020-01-18",
          "2020-01-19",
          "2020-01-20",
          "2020-01-21",
          "2020-01-22",
          "2020-01-23",
          "2020-01-24",
          "2020-01-25",
          "2020-01-26",
          "2020-01-27",
          "2020-01-28",
          "2020-01-29",
          "2020-01-30",
          "2020-01-31",
          "2020-02-01",
          "2020-02-02",
          "2020-02-03",
          "2020-02-04",
          "2020-02-05",
          "2020-02-06",
          "2020-02-07",
          "2020-02-08",
          "2020-02-09",
          "2020-02-10",
          "2020-02-11",
          "2020-02-12",
          "2020-02-13",
          "2020-02-14",
          "2020-02-15",
          "2020-02-16",
          "2020-02-17",
          "2020-02-18",
          "2020-02-19",
          "2020-02-20",
          "2020-02-21",
          "2020-02-22",
          "2020-02-23",
          "2020-02-24",
          "2020-02-25",
          "2020-02-26",
          "2020-02-27",
          "2020-02-28",
          "2020-02-29",
          "2020-03-01",
          "2020-03-02",
          "2020-03-03",
          "2020-03-04",
          "2020-03-05",
          "2020-03-06",
          "2020-03-07",
          "2020-03-08",
          "2020-03-09",
          "2020-03-10",
          "2020-03-11",
          "2020-03-12",
          "2020-03-13",
          "2020-03-14",
          "2020-03-15",
          "2020-03-16",
          "2020-03-17",
          "2020-03-18",
          "2020-03-19",
          "2020-03-20",
          "2020-03-21",
          "2020-03-22",
          "2020-03-23",
          "2020-03-24",
          "2020-03-25",
          "2020-03-26",
          "2020-03-27",
          "2020-03-28",
          "2020-03-29",
          "2020-03-30",
          "2020-03-31",
          "2020-04-01",
          "2020-04-02",
          "2020-04-03",
          "2020-04-04",
          "2020-04-05",
          "2020-04-06",
          "2020-04-07",
          "2020-04-08",
          "2020-04-09",
          "2020-04-10",
          "2020-04-11",
          "2020-04-12",
          "2020-04-13",
          "2020-04-14",
          "2020-04-15",
          "2020-04-16",
          "2020-04-18",
          "2020-04-19",
          "2020-04-20",
          "2020-04-21",
          "2020-04-22",
          "2020-04-23",
          "2020-04-24",
          "2020-04-25",
          "2020-04-26",
          "2020-04-27",
          "2020-04-28",
          "2020-04-29",
          "2020-04-30",
          "2020-05-01",
          "2020-05-02",
          "2020-05-03",
          "2020-05-04",
          "2020-05-05",
          "2020-05-06",
          "2020-05-07",
          "2020-05-08",
          "2020-05-09",
          "2020-05-10",
          "2020-05-11",
          "2020-05-12",
          "2020-05-13",
          "2020-05-14",
          "2020-05-15",
          "2020-05-16",
          "2020-05-17",
          "2020-05-18",
          "2020-05-19",
          "2020-05-20",
          "2020-05-21",
          "2020-05-22",
          "2020-05-23",
          "2020-05-24",
          "2020-05-25",
          "2020-05-26",
          "2020-05-27",
          "2020-05-28",
          "2020-05-29",
          "2020-05-30",
          "2020-05-31",
          "2020-06-01",
          "2020-06-02",
          "2020-06-03",
          "2020-06-04",
          "2020-06-05",
          "2020-06-06",
          "2020-06-07",
          "2020-06-08",
          "2020-06-09",
          "2020-06-10",
          "2020-06-11",
          "2020-06-12",
          "2020-06-13",
          "2020-06-14",
          "2020-06-15",
          "2020-06-16",
          "2020-06-17",
          "2020-06-18",
          "2020-06-19",
          "2020-06-20",
          "2020-06-21",
          "2020-06-22",
          "2020-06-23",
          "2020-06-24",
          "2020-06-25",
          "2020-06-26",
          "2020-06-27",
          "2020-06-28",
          "2020-06-29",
          "2020-06-30",
          "2020-07-01",
          "2020-07-02",
          "2020-07-03",
          "2020-07-04",
          "2020-07-05",
          "2020-07-06",
          "2020-07-07",
          "2020-07-08",
          "2020-07-09",
          "2020-07-10",
          "2020-07-11",
          "2020-07-12",
          "2020-07-13",
          "2020-07-14",
          "2020-07-15",
          "2020-07-16",
          "2020-07-17",
          "2020-07-18",
          "2020-07-19",
          "2020-07-20",
          "2020-07-21",
          "2020-07-22",
          "2020-07-23",
          "2020-07-24",
          "2020-07-25",
          "2020-07-26",
          "2020-07-27",
          "2020-07-28",
          "2020-07-29",
          "2020-07-30",
          "2020-07-31",
          "2020-08-01",
          "2020-08-02",
          "2020-08-03",
          "2020-08-04",
          "2020-08-05",
          "2020-08-06",
          "2020-08-07",
          "2020-08-08",
          "2020-08-09",
          "2020-08-10",
          "2020-08-11",
          "2020-08-12",
          "2020-08-13",
          "2020-08-14",
          "2020-08-15",
          "2020-08-16",
          "2020-08-17",
          "2020-08-18",
          "2020-08-19",
          "2020-08-20",
          "2020-08-21",
          "2020-08-22",
          "2020-08-23",
          "2020-08-24",
          "2020-08-25",
          "2020-08-26",
          "2020-08-27",
          "2020-08-28",
          "2020-08-29",
          "2020-08-30",
          "2020-08-31",
          "2020-09-01",
          "2020-09-02",
          "2020-09-03",
          "2020-09-04",
          "2020-09-05",
          "2020-09-06",
          "2020-09-07",
          "2020-09-08",
          "2020-09-09",
          "2020-09-10",
          "2020-09-11",
          "2020-09-12",
          "2020-09-13",
          "2020-09-14",
          "2020-09-15",
          "2020-09-16",
          "2020-09-17",
          "2020-09-18",
          "2020-09-19",
          "2020-09-20",
          "2020-09-21",
          "2020-09-22",
          "2020-09-23",
          "2020-09-24",
          "2020-09-25",
          "2020-09-26",
          "2020-09-27",
          "2020-09-28",
          "2020-09-29",
          "2020-09-30",
          "2020-10-01",
          "2020-10-02",
          "2020-10-03",
          "2020-10-04",
          "2020-10-05",
          "2020-10-06",
          "2020-10-07",
          "2020-10-08",
          "2020-10-10",
          "2020-10-11",
          "2020-10-14",
          "2020-10-15",
          "2020-10-16",
          "2020-10-17",
          "2020-10-18",
          "2020-10-19",
          "2020-10-20",
          "2020-10-21",
          "2020-10-22",
          "2020-10-23",
          "2020-10-24",
          "2020-10-25",
          "2020-10-26",
          "2020-10-27",
          "2020-10-28",
          "2020-10-29",
          "2020-10-30",
          "2020-10-31",
          "2020-11-01",
          "2020-11-02",
          "2020-11-03",
          "2020-11-04",
          "2020-11-05",
          "2020-11-06",
          "2020-11-07",
          "2020-11-08",
          "2020-11-09",
          "2020-11-10",
          "2020-11-11",
          "2020-11-12",
          "2020-11-13",
          "2020-11-14",
          "2020-11-15",
          "2020-11-16",
          "2020-11-17",
          "2020-11-18",
          "2020-11-19",
          "2020-11-20",
          "2020-11-21",
          "2020-11-22",
          "2020-11-23",
          "2020-11-24",
          "2020-11-25",
          "2020-11-26",
          "2020-11-27",
          "2020-11-28",
          "2020-11-29",
          "2020-11-30",
          "2020-12-01",
          "2020-12-02",
          "2020-12-03",
          "2020-12-04",
          "2020-12-05",
          "2020-12-06",
          "2020-12-07",
          "2020-12-08",
          "2020-12-09",
          "2020-12-10",
          "2020-12-11",
          "2020-12-12",
          "2020-12-13",
          "2020-12-14",
          "2020-12-15",
          "2020-12-16",
          "2020-12-17",
          "2020-12-18",
          "2020-12-19",
          "2020-12-20",
          "2020-12-21",
          "2020-12-22",
          "2020-12-23",
          "2020-12-24",
          "2020-12-25",
          "2020-12-26",
          "2020-12-27",
          "2020-12-28",
          "2020-12-29",
          "2020-12-30",
          "2020-12-31"
         ],
         "y": [
          7193.59912109375,
          7200.17431640625,
          6985.47021484375,
          7344.88427734375,
          7410.65673828125,
          7411.3173828125,
          7769.21923828125,
          8163.6923828125,
          8079.86279296875,
          7879.0712890625,
          8166.55419921875,
          8037.53759765625,
          8192.494140625,
          8144.1943359375,
          8827.7646484375,
          8807.0107421875,
          8723.7861328125,
          8929.0380859375,
          8942.80859375,
          8706.2451171875,
          8657.642578125,
          8745.89453125,
          8680.8759765625,
          8406.515625,
          8445.4345703125,
          8367.84765625,
          8596.830078125,
          8909.8193359375,
          9358.58984375,
          9316.6298828125,
          9508.9931640625,
          9350.529296875,
          9392.875,
          9344.365234375,
          9293.521484375,
          9180.962890625,
          9613.423828125,
          9729.8017578125,
          9795.943359375,
          9865.119140625,
          10116.673828125,
          9856.611328125,
          10208.236328125,
          10326.0546875,
          10214.3798828125,
          10312.1162109375,
          9889.4248046875,
          9934.43359375,
          9690.142578125,
          10141.99609375,
          9633.38671875,
          9608.4755859375,
          9686.44140625,
          9663.181640625,
          9924.515625,
          9650.1748046875,
          9341.705078125,
          8820.5224609375,
          8784.494140625,
          8672.455078125,
          8599.5087890625,
          8562.4541015625,
          8869.669921875,
          8787.7861328125,
          8755.24609375,
          9078.7626953125,
          9122.5458984375,
          8909.9541015625,
          8108.1162109375,
          7923.64453125,
          7909.7294921875,
          7911.43017578125,
          4970.7880859375,
          5563.70703125,
          5200.3662109375,
          5392.31494140625,
          5014.47998046875,
          5225.62939453125,
          5238.4384765625,
          6191.19287109375,
          6198.7783203125,
          6185.06640625,
          5830.2548828125,
          6416.31494140625,
          6734.8037109375,
          6681.06298828125,
          6716.4404296875,
          6469.79833984375,
          6242.19384765625,
          5922.04296875,
          6429.841796875,
          6438.64453125,
          6606.7763671875,
          6793.62451171875,
          6733.38720703125,
          6867.52734375,
          6791.12939453125,
          7271.78125,
          7176.41455078125,
          7334.0986328125,
          7302.08935546875,
          6865.4931640625,
          6859.0830078125,
          6971.091796875,
          6845.03759765625,
          6842.427734375,
          6642.10986328125,
          7116.80419921875,
          7257.6650390625,
          7189.4248046875,
          6881.95849609375,
          6880.3232421875,
          7117.20751953125,
          7429.724609375,
          7550.90087890625,
          7569.93603515625,
          7679.8671875,
          7795.60107421875,
          7807.05859375,
          8801.0380859375,
          8658.5537109375,
          8864.7666015625,
          8988.5966796875,
          8897.46875,
          8912.654296875,
          9003.0703125,
          9268.76171875,
          9951.5185546875,
          9842.666015625,
          9593.896484375,
          8756.4306640625,
          8601.7958984375,
          8804.4775390625,
          9269.9873046875,
          9733.7216796875,
          9328.197265625,
          9377.013671875,
          9670.7392578125,
          9726.5751953125,
          9729.0380859375,
          9522.9814453125,
          9081.76171875,
          9182.5771484375,
          9209.287109375,
          8790.3681640625,
          8906.9345703125,
          8835.052734375,
          9181.017578125,
          9525.7509765625,
          9439.1240234375,
          9700.4140625,
          9461.05859375,
          10167.2685546875,
          9529.8037109375,
          9656.7177734375,
          9800.63671875,
          9665.533203125,
          9653.6796875,
          9758.8525390625,
          9771.4892578125,
          9795.7001953125,
          9870.0947265625,
          9321.78125,
          9480.84375,
          9475.27734375,
          9386.7880859375,
          9450.7021484375,
          9538.0244140625,
          9480.2548828125,
          9411.8408203125,
          9288.0185546875,
          9332.3408203125,
          9303.6298828125,
          9648.7177734375,
          9629.658203125,
          9313.6103515625,
          9264.8134765625,
          9162.91796875,
          9045.390625,
          9143.58203125,
          9190.8544921875,
          9137.9931640625,
          9228.3251953125,
          9123.41015625,
          9087.3037109375,
          9132.48828125,
          9073.9423828125,
          9375.474609375,
          9252.27734375,
          9428.3330078125,
          9277.9677734375,
          9278.8076171875,
          9240.3466796875,
          9276.5,
          9243.6142578125,
          9243.2138671875,
          9192.8369140625,
          9132.2275390625,
          9151.392578125,
          9159.0400390625,
          9185.8173828125,
          9164.2314453125,
          9374.8876953125,
          9525.36328125,
          9581.072265625,
          9536.892578125,
          9677.11328125,
          9905.1669921875,
          10990.873046875,
          10912.8232421875,
          11100.4677734375,
          11111.2138671875,
          11323.466796875,
          11759.5927734375,
          11053.6142578125,
          11246.3486328125,
          11205.892578125,
          11747.0224609375,
          11779.7734375,
          11601.47265625,
          11754.0458984375,
          11675.7392578125,
          11878.111328125,
          11410.525390625,
          11584.9345703125,
          11784.1376953125,
          11768.87109375,
          11865.6982421875,
          11892.8037109375,
          12254.40234375,
          11991.2333984375,
          11758.283203125,
          11878.3720703125,
          11592.4892578125,
          11681.8251953125,
          11664.84765625,
          11774.595703125,
          11366.134765625,
          11488.36328125,
          11323.3974609375,
          11542.5,
          11506.865234375,
          11711.505859375,
          11680.8203125,
          11970.478515625,
          11414.0341796875,
          10245.296875,
          10511.8134765625,
          10169.5673828125,
          10280.3515625,
          10369.5634765625,
          10131.5166015625,
          10242.34765625,
          10363.138671875,
          10400.9150390625,
          10442.1708984375,
          10323.755859375,
          10680.837890625,
          10796.951171875,
          10974.9052734375,
          10948.990234375,
          10944.5859375,
          11094.3466796875,
          10938.271484375,
          10462.259765625,
          10538.4599609375,
          10225.8642578125,
          10745.548828125,
          10702.2900390625,
          10754.4375,
          10774.4267578125,
          10721.3271484375,
          10848.830078125,
          10787.6181640625,
          10623.330078125,
          10585.1640625,
          10565.4931640625,
          10684.4287109375,
          10804.0009765625,
          10621.6640625,
          10679.13671875,
          10923.6279296875,
          11296.361328125,
          11384.181640625,
          11429.5068359375,
          11495.349609375,
          11322.123046875,
          11358.1015625,
          11483.359375,
          11742.037109375,
          11916.3349609375,
          12823.689453125,
          12965.8916015625,
          12931.5390625,
          13108.0625,
          13031.173828125,
          13075.248046875,
          13654.21875,
          13271.28515625,
          13437.8828125,
          13546.5224609375,
          13780.9951171875,
          13737.109375,
          13550.4892578125,
          13950.30078125,
          14133.70703125,
          15579.8486328125,
          15565.880859375,
          14833.75390625,
          15479.5673828125,
          15332.3154296875,
          15290.90234375,
          15701.33984375,
          16276.34375,
          16317.80859375,
          16068.138671875,
          15955.587890625,
          16716.111328125,
          17645.40625,
          17804.005859375,
          17817.08984375,
          18621.314453125,
          18642.232421875,
          18370.001953125,
          18364.12109375,
          19107.46484375,
          18732.12109375,
          17150.623046875,
          17108.40234375,
          17717.4140625,
          18177.484375,
          19625.8359375,
          18802.998046875,
          19201.091796875,
          19445.3984375,
          18699.765625,
          19154.23046875,
          19345.12109375,
          19191.630859375,
          18321.14453125,
          18553.916015625,
          18264.9921875,
          18058.904296875,
          18803.65625,
          19142.3828125,
          19246.64453125,
          19417.076171875,
          21310.59765625,
          22805.162109375,
          23137.9609375,
          23869.83203125,
          23477.294921875,
          22803.08203125,
          23783.029296875,
          23241.345703125,
          23735.94921875,
          24664.791015625,
          26437.037109375,
          26272.294921875,
          27084.80859375,
          27362.4375,
          28840.953125,
          29001.720703125
         ]
        },
        {
         "line": {
          "color": "rgba(55, 128, 191, 1.0)",
          "dash": "solid",
          "shape": "linear",
          "width": 1.3
         },
         "mode": "lines",
         "name": "ma_fast",
         "text": "",
         "type": "scatter",
         "x": [
          "2019-12-31",
          "2020-01-01",
          "2020-01-02",
          "2020-01-03",
          "2020-01-04",
          "2020-01-05",
          "2020-01-06",
          "2020-01-07",
          "2020-01-08",
          "2020-01-09",
          "2020-01-10",
          "2020-01-11",
          "2020-01-12",
          "2020-01-13",
          "2020-01-14",
          "2020-01-15",
          "2020-01-16",
          "2020-01-17",
          "2020-01-18",
          "2020-01-19",
          "2020-01-20",
          "2020-01-21",
          "2020-01-22",
          "2020-01-23",
          "2020-01-24",
          "2020-01-25",
          "2020-01-26",
          "2020-01-27",
          "2020-01-28",
          "2020-01-29",
          "2020-01-30",
          "2020-01-31",
          "2020-02-01",
          "2020-02-02",
          "2020-02-03",
          "2020-02-04",
          "2020-02-05",
          "2020-02-06",
          "2020-02-07",
          "2020-02-08",
          "2020-02-09",
          "2020-02-10",
          "2020-02-11",
          "2020-02-12",
          "2020-02-13",
          "2020-02-14",
          "2020-02-15",
          "2020-02-16",
          "2020-02-17",
          "2020-02-18",
          "2020-02-19",
          "2020-02-20",
          "2020-02-21",
          "2020-02-22",
          "2020-02-23",
          "2020-02-24",
          "2020-02-25",
          "2020-02-26",
          "2020-02-27",
          "2020-02-28",
          "2020-02-29",
          "2020-03-01",
          "2020-03-02",
          "2020-03-03",
          "2020-03-04",
          "2020-03-05",
          "2020-03-06",
          "2020-03-07",
          "2020-03-08",
          "2020-03-09",
          "2020-03-10",
          "2020-03-11",
          "2020-03-12",
          "2020-03-13",
          "2020-03-14",
          "2020-03-15",
          "2020-03-16",
          "2020-03-17",
          "2020-03-18",
          "2020-03-19",
          "2020-03-20",
          "2020-03-21",
          "2020-03-22",
          "2020-03-23",
          "2020-03-24",
          "2020-03-25",
          "2020-03-26",
          "2020-03-27",
          "2020-03-28",
          "2020-03-29",
          "2020-03-30",
          "2020-03-31",
          "2020-04-01",
          "2020-04-02",
          "2020-04-03",
          "2020-04-04",
          "2020-04-05",
          "2020-04-06",
          "2020-04-07",
          "2020-04-08",
          "2020-04-09",
          "2020-04-10",
          "2020-04-11",
          "2020-04-12",
          "2020-04-13",
          "2020-04-14",
          "2020-04-15",
          "2020-04-16",
          "2020-04-18",
          "2020-04-19",
          "2020-04-20",
          "2020-04-21",
          "2020-04-22",
          "2020-04-23",
          "2020-04-24",
          "2020-04-25",
          "2020-04-26",
          "2020-04-27",
          "2020-04-28",
          "2020-04-29",
          "2020-04-30",
          "2020-05-01",
          "2020-05-02",
          "2020-05-03",
          "2020-05-04",
          "2020-05-05",
          "2020-05-06",
          "2020-05-07",
          "2020-05-08",
          "2020-05-09",
          "2020-05-10",
          "2020-05-11",
          "2020-05-12",
          "2020-05-13",
          "2020-05-14",
          "2020-05-15",
          "2020-05-16",
          "2020-05-17",
          "2020-05-18",
          "2020-05-19",
          "2020-05-20",
          "2020-05-21",
          "2020-05-22",
          "2020-05-23",
          "2020-05-24",
          "2020-05-25",
          "2020-05-26",
          "2020-05-27",
          "2020-05-28",
          "2020-05-29",
          "2020-05-30",
          "2020-05-31",
          "2020-06-01",
          "2020-06-02",
          "2020-06-03",
          "2020-06-04",
          "2020-06-05",
          "2020-06-06",
          "2020-06-07",
          "2020-06-08",
          "2020-06-09",
          "2020-06-10",
          "2020-06-11",
          "2020-06-12",
          "2020-06-13",
          "2020-06-14",
          "2020-06-15",
          "2020-06-16",
          "2020-06-17",
          "2020-06-18",
          "2020-06-19",
          "2020-06-20",
          "2020-06-21",
          "2020-06-22",
          "2020-06-23",
          "2020-06-24",
          "2020-06-25",
          "2020-06-26",
          "2020-06-27",
          "2020-06-28",
          "2020-06-29",
          "2020-06-30",
          "2020-07-01",
          "2020-07-02",
          "2020-07-03",
          "2020-07-04",
          "2020-07-05",
          "2020-07-06",
          "2020-07-07",
          "2020-07-08",
          "2020-07-09",
          "2020-07-10",
          "2020-07-11",
          "2020-07-12",
          "2020-07-13",
          "2020-07-14",
          "2020-07-15",
          "2020-07-16",
          "2020-07-17",
          "2020-07-18",
          "2020-07-19",
          "2020-07-20",
          "2020-07-21",
          "2020-07-22",
          "2020-07-23",
          "2020-07-24",
          "2020-07-25",
          "2020-07-26",
          "2020-07-27",
          "2020-07-28",
          "2020-07-29",
          "2020-07-30",
          "2020-07-31",
          "2020-08-01",
          "2020-08-02",
          "2020-08-03",
          "2020-08-04",
          "2020-08-05",
          "2020-08-06",
          "2020-08-07",
          "2020-08-08",
          "2020-08-09",
          "2020-08-10",
          "2020-08-11",
          "2020-08-12",
          "2020-08-13",
          "2020-08-14",
          "2020-08-15",
          "2020-08-16",
          "2020-08-17",
          "2020-08-18",
          "2020-08-19",
          "2020-08-20",
          "2020-08-21",
          "2020-08-22",
          "2020-08-23",
          "2020-08-24",
          "2020-08-25",
          "2020-08-26",
          "2020-08-27",
          "2020-08-28",
          "2020-08-29",
          "2020-08-30",
          "2020-08-31",
          "2020-09-01",
          "2020-09-02",
          "2020-09-03",
          "2020-09-04",
          "2020-09-05",
          "2020-09-06",
          "2020-09-07",
          "2020-09-08",
          "2020-09-09",
          "2020-09-10",
          "2020-09-11",
          "2020-09-12",
          "2020-09-13",
          "2020-09-14",
          "2020-09-15",
          "2020-09-16",
          "2020-09-17",
          "2020-09-18",
          "2020-09-19",
          "2020-09-20",
          "2020-09-21",
          "2020-09-22",
          "2020-09-23",
          "2020-09-24",
          "2020-09-25",
          "2020-09-26",
          "2020-09-27",
          "2020-09-28",
          "2020-09-29",
          "2020-09-30",
          "2020-10-01",
          "2020-10-02",
          "2020-10-03",
          "2020-10-04",
          "2020-10-05",
          "2020-10-06",
          "2020-10-07",
          "2020-10-08",
          "2020-10-10",
          "2020-10-11",
          "2020-10-14",
          "2020-10-15",
          "2020-10-16",
          "2020-10-17",
          "2020-10-18",
          "2020-10-19",
          "2020-10-20",
          "2020-10-21",
          "2020-10-22",
          "2020-10-23",
          "2020-10-24",
          "2020-10-25",
          "2020-10-26",
          "2020-10-27",
          "2020-10-28",
          "2020-10-29",
          "2020-10-30",
          "2020-10-31",
          "2020-11-01",
          "2020-11-02",
          "2020-11-03",
          "2020-11-04",
          "2020-11-05",
          "2020-11-06",
          "2020-11-07",
          "2020-11-08",
          "2020-11-09",
          "2020-11-10",
          "2020-11-11",
          "2020-11-12",
          "2020-11-13",
          "2020-11-14",
          "2020-11-15",
          "2020-11-16",
          "2020-11-17",
          "2020-11-18",
          "2020-11-19",
          "2020-11-20",
          "2020-11-21",
          "2020-11-22",
          "2020-11-23",
          "2020-11-24",
          "2020-11-25",
          "2020-11-26",
          "2020-11-27",
          "2020-11-28",
          "2020-11-29",
          "2020-11-30",
          "2020-12-01",
          "2020-12-02",
          "2020-12-03",
          "2020-12-04",
          "2020-12-05",
          "2020-12-06",
          "2020-12-07",
          "2020-12-08",
          "2020-12-09",
          "2020-12-10",
          "2020-12-11",
          "2020-12-12",
          "2020-12-13",
          "2020-12-14",
          "2020-12-15",
          "2020-12-16",
          "2020-12-17",
          "2020-12-18",
          "2020-12-19",
          "2020-12-20",
          "2020-12-21",
          "2020-12-22",
          "2020-12-23",
          "2020-12-24",
          "2020-12-25",
          "2020-12-26",
          "2020-12-27",
          "2020-12-28",
          "2020-12-29",
          "2020-12-30",
          "2020-12-31"
         ],
         "y": [
          "",
          "",
          "",
          7169.0777587890625,
          7181.8118896484375,
          7235.7017822265625,
          7287.677001953125,
          7483.7403564453125,
          7687.88037109375,
          7855.8414306640625,
          7972.8052978515625,
          8071.1824951171875,
          8039.0140380859375,
          8065.883056640625,
          8131.5394287109375,
          8297.32763671875,
          8492.132568359375,
          8625.992065429688,
          8822.561767578125,
          8851.587158203125,
          8824.624755859375,
          8808.070068359375,
          8762.31982421875,
          8697.12109375,
          8622.35498046875,
          8567.636962890625,
          8472.686767578125,
          8451.851318359375,
          8578.590576171875,
          8807.928466796875,
          9045.830078125,
          9273.581298828125,
          9382.03955078125,
          9390.126953125,
          9397.293701171875,
          9343.42578125,
          9302.6904296875,
          9359.690673828125,
          9455.0205078125,
          9580.07763671875,
          9750.197265625,
          9874.6318359375,
          9907.10400390625,
          10009.433349609375,
          10124.449951171875,
          10148.44775390625,
          10262.93896484375,
          10184.636962890625,
          10087.786865234375,
          9957.706787109375,
          9915.1923828125,
          9850.228759765625,
          9769.0341796875,
          9768.1533203125,
          9648.033203125,
          9721.09765625,
          9730.980224609375,
          9643.6259765625,
          9434.06982421875,
          9150.856201171875,
          8905.831298828125,
          8721.198486328125,
          8655.7412109375,
          8674.906005859375,
          8704.23828125,
          8744.369873046875,
          8873.130859375,
          8937.18408203125,
          8967.10009765625,
          8804.8154296875,
          8515.775024414062,
          8212.897338867188,
          7964.2498779296875,
          7190.9210205078125,
          6603.6536865234375,
          5926.39794921875,
          5294.30126953125,
          5290.488037109375,
          5203.9970703125,
          5215.08447265625,
          5416.6905517578125,
          5717.6763916015625,
          5957.2874755859375,
          6103.7769775390625,
          6165.024169921875,
          6298.072998046875,
          6420.4761962890625,
          6642.4798583984375,
          6650.1326904296875,
          6526.859619140625,
          6339.4515380859375,
          6267.255859375,
          6259.772216796875,
          6350.0601806640625,
          6568.024658203125,
          6644.96875,
          6751.2733154296875,
          6796.5916748046875,
          6915.653564453125,
          7025.878662109375,
          7144.73583984375,
          7273.67724609375,
          7172.1263427734375,
          7091.822509765625,
          6998.735107421875,
          6883.6016845703125,
          6878.1319580078125,
          6823.728515625,
          6855.397216796875,
          6959.807373046875,
          7045.1353759765625,
          7104.9678955078125,
          7051.755126953125,
          7016.85107421875,
          7078.6781005859375,
          7246.352783203125,
          7419.0274658203125,
          7558.5556640625,
          7649.2528076171875,
          7713.3101806640625,
          8020.19287109375,
          8268.53369140625,
          8536.555541992188,
          8830.781005859375,
          8855.2998046875,
          8915.312255859375,
          8949.908203125,
          9019.478515625,
          9279.582763671875,
          9511.601318359375,
          9657.533203125,
          9530.943115234375,
          9199.4990234375,
          8940.619384765625,
          8860.659423828125,
          9105.348388671875,
          9286.06201171875,
          9428.447509765625,
          9529.5390625,
          9527.732177734375,
          9625.75439453125,
          9662.70703125,
          9513.866943359375,
          9378.36669921875,
          9250.105224609375,
          9065.947021484375,
          9023.259765625,
          8936.33935546875,
          8929.5048828125,
          9115.06689453125,
          9247.39892578125,
          9463.080078125,
          9532.7451171875,
          9691.399658203125,
          9715.111328125,
          9704.048583984375,
          9788.201171875,
          9663.683837890625,
          9693.494384765625,
          9719.546630859375,
          9713.082763671875,
          9745.386474609375,
          9799.6552734375,
          9689.81201171875,
          9616.40576171875,
          9537.264404296875,
          9416.253662109375,
          9449.647705078125,
          9462.909912109375,
          9463.913330078125,
          9469.97802734375,
          9429.1513671875,
          9378.43701171875,
          9333.27392578125,
          9391.719482421875,
          9477.016845703125,
          9472.81689453125,
          9462.8369140625,
          9343.77392578125,
          9197.851806640625,
          9154.327392578125,
          9135.473876953125,
          9130.01416015625,
          9175.683837890625,
          9171.88720703125,
          9146.55029296875,
          9141.57666015625,
          9102.004150390625,
          9158.083740234375,
          9200.280517578125,
          9275.75634765625,
          9325.88330078125,
          9307.970947265625,
          9304.9794921875,
          9267.2822265625,
          9258.61865234375,
          9249.715087890625,
          9237.446533203125,
          9201.098388671875,
          9179.218505859375,
          9158.24560546875,
          9157.0556640625,
          9164.731201171875,
          9220.705322265625,
          9312.9892578125,
          9412.562744140625,
          9506.805419921875,
          9583.093994140625,
          9677.613037109375,
          10035.600341796875,
          10378.96728515625,
          10733.866943359375,
          11035.115234375,
          11111.391845703125,
          11322.8447265625,
          11308.82861328125,
          11342.82666015625,
          11313.139892578125,
          11310.91650390625,
          11494.697998046875,
          11584.28564453125,
          11717.6611328125,
          11695.757568359375,
          11721.44580078125,
          11671.45654296875,
          11634.2265625,
          11661.8271484375,
          11633.589599609375,
          11749.11181640625,
          11825.925048828125,
          11945.734130859375,
          12001.281005859375,
          11974.984619140625,
          11970.57666015625,
          11803.97216796875,
          11726.175048828125,
          11701.722412109375,
          11675.613037109375,
          11620.96728515625,
          11572.4453125,
          11487.846923828125,
          11429.71337890625,
          11465.168212890625,
          11522.0927734375,
          11610.597900390625,
          11716.5400390625,
          11691.159423828125,
          11320.424072265625,
          11028.7275390625,
          10579.325927734375,
          10297.777587890625,
          10332.512939453125,
          10237.918212890625,
          10256.696533203125,
          10278.7041015625,
          10288.8427734375,
          10368.40478515625,
          10390.005859375,
          10467.1875,
          10564.16259765625,
          10694.375732421875,
          10850.147216796875,
          10914.146728515625,
          10988.673828125,
          10979.09228515625,
          10856.043212890625,
          10757.46923828125,
          10540.37158203125,
          10493.50830078125,
          10554.16162109375,
          10607.5322265625,
          10743.57275390625,
          10734.8203125,
          10770.61376953125,
          10778.631591796875,
          10741.81884765625,
          10709.65478515625,
          10640.281982421875,
          10616.037841796875,
          10659.884765625,
          10668.884033203125,
          10696.310302734375,
          10789.08740234375,
          10913.163330078125,
          11115.474365234375,
          11302.71875,
          11413.64013671875,
          11420.150390625,
          11401.884033203125,
          11418.992919921875,
          11479.779541015625,
          11627.51806640625,
          11988.931396484375,
          12358.05908203125,
          12654.458984375,
          12953.20556640625,
          13010.596923828125,
          13036.520263671875,
          13217.180419921875,
          13257.9892578125,
          13359.657470703125,
          13477.47998046875,
          13509.175048828125,
          13625.6083984375,
          13653.752685546875,
          13754.74169921875,
          13842.92626953125,
          14303.6005859375,
          14807.4580078125,
          15028.2744140625,
          15364.739990234375,
          15302.895263671875,
          15234.15234375,
          15451.03857421875,
          15650.249755859375,
          15896.6142578125,
          16090.921875,
          16154.491455078125,
          16256.80419921875,
          16588.64990234375,
          17022.580322265625,
          17487.95703125,
          17971.86328125,
          18221.12353515625,
          18362.66259765625,
          18499.6455078125,
          18620.4189453125,
          18642.32080078125,
          18338.294921875,
          18025.2744140625,
          17679.08056640625,
          17541.201171875,
          18161.1650390625,
          18583.36767578125,
          18954.9404296875,
          19272.1015625,
          19038.25537109375,
          19126.3642578125,
          19160.6650390625,
          19096.8056640625,
          19002.4306640625,
          18852.21044921875,
          18582.41064453125,
          18297.3583984375,
          18418.82861328125,
          18566.626953125,
          18812.37451171875,
          19154.2490234375,
          19779.6455078125,
          20695.2216796875,
          21666.7080078125,
          22777.44482421875,
          23318.970703125,
          23315.78125,
          23478.05859375,
          23322.66796875,
          23387.44677734375,
          23858.19091796875,
          24522.54052734375,
          25282.6953125,
          26119.75537109375,
          26790.52392578125,
          27391.07421875
         ]
        },
        {
         "line": {
          "color": "rgba(50, 171, 96, 1.0)",
          "dash": "solid",
          "shape": "linear",
          "width": 1.3
         },
         "mode": "lines",
         "name": "ma_slow",
         "text": "",
         "type": "scatter",
         "x": [
          "2019-12-31",
          "2020-01-01",
          "2020-01-02",
          "2020-01-03",
          "2020-01-04",
          "2020-01-05",
          "2020-01-06",
          "2020-01-07",
          "2020-01-08",
          "2020-01-09",
          "2020-01-10",
          "2020-01-11",
          "2020-01-12",
          "2020-01-13",
          "2020-01-14",
          "2020-01-15",
          "2020-01-16",
          "2020-01-17",
          "2020-01-18",
          "2020-01-19",
          "2020-01-20",
          "2020-01-21",
          "2020-01-22",
          "2020-01-23",
          "2020-01-24",
          "2020-01-25",
          "2020-01-26",
          "2020-01-27",
          "2020-01-28",
          "2020-01-29",
          "2020-01-30",
          "2020-01-31",
          "2020-02-01",
          "2020-02-02",
          "2020-02-03",
          "2020-02-04",
          "2020-02-05",
          "2020-02-06",
          "2020-02-07",
          "2020-02-08",
          "2020-02-09",
          "2020-02-10",
          "2020-02-11",
          "2020-02-12",
          "2020-02-13",
          "2020-02-14",
          "2020-02-15",
          "2020-02-16",
          "2020-02-17",
          "2020-02-18",
          "2020-02-19",
          "2020-02-20",
          "2020-02-21",
          "2020-02-22",
          "2020-02-23",
          "2020-02-24",
          "2020-02-25",
          "2020-02-26",
          "2020-02-27",
          "2020-02-28",
          "2020-02-29",
          "2020-03-01",
          "2020-03-02",
          "2020-03-03",
          "2020-03-04",
          "2020-03-05",
          "2020-03-06",
          "2020-03-07",
          "2020-03-08",
          "2020-03-09",
          "2020-03-10",
          "2020-03-11",
          "2020-03-12",
          "2020-03-13",
          "2020-03-14",
          "2020-03-15",
          "2020-03-16",
          "2020-03-17",
          "2020-03-18",
          "2020-03-19",
          "2020-03-20",
          "2020-03-21",
          "2020-03-22",
          "2020-03-23",
          "2020-03-24",
          "2020-03-25",
          "2020-03-26",
          "2020-03-27",
          "2020-03-28",
          "2020-03-29",
          "2020-03-30",
          "2020-03-31",
          "2020-04-01",
          "2020-04-02",
          "2020-04-03",
          "2020-04-04",
          "2020-04-05",
          "2020-04-06",
          "2020-04-07",
          "2020-04-08",
          "2020-04-09",
          "2020-04-10",
          "2020-04-11",
          "2020-04-12",
          "2020-04-13",
          "2020-04-14",
          "2020-04-15",
          "2020-04-16",
          "2020-04-18",
          "2020-04-19",
          "2020-04-20",
          "2020-04-21",
          "2020-04-22",
          "2020-04-23",
          "2020-04-24",
          "2020-04-25",
          "2020-04-26",
          "2020-04-27",
          "2020-04-28",
          "2020-04-29",
          "2020-04-30",
          "2020-05-01",
          "2020-05-02",
          "2020-05-03",
          "2020-05-04",
          "2020-05-05",
          "2020-05-06",
          "2020-05-07",
          "2020-05-08",
          "2020-05-09",
          "2020-05-10",
          "2020-05-11",
          "2020-05-12",
          "2020-05-13",
          "2020-05-14",
          "2020-05-15",
          "2020-05-16",
          "2020-05-17",
          "2020-05-18",
          "2020-05-19",
          "2020-05-20",
          "2020-05-21",
          "2020-05-22",
          "2020-05-23",
          "2020-05-24",
          "2020-05-25",
          "2020-05-26",
          "2020-05-27",
          "2020-05-28",
          "2020-05-29",
          "2020-05-30",
          "2020-05-31",
          "2020-06-01",
          "2020-06-02",
          "2020-06-03",
          "2020-06-04",
          "2020-06-05",
          "2020-06-06",
          "2020-06-07",
          "2020-06-08",
          "2020-06-09",
          "2020-06-10",
          "2020-06-11",
          "2020-06-12",
          "2020-06-13",
          "2020-06-14",
          "2020-06-15",
          "2020-06-16",
          "2020-06-17",
          "2020-06-18",
          "2020-06-19",
          "2020-06-20",
          "2020-06-21",
          "2020-06-22",
          "2020-06-23",
          "2020-06-24",
          "2020-06-25",
          "2020-06-26",
          "2020-06-27",
          "2020-06-28",
          "2020-06-29",
          "2020-06-30",
          "2020-07-01",
          "2020-07-02",
          "2020-07-03",
          "2020-07-04",
          "2020-07-05",
          "2020-07-06",
          "2020-07-07",
          "2020-07-08",
          "2020-07-09",
          "2020-07-10",
          "2020-07-11",
          "2020-07-12",
          "2020-07-13",
          "2020-07-14",
          "2020-07-15",
          "2020-07-16",
          "2020-07-17",
          "2020-07-18",
          "2020-07-19",
          "2020-07-20",
          "2020-07-21",
          "2020-07-22",
          "2020-07-23",
          "2020-07-24",
          "2020-07-25",
          "2020-07-26",
          "2020-07-27",
          "2020-07-28",
          "2020-07-29",
          "2020-07-30",
          "2020-07-31",
          "2020-08-01",
          "2020-08-02",
          "2020-08-03",
          "2020-08-04",
          "2020-08-05",
          "2020-08-06",
          "2020-08-07",
          "2020-08-08",
          "2020-08-09",
          "2020-08-10",
          "2020-08-11",
          "2020-08-12",
          "2020-08-13",
          "2020-08-14",
          "2020-08-15",
          "2020-08-16",
          "2020-08-17",
          "2020-08-18",
          "2020-08-19",
          "2020-08-20",
          "2020-08-21",
          "2020-08-22",
          "2020-08-23",
          "2020-08-24",
          "2020-08-25",
          "2020-08-26",
          "2020-08-27",
          "2020-08-28",
          "2020-08-29",
          "2020-08-30",
          "2020-08-31",
          "2020-09-01",
          "2020-09-02",
          "2020-09-03",
          "2020-09-04",
          "2020-09-05",
          "2020-09-06",
          "2020-09-07",
          "2020-09-08",
          "2020-09-09",
          "2020-09-10",
          "2020-09-11",
          "2020-09-12",
          "2020-09-13",
          "2020-09-14",
          "2020-09-15",
          "2020-09-16",
          "2020-09-17",
          "2020-09-18",
          "2020-09-19",
          "2020-09-20",
          "2020-09-21",
          "2020-09-22",
          "2020-09-23",
          "2020-09-24",
          "2020-09-25",
          "2020-09-26",
          "2020-09-27",
          "2020-09-28",
          "2020-09-29",
          "2020-09-30",
          "2020-10-01",
          "2020-10-02",
          "2020-10-03",
          "2020-10-04",
          "2020-10-05",
          "2020-10-06",
          "2020-10-07",
          "2020-10-08",
          "2020-10-10",
          "2020-10-11",
          "2020-10-14",
          "2020-10-15",
          "2020-10-16",
          "2020-10-17",
          "2020-10-18",
          "2020-10-19",
          "2020-10-20",
          "2020-10-21",
          "2020-10-22",
          "2020-10-23",
          "2020-10-24",
          "2020-10-25",
          "2020-10-26",
          "2020-10-27",
          "2020-10-28",
          "2020-10-29",
          "2020-10-30",
          "2020-10-31",
          "2020-11-01",
          "2020-11-02",
          "2020-11-03",
          "2020-11-04",
          "2020-11-05",
          "2020-11-06",
          "2020-11-07",
          "2020-11-08",
          "2020-11-09",
          "2020-11-10",
          "2020-11-11",
          "2020-11-12",
          "2020-11-13",
          "2020-11-14",
          "2020-11-15",
          "2020-11-16",
          "2020-11-17",
          "2020-11-18",
          "2020-11-19",
          "2020-11-20",
          "2020-11-21",
          "2020-11-22",
          "2020-11-23",
          "2020-11-24",
          "2020-11-25",
          "2020-11-26",
          "2020-11-27",
          "2020-11-28",
          "2020-11-29",
          "2020-11-30",
          "2020-12-01",
          "2020-12-02",
          "2020-12-03",
          "2020-12-04",
          "2020-12-05",
          "2020-12-06",
          "2020-12-07",
          "2020-12-08",
          "2020-12-09",
          "2020-12-10",
          "2020-12-11",
          "2020-12-12",
          "2020-12-13",
          "2020-12-14",
          "2020-12-15",
          "2020-12-16",
          "2020-12-17",
          "2020-12-18",
          "2020-12-19",
          "2020-12-20",
          "2020-12-21",
          "2020-12-22",
          "2020-12-23",
          "2020-12-24",
          "2020-12-25",
          "2020-12-26",
          "2020-12-27",
          "2020-12-28",
          "2020-12-29",
          "2020-12-30",
          "2020-12-31"
         ],
         "y": [
          "",
          "",
          "",
          "",
          "",
          "",
          "",
          7326.4090576171875,
          7434.846130371094,
          7545.7716064453125,
          7630.241149902344,
          7777.46142578125,
          7863.447204589844,
          7960.862243652344,
          8052.17236328125,
          8184.255065917969,
          8265.573303222656,
          8345.937561035156,
          8477.050598144531,
          8574.457397460938,
          8658.378662109375,
          8717.031066894531,
          8792.440795898438,
          8774.354125976562,
          8723.489868164062,
          8687.853515625,
          8617.503295898438,
          8574.486206054688,
          8600.472778320312,
          8687.78271484375,
          8759.258422851562,
          8862.71630859375,
          8980.315063476562,
          9099.027709960938,
          9221.561889648438,
          9308.503540039062,
          9342.364990234375,
          9374.908813476562,
          9426.157104492188,
          9461.751708984375,
          9526.44384765625,
          9617.161254882812,
          9681.062255859375,
          9794.755493164062,
          9937.323608398438,
          10011.539794921875,
          10085.021484375,
          10097.03515625,
          10106.118408203125,
          10053.077270507812,
          10089.065673828125,
          10017.432861328125,
          9928.410522460938,
          9862.930053710938,
          9781.61279296875,
          9785.663208007812,
          9750.007202148438,
          9705.8896484375,
          9541.051513671875,
          9435.976928710938,
          9318.40576171875,
          9182.412231445312,
          9044.905517578125,
          8912.881103515625,
          8805.034790039062,
          8732.7841796875,
          8764.43603515625,
          8806.045043945312,
          8835.669189453125,
          8774.592651367188,
          8694.452941894531,
          8575.040710449219,
          8465.674987792969,
          7997.868225097656,
          7559.71435546875,
          7069.647644042969,
          6629.275573730469,
          6240.704528808594,
          5903.825378417969,
          5570.7412109375,
          5355.495910644531,
          5504.082214355469,
          5580.642272949219,
          5659.430725097656,
          5790.857360839844,
          6007.874694824219,
          6188.8818359375,
          6373.12841796875,
          6407.578430175781,
          6412.46630859375,
          6379.9638671875,
          6454.867858886719,
          6454.952453613281,
          6438.459899902344,
          6453.738098144531,
          6456.1123046875,
          6505.522766113281,
          6573.325927734375,
          6741.839111328125,
          6835.4237060546875,
          6948.004577636719,
          7035.134460449219,
          7043.889953613281,
          7058.8505859375,
          7071.7354736328125,
          7078.639465332031,
          7025.129150390625,
          6957.7755126953125,
          6927.066162109375,
          6921.704528808594,
          6961.6336669921875,
          6964.348205566406,
          6953.576171875,
          6988.3292236328125,
          7061.90673828125,
          7175.660339355469,
          7235.391296386719,
          7287.703369140625,
          7363.9654541015625,
          7479.831481933594,
          7719.610168457031,
          7913.544677734375,
          8092.9041748046875,
          8272.045593261719,
          8437.746337890625,
          8591.922973632812,
          8743.231872558594,
          8925.129760742188,
          9067.441284179688,
          9213.456787109375,
          9303.720703125,
          9275.210815429688,
          9239.540893554688,
          9226.1103515625,
          9259.096313476562,
          9318.145751953125,
          9242.780517578125,
          9184.533447265625,
          9195.099243164062,
          9316.540283203125,
          9455.908203125,
          9545.577270507812,
          9521.703002929688,
          9453.049438476562,
          9437.929809570312,
          9364.327026367188,
          9268.563354492188,
          9157.35302734375,
          9089.805053710938,
          9090.506958007812,
          9135.329345703125,
          9199.709716796875,
          9231.125,
          9403.233276367188,
          9481.255126953125,
          9583.564331054688,
          9660.47314453125,
          9677.541748046875,
          9704.302856445312,
          9711.797607421875,
          9750.641967773438,
          9704.53515625,
          9746.574829101562,
          9704.679321289062,
          9664.744262695312,
          9641.325439453125,
          9607.954467773438,
          9569.729858398438,
          9539.657836914062,
          9500.5888671875,
          9443.115844726562,
          9439.399536132812,
          9420.673461914062,
          9398.593627929688,
          9430.848754882812,
          9453.084106445312,
          9425.626953125,
          9398.055419921875,
          9367.746704101562,
          9337.434326171875,
          9313.572143554688,
          9299.155395507812,
          9236.89404296875,
          9186.767822265625,
          9163.107299804688,
          9141.012084960938,
          9135.79541015625,
          9138.843994140625,
          9164.985473632812,
          9173.415405273438,
          9208.66650390625,
          9213.943725585938,
          9233.02734375,
          9252.630004882812,
          9271.519287109375,
          9292.2509765625,
          9278.843017578125,
          9271.213012695312,
          9234.190307617188,
          9218.918579101562,
          9203.980346679688,
          9197.251098632812,
          9182.914794921875,
          9199.9619140625,
          9235.617431640625,
          9284.809204101562,
          9335.768310546875,
          9401.899658203125,
          9495.301147460938,
          9724.08154296875,
          9942.886352539062,
          10158.48046875,
          10356.364135742188,
          10573.49609375,
          10850.906005859375,
          11021.347778320312,
          11188.970947265625,
          11212.265869140625,
          11316.880615234375,
          11401.763305664062,
          11463.55615234375,
          11515.400512695312,
          11503.337036132812,
          11608.071899414062,
          11627.87109375,
          11675.94384765625,
          11678.792358398438,
          11677.517700195312,
          11710.2841796875,
          11730.075805664062,
          11803.780639648438,
          11817.435302734375,
          11862.048217773438,
          11898.250854492188,
          11874.853149414062,
          11863.72802734375,
          11838.353515625,
          11823.094848632812,
          11712.4697265625,
          11649.310180664062,
          11594.78466796875,
          11552.663208007812,
          11543.067749023438,
          11547.26904296875,
          11549.222412109375,
          11573.126708984375,
          11578.163818359375,
          11421.258422851562,
          11319.662719726562,
          11147.932983398438,
          10994.468505859375,
          10826.468505859375,
          10633.322875976562,
          10418.01123046875,
          10288.240844726562,
          10310.677856445312,
          10303.161499023438,
          10323.351196289062,
          10372.94580078125,
          10426.502685546875,
          10531.390258789062,
          10620.076538085938,
          10690.667114257812,
          10776.418212890625,
          10836.734008789062,
          10853.09521484375,
          10835.807983398438,
          10764.522705078125,
          10736.30029296875,
          10705.102416992188,
          10682.500732421875,
          10641.97216796875,
          10614.164306640625,
          10662.3876953125,
          10693.081909179688,
          10742.69580078125,
          10722.237548828125,
          10705.447875976562,
          10697.334716796875,
          10700.851806640625,
          10689.269409179688,
          10668.296142578125,
          10702.562622070312,
          10786.524047851562,
          10892.17919921875,
          10999.514526367188,
          11101.36376953125,
          11166.656860351562,
          11258.67919921875,
          11360.855834960938,
          11446.709838867188,
          11523.834228515625,
          11695.40771484375,
          11888.526000976562,
          12067.119262695312,
          12290.36181640625,
          12499.76416015625,
          12697.289672851562,
          12935.819702148438,
          13105.597412109375,
          13185.127197265625,
          13257.000122070312,
          13363.177734375,
          13441.798828125,
          13506.705078125,
          13616.11083984375,
          13676.050659179688,
          13964.6044921875,
          14230.605346679688,
          14391.508056640625,
          14603.833129882812,
          14803.247924804688,
          15020.80517578125,
          15239.656494140625,
          15507.494873046875,
          15599.754760742188,
          15662.537109375,
          15802.765014648438,
          15953.526977539062,
          16242.632080078125,
          16556.751098632812,
          16821.224243164062,
          17114.333740234375,
          17404.88671875,
          17692.621459960938,
          17993.80126953125,
          18296.14111328125,
          18431.72216796875,
          18350.478759765625,
          18262.4599609375,
          18149.749755859375,
          18091.760986328125,
          18249.72998046875,
          18304.321044921875,
          18317.010498046875,
          18406.6513671875,
          18599.710205078125,
          18854.865966796875,
          19057.802734375,
          19184.45361328125,
          19020.343017578125,
          18989.287353515625,
          18871.537841796875,
          18697.08203125,
          18710.629638671875,
          18709.418701171875,
          18697.392578125,
          18725.8037109375,
          19099.237060546875,
          19630.92431640625,
          20239.541259765625,
          20965.846923828125,
          21549.30810546875,
          22005.50146484375,
          22572.38330078125,
          23050.056396484375,
          23353.208740234375,
          23586.986083984375,
          24000.299560546875,
          24302.681640625,
          24753.60107421875,
          25324.357421875,
          25956.807373046875
         ]
        }
       ],
       "layout": {
        "legend": {
         "bgcolor": "#F5F6F9",
         "font": {
          "color": "#4D5663"
         }
        },
        "paper_bgcolor": "#F5F6F9",
        "plot_bgcolor": "#F5F6F9",
        "template": {
         "data": {
          "bar": [
           {
            "error_x": {
             "color": "#2a3f5f"
            },
            "error_y": {
             "color": "#2a3f5f"
            },
            "marker": {
             "line": {
              "color": "#E5ECF6",
              "width": 0.5
             },
             "pattern": {
              "fillmode": "overlay",
              "size": 10,
              "solidity": 0.2
             }
            },
            "type": "bar"
           }
          ],
          "barpolar": [
           {
            "marker": {
             "line": {
              "color": "#E5ECF6",
              "width": 0.5
             },
             "pattern": {
              "fillmode": "overlay",
              "size": 10,
              "solidity": 0.2
             }
            },
            "type": "barpolar"
           }
          ],
          "carpet": [
           {
            "aaxis": {
             "endlinecolor": "#2a3f5f",
             "gridcolor": "white",
             "linecolor": "white",
             "minorgridcolor": "white",
             "startlinecolor": "#2a3f5f"
            },
            "baxis": {
             "endlinecolor": "#2a3f5f",
             "gridcolor": "white",
             "linecolor": "white",
             "minorgridcolor": "white",
             "startlinecolor": "#2a3f5f"
            },
            "type": "carpet"
           }
          ],
          "choropleth": [
           {
            "colorbar": {
             "outlinewidth": 0,
             "ticks": ""
            },
            "type": "choropleth"
           }
          ],
          "contour": [
           {
            "colorbar": {
             "outlinewidth": 0,
             "ticks": ""
            },
            "colorscale": [
             [
              0,
              "#0d0887"
             ],
             [
              0.1111111111111111,
              "#46039f"
             ],
             [
              0.2222222222222222,
              "#7201a8"
             ],
             [
              0.3333333333333333,
              "#9c179e"
             ],
             [
              0.4444444444444444,
              "#bd3786"
             ],
             [
              0.5555555555555556,
              "#d8576b"
             ],
             [
              0.6666666666666666,
              "#ed7953"
             ],
             [
              0.7777777777777778,
              "#fb9f3a"
             ],
             [
              0.8888888888888888,
              "#fdca26"
             ],
             [
              1,
              "#f0f921"
             ]
            ],
            "type": "contour"
           }
          ],
          "contourcarpet": [
           {
            "colorbar": {
             "outlinewidth": 0,
             "ticks": ""
            },
            "type": "contourcarpet"
           }
          ],
          "heatmap": [
           {
            "colorbar": {
             "outlinewidth": 0,
             "ticks": ""
            },
            "colorscale": [
             [
              0,
              "#0d0887"
             ],
             [
              0.1111111111111111,
              "#46039f"
             ],
             [
              0.2222222222222222,
              "#7201a8"
             ],
             [
              0.3333333333333333,
              "#9c179e"
             ],
             [
              0.4444444444444444,
              "#bd3786"
             ],
             [
              0.5555555555555556,
              "#d8576b"
             ],
             [
              0.6666666666666666,
              "#ed7953"
             ],
             [
              0.7777777777777778,
              "#fb9f3a"
             ],
             [
              0.8888888888888888,
              "#fdca26"
             ],
             [
              1,
              "#f0f921"
             ]
            ],
            "type": "heatmap"
           }
          ],
          "heatmapgl": [
           {
            "colorbar": {
             "outlinewidth": 0,
             "ticks": ""
            },
            "colorscale": [
             [
              0,
              "#0d0887"
             ],
             [
              0.1111111111111111,
              "#46039f"
             ],
             [
              0.2222222222222222,
              "#7201a8"
             ],
             [
              0.3333333333333333,
              "#9c179e"
             ],
             [
              0.4444444444444444,
              "#bd3786"
             ],
             [
              0.5555555555555556,
              "#d8576b"
             ],
             [
              0.6666666666666666,
              "#ed7953"
             ],
             [
              0.7777777777777778,
              "#fb9f3a"
             ],
             [
              0.8888888888888888,
              "#fdca26"
             ],
             [
              1,
              "#f0f921"
             ]
            ],
            "type": "heatmapgl"
           }
          ],
          "histogram": [
           {
            "marker": {
             "pattern": {
              "fillmode": "overlay",
              "size": 10,
              "solidity": 0.2
             }
            },
            "type": "histogram"
           }
          ],
          "histogram2d": [
           {
            "colorbar": {
             "outlinewidth": 0,
             "ticks": ""
            },
            "colorscale": [
             [
              0,
              "#0d0887"
             ],
             [
              0.1111111111111111,
              "#46039f"
             ],
             [
              0.2222222222222222,
              "#7201a8"
             ],
             [
              0.3333333333333333,
              "#9c179e"
             ],
             [
              0.4444444444444444,
              "#bd3786"
             ],
             [
              0.5555555555555556,
              "#d8576b"
             ],
             [
              0.6666666666666666,
              "#ed7953"
             ],
             [
              0.7777777777777778,
              "#fb9f3a"
             ],
             [
              0.8888888888888888,
              "#fdca26"
             ],
             [
              1,
              "#f0f921"
             ]
            ],
            "type": "histogram2d"
           }
          ],
          "histogram2dcontour": [
           {
            "colorbar": {
             "outlinewidth": 0,
             "ticks": ""
            },
            "colorscale": [
             [
              0,
              "#0d0887"
             ],
             [
              0.1111111111111111,
              "#46039f"
             ],
             [
              0.2222222222222222,
              "#7201a8"
             ],
             [
              0.3333333333333333,
              "#9c179e"
             ],
             [
              0.4444444444444444,
              "#bd3786"
             ],
             [
              0.5555555555555556,
              "#d8576b"
             ],
             [
              0.6666666666666666,
              "#ed7953"
             ],
             [
              0.7777777777777778,
              "#fb9f3a"
             ],
             [
              0.8888888888888888,
              "#fdca26"
             ],
             [
              1,
              "#f0f921"
             ]
            ],
            "type": "histogram2dcontour"
           }
          ],
          "mesh3d": [
           {
            "colorbar": {
             "outlinewidth": 0,
             "ticks": ""
            },
            "type": "mesh3d"
           }
          ],
          "parcoords": [
           {
            "line": {
             "colorbar": {
              "outlinewidth": 0,
              "ticks": ""
             }
            },
            "type": "parcoords"
           }
          ],
          "pie": [
           {
            "automargin": true,
            "type": "pie"
           }
          ],
          "scatter": [
           {
            "marker": {
             "colorbar": {
              "outlinewidth": 0,
              "ticks": ""
             }
            },
            "type": "scatter"
           }
          ],
          "scatter3d": [
           {
            "line": {
             "colorbar": {
              "outlinewidth": 0,
              "ticks": ""
             }
            },
            "marker": {
             "colorbar": {
              "outlinewidth": 0,
              "ticks": ""
             }
            },
            "type": "scatter3d"
           }
          ],
          "scattercarpet": [
           {
            "marker": {
             "colorbar": {
              "outlinewidth": 0,
              "ticks": ""
             }
            },
            "type": "scattercarpet"
           }
          ],
          "scattergeo": [
           {
            "marker": {
             "colorbar": {
              "outlinewidth": 0,
              "ticks": ""
             }
            },
            "type": "scattergeo"
           }
          ],
          "scattergl": [
           {
            "marker": {
             "colorbar": {
              "outlinewidth": 0,
              "ticks": ""
             }
            },
            "type": "scattergl"
           }
          ],
          "scattermapbox": [
           {
            "marker": {
             "colorbar": {
              "outlinewidth": 0,
              "ticks": ""
             }
            },
            "type": "scattermapbox"
           }
          ],
          "scatterpolar": [
           {
            "marker": {
             "colorbar": {
              "outlinewidth": 0,
              "ticks": ""
             }
            },
            "type": "scatterpolar"
           }
          ],
          "scatterpolargl": [
           {
            "marker": {
             "colorbar": {
              "outlinewidth": 0,
              "ticks": ""
             }
            },
            "type": "scatterpolargl"
           }
          ],
          "scatterternary": [
           {
            "marker": {
             "colorbar": {
              "outlinewidth": 0,
              "ticks": ""
             }
            },
            "type": "scatterternary"
           }
          ],
          "surface": [
           {
            "colorbar": {
             "outlinewidth": 0,
             "ticks": ""
            },
            "colorscale": [
             [
              0,
              "#0d0887"
             ],
             [
              0.1111111111111111,
              "#46039f"
             ],
             [
              0.2222222222222222,
              "#7201a8"
             ],
             [
              0.3333333333333333,
              "#9c179e"
             ],
             [
              0.4444444444444444,
              "#bd3786"
             ],
             [
              0.5555555555555556,
              "#d8576b"
             ],
             [
              0.6666666666666666,
              "#ed7953"
             ],
             [
              0.7777777777777778,
              "#fb9f3a"
             ],
             [
              0.8888888888888888,
              "#fdca26"
             ],
             [
              1,
              "#f0f921"
             ]
            ],
            "type": "surface"
           }
          ],
          "table": [
           {
            "cells": {
             "fill": {
              "color": "#EBF0F8"
             },
             "line": {
              "color": "white"
             }
            },
            "header": {
             "fill": {
              "color": "#C8D4E3"
             },
             "line": {
              "color": "white"
             }
            },
            "type": "table"
           }
          ]
         },
         "layout": {
          "annotationdefaults": {
           "arrowcolor": "#2a3f5f",
           "arrowhead": 0,
           "arrowwidth": 1
          },
          "autotypenumbers": "strict",
          "coloraxis": {
           "colorbar": {
            "outlinewidth": 0,
            "ticks": ""
           }
          },
          "colorscale": {
           "diverging": [
            [
             0,
             "#8e0152"
            ],
            [
             0.1,
             "#c51b7d"
            ],
            [
             0.2,
             "#de77ae"
            ],
            [
             0.3,
             "#f1b6da"
            ],
            [
             0.4,
             "#fde0ef"
            ],
            [
             0.5,
             "#f7f7f7"
            ],
            [
             0.6,
             "#e6f5d0"
            ],
            [
             0.7,
             "#b8e186"
            ],
            [
             0.8,
             "#7fbc41"
            ],
            [
             0.9,
             "#4d9221"
            ],
            [
             1,
             "#276419"
            ]
           ],
           "sequential": [
            [
             0,
             "#0d0887"
            ],
            [
             0.1111111111111111,
             "#46039f"
            ],
            [
             0.2222222222222222,
             "#7201a8"
            ],
            [
             0.3333333333333333,
             "#9c179e"
            ],
            [
             0.4444444444444444,
             "#bd3786"
            ],
            [
             0.5555555555555556,
             "#d8576b"
            ],
            [
             0.6666666666666666,
             "#ed7953"
            ],
            [
             0.7777777777777778,
             "#fb9f3a"
            ],
            [
             0.8888888888888888,
             "#fdca26"
            ],
            [
             1,
             "#f0f921"
            ]
           ],
           "sequentialminus": [
            [
             0,
             "#0d0887"
            ],
            [
             0.1111111111111111,
             "#46039f"
            ],
            [
             0.2222222222222222,
             "#7201a8"
            ],
            [
             0.3333333333333333,
             "#9c179e"
            ],
            [
             0.4444444444444444,
             "#bd3786"
            ],
            [
             0.5555555555555556,
             "#d8576b"
            ],
            [
             0.6666666666666666,
             "#ed7953"
            ],
            [
             0.7777777777777778,
             "#fb9f3a"
            ],
            [
             0.8888888888888888,
             "#fdca26"
            ],
            [
             1,
             "#f0f921"
            ]
           ]
          },
          "colorway": [
           "#636efa",
           "#EF553B",
           "#00cc96",
           "#ab63fa",
           "#FFA15A",
           "#19d3f3",
           "#FF6692",
           "#B6E880",
           "#FF97FF",
           "#FECB52"
          ],
          "font": {
           "color": "#2a3f5f"
          },
          "geo": {
           "bgcolor": "white",
           "lakecolor": "white",
           "landcolor": "#E5ECF6",
           "showlakes": true,
           "showland": true,
           "subunitcolor": "white"
          },
          "hoverlabel": {
           "align": "left"
          },
          "hovermode": "closest",
          "mapbox": {
           "style": "light"
          },
          "paper_bgcolor": "white",
          "plot_bgcolor": "#E5ECF6",
          "polar": {
           "angularaxis": {
            "gridcolor": "white",
            "linecolor": "white",
            "ticks": ""
           },
           "bgcolor": "#E5ECF6",
           "radialaxis": {
            "gridcolor": "white",
            "linecolor": "white",
            "ticks": ""
           }
          },
          "scene": {
           "xaxis": {
            "backgroundcolor": "#E5ECF6",
            "gridcolor": "white",
            "gridwidth": 2,
            "linecolor": "white",
            "showbackground": true,
            "ticks": "",
            "zerolinecolor": "white"
           },
           "yaxis": {
            "backgroundcolor": "#E5ECF6",
            "gridcolor": "white",
            "gridwidth": 2,
            "linecolor": "white",
            "showbackground": true,
            "ticks": "",
            "zerolinecolor": "white"
           },
           "zaxis": {
            "backgroundcolor": "#E5ECF6",
            "gridcolor": "white",
            "gridwidth": 2,
            "linecolor": "white",
            "showbackground": true,
            "ticks": "",
            "zerolinecolor": "white"
           }
          },
          "shapedefaults": {
           "line": {
            "color": "#2a3f5f"
           }
          },
          "ternary": {
           "aaxis": {
            "gridcolor": "white",
            "linecolor": "white",
            "ticks": ""
           },
           "baxis": {
            "gridcolor": "white",
            "linecolor": "white",
            "ticks": ""
           },
           "bgcolor": "#E5ECF6",
           "caxis": {
            "gridcolor": "white",
            "linecolor": "white",
            "ticks": ""
           }
          },
          "title": {
           "x": 0.05
          },
          "xaxis": {
           "automargin": true,
           "gridcolor": "white",
           "linecolor": "white",
           "ticks": "",
           "title": {
            "standoff": 15
           },
           "zerolinecolor": "white",
           "zerolinewidth": 2
          },
          "yaxis": {
           "automargin": true,
           "gridcolor": "white",
           "linecolor": "white",
           "ticks": "",
           "title": {
            "standoff": 15
           },
           "zerolinecolor": "white",
           "zerolinewidth": 2
          }
         }
        },
        "title": {
         "font": {
          "color": "#4D5663"
         }
        },
        "xaxis": {
         "gridcolor": "#E1E5ED",
         "showgrid": true,
         "tickfont": {
          "color": "#4D5663"
         },
         "title": {
          "font": {
           "color": "#4D5663"
          },
          "text": ""
         },
         "zerolinecolor": "#E1E5ED"
        },
        "yaxis": {
         "gridcolor": "#E1E5ED",
         "showgrid": true,
         "tickfont": {
          "color": "#4D5663"
         },
         "title": {
          "font": {
           "color": "#4D5663"
          },
          "text": ""
         },
         "zerolinecolor": "#E1E5ED"
        }
       }
      },
      "text/html": [
       "<div>                            <div id=\"0fca79af-3a30-4dbe-a371-7153c7169284\" class=\"plotly-graph-div\" style=\"height:525px; width:100%;\"></div>            <script type=\"text/javascript\">                require([\"plotly\"], function(Plotly) {                    window.PLOTLYENV=window.PLOTLYENV || {};\n",
       "                    window.PLOTLYENV.BASE_URL='https://plot.ly';                                    if (document.getElementById(\"0fca79af-3a30-4dbe-a371-7153c7169284\")) {                    Plotly.newPlot(                        \"0fca79af-3a30-4dbe-a371-7153c7169284\",                        [{\"line\":{\"color\":\"rgba(255, 153, 51, 1.0)\",\"dash\":\"solid\",\"shape\":\"linear\",\"width\":1.3},\"mode\":\"lines\",\"name\":\"Close\",\"text\":\"\",\"type\":\"scatter\",\"x\":[\"2019-12-31\",\"2020-01-01\",\"2020-01-02\",\"2020-01-03\",\"2020-01-04\",\"2020-01-05\",\"2020-01-06\",\"2020-01-07\",\"2020-01-08\",\"2020-01-09\",\"2020-01-10\",\"2020-01-11\",\"2020-01-12\",\"2020-01-13\",\"2020-01-14\",\"2020-01-15\",\"2020-01-16\",\"2020-01-17\",\"2020-01-18\",\"2020-01-19\",\"2020-01-20\",\"2020-01-21\",\"2020-01-22\",\"2020-01-23\",\"2020-01-24\",\"2020-01-25\",\"2020-01-26\",\"2020-01-27\",\"2020-01-28\",\"2020-01-29\",\"2020-01-30\",\"2020-01-31\",\"2020-02-01\",\"2020-02-02\",\"2020-02-03\",\"2020-02-04\",\"2020-02-05\",\"2020-02-06\",\"2020-02-07\",\"2020-02-08\",\"2020-02-09\",\"2020-02-10\",\"2020-02-11\",\"2020-02-12\",\"2020-02-13\",\"2020-02-14\",\"2020-02-15\",\"2020-02-16\",\"2020-02-17\",\"2020-02-18\",\"2020-02-19\",\"2020-02-20\",\"2020-02-21\",\"2020-02-22\",\"2020-02-23\",\"2020-02-24\",\"2020-02-25\",\"2020-02-26\",\"2020-02-27\",\"2020-02-28\",\"2020-02-29\",\"2020-03-01\",\"2020-03-02\",\"2020-03-03\",\"2020-03-04\",\"2020-03-05\",\"2020-03-06\",\"2020-03-07\",\"2020-03-08\",\"2020-03-09\",\"2020-03-10\",\"2020-03-11\",\"2020-03-12\",\"2020-03-13\",\"2020-03-14\",\"2020-03-15\",\"2020-03-16\",\"2020-03-17\",\"2020-03-18\",\"2020-03-19\",\"2020-03-20\",\"2020-03-21\",\"2020-03-22\",\"2020-03-23\",\"2020-03-24\",\"2020-03-25\",\"2020-03-26\",\"2020-03-27\",\"2020-03-28\",\"2020-03-29\",\"2020-03-30\",\"2020-03-31\",\"2020-04-01\",\"2020-04-02\",\"2020-04-03\",\"2020-04-04\",\"2020-04-05\",\"2020-04-06\",\"2020-04-07\",\"2020-04-08\",\"2020-04-09\",\"2020-04-10\",\"2020-04-11\",\"2020-04-12\",\"2020-04-13\",\"2020-04-14\",\"2020-04-15\",\"2020-04-16\",\"2020-04-18\",\"2020-04-19\",\"2020-04-20\",\"2020-04-21\",\"2020-04-22\",\"2020-04-23\",\"2020-04-24\",\"2020-04-25\",\"2020-04-26\",\"2020-04-27\",\"2020-04-28\",\"2020-04-29\",\"2020-04-30\",\"2020-05-01\",\"2020-05-02\",\"2020-05-03\",\"2020-05-04\",\"2020-05-05\",\"2020-05-06\",\"2020-05-07\",\"2020-05-08\",\"2020-05-09\",\"2020-05-10\",\"2020-05-11\",\"2020-05-12\",\"2020-05-13\",\"2020-05-14\",\"2020-05-15\",\"2020-05-16\",\"2020-05-17\",\"2020-05-18\",\"2020-05-19\",\"2020-05-20\",\"2020-05-21\",\"2020-05-22\",\"2020-05-23\",\"2020-05-24\",\"2020-05-25\",\"2020-05-26\",\"2020-05-27\",\"2020-05-28\",\"2020-05-29\",\"2020-05-30\",\"2020-05-31\",\"2020-06-01\",\"2020-06-02\",\"2020-06-03\",\"2020-06-04\",\"2020-06-05\",\"2020-06-06\",\"2020-06-07\",\"2020-06-08\",\"2020-06-09\",\"2020-06-10\",\"2020-06-11\",\"2020-06-12\",\"2020-06-13\",\"2020-06-14\",\"2020-06-15\",\"2020-06-16\",\"2020-06-17\",\"2020-06-18\",\"2020-06-19\",\"2020-06-20\",\"2020-06-21\",\"2020-06-22\",\"2020-06-23\",\"2020-06-24\",\"2020-06-25\",\"2020-06-26\",\"2020-06-27\",\"2020-06-28\",\"2020-06-29\",\"2020-06-30\",\"2020-07-01\",\"2020-07-02\",\"2020-07-03\",\"2020-07-04\",\"2020-07-05\",\"2020-07-06\",\"2020-07-07\",\"2020-07-08\",\"2020-07-09\",\"2020-07-10\",\"2020-07-11\",\"2020-07-12\",\"2020-07-13\",\"2020-07-14\",\"2020-07-15\",\"2020-07-16\",\"2020-07-17\",\"2020-07-18\",\"2020-07-19\",\"2020-07-20\",\"2020-07-21\",\"2020-07-22\",\"2020-07-23\",\"2020-07-24\",\"2020-07-25\",\"2020-07-26\",\"2020-07-27\",\"2020-07-28\",\"2020-07-29\",\"2020-07-30\",\"2020-07-31\",\"2020-08-01\",\"2020-08-02\",\"2020-08-03\",\"2020-08-04\",\"2020-08-05\",\"2020-08-06\",\"2020-08-07\",\"2020-08-08\",\"2020-08-09\",\"2020-08-10\",\"2020-08-11\",\"2020-08-12\",\"2020-08-13\",\"2020-08-14\",\"2020-08-15\",\"2020-08-16\",\"2020-08-17\",\"2020-08-18\",\"2020-08-19\",\"2020-08-20\",\"2020-08-21\",\"2020-08-22\",\"2020-08-23\",\"2020-08-24\",\"2020-08-25\",\"2020-08-26\",\"2020-08-27\",\"2020-08-28\",\"2020-08-29\",\"2020-08-30\",\"2020-08-31\",\"2020-09-01\",\"2020-09-02\",\"2020-09-03\",\"2020-09-04\",\"2020-09-05\",\"2020-09-06\",\"2020-09-07\",\"2020-09-08\",\"2020-09-09\",\"2020-09-10\",\"2020-09-11\",\"2020-09-12\",\"2020-09-13\",\"2020-09-14\",\"2020-09-15\",\"2020-09-16\",\"2020-09-17\",\"2020-09-18\",\"2020-09-19\",\"2020-09-20\",\"2020-09-21\",\"2020-09-22\",\"2020-09-23\",\"2020-09-24\",\"2020-09-25\",\"2020-09-26\",\"2020-09-27\",\"2020-09-28\",\"2020-09-29\",\"2020-09-30\",\"2020-10-01\",\"2020-10-02\",\"2020-10-03\",\"2020-10-04\",\"2020-10-05\",\"2020-10-06\",\"2020-10-07\",\"2020-10-08\",\"2020-10-10\",\"2020-10-11\",\"2020-10-14\",\"2020-10-15\",\"2020-10-16\",\"2020-10-17\",\"2020-10-18\",\"2020-10-19\",\"2020-10-20\",\"2020-10-21\",\"2020-10-22\",\"2020-10-23\",\"2020-10-24\",\"2020-10-25\",\"2020-10-26\",\"2020-10-27\",\"2020-10-28\",\"2020-10-29\",\"2020-10-30\",\"2020-10-31\",\"2020-11-01\",\"2020-11-02\",\"2020-11-03\",\"2020-11-04\",\"2020-11-05\",\"2020-11-06\",\"2020-11-07\",\"2020-11-08\",\"2020-11-09\",\"2020-11-10\",\"2020-11-11\",\"2020-11-12\",\"2020-11-13\",\"2020-11-14\",\"2020-11-15\",\"2020-11-16\",\"2020-11-17\",\"2020-11-18\",\"2020-11-19\",\"2020-11-20\",\"2020-11-21\",\"2020-11-22\",\"2020-11-23\",\"2020-11-24\",\"2020-11-25\",\"2020-11-26\",\"2020-11-27\",\"2020-11-28\",\"2020-11-29\",\"2020-11-30\",\"2020-12-01\",\"2020-12-02\",\"2020-12-03\",\"2020-12-04\",\"2020-12-05\",\"2020-12-06\",\"2020-12-07\",\"2020-12-08\",\"2020-12-09\",\"2020-12-10\",\"2020-12-11\",\"2020-12-12\",\"2020-12-13\",\"2020-12-14\",\"2020-12-15\",\"2020-12-16\",\"2020-12-17\",\"2020-12-18\",\"2020-12-19\",\"2020-12-20\",\"2020-12-21\",\"2020-12-22\",\"2020-12-23\",\"2020-12-24\",\"2020-12-25\",\"2020-12-26\",\"2020-12-27\",\"2020-12-28\",\"2020-12-29\",\"2020-12-30\",\"2020-12-31\"],\"y\":[7193.59912109375,7200.17431640625,6985.47021484375,7344.88427734375,7410.65673828125,7411.3173828125,7769.21923828125,8163.6923828125,8079.86279296875,7879.0712890625,8166.55419921875,8037.53759765625,8192.494140625,8144.1943359375,8827.7646484375,8807.0107421875,8723.7861328125,8929.0380859375,8942.80859375,8706.2451171875,8657.642578125,8745.89453125,8680.8759765625,8406.515625,8445.4345703125,8367.84765625,8596.830078125,8909.8193359375,9358.58984375,9316.6298828125,9508.9931640625,9350.529296875,9392.875,9344.365234375,9293.521484375,9180.962890625,9613.423828125,9729.8017578125,9795.943359375,9865.119140625,10116.673828125,9856.611328125,10208.236328125,10326.0546875,10214.3798828125,10312.1162109375,9889.4248046875,9934.43359375,9690.142578125,10141.99609375,9633.38671875,9608.4755859375,9686.44140625,9663.181640625,9924.515625,9650.1748046875,9341.705078125,8820.5224609375,8784.494140625,8672.455078125,8599.5087890625,8562.4541015625,8869.669921875,8787.7861328125,8755.24609375,9078.7626953125,9122.5458984375,8909.9541015625,8108.1162109375,7923.64453125,7909.7294921875,7911.43017578125,4970.7880859375,5563.70703125,5200.3662109375,5392.31494140625,5014.47998046875,5225.62939453125,5238.4384765625,6191.19287109375,6198.7783203125,6185.06640625,5830.2548828125,6416.31494140625,6734.8037109375,6681.06298828125,6716.4404296875,6469.79833984375,6242.19384765625,5922.04296875,6429.841796875,6438.64453125,6606.7763671875,6793.62451171875,6733.38720703125,6867.52734375,6791.12939453125,7271.78125,7176.41455078125,7334.0986328125,7302.08935546875,6865.4931640625,6859.0830078125,6971.091796875,6845.03759765625,6842.427734375,6642.10986328125,7116.80419921875,7257.6650390625,7189.4248046875,6881.95849609375,6880.3232421875,7117.20751953125,7429.724609375,7550.90087890625,7569.93603515625,7679.8671875,7795.60107421875,7807.05859375,8801.0380859375,8658.5537109375,8864.7666015625,8988.5966796875,8897.46875,8912.654296875,9003.0703125,9268.76171875,9951.5185546875,9842.666015625,9593.896484375,8756.4306640625,8601.7958984375,8804.4775390625,9269.9873046875,9733.7216796875,9328.197265625,9377.013671875,9670.7392578125,9726.5751953125,9729.0380859375,9522.9814453125,9081.76171875,9182.5771484375,9209.287109375,8790.3681640625,8906.9345703125,8835.052734375,9181.017578125,9525.7509765625,9439.1240234375,9700.4140625,9461.05859375,10167.2685546875,9529.8037109375,9656.7177734375,9800.63671875,9665.533203125,9653.6796875,9758.8525390625,9771.4892578125,9795.7001953125,9870.0947265625,9321.78125,9480.84375,9475.27734375,9386.7880859375,9450.7021484375,9538.0244140625,9480.2548828125,9411.8408203125,9288.0185546875,9332.3408203125,9303.6298828125,9648.7177734375,9629.658203125,9313.6103515625,9264.8134765625,9162.91796875,9045.390625,9143.58203125,9190.8544921875,9137.9931640625,9228.3251953125,9123.41015625,9087.3037109375,9132.48828125,9073.9423828125,9375.474609375,9252.27734375,9428.3330078125,9277.9677734375,9278.8076171875,9240.3466796875,9276.5,9243.6142578125,9243.2138671875,9192.8369140625,9132.2275390625,9151.392578125,9159.0400390625,9185.8173828125,9164.2314453125,9374.8876953125,9525.36328125,9581.072265625,9536.892578125,9677.11328125,9905.1669921875,10990.873046875,10912.8232421875,11100.4677734375,11111.2138671875,11323.466796875,11759.5927734375,11053.6142578125,11246.3486328125,11205.892578125,11747.0224609375,11779.7734375,11601.47265625,11754.0458984375,11675.7392578125,11878.111328125,11410.525390625,11584.9345703125,11784.1376953125,11768.87109375,11865.6982421875,11892.8037109375,12254.40234375,11991.2333984375,11758.283203125,11878.3720703125,11592.4892578125,11681.8251953125,11664.84765625,11774.595703125,11366.134765625,11488.36328125,11323.3974609375,11542.5,11506.865234375,11711.505859375,11680.8203125,11970.478515625,11414.0341796875,10245.296875,10511.8134765625,10169.5673828125,10280.3515625,10369.5634765625,10131.5166015625,10242.34765625,10363.138671875,10400.9150390625,10442.1708984375,10323.755859375,10680.837890625,10796.951171875,10974.9052734375,10948.990234375,10944.5859375,11094.3466796875,10938.271484375,10462.259765625,10538.4599609375,10225.8642578125,10745.548828125,10702.2900390625,10754.4375,10774.4267578125,10721.3271484375,10848.830078125,10787.6181640625,10623.330078125,10585.1640625,10565.4931640625,10684.4287109375,10804.0009765625,10621.6640625,10679.13671875,10923.6279296875,11296.361328125,11384.181640625,11429.5068359375,11495.349609375,11322.123046875,11358.1015625,11483.359375,11742.037109375,11916.3349609375,12823.689453125,12965.8916015625,12931.5390625,13108.0625,13031.173828125,13075.248046875,13654.21875,13271.28515625,13437.8828125,13546.5224609375,13780.9951171875,13737.109375,13550.4892578125,13950.30078125,14133.70703125,15579.8486328125,15565.880859375,14833.75390625,15479.5673828125,15332.3154296875,15290.90234375,15701.33984375,16276.34375,16317.80859375,16068.138671875,15955.587890625,16716.111328125,17645.40625,17804.005859375,17817.08984375,18621.314453125,18642.232421875,18370.001953125,18364.12109375,19107.46484375,18732.12109375,17150.623046875,17108.40234375,17717.4140625,18177.484375,19625.8359375,18802.998046875,19201.091796875,19445.3984375,18699.765625,19154.23046875,19345.12109375,19191.630859375,18321.14453125,18553.916015625,18264.9921875,18058.904296875,18803.65625,19142.3828125,19246.64453125,19417.076171875,21310.59765625,22805.162109375,23137.9609375,23869.83203125,23477.294921875,22803.08203125,23783.029296875,23241.345703125,23735.94921875,24664.791015625,26437.037109375,26272.294921875,27084.80859375,27362.4375,28840.953125,29001.720703125]},{\"line\":{\"color\":\"rgba(55, 128, 191, 1.0)\",\"dash\":\"solid\",\"shape\":\"linear\",\"width\":1.3},\"mode\":\"lines\",\"name\":\"ma_fast\",\"text\":\"\",\"type\":\"scatter\",\"x\":[\"2019-12-31\",\"2020-01-01\",\"2020-01-02\",\"2020-01-03\",\"2020-01-04\",\"2020-01-05\",\"2020-01-06\",\"2020-01-07\",\"2020-01-08\",\"2020-01-09\",\"2020-01-10\",\"2020-01-11\",\"2020-01-12\",\"2020-01-13\",\"2020-01-14\",\"2020-01-15\",\"2020-01-16\",\"2020-01-17\",\"2020-01-18\",\"2020-01-19\",\"2020-01-20\",\"2020-01-21\",\"2020-01-22\",\"2020-01-23\",\"2020-01-24\",\"2020-01-25\",\"2020-01-26\",\"2020-01-27\",\"2020-01-28\",\"2020-01-29\",\"2020-01-30\",\"2020-01-31\",\"2020-02-01\",\"2020-02-02\",\"2020-02-03\",\"2020-02-04\",\"2020-02-05\",\"2020-02-06\",\"2020-02-07\",\"2020-02-08\",\"2020-02-09\",\"2020-02-10\",\"2020-02-11\",\"2020-02-12\",\"2020-02-13\",\"2020-02-14\",\"2020-02-15\",\"2020-02-16\",\"2020-02-17\",\"2020-02-18\",\"2020-02-19\",\"2020-02-20\",\"2020-02-21\",\"2020-02-22\",\"2020-02-23\",\"2020-02-24\",\"2020-02-25\",\"2020-02-26\",\"2020-02-27\",\"2020-02-28\",\"2020-02-29\",\"2020-03-01\",\"2020-03-02\",\"2020-03-03\",\"2020-03-04\",\"2020-03-05\",\"2020-03-06\",\"2020-03-07\",\"2020-03-08\",\"2020-03-09\",\"2020-03-10\",\"2020-03-11\",\"2020-03-12\",\"2020-03-13\",\"2020-03-14\",\"2020-03-15\",\"2020-03-16\",\"2020-03-17\",\"2020-03-18\",\"2020-03-19\",\"2020-03-20\",\"2020-03-21\",\"2020-03-22\",\"2020-03-23\",\"2020-03-24\",\"2020-03-25\",\"2020-03-26\",\"2020-03-27\",\"2020-03-28\",\"2020-03-29\",\"2020-03-30\",\"2020-03-31\",\"2020-04-01\",\"2020-04-02\",\"2020-04-03\",\"2020-04-04\",\"2020-04-05\",\"2020-04-06\",\"2020-04-07\",\"2020-04-08\",\"2020-04-09\",\"2020-04-10\",\"2020-04-11\",\"2020-04-12\",\"2020-04-13\",\"2020-04-14\",\"2020-04-15\",\"2020-04-16\",\"2020-04-18\",\"2020-04-19\",\"2020-04-20\",\"2020-04-21\",\"2020-04-22\",\"2020-04-23\",\"2020-04-24\",\"2020-04-25\",\"2020-04-26\",\"2020-04-27\",\"2020-04-28\",\"2020-04-29\",\"2020-04-30\",\"2020-05-01\",\"2020-05-02\",\"2020-05-03\",\"2020-05-04\",\"2020-05-05\",\"2020-05-06\",\"2020-05-07\",\"2020-05-08\",\"2020-05-09\",\"2020-05-10\",\"2020-05-11\",\"2020-05-12\",\"2020-05-13\",\"2020-05-14\",\"2020-05-15\",\"2020-05-16\",\"2020-05-17\",\"2020-05-18\",\"2020-05-19\",\"2020-05-20\",\"2020-05-21\",\"2020-05-22\",\"2020-05-23\",\"2020-05-24\",\"2020-05-25\",\"2020-05-26\",\"2020-05-27\",\"2020-05-28\",\"2020-05-29\",\"2020-05-30\",\"2020-05-31\",\"2020-06-01\",\"2020-06-02\",\"2020-06-03\",\"2020-06-04\",\"2020-06-05\",\"2020-06-06\",\"2020-06-07\",\"2020-06-08\",\"2020-06-09\",\"2020-06-10\",\"2020-06-11\",\"2020-06-12\",\"2020-06-13\",\"2020-06-14\",\"2020-06-15\",\"2020-06-16\",\"2020-06-17\",\"2020-06-18\",\"2020-06-19\",\"2020-06-20\",\"2020-06-21\",\"2020-06-22\",\"2020-06-23\",\"2020-06-24\",\"2020-06-25\",\"2020-06-26\",\"2020-06-27\",\"2020-06-28\",\"2020-06-29\",\"2020-06-30\",\"2020-07-01\",\"2020-07-02\",\"2020-07-03\",\"2020-07-04\",\"2020-07-05\",\"2020-07-06\",\"2020-07-07\",\"2020-07-08\",\"2020-07-09\",\"2020-07-10\",\"2020-07-11\",\"2020-07-12\",\"2020-07-13\",\"2020-07-14\",\"2020-07-15\",\"2020-07-16\",\"2020-07-17\",\"2020-07-18\",\"2020-07-19\",\"2020-07-20\",\"2020-07-21\",\"2020-07-22\",\"2020-07-23\",\"2020-07-24\",\"2020-07-25\",\"2020-07-26\",\"2020-07-27\",\"2020-07-28\",\"2020-07-29\",\"2020-07-30\",\"2020-07-31\",\"2020-08-01\",\"2020-08-02\",\"2020-08-03\",\"2020-08-04\",\"2020-08-05\",\"2020-08-06\",\"2020-08-07\",\"2020-08-08\",\"2020-08-09\",\"2020-08-10\",\"2020-08-11\",\"2020-08-12\",\"2020-08-13\",\"2020-08-14\",\"2020-08-15\",\"2020-08-16\",\"2020-08-17\",\"2020-08-18\",\"2020-08-19\",\"2020-08-20\",\"2020-08-21\",\"2020-08-22\",\"2020-08-23\",\"2020-08-24\",\"2020-08-25\",\"2020-08-26\",\"2020-08-27\",\"2020-08-28\",\"2020-08-29\",\"2020-08-30\",\"2020-08-31\",\"2020-09-01\",\"2020-09-02\",\"2020-09-03\",\"2020-09-04\",\"2020-09-05\",\"2020-09-06\",\"2020-09-07\",\"2020-09-08\",\"2020-09-09\",\"2020-09-10\",\"2020-09-11\",\"2020-09-12\",\"2020-09-13\",\"2020-09-14\",\"2020-09-15\",\"2020-09-16\",\"2020-09-17\",\"2020-09-18\",\"2020-09-19\",\"2020-09-20\",\"2020-09-21\",\"2020-09-22\",\"2020-09-23\",\"2020-09-24\",\"2020-09-25\",\"2020-09-26\",\"2020-09-27\",\"2020-09-28\",\"2020-09-29\",\"2020-09-30\",\"2020-10-01\",\"2020-10-02\",\"2020-10-03\",\"2020-10-04\",\"2020-10-05\",\"2020-10-06\",\"2020-10-07\",\"2020-10-08\",\"2020-10-10\",\"2020-10-11\",\"2020-10-14\",\"2020-10-15\",\"2020-10-16\",\"2020-10-17\",\"2020-10-18\",\"2020-10-19\",\"2020-10-20\",\"2020-10-21\",\"2020-10-22\",\"2020-10-23\",\"2020-10-24\",\"2020-10-25\",\"2020-10-26\",\"2020-10-27\",\"2020-10-28\",\"2020-10-29\",\"2020-10-30\",\"2020-10-31\",\"2020-11-01\",\"2020-11-02\",\"2020-11-03\",\"2020-11-04\",\"2020-11-05\",\"2020-11-06\",\"2020-11-07\",\"2020-11-08\",\"2020-11-09\",\"2020-11-10\",\"2020-11-11\",\"2020-11-12\",\"2020-11-13\",\"2020-11-14\",\"2020-11-15\",\"2020-11-16\",\"2020-11-17\",\"2020-11-18\",\"2020-11-19\",\"2020-11-20\",\"2020-11-21\",\"2020-11-22\",\"2020-11-23\",\"2020-11-24\",\"2020-11-25\",\"2020-11-26\",\"2020-11-27\",\"2020-11-28\",\"2020-11-29\",\"2020-11-30\",\"2020-12-01\",\"2020-12-02\",\"2020-12-03\",\"2020-12-04\",\"2020-12-05\",\"2020-12-06\",\"2020-12-07\",\"2020-12-08\",\"2020-12-09\",\"2020-12-10\",\"2020-12-11\",\"2020-12-12\",\"2020-12-13\",\"2020-12-14\",\"2020-12-15\",\"2020-12-16\",\"2020-12-17\",\"2020-12-18\",\"2020-12-19\",\"2020-12-20\",\"2020-12-21\",\"2020-12-22\",\"2020-12-23\",\"2020-12-24\",\"2020-12-25\",\"2020-12-26\",\"2020-12-27\",\"2020-12-28\",\"2020-12-29\",\"2020-12-30\",\"2020-12-31\"],\"y\":[\"\",\"\",\"\",7169.0777587890625,7181.8118896484375,7235.7017822265625,7287.677001953125,7483.7403564453125,7687.88037109375,7855.8414306640625,7972.8052978515625,8071.1824951171875,8039.0140380859375,8065.883056640625,8131.5394287109375,8297.32763671875,8492.132568359375,8625.992065429688,8822.561767578125,8851.587158203125,8824.624755859375,8808.070068359375,8762.31982421875,8697.12109375,8622.35498046875,8567.636962890625,8472.686767578125,8451.851318359375,8578.590576171875,8807.928466796875,9045.830078125,9273.581298828125,9382.03955078125,9390.126953125,9397.293701171875,9343.42578125,9302.6904296875,9359.690673828125,9455.0205078125,9580.07763671875,9750.197265625,9874.6318359375,9907.10400390625,10009.433349609375,10124.449951171875,10148.44775390625,10262.93896484375,10184.636962890625,10087.786865234375,9957.706787109375,9915.1923828125,9850.228759765625,9769.0341796875,9768.1533203125,9648.033203125,9721.09765625,9730.980224609375,9643.6259765625,9434.06982421875,9150.856201171875,8905.831298828125,8721.198486328125,8655.7412109375,8674.906005859375,8704.23828125,8744.369873046875,8873.130859375,8937.18408203125,8967.10009765625,8804.8154296875,8515.775024414062,8212.897338867188,7964.2498779296875,7190.9210205078125,6603.6536865234375,5926.39794921875,5294.30126953125,5290.488037109375,5203.9970703125,5215.08447265625,5416.6905517578125,5717.6763916015625,5957.2874755859375,6103.7769775390625,6165.024169921875,6298.072998046875,6420.4761962890625,6642.4798583984375,6650.1326904296875,6526.859619140625,6339.4515380859375,6267.255859375,6259.772216796875,6350.0601806640625,6568.024658203125,6644.96875,6751.2733154296875,6796.5916748046875,6915.653564453125,7025.878662109375,7144.73583984375,7273.67724609375,7172.1263427734375,7091.822509765625,6998.735107421875,6883.6016845703125,6878.1319580078125,6823.728515625,6855.397216796875,6959.807373046875,7045.1353759765625,7104.9678955078125,7051.755126953125,7016.85107421875,7078.6781005859375,7246.352783203125,7419.0274658203125,7558.5556640625,7649.2528076171875,7713.3101806640625,8020.19287109375,8268.53369140625,8536.555541992188,8830.781005859375,8855.2998046875,8915.312255859375,8949.908203125,9019.478515625,9279.582763671875,9511.601318359375,9657.533203125,9530.943115234375,9199.4990234375,8940.619384765625,8860.659423828125,9105.348388671875,9286.06201171875,9428.447509765625,9529.5390625,9527.732177734375,9625.75439453125,9662.70703125,9513.866943359375,9378.36669921875,9250.105224609375,9065.947021484375,9023.259765625,8936.33935546875,8929.5048828125,9115.06689453125,9247.39892578125,9463.080078125,9532.7451171875,9691.399658203125,9715.111328125,9704.048583984375,9788.201171875,9663.683837890625,9693.494384765625,9719.546630859375,9713.082763671875,9745.386474609375,9799.6552734375,9689.81201171875,9616.40576171875,9537.264404296875,9416.253662109375,9449.647705078125,9462.909912109375,9463.913330078125,9469.97802734375,9429.1513671875,9378.43701171875,9333.27392578125,9391.719482421875,9477.016845703125,9472.81689453125,9462.8369140625,9343.77392578125,9197.851806640625,9154.327392578125,9135.473876953125,9130.01416015625,9175.683837890625,9171.88720703125,9146.55029296875,9141.57666015625,9102.004150390625,9158.083740234375,9200.280517578125,9275.75634765625,9325.88330078125,9307.970947265625,9304.9794921875,9267.2822265625,9258.61865234375,9249.715087890625,9237.446533203125,9201.098388671875,9179.218505859375,9158.24560546875,9157.0556640625,9164.731201171875,9220.705322265625,9312.9892578125,9412.562744140625,9506.805419921875,9583.093994140625,9677.613037109375,10035.600341796875,10378.96728515625,10733.866943359375,11035.115234375,11111.391845703125,11322.8447265625,11308.82861328125,11342.82666015625,11313.139892578125,11310.91650390625,11494.697998046875,11584.28564453125,11717.6611328125,11695.757568359375,11721.44580078125,11671.45654296875,11634.2265625,11661.8271484375,11633.589599609375,11749.11181640625,11825.925048828125,11945.734130859375,12001.281005859375,11974.984619140625,11970.57666015625,11803.97216796875,11726.175048828125,11701.722412109375,11675.613037109375,11620.96728515625,11572.4453125,11487.846923828125,11429.71337890625,11465.168212890625,11522.0927734375,11610.597900390625,11716.5400390625,11691.159423828125,11320.424072265625,11028.7275390625,10579.325927734375,10297.777587890625,10332.512939453125,10237.918212890625,10256.696533203125,10278.7041015625,10288.8427734375,10368.40478515625,10390.005859375,10467.1875,10564.16259765625,10694.375732421875,10850.147216796875,10914.146728515625,10988.673828125,10979.09228515625,10856.043212890625,10757.46923828125,10540.37158203125,10493.50830078125,10554.16162109375,10607.5322265625,10743.57275390625,10734.8203125,10770.61376953125,10778.631591796875,10741.81884765625,10709.65478515625,10640.281982421875,10616.037841796875,10659.884765625,10668.884033203125,10696.310302734375,10789.08740234375,10913.163330078125,11115.474365234375,11302.71875,11413.64013671875,11420.150390625,11401.884033203125,11418.992919921875,11479.779541015625,11627.51806640625,11988.931396484375,12358.05908203125,12654.458984375,12953.20556640625,13010.596923828125,13036.520263671875,13217.180419921875,13257.9892578125,13359.657470703125,13477.47998046875,13509.175048828125,13625.6083984375,13653.752685546875,13754.74169921875,13842.92626953125,14303.6005859375,14807.4580078125,15028.2744140625,15364.739990234375,15302.895263671875,15234.15234375,15451.03857421875,15650.249755859375,15896.6142578125,16090.921875,16154.491455078125,16256.80419921875,16588.64990234375,17022.580322265625,17487.95703125,17971.86328125,18221.12353515625,18362.66259765625,18499.6455078125,18620.4189453125,18642.32080078125,18338.294921875,18025.2744140625,17679.08056640625,17541.201171875,18161.1650390625,18583.36767578125,18954.9404296875,19272.1015625,19038.25537109375,19126.3642578125,19160.6650390625,19096.8056640625,19002.4306640625,18852.21044921875,18582.41064453125,18297.3583984375,18418.82861328125,18566.626953125,18812.37451171875,19154.2490234375,19779.6455078125,20695.2216796875,21666.7080078125,22777.44482421875,23318.970703125,23315.78125,23478.05859375,23322.66796875,23387.44677734375,23858.19091796875,24522.54052734375,25282.6953125,26119.75537109375,26790.52392578125,27391.07421875]},{\"line\":{\"color\":\"rgba(50, 171, 96, 1.0)\",\"dash\":\"solid\",\"shape\":\"linear\",\"width\":1.3},\"mode\":\"lines\",\"name\":\"ma_slow\",\"text\":\"\",\"type\":\"scatter\",\"x\":[\"2019-12-31\",\"2020-01-01\",\"2020-01-02\",\"2020-01-03\",\"2020-01-04\",\"2020-01-05\",\"2020-01-06\",\"2020-01-07\",\"2020-01-08\",\"2020-01-09\",\"2020-01-10\",\"2020-01-11\",\"2020-01-12\",\"2020-01-13\",\"2020-01-14\",\"2020-01-15\",\"2020-01-16\",\"2020-01-17\",\"2020-01-18\",\"2020-01-19\",\"2020-01-20\",\"2020-01-21\",\"2020-01-22\",\"2020-01-23\",\"2020-01-24\",\"2020-01-25\",\"2020-01-26\",\"2020-01-27\",\"2020-01-28\",\"2020-01-29\",\"2020-01-30\",\"2020-01-31\",\"2020-02-01\",\"2020-02-02\",\"2020-02-03\",\"2020-02-04\",\"2020-02-05\",\"2020-02-06\",\"2020-02-07\",\"2020-02-08\",\"2020-02-09\",\"2020-02-10\",\"2020-02-11\",\"2020-02-12\",\"2020-02-13\",\"2020-02-14\",\"2020-02-15\",\"2020-02-16\",\"2020-02-17\",\"2020-02-18\",\"2020-02-19\",\"2020-02-20\",\"2020-02-21\",\"2020-02-22\",\"2020-02-23\",\"2020-02-24\",\"2020-02-25\",\"2020-02-26\",\"2020-02-27\",\"2020-02-28\",\"2020-02-29\",\"2020-03-01\",\"2020-03-02\",\"2020-03-03\",\"2020-03-04\",\"2020-03-05\",\"2020-03-06\",\"2020-03-07\",\"2020-03-08\",\"2020-03-09\",\"2020-03-10\",\"2020-03-11\",\"2020-03-12\",\"2020-03-13\",\"2020-03-14\",\"2020-03-15\",\"2020-03-16\",\"2020-03-17\",\"2020-03-18\",\"2020-03-19\",\"2020-03-20\",\"2020-03-21\",\"2020-03-22\",\"2020-03-23\",\"2020-03-24\",\"2020-03-25\",\"2020-03-26\",\"2020-03-27\",\"2020-03-28\",\"2020-03-29\",\"2020-03-30\",\"2020-03-31\",\"2020-04-01\",\"2020-04-02\",\"2020-04-03\",\"2020-04-04\",\"2020-04-05\",\"2020-04-06\",\"2020-04-07\",\"2020-04-08\",\"2020-04-09\",\"2020-04-10\",\"2020-04-11\",\"2020-04-12\",\"2020-04-13\",\"2020-04-14\",\"2020-04-15\",\"2020-04-16\",\"2020-04-18\",\"2020-04-19\",\"2020-04-20\",\"2020-04-21\",\"2020-04-22\",\"2020-04-23\",\"2020-04-24\",\"2020-04-25\",\"2020-04-26\",\"2020-04-27\",\"2020-04-28\",\"2020-04-29\",\"2020-04-30\",\"2020-05-01\",\"2020-05-02\",\"2020-05-03\",\"2020-05-04\",\"2020-05-05\",\"2020-05-06\",\"2020-05-07\",\"2020-05-08\",\"2020-05-09\",\"2020-05-10\",\"2020-05-11\",\"2020-05-12\",\"2020-05-13\",\"2020-05-14\",\"2020-05-15\",\"2020-05-16\",\"2020-05-17\",\"2020-05-18\",\"2020-05-19\",\"2020-05-20\",\"2020-05-21\",\"2020-05-22\",\"2020-05-23\",\"2020-05-24\",\"2020-05-25\",\"2020-05-26\",\"2020-05-27\",\"2020-05-28\",\"2020-05-29\",\"2020-05-30\",\"2020-05-31\",\"2020-06-01\",\"2020-06-02\",\"2020-06-03\",\"2020-06-04\",\"2020-06-05\",\"2020-06-06\",\"2020-06-07\",\"2020-06-08\",\"2020-06-09\",\"2020-06-10\",\"2020-06-11\",\"2020-06-12\",\"2020-06-13\",\"2020-06-14\",\"2020-06-15\",\"2020-06-16\",\"2020-06-17\",\"2020-06-18\",\"2020-06-19\",\"2020-06-20\",\"2020-06-21\",\"2020-06-22\",\"2020-06-23\",\"2020-06-24\",\"2020-06-25\",\"2020-06-26\",\"2020-06-27\",\"2020-06-28\",\"2020-06-29\",\"2020-06-30\",\"2020-07-01\",\"2020-07-02\",\"2020-07-03\",\"2020-07-04\",\"2020-07-05\",\"2020-07-06\",\"2020-07-07\",\"2020-07-08\",\"2020-07-09\",\"2020-07-10\",\"2020-07-11\",\"2020-07-12\",\"2020-07-13\",\"2020-07-14\",\"2020-07-15\",\"2020-07-16\",\"2020-07-17\",\"2020-07-18\",\"2020-07-19\",\"2020-07-20\",\"2020-07-21\",\"2020-07-22\",\"2020-07-23\",\"2020-07-24\",\"2020-07-25\",\"2020-07-26\",\"2020-07-27\",\"2020-07-28\",\"2020-07-29\",\"2020-07-30\",\"2020-07-31\",\"2020-08-01\",\"2020-08-02\",\"2020-08-03\",\"2020-08-04\",\"2020-08-05\",\"2020-08-06\",\"2020-08-07\",\"2020-08-08\",\"2020-08-09\",\"2020-08-10\",\"2020-08-11\",\"2020-08-12\",\"2020-08-13\",\"2020-08-14\",\"2020-08-15\",\"2020-08-16\",\"2020-08-17\",\"2020-08-18\",\"2020-08-19\",\"2020-08-20\",\"2020-08-21\",\"2020-08-22\",\"2020-08-23\",\"2020-08-24\",\"2020-08-25\",\"2020-08-26\",\"2020-08-27\",\"2020-08-28\",\"2020-08-29\",\"2020-08-30\",\"2020-08-31\",\"2020-09-01\",\"2020-09-02\",\"2020-09-03\",\"2020-09-04\",\"2020-09-05\",\"2020-09-06\",\"2020-09-07\",\"2020-09-08\",\"2020-09-09\",\"2020-09-10\",\"2020-09-11\",\"2020-09-12\",\"2020-09-13\",\"2020-09-14\",\"2020-09-15\",\"2020-09-16\",\"2020-09-17\",\"2020-09-18\",\"2020-09-19\",\"2020-09-20\",\"2020-09-21\",\"2020-09-22\",\"2020-09-23\",\"2020-09-24\",\"2020-09-25\",\"2020-09-26\",\"2020-09-27\",\"2020-09-28\",\"2020-09-29\",\"2020-09-30\",\"2020-10-01\",\"2020-10-02\",\"2020-10-03\",\"2020-10-04\",\"2020-10-05\",\"2020-10-06\",\"2020-10-07\",\"2020-10-08\",\"2020-10-10\",\"2020-10-11\",\"2020-10-14\",\"2020-10-15\",\"2020-10-16\",\"2020-10-17\",\"2020-10-18\",\"2020-10-19\",\"2020-10-20\",\"2020-10-21\",\"2020-10-22\",\"2020-10-23\",\"2020-10-24\",\"2020-10-25\",\"2020-10-26\",\"2020-10-27\",\"2020-10-28\",\"2020-10-29\",\"2020-10-30\",\"2020-10-31\",\"2020-11-01\",\"2020-11-02\",\"2020-11-03\",\"2020-11-04\",\"2020-11-05\",\"2020-11-06\",\"2020-11-07\",\"2020-11-08\",\"2020-11-09\",\"2020-11-10\",\"2020-11-11\",\"2020-11-12\",\"2020-11-13\",\"2020-11-14\",\"2020-11-15\",\"2020-11-16\",\"2020-11-17\",\"2020-11-18\",\"2020-11-19\",\"2020-11-20\",\"2020-11-21\",\"2020-11-22\",\"2020-11-23\",\"2020-11-24\",\"2020-11-25\",\"2020-11-26\",\"2020-11-27\",\"2020-11-28\",\"2020-11-29\",\"2020-11-30\",\"2020-12-01\",\"2020-12-02\",\"2020-12-03\",\"2020-12-04\",\"2020-12-05\",\"2020-12-06\",\"2020-12-07\",\"2020-12-08\",\"2020-12-09\",\"2020-12-10\",\"2020-12-11\",\"2020-12-12\",\"2020-12-13\",\"2020-12-14\",\"2020-12-15\",\"2020-12-16\",\"2020-12-17\",\"2020-12-18\",\"2020-12-19\",\"2020-12-20\",\"2020-12-21\",\"2020-12-22\",\"2020-12-23\",\"2020-12-24\",\"2020-12-25\",\"2020-12-26\",\"2020-12-27\",\"2020-12-28\",\"2020-12-29\",\"2020-12-30\",\"2020-12-31\"],\"y\":[\"\",\"\",\"\",\"\",\"\",\"\",\"\",7326.4090576171875,7434.846130371094,7545.7716064453125,7630.241149902344,7777.46142578125,7863.447204589844,7960.862243652344,8052.17236328125,8184.255065917969,8265.573303222656,8345.937561035156,8477.050598144531,8574.457397460938,8658.378662109375,8717.031066894531,8792.440795898438,8774.354125976562,8723.489868164062,8687.853515625,8617.503295898438,8574.486206054688,8600.472778320312,8687.78271484375,8759.258422851562,8862.71630859375,8980.315063476562,9099.027709960938,9221.561889648438,9308.503540039062,9342.364990234375,9374.908813476562,9426.157104492188,9461.751708984375,9526.44384765625,9617.161254882812,9681.062255859375,9794.755493164062,9937.323608398438,10011.539794921875,10085.021484375,10097.03515625,10106.118408203125,10053.077270507812,10089.065673828125,10017.432861328125,9928.410522460938,9862.930053710938,9781.61279296875,9785.663208007812,9750.007202148438,9705.8896484375,9541.051513671875,9435.976928710938,9318.40576171875,9182.412231445312,9044.905517578125,8912.881103515625,8805.034790039062,8732.7841796875,8764.43603515625,8806.045043945312,8835.669189453125,8774.592651367188,8694.452941894531,8575.040710449219,8465.674987792969,7997.868225097656,7559.71435546875,7069.647644042969,6629.275573730469,6240.704528808594,5903.825378417969,5570.7412109375,5355.495910644531,5504.082214355469,5580.642272949219,5659.430725097656,5790.857360839844,6007.874694824219,6188.8818359375,6373.12841796875,6407.578430175781,6412.46630859375,6379.9638671875,6454.867858886719,6454.952453613281,6438.459899902344,6453.738098144531,6456.1123046875,6505.522766113281,6573.325927734375,6741.839111328125,6835.4237060546875,6948.004577636719,7035.134460449219,7043.889953613281,7058.8505859375,7071.7354736328125,7078.639465332031,7025.129150390625,6957.7755126953125,6927.066162109375,6921.704528808594,6961.6336669921875,6964.348205566406,6953.576171875,6988.3292236328125,7061.90673828125,7175.660339355469,7235.391296386719,7287.703369140625,7363.9654541015625,7479.831481933594,7719.610168457031,7913.544677734375,8092.9041748046875,8272.045593261719,8437.746337890625,8591.922973632812,8743.231872558594,8925.129760742188,9067.441284179688,9213.456787109375,9303.720703125,9275.210815429688,9239.540893554688,9226.1103515625,9259.096313476562,9318.145751953125,9242.780517578125,9184.533447265625,9195.099243164062,9316.540283203125,9455.908203125,9545.577270507812,9521.703002929688,9453.049438476562,9437.929809570312,9364.327026367188,9268.563354492188,9157.35302734375,9089.805053710938,9090.506958007812,9135.329345703125,9199.709716796875,9231.125,9403.233276367188,9481.255126953125,9583.564331054688,9660.47314453125,9677.541748046875,9704.302856445312,9711.797607421875,9750.641967773438,9704.53515625,9746.574829101562,9704.679321289062,9664.744262695312,9641.325439453125,9607.954467773438,9569.729858398438,9539.657836914062,9500.5888671875,9443.115844726562,9439.399536132812,9420.673461914062,9398.593627929688,9430.848754882812,9453.084106445312,9425.626953125,9398.055419921875,9367.746704101562,9337.434326171875,9313.572143554688,9299.155395507812,9236.89404296875,9186.767822265625,9163.107299804688,9141.012084960938,9135.79541015625,9138.843994140625,9164.985473632812,9173.415405273438,9208.66650390625,9213.943725585938,9233.02734375,9252.630004882812,9271.519287109375,9292.2509765625,9278.843017578125,9271.213012695312,9234.190307617188,9218.918579101562,9203.980346679688,9197.251098632812,9182.914794921875,9199.9619140625,9235.617431640625,9284.809204101562,9335.768310546875,9401.899658203125,9495.301147460938,9724.08154296875,9942.886352539062,10158.48046875,10356.364135742188,10573.49609375,10850.906005859375,11021.347778320312,11188.970947265625,11212.265869140625,11316.880615234375,11401.763305664062,11463.55615234375,11515.400512695312,11503.337036132812,11608.071899414062,11627.87109375,11675.94384765625,11678.792358398438,11677.517700195312,11710.2841796875,11730.075805664062,11803.780639648438,11817.435302734375,11862.048217773438,11898.250854492188,11874.853149414062,11863.72802734375,11838.353515625,11823.094848632812,11712.4697265625,11649.310180664062,11594.78466796875,11552.663208007812,11543.067749023438,11547.26904296875,11549.222412109375,11573.126708984375,11578.163818359375,11421.258422851562,11319.662719726562,11147.932983398438,10994.468505859375,10826.468505859375,10633.322875976562,10418.01123046875,10288.240844726562,10310.677856445312,10303.161499023438,10323.351196289062,10372.94580078125,10426.502685546875,10531.390258789062,10620.076538085938,10690.667114257812,10776.418212890625,10836.734008789062,10853.09521484375,10835.807983398438,10764.522705078125,10736.30029296875,10705.102416992188,10682.500732421875,10641.97216796875,10614.164306640625,10662.3876953125,10693.081909179688,10742.69580078125,10722.237548828125,10705.447875976562,10697.334716796875,10700.851806640625,10689.269409179688,10668.296142578125,10702.562622070312,10786.524047851562,10892.17919921875,10999.514526367188,11101.36376953125,11166.656860351562,11258.67919921875,11360.855834960938,11446.709838867188,11523.834228515625,11695.40771484375,11888.526000976562,12067.119262695312,12290.36181640625,12499.76416015625,12697.289672851562,12935.819702148438,13105.597412109375,13185.127197265625,13257.000122070312,13363.177734375,13441.798828125,13506.705078125,13616.11083984375,13676.050659179688,13964.6044921875,14230.605346679688,14391.508056640625,14603.833129882812,14803.247924804688,15020.80517578125,15239.656494140625,15507.494873046875,15599.754760742188,15662.537109375,15802.765014648438,15953.526977539062,16242.632080078125,16556.751098632812,16821.224243164062,17114.333740234375,17404.88671875,17692.621459960938,17993.80126953125,18296.14111328125,18431.72216796875,18350.478759765625,18262.4599609375,18149.749755859375,18091.760986328125,18249.72998046875,18304.321044921875,18317.010498046875,18406.6513671875,18599.710205078125,18854.865966796875,19057.802734375,19184.45361328125,19020.343017578125,18989.287353515625,18871.537841796875,18697.08203125,18710.629638671875,18709.418701171875,18697.392578125,18725.8037109375,19099.237060546875,19630.92431640625,20239.541259765625,20965.846923828125,21549.30810546875,22005.50146484375,22572.38330078125,23050.056396484375,23353.208740234375,23586.986083984375,24000.299560546875,24302.681640625,24753.60107421875,25324.357421875,25956.807373046875]}],                        {\"legend\":{\"bgcolor\":\"#F5F6F9\",\"font\":{\"color\":\"#4D5663\"}},\"paper_bgcolor\":\"#F5F6F9\",\"plot_bgcolor\":\"#F5F6F9\",\"template\":{\"data\":{\"bar\":[{\"error_x\":{\"color\":\"#2a3f5f\"},\"error_y\":{\"color\":\"#2a3f5f\"},\"marker\":{\"line\":{\"color\":\"#E5ECF6\",\"width\":0.5},\"pattern\":{\"fillmode\":\"overlay\",\"size\":10,\"solidity\":0.2}},\"type\":\"bar\"}],\"barpolar\":[{\"marker\":{\"line\":{\"color\":\"#E5ECF6\",\"width\":0.5},\"pattern\":{\"fillmode\":\"overlay\",\"size\":10,\"solidity\":0.2}},\"type\":\"barpolar\"}],\"carpet\":[{\"aaxis\":{\"endlinecolor\":\"#2a3f5f\",\"gridcolor\":\"white\",\"linecolor\":\"white\",\"minorgridcolor\":\"white\",\"startlinecolor\":\"#2a3f5f\"},\"baxis\":{\"endlinecolor\":\"#2a3f5f\",\"gridcolor\":\"white\",\"linecolor\":\"white\",\"minorgridcolor\":\"white\",\"startlinecolor\":\"#2a3f5f\"},\"type\":\"carpet\"}],\"choropleth\":[{\"colorbar\":{\"outlinewidth\":0,\"ticks\":\"\"},\"type\":\"choropleth\"}],\"contour\":[{\"colorbar\":{\"outlinewidth\":0,\"ticks\":\"\"},\"colorscale\":[[0.0,\"#0d0887\"],[0.1111111111111111,\"#46039f\"],[0.2222222222222222,\"#7201a8\"],[0.3333333333333333,\"#9c179e\"],[0.4444444444444444,\"#bd3786\"],[0.5555555555555556,\"#d8576b\"],[0.6666666666666666,\"#ed7953\"],[0.7777777777777778,\"#fb9f3a\"],[0.8888888888888888,\"#fdca26\"],[1.0,\"#f0f921\"]],\"type\":\"contour\"}],\"contourcarpet\":[{\"colorbar\":{\"outlinewidth\":0,\"ticks\":\"\"},\"type\":\"contourcarpet\"}],\"heatmap\":[{\"colorbar\":{\"outlinewidth\":0,\"ticks\":\"\"},\"colorscale\":[[0.0,\"#0d0887\"],[0.1111111111111111,\"#46039f\"],[0.2222222222222222,\"#7201a8\"],[0.3333333333333333,\"#9c179e\"],[0.4444444444444444,\"#bd3786\"],[0.5555555555555556,\"#d8576b\"],[0.6666666666666666,\"#ed7953\"],[0.7777777777777778,\"#fb9f3a\"],[0.8888888888888888,\"#fdca26\"],[1.0,\"#f0f921\"]],\"type\":\"heatmap\"}],\"heatmapgl\":[{\"colorbar\":{\"outlinewidth\":0,\"ticks\":\"\"},\"colorscale\":[[0.0,\"#0d0887\"],[0.1111111111111111,\"#46039f\"],[0.2222222222222222,\"#7201a8\"],[0.3333333333333333,\"#9c179e\"],[0.4444444444444444,\"#bd3786\"],[0.5555555555555556,\"#d8576b\"],[0.6666666666666666,\"#ed7953\"],[0.7777777777777778,\"#fb9f3a\"],[0.8888888888888888,\"#fdca26\"],[1.0,\"#f0f921\"]],\"type\":\"heatmapgl\"}],\"histogram\":[{\"marker\":{\"pattern\":{\"fillmode\":\"overlay\",\"size\":10,\"solidity\":0.2}},\"type\":\"histogram\"}],\"histogram2d\":[{\"colorbar\":{\"outlinewidth\":0,\"ticks\":\"\"},\"colorscale\":[[0.0,\"#0d0887\"],[0.1111111111111111,\"#46039f\"],[0.2222222222222222,\"#7201a8\"],[0.3333333333333333,\"#9c179e\"],[0.4444444444444444,\"#bd3786\"],[0.5555555555555556,\"#d8576b\"],[0.6666666666666666,\"#ed7953\"],[0.7777777777777778,\"#fb9f3a\"],[0.8888888888888888,\"#fdca26\"],[1.0,\"#f0f921\"]],\"type\":\"histogram2d\"}],\"histogram2dcontour\":[{\"colorbar\":{\"outlinewidth\":0,\"ticks\":\"\"},\"colorscale\":[[0.0,\"#0d0887\"],[0.1111111111111111,\"#46039f\"],[0.2222222222222222,\"#7201a8\"],[0.3333333333333333,\"#9c179e\"],[0.4444444444444444,\"#bd3786\"],[0.5555555555555556,\"#d8576b\"],[0.6666666666666666,\"#ed7953\"],[0.7777777777777778,\"#fb9f3a\"],[0.8888888888888888,\"#fdca26\"],[1.0,\"#f0f921\"]],\"type\":\"histogram2dcontour\"}],\"mesh3d\":[{\"colorbar\":{\"outlinewidth\":0,\"ticks\":\"\"},\"type\":\"mesh3d\"}],\"parcoords\":[{\"line\":{\"colorbar\":{\"outlinewidth\":0,\"ticks\":\"\"}},\"type\":\"parcoords\"}],\"pie\":[{\"automargin\":true,\"type\":\"pie\"}],\"scatter\":[{\"marker\":{\"colorbar\":{\"outlinewidth\":0,\"ticks\":\"\"}},\"type\":\"scatter\"}],\"scatter3d\":[{\"line\":{\"colorbar\":{\"outlinewidth\":0,\"ticks\":\"\"}},\"marker\":{\"colorbar\":{\"outlinewidth\":0,\"ticks\":\"\"}},\"type\":\"scatter3d\"}],\"scattercarpet\":[{\"marker\":{\"colorbar\":{\"outlinewidth\":0,\"ticks\":\"\"}},\"type\":\"scattercarpet\"}],\"scattergeo\":[{\"marker\":{\"colorbar\":{\"outlinewidth\":0,\"ticks\":\"\"}},\"type\":\"scattergeo\"}],\"scattergl\":[{\"marker\":{\"colorbar\":{\"outlinewidth\":0,\"ticks\":\"\"}},\"type\":\"scattergl\"}],\"scattermapbox\":[{\"marker\":{\"colorbar\":{\"outlinewidth\":0,\"ticks\":\"\"}},\"type\":\"scattermapbox\"}],\"scatterpolar\":[{\"marker\":{\"colorbar\":{\"outlinewidth\":0,\"ticks\":\"\"}},\"type\":\"scatterpolar\"}],\"scatterpolargl\":[{\"marker\":{\"colorbar\":{\"outlinewidth\":0,\"ticks\":\"\"}},\"type\":\"scatterpolargl\"}],\"scatterternary\":[{\"marker\":{\"colorbar\":{\"outlinewidth\":0,\"ticks\":\"\"}},\"type\":\"scatterternary\"}],\"surface\":[{\"colorbar\":{\"outlinewidth\":0,\"ticks\":\"\"},\"colorscale\":[[0.0,\"#0d0887\"],[0.1111111111111111,\"#46039f\"],[0.2222222222222222,\"#7201a8\"],[0.3333333333333333,\"#9c179e\"],[0.4444444444444444,\"#bd3786\"],[0.5555555555555556,\"#d8576b\"],[0.6666666666666666,\"#ed7953\"],[0.7777777777777778,\"#fb9f3a\"],[0.8888888888888888,\"#fdca26\"],[1.0,\"#f0f921\"]],\"type\":\"surface\"}],\"table\":[{\"cells\":{\"fill\":{\"color\":\"#EBF0F8\"},\"line\":{\"color\":\"white\"}},\"header\":{\"fill\":{\"color\":\"#C8D4E3\"},\"line\":{\"color\":\"white\"}},\"type\":\"table\"}]},\"layout\":{\"annotationdefaults\":{\"arrowcolor\":\"#2a3f5f\",\"arrowhead\":0,\"arrowwidth\":1},\"autotypenumbers\":\"strict\",\"coloraxis\":{\"colorbar\":{\"outlinewidth\":0,\"ticks\":\"\"}},\"colorscale\":{\"diverging\":[[0,\"#8e0152\"],[0.1,\"#c51b7d\"],[0.2,\"#de77ae\"],[0.3,\"#f1b6da\"],[0.4,\"#fde0ef\"],[0.5,\"#f7f7f7\"],[0.6,\"#e6f5d0\"],[0.7,\"#b8e186\"],[0.8,\"#7fbc41\"],[0.9,\"#4d9221\"],[1,\"#276419\"]],\"sequential\":[[0.0,\"#0d0887\"],[0.1111111111111111,\"#46039f\"],[0.2222222222222222,\"#7201a8\"],[0.3333333333333333,\"#9c179e\"],[0.4444444444444444,\"#bd3786\"],[0.5555555555555556,\"#d8576b\"],[0.6666666666666666,\"#ed7953\"],[0.7777777777777778,\"#fb9f3a\"],[0.8888888888888888,\"#fdca26\"],[1.0,\"#f0f921\"]],\"sequentialminus\":[[0.0,\"#0d0887\"],[0.1111111111111111,\"#46039f\"],[0.2222222222222222,\"#7201a8\"],[0.3333333333333333,\"#9c179e\"],[0.4444444444444444,\"#bd3786\"],[0.5555555555555556,\"#d8576b\"],[0.6666666666666666,\"#ed7953\"],[0.7777777777777778,\"#fb9f3a\"],[0.8888888888888888,\"#fdca26\"],[1.0,\"#f0f921\"]]},\"colorway\":[\"#636efa\",\"#EF553B\",\"#00cc96\",\"#ab63fa\",\"#FFA15A\",\"#19d3f3\",\"#FF6692\",\"#B6E880\",\"#FF97FF\",\"#FECB52\"],\"font\":{\"color\":\"#2a3f5f\"},\"geo\":{\"bgcolor\":\"white\",\"lakecolor\":\"white\",\"landcolor\":\"#E5ECF6\",\"showlakes\":true,\"showland\":true,\"subunitcolor\":\"white\"},\"hoverlabel\":{\"align\":\"left\"},\"hovermode\":\"closest\",\"mapbox\":{\"style\":\"light\"},\"paper_bgcolor\":\"white\",\"plot_bgcolor\":\"#E5ECF6\",\"polar\":{\"angularaxis\":{\"gridcolor\":\"white\",\"linecolor\":\"white\",\"ticks\":\"\"},\"bgcolor\":\"#E5ECF6\",\"radialaxis\":{\"gridcolor\":\"white\",\"linecolor\":\"white\",\"ticks\":\"\"}},\"scene\":{\"xaxis\":{\"backgroundcolor\":\"#E5ECF6\",\"gridcolor\":\"white\",\"gridwidth\":2,\"linecolor\":\"white\",\"showbackground\":true,\"ticks\":\"\",\"zerolinecolor\":\"white\"},\"yaxis\":{\"backgroundcolor\":\"#E5ECF6\",\"gridcolor\":\"white\",\"gridwidth\":2,\"linecolor\":\"white\",\"showbackground\":true,\"ticks\":\"\",\"zerolinecolor\":\"white\"},\"zaxis\":{\"backgroundcolor\":\"#E5ECF6\",\"gridcolor\":\"white\",\"gridwidth\":2,\"linecolor\":\"white\",\"showbackground\":true,\"ticks\":\"\",\"zerolinecolor\":\"white\"}},\"shapedefaults\":{\"line\":{\"color\":\"#2a3f5f\"}},\"ternary\":{\"aaxis\":{\"gridcolor\":\"white\",\"linecolor\":\"white\",\"ticks\":\"\"},\"baxis\":{\"gridcolor\":\"white\",\"linecolor\":\"white\",\"ticks\":\"\"},\"bgcolor\":\"#E5ECF6\",\"caxis\":{\"gridcolor\":\"white\",\"linecolor\":\"white\",\"ticks\":\"\"}},\"title\":{\"x\":0.05},\"xaxis\":{\"automargin\":true,\"gridcolor\":\"white\",\"linecolor\":\"white\",\"ticks\":\"\",\"title\":{\"standoff\":15},\"zerolinecolor\":\"white\",\"zerolinewidth\":2},\"yaxis\":{\"automargin\":true,\"gridcolor\":\"white\",\"linecolor\":\"white\",\"ticks\":\"\",\"title\":{\"standoff\":15},\"zerolinecolor\":\"white\",\"zerolinewidth\":2}}},\"title\":{\"font\":{\"color\":\"#4D5663\"}},\"xaxis\":{\"gridcolor\":\"#E1E5ED\",\"showgrid\":true,\"tickfont\":{\"color\":\"#4D5663\"},\"title\":{\"font\":{\"color\":\"#4D5663\"},\"text\":\"\"},\"zerolinecolor\":\"#E1E5ED\"},\"yaxis\":{\"gridcolor\":\"#E1E5ED\",\"showgrid\":true,\"tickfont\":{\"color\":\"#4D5663\"},\"title\":{\"font\":{\"color\":\"#4D5663\"},\"text\":\"\"},\"zerolinecolor\":\"#E1E5ED\"}},                        {\"showLink\": true, \"linkText\": \"Export to plot.ly\", \"plotlyServerURL\": \"https://plot.ly\", \"responsive\": true}                    ).then(function(){\n",
       "                            \n",
       "var gd = document.getElementById('0fca79af-3a30-4dbe-a371-7153c7169284');\n",
       "var x = new MutationObserver(function (mutations, observer) {{\n",
       "        var display = window.getComputedStyle(gd).display;\n",
       "        if (!display || display === 'none') {{\n",
       "            console.log([gd, 'removed!']);\n",
       "            Plotly.purge(gd);\n",
       "            observer.disconnect();\n",
       "        }}\n",
       "}});\n",
       "\n",
       "// Listen for the removal of the full notebook cells\n",
       "var notebookContainer = gd.closest('#notebook-container');\n",
       "if (notebookContainer) {{\n",
       "    x.observe(notebookContainer, {childList: true});\n",
       "}}\n",
       "\n",
       "// Listen for the clearing of the current output cell\n",
       "var outputEl = gd.closest('.output');\n",
       "if (outputEl) {{\n",
       "    x.observe(outputEl, {childList: true});\n",
       "}}\n",
       "\n",
       "                        })                };                });            </script>        </div>"
      ]
     },
     "metadata": {},
     "output_type": "display_data"
    },
    {
     "name": "stdout",
     "output_type": "stream",
     "text": [
      "Trend Follow: Absolute_return % 64.0\n",
      "Buy-and-Hold: Absolute_return % 273.0\n",
      "Trend Follow: CAGR % 42.0\n",
      "Buy-and-Hold: CAGR % 145.0\n",
      "Trend Follow: information_ratio 0.9095\n",
      "Buy-and-Hold: information_ratio 1.819\n"
     ]
    },
    {
     "data": {
      "application/vnd.plotly.v1+json": {
       "config": {
        "linkText": "Export to plot.ly",
        "plotlyServerURL": "https://plot.ly",
        "showLink": true
       },
       "data": [
        {
         "line": {
          "color": "rgba(255, 153, 51, 1.0)",
          "dash": "solid",
          "shape": "linear",
          "width": 1.3
         },
         "mode": "lines",
         "name": "account_val",
         "text": "",
         "type": "scatter",
         "x": [
          "2020-01-07",
          "2020-01-08",
          "2020-01-09",
          "2020-01-10",
          "2020-01-11",
          "2020-01-12",
          "2020-01-13",
          "2020-01-14",
          "2020-01-15",
          "2020-01-16",
          "2020-01-17",
          "2020-01-18",
          "2020-01-19",
          "2020-01-20",
          "2020-01-21",
          "2020-01-22",
          "2020-01-23",
          "2020-01-24",
          "2020-01-25",
          "2020-01-26",
          "2020-01-27",
          "2020-01-28",
          "2020-01-29",
          "2020-01-30",
          "2020-01-31",
          "2020-02-01",
          "2020-02-02",
          "2020-02-03",
          "2020-02-04",
          "2020-02-05",
          "2020-02-06",
          "2020-02-07",
          "2020-02-08",
          "2020-02-09",
          "2020-02-10",
          "2020-02-11",
          "2020-02-12",
          "2020-02-13",
          "2020-02-14",
          "2020-02-15",
          "2020-02-16",
          "2020-02-17",
          "2020-02-18",
          "2020-02-19",
          "2020-02-20",
          "2020-02-21",
          "2020-02-22",
          "2020-02-23",
          "2020-02-24",
          "2020-02-25",
          "2020-02-26",
          "2020-02-27",
          "2020-02-28",
          "2020-02-29",
          "2020-03-01",
          "2020-03-02",
          "2020-03-03",
          "2020-03-04",
          "2020-03-05",
          "2020-03-06",
          "2020-03-07",
          "2020-03-08",
          "2020-03-09",
          "2020-03-10",
          "2020-03-11",
          "2020-03-12",
          "2020-03-13",
          "2020-03-14",
          "2020-03-15",
          "2020-03-16",
          "2020-03-17",
          "2020-03-18",
          "2020-03-19",
          "2020-03-20",
          "2020-03-21",
          "2020-03-22",
          "2020-03-23",
          "2020-03-24",
          "2020-03-25",
          "2020-03-26",
          "2020-03-27",
          "2020-03-28",
          "2020-03-29",
          "2020-03-30",
          "2020-03-31",
          "2020-04-01",
          "2020-04-02",
          "2020-04-03",
          "2020-04-04",
          "2020-04-05",
          "2020-04-06",
          "2020-04-07",
          "2020-04-08",
          "2020-04-09",
          "2020-04-10",
          "2020-04-11",
          "2020-04-12",
          "2020-04-13",
          "2020-04-14",
          "2020-04-15",
          "2020-04-16",
          "2020-04-18",
          "2020-04-19",
          "2020-04-20",
          "2020-04-21",
          "2020-04-22",
          "2020-04-23",
          "2020-04-24",
          "2020-04-25",
          "2020-04-26",
          "2020-04-27",
          "2020-04-28",
          "2020-04-29",
          "2020-04-30",
          "2020-05-01",
          "2020-05-02",
          "2020-05-03",
          "2020-05-04",
          "2020-05-05",
          "2020-05-06",
          "2020-05-07",
          "2020-05-08",
          "2020-05-09",
          "2020-05-10",
          "2020-05-11",
          "2020-05-12",
          "2020-05-13",
          "2020-05-14",
          "2020-05-15",
          "2020-05-16",
          "2020-05-17",
          "2020-05-18",
          "2020-05-19",
          "2020-05-20",
          "2020-05-21",
          "2020-05-22",
          "2020-05-23",
          "2020-05-24",
          "2020-05-25",
          "2020-05-26",
          "2020-05-27",
          "2020-05-28",
          "2020-05-29",
          "2020-05-30",
          "2020-05-31",
          "2020-06-01",
          "2020-06-02",
          "2020-06-03",
          "2020-06-04",
          "2020-06-05",
          "2020-06-06",
          "2020-06-07",
          "2020-06-08",
          "2020-06-09",
          "2020-06-10",
          "2020-06-11",
          "2020-06-12",
          "2020-06-13",
          "2020-06-14",
          "2020-06-15",
          "2020-06-16",
          "2020-06-17",
          "2020-06-18",
          "2020-06-19",
          "2020-06-20",
          "2020-06-21",
          "2020-06-22",
          "2020-06-23",
          "2020-06-24",
          "2020-06-25",
          "2020-06-26",
          "2020-06-27",
          "2020-06-28",
          "2020-06-29",
          "2020-06-30",
          "2020-07-01",
          "2020-07-02",
          "2020-07-03",
          "2020-07-04",
          "2020-07-05",
          "2020-07-06",
          "2020-07-07",
          "2020-07-08",
          "2020-07-09",
          "2020-07-10",
          "2020-07-11",
          "2020-07-12",
          "2020-07-13",
          "2020-07-14",
          "2020-07-15",
          "2020-07-16",
          "2020-07-17",
          "2020-07-18",
          "2020-07-19",
          "2020-07-20",
          "2020-07-21",
          "2020-07-22",
          "2020-07-23",
          "2020-07-24",
          "2020-07-25",
          "2020-07-26",
          "2020-07-27",
          "2020-07-28",
          "2020-07-29",
          "2020-07-30",
          "2020-07-31",
          "2020-08-01",
          "2020-08-02",
          "2020-08-03",
          "2020-08-04",
          "2020-08-05",
          "2020-08-06",
          "2020-08-07",
          "2020-08-08",
          "2020-08-09",
          "2020-08-10",
          "2020-08-11",
          "2020-08-12",
          "2020-08-13",
          "2020-08-14",
          "2020-08-15",
          "2020-08-16",
          "2020-08-17",
          "2020-08-18",
          "2020-08-19",
          "2020-08-20",
          "2020-08-21",
          "2020-08-22",
          "2020-08-23",
          "2020-08-24",
          "2020-08-25",
          "2020-08-26",
          "2020-08-27",
          "2020-08-28",
          "2020-08-29",
          "2020-08-30",
          "2020-08-31",
          "2020-09-01",
          "2020-09-02",
          "2020-09-03",
          "2020-09-04",
          "2020-09-05",
          "2020-09-06",
          "2020-09-07",
          "2020-09-08",
          "2020-09-09",
          "2020-09-10",
          "2020-09-11",
          "2020-09-12",
          "2020-09-13",
          "2020-09-14",
          "2020-09-15",
          "2020-09-16",
          "2020-09-17",
          "2020-09-18",
          "2020-09-19",
          "2020-09-20",
          "2020-09-21",
          "2020-09-22",
          "2020-09-23",
          "2020-09-24",
          "2020-09-25",
          "2020-09-26",
          "2020-09-27",
          "2020-09-28",
          "2020-09-29",
          "2020-09-30",
          "2020-10-01",
          "2020-10-02",
          "2020-10-03",
          "2020-10-04",
          "2020-10-05",
          "2020-10-06",
          "2020-10-07",
          "2020-10-08",
          "2020-10-10",
          "2020-10-11",
          "2020-10-14",
          "2020-10-15",
          "2020-10-16",
          "2020-10-17",
          "2020-10-18",
          "2020-10-19",
          "2020-10-20",
          "2020-10-21",
          "2020-10-22",
          "2020-10-23",
          "2020-10-24",
          "2020-10-25",
          "2020-10-26",
          "2020-10-27",
          "2020-10-28",
          "2020-10-29",
          "2020-10-30",
          "2020-10-31",
          "2020-11-01",
          "2020-11-02",
          "2020-11-03",
          "2020-11-04",
          "2020-11-05",
          "2020-11-06",
          "2020-11-07",
          "2020-11-08",
          "2020-11-09",
          "2020-11-10",
          "2020-11-11",
          "2020-11-12",
          "2020-11-13",
          "2020-11-14",
          "2020-11-15",
          "2020-11-16",
          "2020-11-17",
          "2020-11-18",
          "2020-11-19",
          "2020-11-20",
          "2020-11-21",
          "2020-11-22",
          "2020-11-23",
          "2020-11-24",
          "2020-11-25",
          "2020-11-26",
          "2020-11-27",
          "2020-11-28",
          "2020-11-29",
          "2020-11-30",
          "2020-12-01",
          "2020-12-02",
          "2020-12-03",
          "2020-12-04",
          "2020-12-05",
          "2020-12-06",
          "2020-12-07",
          "2020-12-08",
          "2020-12-09",
          "2020-12-10",
          "2020-12-11",
          "2020-12-12",
          "2020-12-13",
          "2020-12-14",
          "2020-12-15",
          "2020-12-16",
          "2020-12-17",
          "2020-12-18",
          "2020-12-19",
          "2020-12-20",
          "2020-12-21",
          "2020-12-22",
          "2020-12-23",
          "2020-12-24",
          "2020-12-25",
          "2020-12-26",
          "2020-12-27",
          "2020-12-28",
          "2020-12-29",
          "2020-12-30",
          "2020-12-31"
         ],
         "y": [
          104067.60561523438,
          103204.16083984375,
          101136.00834960937,
          104097.08232421875,
          102768.211328125,
          104364.26372070312,
          103866.77573242187,
          110907.54995117188,
          110693.78471679687,
          109836.57124023438,
          111950.66635742187,
          112092.50258789063,
          109655.89877929687,
          109155.29262695313,
          110064.28774414063,
          110682.72978515626,
          113445.53852539063,
          113053.62474609376,
          113834.92497070313,
          111529.07198242188,
          108377.27015625,
          103858.15114257814,
          103504.75440429688,
          105212.94034179687,
          103805.78120117188,
          104181.81104492188,
          103751.04432617188,
          103299.55182617188,
          102300.03151367187,
          98488.44565429685,
          97451.51830078123,
          98044.28810546873,
          98599.07787109373,
          100616.54646484372,
          98530.84521484372,
          101350.87771484372,
          102295.78095703122,
          101400.14902343748,
          102183.99437499998,
          98794.00929687498,
          99154.97978515623,
          101136.4533398437,
          97530.66228515621,
          101589.3650976562,
          101788.15593749996,
          101165.98869140621,
          101351.60162109371,
          99266.15642578121,
          101455.39617187496,
          103916.9845898437,
          108076.02187499996,
          108363.52787109371,
          109257.59958984371,
          109839.71097656246,
          110135.40738281247,
          107683.82513671872,
          108337.25777343746,
          108596.92728515621,
          111710.82797851559,
          112144.71952148434,
          110037.93481445308,
          102091.72131835934,
          100263.60697265621,
          100372.43106933591,
          100355.22015136716,
          130114.5181005859,
          124114.17837402341,
          127791.1874755859,
          125848.66632324216,
          129672.35612792966,
          127535.52405761715,
          127405.89614746091,
          117764.02167480465,
          117865.79205566403,
          117657.09672363279,
          112256.86533691404,
          121176.69942871091,
          126024.09850097653,
          125206.16470214841,
          125744.60936035153,
          121990.71675292966,
          118526.57638183591,
          113653.88000488278,
          105964.02865234371,
          105828.90667968745,
          103248.08299804684,
          100379.96397949215,
          99564.11463378902,
          101148.30964843747,
          100246.04986816403,
          105922.54828124997,
          104796.26756347652,
          106658.5165722656,
          106280.4870068359,
          101124.28598632809,
          101048.58204101559,
          102371.40583984372,
          103721.54937988278,
          103752.21527343747,
          106105.95025878903,
          100528.2918115234,
          98873.17694335934,
          98054.2949707031,
          94705.98687011717,
          94688.1789550781,
          97267.84873535154,
          100671.15984374998,
          101990.76941894529,
          102198.06227050778,
          103395.21251953123,
          104655.55454589841,
          104780.32693359372,
          115604.7636035156,
          114053.1087597656,
          116298.76713867186,
          117647.2766894531,
          116654.89353515622,
          116820.26414062497,
          117804.89455078123,
          120698.27396484373,
          128133.4959082031,
          126948.09175781248,
          124238.99156249997,
          115118.98877929685,
          113435.0161816406,
          111478.89112304687,
          106567.7630957031,
          101675.3654394531,
          105953.64800781249,
          106295.90749999997,
          108962.93582031247,
          109469.92613281248,
          109492.28917968748,
          107621.29488281248,
          103615.01976562498,
          102666.59363281251,
          102422.73168945312,
          106247.46166015626,
          105183.21037109375,
          105839.49153320312,
          102680.83250976563,
          99533.41658203125,
          98762.55500000001,
          100944.32682617188,
          98945.70866210938,
          104842.56183593751,
          99519.730390625,
          100579.4628125,
          101781.18600585939,
          100653.07165039063,
          100739.32127929688,
          99863.23142578125,
          99944.60720703125,
          99791.53283203124,
          100421.66688476561,
          95952.91205078125,
          94623.96003906247,
          94669.77156249997,
          95398.03815429685,
          94872.02541992185,
          94153.3631738281,
          94628.80641601559,
          95191.8541503906,
          94213.37702148434,
          93899.5742285156,
          94132.4199316406,
          91333.75713867185,
          91488.33025390623,
          89045.22965820311,
          88674.3734082031,
          87899.9675488281,
          88874.32071289062,
          88121.19262695311,
          87758.61285156249,
          88164.05923828125,
          87471.21255859375,
          88275.91090820312,
          87972.370390625,
          88322.09896484375,
          87868.9537109375,
          85513.15189453124,
          86467.93070312499,
          87771.50868164063,
          86646.77672851562,
          86653.05875976563,
          86365.37094726562,
          86635.79778320312,
          86889.9951953125,
          86892.98611328125,
          87269.301953125,
          87722.053984375,
          87578.89114257813,
          87521.76460937501,
          87321.7378515625,
          87482.9848046875,
          85909.3826171875,
          87007.52139648439,
          87415.86825195313,
          87092.03114257813,
          88119.84889648439,
          89791.48259765626,
          97749.70797851564,
          97177.60291015626,
          98553.03732421876,
          98631.80619140626,
          100187.62016601564,
          103384.42357421876,
          98209.6010546875,
          99622.3440234375,
          99325.80114257813,
          103292.28318359375,
          103100.95018554687,
          101863.17577148437,
          102931.18846679687,
          102383.04198242187,
          103799.64647460937,
          100526.54491210937,
          101747.40916992187,
          100393.70516601563,
          100501.02937500001,
          99820.33452148439,
          99987.1690136719,
          102420.72781250002,
          100649.6008105469,
          99081.84599609376,
          99890.04407226565,
          97966.05274414064,
          97265.55372070313,
          97380.32188476564,
          96638.42508789063,
          99399.62102539063,
          98573.35625976563,
          99688.52520507813,
          98207.39204101563,
          98448.28305664063,
          97064.91243164064,
          97272.34672851564,
          99219.65278320313,
          95513.73350585937,
          87729.94305664062,
          85700.57787109374,
          88044.96361328124,
          87286.09198242187,
          86674.99037109375,
          88305.61146484375,
          87546.41874023438,
          86719.00028320313,
          86460.23216796874,
          86177.62953125,
          85257.80317382813,
          87610.97375976562,
          88376.16028320312,
          89548.8778125,
          89378.09770507812,
          89349.07338867187,
          90335.9966796875,
          89307.46114257812,
          86170.54391601562,
          86672.703203125,
          88740.71434570315,
          85321.1898730469,
          85605.83270507815,
          85262.7024121094,
          85131.17309570314,
          84829.51208007816,
          85635.33059570316,
          85248.47129882815,
          84210.17059570315,
          84463.56965820317,
          84588.28315429692,
          83834.23178710941,
          83076.14362304691,
          84232.15965820316,
          83867.78301757817,
          85420.26571289067,
          87761.03145507816,
          88312.54301757817,
          88597.18524414067,
          89010.67786132816,
          87922.81504882817,
          88148.76012695317,
          88935.37918945316,
          90559.87536132817,
          91654.46586914067,
          97352.65208007817,
          98245.68157226566,
          98029.94762695317,
          99138.51481445317,
          98655.65395507816,
          98932.44004882817,
          102568.37606445317,
          100163.55309570317,
          101209.78637695317,
          101892.04336914067,
          103364.53165039067,
          103088.92918945316,
          101916.95485351566,
          104427.77122070317,
          105579.56247070317,
          114661.33172851567,
          114573.61411132816,
          109975.85684570317,
          114031.56547851567,
          113106.82321289067,
          112846.74903320317,
          115424.29653320317,
          119035.32106445316,
          119295.72028320316,
          117727.79317382816,
          117020.97426757817,
          121797.06145507816,
          127633.03356445317,
          128629.03911132817,
          128711.20653320316,
          133761.73708007816,
          133893.1019238282,
          132183.49458007817,
          132146.56278320318,
          136814.7615332032,
          134457.60278320318,
          124525.79504882816,
          124808.88571289067,
          121270.52762695318,
          118597.51911132818,
          110182.59653320316,
          114963.28467773442,
          116921.37991210942,
          118116.03938476567,
          114469.89493164067,
          116692.22801757816,
          117625.68317382816,
          116875.11592773441,
          121111.39309570317,
          119977.79596679691,
          121384.85500976567,
          122388.50303710942,
          118761.56102539066,
          117111.96266601566,
          116604.20809570316,
          117426.12475585942,
          126609.70395507816,
          133858.34155273443,
          135472.41586914065,
          139021.99067382817,
          137118.1856933594,
          133848.25317382818,
          138600.9974121094,
          135973.83198242192,
          138372.65903320315,
          142877.54174804693,
          151472.93530273443,
          150673.9356933594,
          154614.62700195314,
          155961.12719726568,
          163131.92797851568,
          163911.6507324219
         ]
        }
       ],
       "layout": {
        "legend": {
         "bgcolor": "#F5F6F9",
         "font": {
          "color": "#4D5663"
         }
        },
        "paper_bgcolor": "#F5F6F9",
        "plot_bgcolor": "#F5F6F9",
        "template": {
         "data": {
          "bar": [
           {
            "error_x": {
             "color": "#2a3f5f"
            },
            "error_y": {
             "color": "#2a3f5f"
            },
            "marker": {
             "line": {
              "color": "#E5ECF6",
              "width": 0.5
             },
             "pattern": {
              "fillmode": "overlay",
              "size": 10,
              "solidity": 0.2
             }
            },
            "type": "bar"
           }
          ],
          "barpolar": [
           {
            "marker": {
             "line": {
              "color": "#E5ECF6",
              "width": 0.5
             },
             "pattern": {
              "fillmode": "overlay",
              "size": 10,
              "solidity": 0.2
             }
            },
            "type": "barpolar"
           }
          ],
          "carpet": [
           {
            "aaxis": {
             "endlinecolor": "#2a3f5f",
             "gridcolor": "white",
             "linecolor": "white",
             "minorgridcolor": "white",
             "startlinecolor": "#2a3f5f"
            },
            "baxis": {
             "endlinecolor": "#2a3f5f",
             "gridcolor": "white",
             "linecolor": "white",
             "minorgridcolor": "white",
             "startlinecolor": "#2a3f5f"
            },
            "type": "carpet"
           }
          ],
          "choropleth": [
           {
            "colorbar": {
             "outlinewidth": 0,
             "ticks": ""
            },
            "type": "choropleth"
           }
          ],
          "contour": [
           {
            "colorbar": {
             "outlinewidth": 0,
             "ticks": ""
            },
            "colorscale": [
             [
              0,
              "#0d0887"
             ],
             [
              0.1111111111111111,
              "#46039f"
             ],
             [
              0.2222222222222222,
              "#7201a8"
             ],
             [
              0.3333333333333333,
              "#9c179e"
             ],
             [
              0.4444444444444444,
              "#bd3786"
             ],
             [
              0.5555555555555556,
              "#d8576b"
             ],
             [
              0.6666666666666666,
              "#ed7953"
             ],
             [
              0.7777777777777778,
              "#fb9f3a"
             ],
             [
              0.8888888888888888,
              "#fdca26"
             ],
             [
              1,
              "#f0f921"
             ]
            ],
            "type": "contour"
           }
          ],
          "contourcarpet": [
           {
            "colorbar": {
             "outlinewidth": 0,
             "ticks": ""
            },
            "type": "contourcarpet"
           }
          ],
          "heatmap": [
           {
            "colorbar": {
             "outlinewidth": 0,
             "ticks": ""
            },
            "colorscale": [
             [
              0,
              "#0d0887"
             ],
             [
              0.1111111111111111,
              "#46039f"
             ],
             [
              0.2222222222222222,
              "#7201a8"
             ],
             [
              0.3333333333333333,
              "#9c179e"
             ],
             [
              0.4444444444444444,
              "#bd3786"
             ],
             [
              0.5555555555555556,
              "#d8576b"
             ],
             [
              0.6666666666666666,
              "#ed7953"
             ],
             [
              0.7777777777777778,
              "#fb9f3a"
             ],
             [
              0.8888888888888888,
              "#fdca26"
             ],
             [
              1,
              "#f0f921"
             ]
            ],
            "type": "heatmap"
           }
          ],
          "heatmapgl": [
           {
            "colorbar": {
             "outlinewidth": 0,
             "ticks": ""
            },
            "colorscale": [
             [
              0,
              "#0d0887"
             ],
             [
              0.1111111111111111,
              "#46039f"
             ],
             [
              0.2222222222222222,
              "#7201a8"
             ],
             [
              0.3333333333333333,
              "#9c179e"
             ],
             [
              0.4444444444444444,
              "#bd3786"
             ],
             [
              0.5555555555555556,
              "#d8576b"
             ],
             [
              0.6666666666666666,
              "#ed7953"
             ],
             [
              0.7777777777777778,
              "#fb9f3a"
             ],
             [
              0.8888888888888888,
              "#fdca26"
             ],
             [
              1,
              "#f0f921"
             ]
            ],
            "type": "heatmapgl"
           }
          ],
          "histogram": [
           {
            "marker": {
             "pattern": {
              "fillmode": "overlay",
              "size": 10,
              "solidity": 0.2
             }
            },
            "type": "histogram"
           }
          ],
          "histogram2d": [
           {
            "colorbar": {
             "outlinewidth": 0,
             "ticks": ""
            },
            "colorscale": [
             [
              0,
              "#0d0887"
             ],
             [
              0.1111111111111111,
              "#46039f"
             ],
             [
              0.2222222222222222,
              "#7201a8"
             ],
             [
              0.3333333333333333,
              "#9c179e"
             ],
             [
              0.4444444444444444,
              "#bd3786"
             ],
             [
              0.5555555555555556,
              "#d8576b"
             ],
             [
              0.6666666666666666,
              "#ed7953"
             ],
             [
              0.7777777777777778,
              "#fb9f3a"
             ],
             [
              0.8888888888888888,
              "#fdca26"
             ],
             [
              1,
              "#f0f921"
             ]
            ],
            "type": "histogram2d"
           }
          ],
          "histogram2dcontour": [
           {
            "colorbar": {
             "outlinewidth": 0,
             "ticks": ""
            },
            "colorscale": [
             [
              0,
              "#0d0887"
             ],
             [
              0.1111111111111111,
              "#46039f"
             ],
             [
              0.2222222222222222,
              "#7201a8"
             ],
             [
              0.3333333333333333,
              "#9c179e"
             ],
             [
              0.4444444444444444,
              "#bd3786"
             ],
             [
              0.5555555555555556,
              "#d8576b"
             ],
             [
              0.6666666666666666,
              "#ed7953"
             ],
             [
              0.7777777777777778,
              "#fb9f3a"
             ],
             [
              0.8888888888888888,
              "#fdca26"
             ],
             [
              1,
              "#f0f921"
             ]
            ],
            "type": "histogram2dcontour"
           }
          ],
          "mesh3d": [
           {
            "colorbar": {
             "outlinewidth": 0,
             "ticks": ""
            },
            "type": "mesh3d"
           }
          ],
          "parcoords": [
           {
            "line": {
             "colorbar": {
              "outlinewidth": 0,
              "ticks": ""
             }
            },
            "type": "parcoords"
           }
          ],
          "pie": [
           {
            "automargin": true,
            "type": "pie"
           }
          ],
          "scatter": [
           {
            "marker": {
             "colorbar": {
              "outlinewidth": 0,
              "ticks": ""
             }
            },
            "type": "scatter"
           }
          ],
          "scatter3d": [
           {
            "line": {
             "colorbar": {
              "outlinewidth": 0,
              "ticks": ""
             }
            },
            "marker": {
             "colorbar": {
              "outlinewidth": 0,
              "ticks": ""
             }
            },
            "type": "scatter3d"
           }
          ],
          "scattercarpet": [
           {
            "marker": {
             "colorbar": {
              "outlinewidth": 0,
              "ticks": ""
             }
            },
            "type": "scattercarpet"
           }
          ],
          "scattergeo": [
           {
            "marker": {
             "colorbar": {
              "outlinewidth": 0,
              "ticks": ""
             }
            },
            "type": "scattergeo"
           }
          ],
          "scattergl": [
           {
            "marker": {
             "colorbar": {
              "outlinewidth": 0,
              "ticks": ""
             }
            },
            "type": "scattergl"
           }
          ],
          "scattermapbox": [
           {
            "marker": {
             "colorbar": {
              "outlinewidth": 0,
              "ticks": ""
             }
            },
            "type": "scattermapbox"
           }
          ],
          "scatterpolar": [
           {
            "marker": {
             "colorbar": {
              "outlinewidth": 0,
              "ticks": ""
             }
            },
            "type": "scatterpolar"
           }
          ],
          "scatterpolargl": [
           {
            "marker": {
             "colorbar": {
              "outlinewidth": 0,
              "ticks": ""
             }
            },
            "type": "scatterpolargl"
           }
          ],
          "scatterternary": [
           {
            "marker": {
             "colorbar": {
              "outlinewidth": 0,
              "ticks": ""
             }
            },
            "type": "scatterternary"
           }
          ],
          "surface": [
           {
            "colorbar": {
             "outlinewidth": 0,
             "ticks": ""
            },
            "colorscale": [
             [
              0,
              "#0d0887"
             ],
             [
              0.1111111111111111,
              "#46039f"
             ],
             [
              0.2222222222222222,
              "#7201a8"
             ],
             [
              0.3333333333333333,
              "#9c179e"
             ],
             [
              0.4444444444444444,
              "#bd3786"
             ],
             [
              0.5555555555555556,
              "#d8576b"
             ],
             [
              0.6666666666666666,
              "#ed7953"
             ],
             [
              0.7777777777777778,
              "#fb9f3a"
             ],
             [
              0.8888888888888888,
              "#fdca26"
             ],
             [
              1,
              "#f0f921"
             ]
            ],
            "type": "surface"
           }
          ],
          "table": [
           {
            "cells": {
             "fill": {
              "color": "#EBF0F8"
             },
             "line": {
              "color": "white"
             }
            },
            "header": {
             "fill": {
              "color": "#C8D4E3"
             },
             "line": {
              "color": "white"
             }
            },
            "type": "table"
           }
          ]
         },
         "layout": {
          "annotationdefaults": {
           "arrowcolor": "#2a3f5f",
           "arrowhead": 0,
           "arrowwidth": 1
          },
          "autotypenumbers": "strict",
          "coloraxis": {
           "colorbar": {
            "outlinewidth": 0,
            "ticks": ""
           }
          },
          "colorscale": {
           "diverging": [
            [
             0,
             "#8e0152"
            ],
            [
             0.1,
             "#c51b7d"
            ],
            [
             0.2,
             "#de77ae"
            ],
            [
             0.3,
             "#f1b6da"
            ],
            [
             0.4,
             "#fde0ef"
            ],
            [
             0.5,
             "#f7f7f7"
            ],
            [
             0.6,
             "#e6f5d0"
            ],
            [
             0.7,
             "#b8e186"
            ],
            [
             0.8,
             "#7fbc41"
            ],
            [
             0.9,
             "#4d9221"
            ],
            [
             1,
             "#276419"
            ]
           ],
           "sequential": [
            [
             0,
             "#0d0887"
            ],
            [
             0.1111111111111111,
             "#46039f"
            ],
            [
             0.2222222222222222,
             "#7201a8"
            ],
            [
             0.3333333333333333,
             "#9c179e"
            ],
            [
             0.4444444444444444,
             "#bd3786"
            ],
            [
             0.5555555555555556,
             "#d8576b"
            ],
            [
             0.6666666666666666,
             "#ed7953"
            ],
            [
             0.7777777777777778,
             "#fb9f3a"
            ],
            [
             0.8888888888888888,
             "#fdca26"
            ],
            [
             1,
             "#f0f921"
            ]
           ],
           "sequentialminus": [
            [
             0,
             "#0d0887"
            ],
            [
             0.1111111111111111,
             "#46039f"
            ],
            [
             0.2222222222222222,
             "#7201a8"
            ],
            [
             0.3333333333333333,
             "#9c179e"
            ],
            [
             0.4444444444444444,
             "#bd3786"
            ],
            [
             0.5555555555555556,
             "#d8576b"
            ],
            [
             0.6666666666666666,
             "#ed7953"
            ],
            [
             0.7777777777777778,
             "#fb9f3a"
            ],
            [
             0.8888888888888888,
             "#fdca26"
            ],
            [
             1,
             "#f0f921"
            ]
           ]
          },
          "colorway": [
           "#636efa",
           "#EF553B",
           "#00cc96",
           "#ab63fa",
           "#FFA15A",
           "#19d3f3",
           "#FF6692",
           "#B6E880",
           "#FF97FF",
           "#FECB52"
          ],
          "font": {
           "color": "#2a3f5f"
          },
          "geo": {
           "bgcolor": "white",
           "lakecolor": "white",
           "landcolor": "#E5ECF6",
           "showlakes": true,
           "showland": true,
           "subunitcolor": "white"
          },
          "hoverlabel": {
           "align": "left"
          },
          "hovermode": "closest",
          "mapbox": {
           "style": "light"
          },
          "paper_bgcolor": "white",
          "plot_bgcolor": "#E5ECF6",
          "polar": {
           "angularaxis": {
            "gridcolor": "white",
            "linecolor": "white",
            "ticks": ""
           },
           "bgcolor": "#E5ECF6",
           "radialaxis": {
            "gridcolor": "white",
            "linecolor": "white",
            "ticks": ""
           }
          },
          "scene": {
           "xaxis": {
            "backgroundcolor": "#E5ECF6",
            "gridcolor": "white",
            "gridwidth": 2,
            "linecolor": "white",
            "showbackground": true,
            "ticks": "",
            "zerolinecolor": "white"
           },
           "yaxis": {
            "backgroundcolor": "#E5ECF6",
            "gridcolor": "white",
            "gridwidth": 2,
            "linecolor": "white",
            "showbackground": true,
            "ticks": "",
            "zerolinecolor": "white"
           },
           "zaxis": {
            "backgroundcolor": "#E5ECF6",
            "gridcolor": "white",
            "gridwidth": 2,
            "linecolor": "white",
            "showbackground": true,
            "ticks": "",
            "zerolinecolor": "white"
           }
          },
          "shapedefaults": {
           "line": {
            "color": "#2a3f5f"
           }
          },
          "ternary": {
           "aaxis": {
            "gridcolor": "white",
            "linecolor": "white",
            "ticks": ""
           },
           "baxis": {
            "gridcolor": "white",
            "linecolor": "white",
            "ticks": ""
           },
           "bgcolor": "#E5ECF6",
           "caxis": {
            "gridcolor": "white",
            "linecolor": "white",
            "ticks": ""
           }
          },
          "title": {
           "x": 0.05
          },
          "xaxis": {
           "automargin": true,
           "gridcolor": "white",
           "linecolor": "white",
           "ticks": "",
           "title": {
            "standoff": 15
           },
           "zerolinecolor": "white",
           "zerolinewidth": 2
          },
          "yaxis": {
           "automargin": true,
           "gridcolor": "white",
           "linecolor": "white",
           "ticks": "",
           "title": {
            "standoff": 15
           },
           "zerolinecolor": "white",
           "zerolinewidth": 2
          }
         }
        },
        "title": {
         "font": {
          "color": "#4D5663"
         },
         "text": "BTC-USD Trend Following Equity Curve"
        },
        "xaxis": {
         "gridcolor": "#E1E5ED",
         "showgrid": true,
         "tickfont": {
          "color": "#4D5663"
         },
         "title": {
          "font": {
           "color": "#4D5663"
          },
          "text": ""
         },
         "zerolinecolor": "#E1E5ED"
        },
        "yaxis": {
         "gridcolor": "#E1E5ED",
         "showgrid": true,
         "tickfont": {
          "color": "#4D5663"
         },
         "title": {
          "font": {
           "color": "#4D5663"
          },
          "text": ""
         },
         "zerolinecolor": "#E1E5ED"
        }
       }
      },
      "text/html": [
       "<div>                            <div id=\"c3f28d37-277a-4ac0-98c8-e5b790bf8258\" class=\"plotly-graph-div\" style=\"height:525px; width:100%;\"></div>            <script type=\"text/javascript\">                require([\"plotly\"], function(Plotly) {                    window.PLOTLYENV=window.PLOTLYENV || {};\n",
       "                    window.PLOTLYENV.BASE_URL='https://plot.ly';                                    if (document.getElementById(\"c3f28d37-277a-4ac0-98c8-e5b790bf8258\")) {                    Plotly.newPlot(                        \"c3f28d37-277a-4ac0-98c8-e5b790bf8258\",                        [{\"line\":{\"color\":\"rgba(255, 153, 51, 1.0)\",\"dash\":\"solid\",\"shape\":\"linear\",\"width\":1.3},\"mode\":\"lines\",\"name\":\"account_val\",\"text\":\"\",\"type\":\"scatter\",\"x\":[\"2020-01-07\",\"2020-01-08\",\"2020-01-09\",\"2020-01-10\",\"2020-01-11\",\"2020-01-12\",\"2020-01-13\",\"2020-01-14\",\"2020-01-15\",\"2020-01-16\",\"2020-01-17\",\"2020-01-18\",\"2020-01-19\",\"2020-01-20\",\"2020-01-21\",\"2020-01-22\",\"2020-01-23\",\"2020-01-24\",\"2020-01-25\",\"2020-01-26\",\"2020-01-27\",\"2020-01-28\",\"2020-01-29\",\"2020-01-30\",\"2020-01-31\",\"2020-02-01\",\"2020-02-02\",\"2020-02-03\",\"2020-02-04\",\"2020-02-05\",\"2020-02-06\",\"2020-02-07\",\"2020-02-08\",\"2020-02-09\",\"2020-02-10\",\"2020-02-11\",\"2020-02-12\",\"2020-02-13\",\"2020-02-14\",\"2020-02-15\",\"2020-02-16\",\"2020-02-17\",\"2020-02-18\",\"2020-02-19\",\"2020-02-20\",\"2020-02-21\",\"2020-02-22\",\"2020-02-23\",\"2020-02-24\",\"2020-02-25\",\"2020-02-26\",\"2020-02-27\",\"2020-02-28\",\"2020-02-29\",\"2020-03-01\",\"2020-03-02\",\"2020-03-03\",\"2020-03-04\",\"2020-03-05\",\"2020-03-06\",\"2020-03-07\",\"2020-03-08\",\"2020-03-09\",\"2020-03-10\",\"2020-03-11\",\"2020-03-12\",\"2020-03-13\",\"2020-03-14\",\"2020-03-15\",\"2020-03-16\",\"2020-03-17\",\"2020-03-18\",\"2020-03-19\",\"2020-03-20\",\"2020-03-21\",\"2020-03-22\",\"2020-03-23\",\"2020-03-24\",\"2020-03-25\",\"2020-03-26\",\"2020-03-27\",\"2020-03-28\",\"2020-03-29\",\"2020-03-30\",\"2020-03-31\",\"2020-04-01\",\"2020-04-02\",\"2020-04-03\",\"2020-04-04\",\"2020-04-05\",\"2020-04-06\",\"2020-04-07\",\"2020-04-08\",\"2020-04-09\",\"2020-04-10\",\"2020-04-11\",\"2020-04-12\",\"2020-04-13\",\"2020-04-14\",\"2020-04-15\",\"2020-04-16\",\"2020-04-18\",\"2020-04-19\",\"2020-04-20\",\"2020-04-21\",\"2020-04-22\",\"2020-04-23\",\"2020-04-24\",\"2020-04-25\",\"2020-04-26\",\"2020-04-27\",\"2020-04-28\",\"2020-04-29\",\"2020-04-30\",\"2020-05-01\",\"2020-05-02\",\"2020-05-03\",\"2020-05-04\",\"2020-05-05\",\"2020-05-06\",\"2020-05-07\",\"2020-05-08\",\"2020-05-09\",\"2020-05-10\",\"2020-05-11\",\"2020-05-12\",\"2020-05-13\",\"2020-05-14\",\"2020-05-15\",\"2020-05-16\",\"2020-05-17\",\"2020-05-18\",\"2020-05-19\",\"2020-05-20\",\"2020-05-21\",\"2020-05-22\",\"2020-05-23\",\"2020-05-24\",\"2020-05-25\",\"2020-05-26\",\"2020-05-27\",\"2020-05-28\",\"2020-05-29\",\"2020-05-30\",\"2020-05-31\",\"2020-06-01\",\"2020-06-02\",\"2020-06-03\",\"2020-06-04\",\"2020-06-05\",\"2020-06-06\",\"2020-06-07\",\"2020-06-08\",\"2020-06-09\",\"2020-06-10\",\"2020-06-11\",\"2020-06-12\",\"2020-06-13\",\"2020-06-14\",\"2020-06-15\",\"2020-06-16\",\"2020-06-17\",\"2020-06-18\",\"2020-06-19\",\"2020-06-20\",\"2020-06-21\",\"2020-06-22\",\"2020-06-23\",\"2020-06-24\",\"2020-06-25\",\"2020-06-26\",\"2020-06-27\",\"2020-06-28\",\"2020-06-29\",\"2020-06-30\",\"2020-07-01\",\"2020-07-02\",\"2020-07-03\",\"2020-07-04\",\"2020-07-05\",\"2020-07-06\",\"2020-07-07\",\"2020-07-08\",\"2020-07-09\",\"2020-07-10\",\"2020-07-11\",\"2020-07-12\",\"2020-07-13\",\"2020-07-14\",\"2020-07-15\",\"2020-07-16\",\"2020-07-17\",\"2020-07-18\",\"2020-07-19\",\"2020-07-20\",\"2020-07-21\",\"2020-07-22\",\"2020-07-23\",\"2020-07-24\",\"2020-07-25\",\"2020-07-26\",\"2020-07-27\",\"2020-07-28\",\"2020-07-29\",\"2020-07-30\",\"2020-07-31\",\"2020-08-01\",\"2020-08-02\",\"2020-08-03\",\"2020-08-04\",\"2020-08-05\",\"2020-08-06\",\"2020-08-07\",\"2020-08-08\",\"2020-08-09\",\"2020-08-10\",\"2020-08-11\",\"2020-08-12\",\"2020-08-13\",\"2020-08-14\",\"2020-08-15\",\"2020-08-16\",\"2020-08-17\",\"2020-08-18\",\"2020-08-19\",\"2020-08-20\",\"2020-08-21\",\"2020-08-22\",\"2020-08-23\",\"2020-08-24\",\"2020-08-25\",\"2020-08-26\",\"2020-08-27\",\"2020-08-28\",\"2020-08-29\",\"2020-08-30\",\"2020-08-31\",\"2020-09-01\",\"2020-09-02\",\"2020-09-03\",\"2020-09-04\",\"2020-09-05\",\"2020-09-06\",\"2020-09-07\",\"2020-09-08\",\"2020-09-09\",\"2020-09-10\",\"2020-09-11\",\"2020-09-12\",\"2020-09-13\",\"2020-09-14\",\"2020-09-15\",\"2020-09-16\",\"2020-09-17\",\"2020-09-18\",\"2020-09-19\",\"2020-09-20\",\"2020-09-21\",\"2020-09-22\",\"2020-09-23\",\"2020-09-24\",\"2020-09-25\",\"2020-09-26\",\"2020-09-27\",\"2020-09-28\",\"2020-09-29\",\"2020-09-30\",\"2020-10-01\",\"2020-10-02\",\"2020-10-03\",\"2020-10-04\",\"2020-10-05\",\"2020-10-06\",\"2020-10-07\",\"2020-10-08\",\"2020-10-10\",\"2020-10-11\",\"2020-10-14\",\"2020-10-15\",\"2020-10-16\",\"2020-10-17\",\"2020-10-18\",\"2020-10-19\",\"2020-10-20\",\"2020-10-21\",\"2020-10-22\",\"2020-10-23\",\"2020-10-24\",\"2020-10-25\",\"2020-10-26\",\"2020-10-27\",\"2020-10-28\",\"2020-10-29\",\"2020-10-30\",\"2020-10-31\",\"2020-11-01\",\"2020-11-02\",\"2020-11-03\",\"2020-11-04\",\"2020-11-05\",\"2020-11-06\",\"2020-11-07\",\"2020-11-08\",\"2020-11-09\",\"2020-11-10\",\"2020-11-11\",\"2020-11-12\",\"2020-11-13\",\"2020-11-14\",\"2020-11-15\",\"2020-11-16\",\"2020-11-17\",\"2020-11-18\",\"2020-11-19\",\"2020-11-20\",\"2020-11-21\",\"2020-11-22\",\"2020-11-23\",\"2020-11-24\",\"2020-11-25\",\"2020-11-26\",\"2020-11-27\",\"2020-11-28\",\"2020-11-29\",\"2020-11-30\",\"2020-12-01\",\"2020-12-02\",\"2020-12-03\",\"2020-12-04\",\"2020-12-05\",\"2020-12-06\",\"2020-12-07\",\"2020-12-08\",\"2020-12-09\",\"2020-12-10\",\"2020-12-11\",\"2020-12-12\",\"2020-12-13\",\"2020-12-14\",\"2020-12-15\",\"2020-12-16\",\"2020-12-17\",\"2020-12-18\",\"2020-12-19\",\"2020-12-20\",\"2020-12-21\",\"2020-12-22\",\"2020-12-23\",\"2020-12-24\",\"2020-12-25\",\"2020-12-26\",\"2020-12-27\",\"2020-12-28\",\"2020-12-29\",\"2020-12-30\",\"2020-12-31\"],\"y\":[104067.60561523438,103204.16083984375,101136.00834960937,104097.08232421875,102768.211328125,104364.26372070312,103866.77573242187,110907.54995117188,110693.78471679687,109836.57124023438,111950.66635742187,112092.50258789063,109655.89877929687,109155.29262695313,110064.28774414063,110682.72978515626,113445.53852539063,113053.62474609376,113834.92497070313,111529.07198242188,108377.27015625,103858.15114257814,103504.75440429688,105212.94034179687,103805.78120117188,104181.81104492188,103751.04432617188,103299.55182617188,102300.03151367187,98488.44565429685,97451.51830078123,98044.28810546873,98599.07787109373,100616.54646484372,98530.84521484372,101350.87771484372,102295.78095703122,101400.14902343748,102183.99437499998,98794.00929687498,99154.97978515623,101136.4533398437,97530.66228515621,101589.3650976562,101788.15593749996,101165.98869140621,101351.60162109371,99266.15642578121,101455.39617187496,103916.9845898437,108076.02187499996,108363.52787109371,109257.59958984371,109839.71097656246,110135.40738281247,107683.82513671872,108337.25777343746,108596.92728515621,111710.82797851559,112144.71952148434,110037.93481445308,102091.72131835934,100263.60697265621,100372.43106933591,100355.22015136716,130114.5181005859,124114.17837402341,127791.1874755859,125848.66632324216,129672.35612792966,127535.52405761715,127405.89614746091,117764.02167480465,117865.79205566403,117657.09672363279,112256.86533691404,121176.69942871091,126024.09850097653,125206.16470214841,125744.60936035153,121990.71675292966,118526.57638183591,113653.88000488278,105964.02865234371,105828.90667968745,103248.08299804684,100379.96397949215,99564.11463378902,101148.30964843747,100246.04986816403,105922.54828124997,104796.26756347652,106658.5165722656,106280.4870068359,101124.28598632809,101048.58204101559,102371.40583984372,103721.54937988278,103752.21527343747,106105.95025878903,100528.2918115234,98873.17694335934,98054.2949707031,94705.98687011717,94688.1789550781,97267.84873535154,100671.15984374998,101990.76941894529,102198.06227050778,103395.21251953123,104655.55454589841,104780.32693359372,115604.7636035156,114053.1087597656,116298.76713867186,117647.2766894531,116654.89353515622,116820.26414062497,117804.89455078123,120698.27396484373,128133.4959082031,126948.09175781248,124238.99156249997,115118.98877929685,113435.0161816406,111478.89112304687,106567.7630957031,101675.3654394531,105953.64800781249,106295.90749999997,108962.93582031247,109469.92613281248,109492.28917968748,107621.29488281248,103615.01976562498,102666.59363281251,102422.73168945312,106247.46166015626,105183.21037109375,105839.49153320312,102680.83250976563,99533.41658203125,98762.55500000001,100944.32682617188,98945.70866210938,104842.56183593751,99519.730390625,100579.4628125,101781.18600585939,100653.07165039063,100739.32127929688,99863.23142578125,99944.60720703125,99791.53283203124,100421.66688476561,95952.91205078125,94623.96003906247,94669.77156249997,95398.03815429685,94872.02541992185,94153.3631738281,94628.80641601559,95191.8541503906,94213.37702148434,93899.5742285156,94132.4199316406,91333.75713867185,91488.33025390623,89045.22965820311,88674.3734082031,87899.9675488281,88874.32071289062,88121.19262695311,87758.61285156249,88164.05923828125,87471.21255859375,88275.91090820312,87972.370390625,88322.09896484375,87868.9537109375,85513.15189453124,86467.93070312499,87771.50868164063,86646.77672851562,86653.05875976563,86365.37094726562,86635.79778320312,86889.9951953125,86892.98611328125,87269.301953125,87722.053984375,87578.89114257813,87521.76460937501,87321.7378515625,87482.9848046875,85909.3826171875,87007.52139648439,87415.86825195313,87092.03114257813,88119.84889648439,89791.48259765626,97749.70797851564,97177.60291015626,98553.03732421876,98631.80619140626,100187.62016601564,103384.42357421876,98209.6010546875,99622.3440234375,99325.80114257813,103292.28318359375,103100.95018554687,101863.17577148437,102931.18846679687,102383.04198242187,103799.64647460937,100526.54491210937,101747.40916992187,100393.70516601563,100501.02937500001,99820.33452148439,99987.1690136719,102420.72781250002,100649.6008105469,99081.84599609376,99890.04407226565,97966.05274414064,97265.55372070313,97380.32188476564,96638.42508789063,99399.62102539063,98573.35625976563,99688.52520507813,98207.39204101563,98448.28305664063,97064.91243164064,97272.34672851564,99219.65278320313,95513.73350585937,87729.94305664062,85700.57787109374,88044.96361328124,87286.09198242187,86674.99037109375,88305.61146484375,87546.41874023438,86719.00028320313,86460.23216796874,86177.62953125,85257.80317382813,87610.97375976562,88376.16028320312,89548.8778125,89378.09770507812,89349.07338867187,90335.9966796875,89307.46114257812,86170.54391601562,86672.703203125,88740.71434570315,85321.1898730469,85605.83270507815,85262.7024121094,85131.17309570314,84829.51208007816,85635.33059570316,85248.47129882815,84210.17059570315,84463.56965820317,84588.28315429692,83834.23178710941,83076.14362304691,84232.15965820316,83867.78301757817,85420.26571289067,87761.03145507816,88312.54301757817,88597.18524414067,89010.67786132816,87922.81504882817,88148.76012695317,88935.37918945316,90559.87536132817,91654.46586914067,97352.65208007817,98245.68157226566,98029.94762695317,99138.51481445317,98655.65395507816,98932.44004882817,102568.37606445317,100163.55309570317,101209.78637695317,101892.04336914067,103364.53165039067,103088.92918945316,101916.95485351566,104427.77122070317,105579.56247070317,114661.33172851567,114573.61411132816,109975.85684570317,114031.56547851567,113106.82321289067,112846.74903320317,115424.29653320317,119035.32106445316,119295.72028320316,117727.79317382816,117020.97426757817,121797.06145507816,127633.03356445317,128629.03911132817,128711.20653320316,133761.73708007816,133893.1019238282,132183.49458007817,132146.56278320318,136814.7615332032,134457.60278320318,124525.79504882816,124808.88571289067,121270.52762695318,118597.51911132818,110182.59653320316,114963.28467773442,116921.37991210942,118116.03938476567,114469.89493164067,116692.22801757816,117625.68317382816,116875.11592773441,121111.39309570317,119977.79596679691,121384.85500976567,122388.50303710942,118761.56102539066,117111.96266601566,116604.20809570316,117426.12475585942,126609.70395507816,133858.34155273443,135472.41586914065,139021.99067382817,137118.1856933594,133848.25317382818,138600.9974121094,135973.83198242192,138372.65903320315,142877.54174804693,151472.93530273443,150673.9356933594,154614.62700195314,155961.12719726568,163131.92797851568,163911.6507324219]}],                        {\"legend\":{\"bgcolor\":\"#F5F6F9\",\"font\":{\"color\":\"#4D5663\"}},\"paper_bgcolor\":\"#F5F6F9\",\"plot_bgcolor\":\"#F5F6F9\",\"template\":{\"data\":{\"bar\":[{\"error_x\":{\"color\":\"#2a3f5f\"},\"error_y\":{\"color\":\"#2a3f5f\"},\"marker\":{\"line\":{\"color\":\"#E5ECF6\",\"width\":0.5},\"pattern\":{\"fillmode\":\"overlay\",\"size\":10,\"solidity\":0.2}},\"type\":\"bar\"}],\"barpolar\":[{\"marker\":{\"line\":{\"color\":\"#E5ECF6\",\"width\":0.5},\"pattern\":{\"fillmode\":\"overlay\",\"size\":10,\"solidity\":0.2}},\"type\":\"barpolar\"}],\"carpet\":[{\"aaxis\":{\"endlinecolor\":\"#2a3f5f\",\"gridcolor\":\"white\",\"linecolor\":\"white\",\"minorgridcolor\":\"white\",\"startlinecolor\":\"#2a3f5f\"},\"baxis\":{\"endlinecolor\":\"#2a3f5f\",\"gridcolor\":\"white\",\"linecolor\":\"white\",\"minorgridcolor\":\"white\",\"startlinecolor\":\"#2a3f5f\"},\"type\":\"carpet\"}],\"choropleth\":[{\"colorbar\":{\"outlinewidth\":0,\"ticks\":\"\"},\"type\":\"choropleth\"}],\"contour\":[{\"colorbar\":{\"outlinewidth\":0,\"ticks\":\"\"},\"colorscale\":[[0.0,\"#0d0887\"],[0.1111111111111111,\"#46039f\"],[0.2222222222222222,\"#7201a8\"],[0.3333333333333333,\"#9c179e\"],[0.4444444444444444,\"#bd3786\"],[0.5555555555555556,\"#d8576b\"],[0.6666666666666666,\"#ed7953\"],[0.7777777777777778,\"#fb9f3a\"],[0.8888888888888888,\"#fdca26\"],[1.0,\"#f0f921\"]],\"type\":\"contour\"}],\"contourcarpet\":[{\"colorbar\":{\"outlinewidth\":0,\"ticks\":\"\"},\"type\":\"contourcarpet\"}],\"heatmap\":[{\"colorbar\":{\"outlinewidth\":0,\"ticks\":\"\"},\"colorscale\":[[0.0,\"#0d0887\"],[0.1111111111111111,\"#46039f\"],[0.2222222222222222,\"#7201a8\"],[0.3333333333333333,\"#9c179e\"],[0.4444444444444444,\"#bd3786\"],[0.5555555555555556,\"#d8576b\"],[0.6666666666666666,\"#ed7953\"],[0.7777777777777778,\"#fb9f3a\"],[0.8888888888888888,\"#fdca26\"],[1.0,\"#f0f921\"]],\"type\":\"heatmap\"}],\"heatmapgl\":[{\"colorbar\":{\"outlinewidth\":0,\"ticks\":\"\"},\"colorscale\":[[0.0,\"#0d0887\"],[0.1111111111111111,\"#46039f\"],[0.2222222222222222,\"#7201a8\"],[0.3333333333333333,\"#9c179e\"],[0.4444444444444444,\"#bd3786\"],[0.5555555555555556,\"#d8576b\"],[0.6666666666666666,\"#ed7953\"],[0.7777777777777778,\"#fb9f3a\"],[0.8888888888888888,\"#fdca26\"],[1.0,\"#f0f921\"]],\"type\":\"heatmapgl\"}],\"histogram\":[{\"marker\":{\"pattern\":{\"fillmode\":\"overlay\",\"size\":10,\"solidity\":0.2}},\"type\":\"histogram\"}],\"histogram2d\":[{\"colorbar\":{\"outlinewidth\":0,\"ticks\":\"\"},\"colorscale\":[[0.0,\"#0d0887\"],[0.1111111111111111,\"#46039f\"],[0.2222222222222222,\"#7201a8\"],[0.3333333333333333,\"#9c179e\"],[0.4444444444444444,\"#bd3786\"],[0.5555555555555556,\"#d8576b\"],[0.6666666666666666,\"#ed7953\"],[0.7777777777777778,\"#fb9f3a\"],[0.8888888888888888,\"#fdca26\"],[1.0,\"#f0f921\"]],\"type\":\"histogram2d\"}],\"histogram2dcontour\":[{\"colorbar\":{\"outlinewidth\":0,\"ticks\":\"\"},\"colorscale\":[[0.0,\"#0d0887\"],[0.1111111111111111,\"#46039f\"],[0.2222222222222222,\"#7201a8\"],[0.3333333333333333,\"#9c179e\"],[0.4444444444444444,\"#bd3786\"],[0.5555555555555556,\"#d8576b\"],[0.6666666666666666,\"#ed7953\"],[0.7777777777777778,\"#fb9f3a\"],[0.8888888888888888,\"#fdca26\"],[1.0,\"#f0f921\"]],\"type\":\"histogram2dcontour\"}],\"mesh3d\":[{\"colorbar\":{\"outlinewidth\":0,\"ticks\":\"\"},\"type\":\"mesh3d\"}],\"parcoords\":[{\"line\":{\"colorbar\":{\"outlinewidth\":0,\"ticks\":\"\"}},\"type\":\"parcoords\"}],\"pie\":[{\"automargin\":true,\"type\":\"pie\"}],\"scatter\":[{\"marker\":{\"colorbar\":{\"outlinewidth\":0,\"ticks\":\"\"}},\"type\":\"scatter\"}],\"scatter3d\":[{\"line\":{\"colorbar\":{\"outlinewidth\":0,\"ticks\":\"\"}},\"marker\":{\"colorbar\":{\"outlinewidth\":0,\"ticks\":\"\"}},\"type\":\"scatter3d\"}],\"scattercarpet\":[{\"marker\":{\"colorbar\":{\"outlinewidth\":0,\"ticks\":\"\"}},\"type\":\"scattercarpet\"}],\"scattergeo\":[{\"marker\":{\"colorbar\":{\"outlinewidth\":0,\"ticks\":\"\"}},\"type\":\"scattergeo\"}],\"scattergl\":[{\"marker\":{\"colorbar\":{\"outlinewidth\":0,\"ticks\":\"\"}},\"type\":\"scattergl\"}],\"scattermapbox\":[{\"marker\":{\"colorbar\":{\"outlinewidth\":0,\"ticks\":\"\"}},\"type\":\"scattermapbox\"}],\"scatterpolar\":[{\"marker\":{\"colorbar\":{\"outlinewidth\":0,\"ticks\":\"\"}},\"type\":\"scatterpolar\"}],\"scatterpolargl\":[{\"marker\":{\"colorbar\":{\"outlinewidth\":0,\"ticks\":\"\"}},\"type\":\"scatterpolargl\"}],\"scatterternary\":[{\"marker\":{\"colorbar\":{\"outlinewidth\":0,\"ticks\":\"\"}},\"type\":\"scatterternary\"}],\"surface\":[{\"colorbar\":{\"outlinewidth\":0,\"ticks\":\"\"},\"colorscale\":[[0.0,\"#0d0887\"],[0.1111111111111111,\"#46039f\"],[0.2222222222222222,\"#7201a8\"],[0.3333333333333333,\"#9c179e\"],[0.4444444444444444,\"#bd3786\"],[0.5555555555555556,\"#d8576b\"],[0.6666666666666666,\"#ed7953\"],[0.7777777777777778,\"#fb9f3a\"],[0.8888888888888888,\"#fdca26\"],[1.0,\"#f0f921\"]],\"type\":\"surface\"}],\"table\":[{\"cells\":{\"fill\":{\"color\":\"#EBF0F8\"},\"line\":{\"color\":\"white\"}},\"header\":{\"fill\":{\"color\":\"#C8D4E3\"},\"line\":{\"color\":\"white\"}},\"type\":\"table\"}]},\"layout\":{\"annotationdefaults\":{\"arrowcolor\":\"#2a3f5f\",\"arrowhead\":0,\"arrowwidth\":1},\"autotypenumbers\":\"strict\",\"coloraxis\":{\"colorbar\":{\"outlinewidth\":0,\"ticks\":\"\"}},\"colorscale\":{\"diverging\":[[0,\"#8e0152\"],[0.1,\"#c51b7d\"],[0.2,\"#de77ae\"],[0.3,\"#f1b6da\"],[0.4,\"#fde0ef\"],[0.5,\"#f7f7f7\"],[0.6,\"#e6f5d0\"],[0.7,\"#b8e186\"],[0.8,\"#7fbc41\"],[0.9,\"#4d9221\"],[1,\"#276419\"]],\"sequential\":[[0.0,\"#0d0887\"],[0.1111111111111111,\"#46039f\"],[0.2222222222222222,\"#7201a8\"],[0.3333333333333333,\"#9c179e\"],[0.4444444444444444,\"#bd3786\"],[0.5555555555555556,\"#d8576b\"],[0.6666666666666666,\"#ed7953\"],[0.7777777777777778,\"#fb9f3a\"],[0.8888888888888888,\"#fdca26\"],[1.0,\"#f0f921\"]],\"sequentialminus\":[[0.0,\"#0d0887\"],[0.1111111111111111,\"#46039f\"],[0.2222222222222222,\"#7201a8\"],[0.3333333333333333,\"#9c179e\"],[0.4444444444444444,\"#bd3786\"],[0.5555555555555556,\"#d8576b\"],[0.6666666666666666,\"#ed7953\"],[0.7777777777777778,\"#fb9f3a\"],[0.8888888888888888,\"#fdca26\"],[1.0,\"#f0f921\"]]},\"colorway\":[\"#636efa\",\"#EF553B\",\"#00cc96\",\"#ab63fa\",\"#FFA15A\",\"#19d3f3\",\"#FF6692\",\"#B6E880\",\"#FF97FF\",\"#FECB52\"],\"font\":{\"color\":\"#2a3f5f\"},\"geo\":{\"bgcolor\":\"white\",\"lakecolor\":\"white\",\"landcolor\":\"#E5ECF6\",\"showlakes\":true,\"showland\":true,\"subunitcolor\":\"white\"},\"hoverlabel\":{\"align\":\"left\"},\"hovermode\":\"closest\",\"mapbox\":{\"style\":\"light\"},\"paper_bgcolor\":\"white\",\"plot_bgcolor\":\"#E5ECF6\",\"polar\":{\"angularaxis\":{\"gridcolor\":\"white\",\"linecolor\":\"white\",\"ticks\":\"\"},\"bgcolor\":\"#E5ECF6\",\"radialaxis\":{\"gridcolor\":\"white\",\"linecolor\":\"white\",\"ticks\":\"\"}},\"scene\":{\"xaxis\":{\"backgroundcolor\":\"#E5ECF6\",\"gridcolor\":\"white\",\"gridwidth\":2,\"linecolor\":\"white\",\"showbackground\":true,\"ticks\":\"\",\"zerolinecolor\":\"white\"},\"yaxis\":{\"backgroundcolor\":\"#E5ECF6\",\"gridcolor\":\"white\",\"gridwidth\":2,\"linecolor\":\"white\",\"showbackground\":true,\"ticks\":\"\",\"zerolinecolor\":\"white\"},\"zaxis\":{\"backgroundcolor\":\"#E5ECF6\",\"gridcolor\":\"white\",\"gridwidth\":2,\"linecolor\":\"white\",\"showbackground\":true,\"ticks\":\"\",\"zerolinecolor\":\"white\"}},\"shapedefaults\":{\"line\":{\"color\":\"#2a3f5f\"}},\"ternary\":{\"aaxis\":{\"gridcolor\":\"white\",\"linecolor\":\"white\",\"ticks\":\"\"},\"baxis\":{\"gridcolor\":\"white\",\"linecolor\":\"white\",\"ticks\":\"\"},\"bgcolor\":\"#E5ECF6\",\"caxis\":{\"gridcolor\":\"white\",\"linecolor\":\"white\",\"ticks\":\"\"}},\"title\":{\"x\":0.05},\"xaxis\":{\"automargin\":true,\"gridcolor\":\"white\",\"linecolor\":\"white\",\"ticks\":\"\",\"title\":{\"standoff\":15},\"zerolinecolor\":\"white\",\"zerolinewidth\":2},\"yaxis\":{\"automargin\":true,\"gridcolor\":\"white\",\"linecolor\":\"white\",\"ticks\":\"\",\"title\":{\"standoff\":15},\"zerolinecolor\":\"white\",\"zerolinewidth\":2}}},\"title\":{\"font\":{\"color\":\"#4D5663\"},\"text\":\"BTC-USD Trend Following Equity Curve\"},\"xaxis\":{\"gridcolor\":\"#E1E5ED\",\"showgrid\":true,\"tickfont\":{\"color\":\"#4D5663\"},\"title\":{\"font\":{\"color\":\"#4D5663\"},\"text\":\"\"},\"zerolinecolor\":\"#E1E5ED\"},\"yaxis\":{\"gridcolor\":\"#E1E5ED\",\"showgrid\":true,\"tickfont\":{\"color\":\"#4D5663\"},\"title\":{\"font\":{\"color\":\"#4D5663\"},\"text\":\"\"},\"zerolinecolor\":\"#E1E5ED\"}},                        {\"showLink\": true, \"linkText\": \"Export to plot.ly\", \"plotlyServerURL\": \"https://plot.ly\", \"responsive\": true}                    ).then(function(){\n",
       "                            \n",
       "var gd = document.getElementById('c3f28d37-277a-4ac0-98c8-e5b790bf8258');\n",
       "var x = new MutationObserver(function (mutations, observer) {{\n",
       "        var display = window.getComputedStyle(gd).display;\n",
       "        if (!display || display === 'none') {{\n",
       "            console.log([gd, 'removed!']);\n",
       "            Plotly.purge(gd);\n",
       "            observer.disconnect();\n",
       "        }}\n",
       "}});\n",
       "\n",
       "// Listen for the removal of the full notebook cells\n",
       "var notebookContainer = gd.closest('#notebook-container');\n",
       "if (notebookContainer) {{\n",
       "    x.observe(notebookContainer, {childList: true});\n",
       "}}\n",
       "\n",
       "// Listen for the clearing of the current output cell\n",
       "var outputEl = gd.closest('.output');\n",
       "if (outputEl) {{\n",
       "    x.observe(outputEl, {childList: true});\n",
       "}}\n",
       "\n",
       "                        })                };                });            </script>        </div>"
      ]
     },
     "metadata": {},
     "output_type": "display_data"
    },
    {
     "data": {
      "application/vnd.plotly.v1+json": {
       "config": {
        "linkText": "Export to plot.ly",
        "plotlyServerURL": "https://plot.ly",
        "showLink": true
       },
       "data": [
        {
         "line": {
          "color": "rgba(255, 153, 51, 1.0)",
          "dash": "solid",
          "shape": "linear",
          "width": 1.3
         },
         "mode": "lines",
         "name": "Close",
         "text": "",
         "type": "scatter",
         "x": [
          "2020-01-08",
          "2020-01-09",
          "2020-01-10",
          "2020-01-11",
          "2020-01-12",
          "2020-01-13",
          "2020-01-14",
          "2020-01-15",
          "2020-01-16",
          "2020-01-17",
          "2020-01-18",
          "2020-01-19",
          "2020-01-20",
          "2020-01-21",
          "2020-01-22",
          "2020-01-23",
          "2020-01-24",
          "2020-01-25",
          "2020-01-26",
          "2020-01-27",
          "2020-01-28",
          "2020-01-29",
          "2020-01-30",
          "2020-01-31",
          "2020-02-01",
          "2020-02-02",
          "2020-02-03",
          "2020-02-04",
          "2020-02-05",
          "2020-02-06",
          "2020-02-07",
          "2020-02-08",
          "2020-02-09",
          "2020-02-10",
          "2020-02-11",
          "2020-02-12",
          "2020-02-13",
          "2020-02-14",
          "2020-02-15",
          "2020-02-16",
          "2020-02-17",
          "2020-02-18",
          "2020-02-19",
          "2020-02-20",
          "2020-02-21",
          "2020-02-22",
          "2020-02-23",
          "2020-02-24",
          "2020-02-25",
          "2020-02-26",
          "2020-02-27",
          "2020-02-28",
          "2020-02-29",
          "2020-03-01",
          "2020-03-02",
          "2020-03-03",
          "2020-03-04",
          "2020-03-05",
          "2020-03-06",
          "2020-03-07",
          "2020-03-08",
          "2020-03-09",
          "2020-03-10",
          "2020-03-11",
          "2020-03-12",
          "2020-03-13",
          "2020-03-14",
          "2020-03-15",
          "2020-03-16",
          "2020-03-17",
          "2020-03-18",
          "2020-03-19",
          "2020-03-20",
          "2020-03-21",
          "2020-03-22",
          "2020-03-23",
          "2020-03-24",
          "2020-03-25",
          "2020-03-26",
          "2020-03-27",
          "2020-03-28",
          "2020-03-29",
          "2020-03-30",
          "2020-03-31",
          "2020-04-01",
          "2020-04-02",
          "2020-04-03",
          "2020-04-04",
          "2020-04-05",
          "2020-04-06",
          "2020-04-07",
          "2020-04-08",
          "2020-04-09",
          "2020-04-10",
          "2020-04-11",
          "2020-04-12",
          "2020-04-13",
          "2020-04-14",
          "2020-04-15",
          "2020-04-16",
          "2020-04-18",
          "2020-04-19",
          "2020-04-20",
          "2020-04-21",
          "2020-04-22",
          "2020-04-23",
          "2020-04-24",
          "2020-04-25",
          "2020-04-26",
          "2020-04-27",
          "2020-04-28",
          "2020-04-29",
          "2020-04-30",
          "2020-05-01",
          "2020-05-02",
          "2020-05-03",
          "2020-05-04",
          "2020-05-05",
          "2020-05-06",
          "2020-05-07",
          "2020-05-08",
          "2020-05-09",
          "2020-05-10",
          "2020-05-11",
          "2020-05-12",
          "2020-05-13",
          "2020-05-14",
          "2020-05-15",
          "2020-05-16",
          "2020-05-17",
          "2020-05-18",
          "2020-05-19",
          "2020-05-20",
          "2020-05-21",
          "2020-05-22",
          "2020-05-23",
          "2020-05-24",
          "2020-05-25",
          "2020-05-26",
          "2020-05-27",
          "2020-05-28",
          "2020-05-29",
          "2020-05-30",
          "2020-05-31",
          "2020-06-01",
          "2020-06-02",
          "2020-06-03",
          "2020-06-04",
          "2020-06-05",
          "2020-06-06",
          "2020-06-07",
          "2020-06-08",
          "2020-06-09",
          "2020-06-10",
          "2020-06-11",
          "2020-06-12",
          "2020-06-13",
          "2020-06-14",
          "2020-06-15",
          "2020-06-16",
          "2020-06-17",
          "2020-06-18",
          "2020-06-19",
          "2020-06-20",
          "2020-06-21",
          "2020-06-22",
          "2020-06-23",
          "2020-06-24",
          "2020-06-25",
          "2020-06-26",
          "2020-06-27",
          "2020-06-28",
          "2020-06-29",
          "2020-06-30",
          "2020-07-01",
          "2020-07-02",
          "2020-07-03",
          "2020-07-04",
          "2020-07-05",
          "2020-07-06",
          "2020-07-07",
          "2020-07-08",
          "2020-07-09",
          "2020-07-10",
          "2020-07-11",
          "2020-07-12",
          "2020-07-13",
          "2020-07-14",
          "2020-07-15",
          "2020-07-16",
          "2020-07-17",
          "2020-07-18",
          "2020-07-19",
          "2020-07-20",
          "2020-07-21",
          "2020-07-22",
          "2020-07-23",
          "2020-07-24",
          "2020-07-25",
          "2020-07-26",
          "2020-07-27",
          "2020-07-28",
          "2020-07-29",
          "2020-07-30",
          "2020-07-31",
          "2020-08-01",
          "2020-08-02",
          "2020-08-03",
          "2020-08-04",
          "2020-08-05",
          "2020-08-06",
          "2020-08-07",
          "2020-08-08",
          "2020-08-09",
          "2020-08-10",
          "2020-08-11",
          "2020-08-12",
          "2020-08-13",
          "2020-08-14",
          "2020-08-15",
          "2020-08-16",
          "2020-08-17",
          "2020-08-18",
          "2020-08-19",
          "2020-08-20",
          "2020-08-21",
          "2020-08-22",
          "2020-08-23",
          "2020-08-24",
          "2020-08-25",
          "2020-08-26",
          "2020-08-27",
          "2020-08-28",
          "2020-08-29",
          "2020-08-30",
          "2020-08-31",
          "2020-09-01",
          "2020-09-02",
          "2020-09-03",
          "2020-09-04",
          "2020-09-05",
          "2020-09-06",
          "2020-09-07",
          "2020-09-08",
          "2020-09-09",
          "2020-09-10",
          "2020-09-11",
          "2020-09-12",
          "2020-09-13",
          "2020-09-14",
          "2020-09-15",
          "2020-09-16",
          "2020-09-17",
          "2020-09-18",
          "2020-09-19",
          "2020-09-20",
          "2020-09-21",
          "2020-09-22",
          "2020-09-23",
          "2020-09-24",
          "2020-09-25",
          "2020-09-26",
          "2020-09-27",
          "2020-09-28",
          "2020-09-29",
          "2020-09-30",
          "2020-10-01",
          "2020-10-02",
          "2020-10-03",
          "2020-10-04",
          "2020-10-05",
          "2020-10-06",
          "2020-10-07",
          "2020-10-08",
          "2020-10-10",
          "2020-10-11",
          "2020-10-14",
          "2020-10-15",
          "2020-10-16",
          "2020-10-17",
          "2020-10-18",
          "2020-10-19",
          "2020-10-20",
          "2020-10-21",
          "2020-10-22",
          "2020-10-23",
          "2020-10-24",
          "2020-10-25",
          "2020-10-26",
          "2020-10-27",
          "2020-10-28",
          "2020-10-29",
          "2020-10-30",
          "2020-10-31",
          "2020-11-01",
          "2020-11-02",
          "2020-11-03",
          "2020-11-04",
          "2020-11-05",
          "2020-11-06",
          "2020-11-07",
          "2020-11-08",
          "2020-11-09",
          "2020-11-10",
          "2020-11-11",
          "2020-11-12",
          "2020-11-13",
          "2020-11-14",
          "2020-11-15",
          "2020-11-16",
          "2020-11-17",
          "2020-11-18",
          "2020-11-19",
          "2020-11-20",
          "2020-11-21",
          "2020-11-22",
          "2020-11-23",
          "2020-11-24",
          "2020-11-25",
          "2020-11-26",
          "2020-11-27",
          "2020-11-28",
          "2020-11-29",
          "2020-11-30",
          "2020-12-01",
          "2020-12-02",
          "2020-12-03",
          "2020-12-04",
          "2020-12-05",
          "2020-12-06",
          "2020-12-07",
          "2020-12-08",
          "2020-12-09",
          "2020-12-10",
          "2020-12-11",
          "2020-12-12",
          "2020-12-13",
          "2020-12-14",
          "2020-12-15",
          "2020-12-16",
          "2020-12-17",
          "2020-12-18",
          "2020-12-19",
          "2020-12-20",
          "2020-12-21",
          "2020-12-22",
          "2020-12-23",
          "2020-12-24",
          "2020-12-25",
          "2020-12-26",
          "2020-12-27",
          "2020-12-28",
          "2020-12-29",
          "2020-12-30",
          "2020-12-31"
         ],
         "y": [
          98973.14124647518,
          96513.5740005438,
          100035.05541698601,
          98454.68472793204,
          100352.8030756418,
          99761.16142107398,
          108134.45968423685,
          107880.2376327826,
          106860.78950229919,
          109374.99439268836,
          109543.67428858316,
          106645.92330202527,
          106050.57334537053,
          107131.6032150261,
          106335.16758714299,
          102974.42910390314,
          103451.16124283621,
          102500.77126702273,
          105305.65919196572,
          109139.57702149413,
          114636.72814832153,
          114122.74551681227,
          116479.07243641785,
          114537.99161469161,
          115056.69934079546,
          114462.48579929638,
          113839.68244493379,
          112460.91180449446,
          117758.28114695627,
          119183.83620501454,
          119994.02843741358,
          120841.3874265352,
          123922.77113998347,
          120737.1721756285,
          125044.353087299,
          126487.55248593201,
          125119.60769513351,
          126316.81508049223,
          121139.11623505416,
          121690.44505725792,
          118698.03666936571,
          124232.95266615553,
          118002.81376392538,
          117697.66835123263,
          118652.69968578716,
          118367.78246286522,
          121568.95629598516,
          118208.45705804124,
          114429.90058999082,
          108045.74752850636,
          107604.42369337077,
          106232.01697780316,
          105338.47168430242,
          104884.57550886576,
          108647.77242891752,
          107644.74848799963,
          107246.15386271696,
          111209.02490675113,
          111745.34108663537,
          109141.22781403606,
          99319.22751043379,
          97059.56765264837,
          96889.11734156369,
          96909.94962570672,
          60888.968530989616,
          68151.84563989204,
          63701.153437458466,
          66052.40237565794,
          61424.16623911539,
          64010.61124661034,
          64167.51429281303,
          75838.14505466215,
          75931.06194646862,
          75763.0997864616,
          71416.88600476025,
          78595.74614686478,
          82497.0294705944,
          81838.74005771312,
          82272.09104336187,
          79250.88350297218,
          76462.87433365698,
          72541.23123524377,
          78761.44145769285,
          78869.2693125681,
          80928.77655577924,
          83217.54658494683,
          82479.67820550714,
          84122.8089168157,
          83186.98299839189,
          89074.66020289673,
          87906.47925306659,
          89838.00820635287,
          89445.9150719871,
          84097.89151924469,
          84019.37121312077,
          85391.4070984797,
          83847.32393968577,
          83815.35478701725,
          81361.58923951216,
          87176.29064762623,
          88901.74566526398,
          88065.84652581735,
          84299.58128484532,
          84279.55047244365,
          87181.23106298716,
          91009.36513748647,
          92493.69678362212,
          92726.8652490346,
          94073.45141603905,
          95491.11736046405,
          95631.46463218845,
          107807.07642128751,
          106061.73413842566,
          108587.70989737455,
          110104.54899809454,
          108988.2902586134,
          109174.30347619826,
          110281.84172464277,
          113536.39118328449,
          121899.72487987192,
          120566.35103433515,
          117519.0837000864,
          107260.66408991505,
          105366.4873084557,
          107849.20751790062,
          113551.40382560402,
          119231.85273590751,
          114264.43854332628,
          114862.40823597145,
          118460.35843012496,
          119144.31288212704,
          119174.4817139437,
          116650.41991736225,
          111245.76102194104,
          112480.685428203,
          112807.86533265082,
          107676.37671612142,
          109104.2404912854,
          108223.73406641278,
          112461.58169132305,
          116684.344900325,
          115623.22023929072,
          118823.85577049482,
          115891.90466888386,
          124542.52411682295,
          116733.98829923027,
          118288.60423217746,
          120051.51908202532,
          118396.58759649505,
          118251.38962639567,
          119539.6896581794,
          119694.48136464551,
          119991.0498334792,
          120902.3351656731,
          114185.84646361353,
          116134.26015366,
          116066.07524432019,
          114982.1385443191,
          115765.04485071743,
          116834.6866442868,
          116127.04690798777,
          115289.01848540736,
          113772.27508280575,
          114315.1944328576,
          113963.50384784184,
          118190.60935896491,
          117957.14183693251,
          114085.75819406162,
          113488.02774671238,
          112239.87307558554,
          110800.23843186186,
          112003.02023261575,
          112582.07758461771,
          111934.56019118564,
          113041.06968485765,
          111755.92769098017,
          111313.64687466087,
          111867.12890452801,
          111149.97916771578,
          114843.55570665217,
          113334.46815352027,
          115491.03721328983,
          113649.15945352058,
          113659.44700124553,
          113188.32516450196,
          113631.18016953151,
          113228.35090251091,
          113223.44637394437,
          112606.36098215448,
          111863.93497982733,
          112098.69442645776,
          112192.37092207882,
          112520.37622279758,
          112255.96232173676,
          114836.3663855095,
          116679.59588120073,
          117361.99523877929,
          116820.8223793877,
          118538.43613245139,
          121331.94794357296,
          134631.15134047336,
          133675.09125114634,
          135973.61650725544,
          136105.24926907563,
          138705.21163579056,
          144047.47535803347,
          135399.69096685114,
          137760.56354707936,
          137265.00280335665,
          143893.4970855735,
          144294.6755600522,
          142110.6052535156,
          143979.5296939896,
          143020.32352902115,
          145499.25170052558,
          139771.6236178649,
          141908.02429918764,
          144348.13492142758,
          144161.1288358646,
          145347.19935269785,
          145679.2239743882,
          150108.57549642492,
          146884.92456775243,
          144031.43396094145,
          145502.44562522622,
          142000.564379653,
          143094.87236323266,
          142886.90838974633,
          144231.25163210143,
          139227.86690927728,
          140725.0878957311,
          138704.36231499002,
          141388.22800698734,
          140951.72496456472,
          143458.4414771913,
          143082.56319275714,
          146630.69055403344,
          139814.60403527858,
          125498.32103632446,
          128762.97860871919,
          124570.68328815381,
          125927.71849345799,
          127020.50726940848,
          124104.58560262478,
          125462.1949966392,
          126941.80752931263,
          127404.54381843389,
          127909.90165702492,
          126459.39331460126,
          130833.41936195437,
          132255.73264625276,
          134435.55634878666,
          134118.11372788314,
          134064.16391365114,
          135898.6370315114,
          133986.81590947727,
          128155.97740615279,
          129089.38096595532,
          125260.2839291399,
          131626.08687642665,
          131096.19443273812,
          131734.96741060397,
          131979.8230087226,
          131329.38682268022,
          132891.21600129968,
          132141.40928159314,
          130128.98551262083,
          129661.4762798458,
          129420.5203800508,
          130877.40460961097,
          132342.0882358184,
          130108.57788887805,
          130812.58109667897,
          133807.44174885447,
          138373.18701410035,
          139448.92956271587,
          140004.1341587137,
          140810.66593808506,
          138688.75155943082,
          139129.46531906177,
          140663.79325091417,
          143832.4297237878,
          145967.46670692376,
          157081.97775951814,
          158823.86294785384,
          158403.06635910898,
          160565.36534371608,
          159623.52838723204,
          160163.4093220256,
          167255.42940284027,
          162564.7382817954,
          164605.45280701134,
          165936.21887882252,
          168808.3586564512,
          168270.78643876332,
          165984.8095984257,
          170882.24454194764,
          173128.85356884013,
          190843.1614304047,
          190672.065157021,
          181703.9791636488,
          189614.78038298638,
          187811.03832338823,
          187303.754560165,
          192331.35090693715,
          199374.78026814866,
          199882.6980314061,
          196824.401489015,
          195445.72654669403,
          204761.6512758175,
          216144.91853159384,
          218087.66210812677,
          218247.93253186968,
          228099.1686106345,
          228355.4003225745,
          225020.75153885572,
          224948.7147802515,
          234054.19934707577,
          229456.478948029,
          210084.1413743519,
          209566.96481814198,
          217026.96808862517,
          222662.53458141233,
          240403.91304821122,
          230324.676202426,
          235201.069522171,
          238193.66930629994,
          229060.1451907928,
          234627.04828364833,
          236965.33610794085,
          235085.17910082295,
          224422.2794310891,
          227273.58094344236,
          223734.44920529297,
          221210.00461623806,
          230332.7387688988,
          234481.92208713773,
          235759.06132586638,
          237846.7397026732,
          261041.164425995,
          279348.62118749175,
          283425.1935584162,
          292390.14543841174,
          287581.81740535854,
          279323.1415634753,
          291326.86756971414,
          284691.5906833577,
          290750.16678387707,
          302127.8835487878,
          323836.7624560971,
          321818.77623399446,
          331771.5480163516,
          335172.32419986516,
          353283.1931016969,
          355252.492906078
         ]
        }
       ],
       "layout": {
        "legend": {
         "bgcolor": "#F5F6F9",
         "font": {
          "color": "#4D5663"
         }
        },
        "paper_bgcolor": "#F5F6F9",
        "plot_bgcolor": "#F5F6F9",
        "template": {
         "data": {
          "bar": [
           {
            "error_x": {
             "color": "#2a3f5f"
            },
            "error_y": {
             "color": "#2a3f5f"
            },
            "marker": {
             "line": {
              "color": "#E5ECF6",
              "width": 0.5
             },
             "pattern": {
              "fillmode": "overlay",
              "size": 10,
              "solidity": 0.2
             }
            },
            "type": "bar"
           }
          ],
          "barpolar": [
           {
            "marker": {
             "line": {
              "color": "#E5ECF6",
              "width": 0.5
             },
             "pattern": {
              "fillmode": "overlay",
              "size": 10,
              "solidity": 0.2
             }
            },
            "type": "barpolar"
           }
          ],
          "carpet": [
           {
            "aaxis": {
             "endlinecolor": "#2a3f5f",
             "gridcolor": "white",
             "linecolor": "white",
             "minorgridcolor": "white",
             "startlinecolor": "#2a3f5f"
            },
            "baxis": {
             "endlinecolor": "#2a3f5f",
             "gridcolor": "white",
             "linecolor": "white",
             "minorgridcolor": "white",
             "startlinecolor": "#2a3f5f"
            },
            "type": "carpet"
           }
          ],
          "choropleth": [
           {
            "colorbar": {
             "outlinewidth": 0,
             "ticks": ""
            },
            "type": "choropleth"
           }
          ],
          "contour": [
           {
            "colorbar": {
             "outlinewidth": 0,
             "ticks": ""
            },
            "colorscale": [
             [
              0,
              "#0d0887"
             ],
             [
              0.1111111111111111,
              "#46039f"
             ],
             [
              0.2222222222222222,
              "#7201a8"
             ],
             [
              0.3333333333333333,
              "#9c179e"
             ],
             [
              0.4444444444444444,
              "#bd3786"
             ],
             [
              0.5555555555555556,
              "#d8576b"
             ],
             [
              0.6666666666666666,
              "#ed7953"
             ],
             [
              0.7777777777777778,
              "#fb9f3a"
             ],
             [
              0.8888888888888888,
              "#fdca26"
             ],
             [
              1,
              "#f0f921"
             ]
            ],
            "type": "contour"
           }
          ],
          "contourcarpet": [
           {
            "colorbar": {
             "outlinewidth": 0,
             "ticks": ""
            },
            "type": "contourcarpet"
           }
          ],
          "heatmap": [
           {
            "colorbar": {
             "outlinewidth": 0,
             "ticks": ""
            },
            "colorscale": [
             [
              0,
              "#0d0887"
             ],
             [
              0.1111111111111111,
              "#46039f"
             ],
             [
              0.2222222222222222,
              "#7201a8"
             ],
             [
              0.3333333333333333,
              "#9c179e"
             ],
             [
              0.4444444444444444,
              "#bd3786"
             ],
             [
              0.5555555555555556,
              "#d8576b"
             ],
             [
              0.6666666666666666,
              "#ed7953"
             ],
             [
              0.7777777777777778,
              "#fb9f3a"
             ],
             [
              0.8888888888888888,
              "#fdca26"
             ],
             [
              1,
              "#f0f921"
             ]
            ],
            "type": "heatmap"
           }
          ],
          "heatmapgl": [
           {
            "colorbar": {
             "outlinewidth": 0,
             "ticks": ""
            },
            "colorscale": [
             [
              0,
              "#0d0887"
             ],
             [
              0.1111111111111111,
              "#46039f"
             ],
             [
              0.2222222222222222,
              "#7201a8"
             ],
             [
              0.3333333333333333,
              "#9c179e"
             ],
             [
              0.4444444444444444,
              "#bd3786"
             ],
             [
              0.5555555555555556,
              "#d8576b"
             ],
             [
              0.6666666666666666,
              "#ed7953"
             ],
             [
              0.7777777777777778,
              "#fb9f3a"
             ],
             [
              0.8888888888888888,
              "#fdca26"
             ],
             [
              1,
              "#f0f921"
             ]
            ],
            "type": "heatmapgl"
           }
          ],
          "histogram": [
           {
            "marker": {
             "pattern": {
              "fillmode": "overlay",
              "size": 10,
              "solidity": 0.2
             }
            },
            "type": "histogram"
           }
          ],
          "histogram2d": [
           {
            "colorbar": {
             "outlinewidth": 0,
             "ticks": ""
            },
            "colorscale": [
             [
              0,
              "#0d0887"
             ],
             [
              0.1111111111111111,
              "#46039f"
             ],
             [
              0.2222222222222222,
              "#7201a8"
             ],
             [
              0.3333333333333333,
              "#9c179e"
             ],
             [
              0.4444444444444444,
              "#bd3786"
             ],
             [
              0.5555555555555556,
              "#d8576b"
             ],
             [
              0.6666666666666666,
              "#ed7953"
             ],
             [
              0.7777777777777778,
              "#fb9f3a"
             ],
             [
              0.8888888888888888,
              "#fdca26"
             ],
             [
              1,
              "#f0f921"
             ]
            ],
            "type": "histogram2d"
           }
          ],
          "histogram2dcontour": [
           {
            "colorbar": {
             "outlinewidth": 0,
             "ticks": ""
            },
            "colorscale": [
             [
              0,
              "#0d0887"
             ],
             [
              0.1111111111111111,
              "#46039f"
             ],
             [
              0.2222222222222222,
              "#7201a8"
             ],
             [
              0.3333333333333333,
              "#9c179e"
             ],
             [
              0.4444444444444444,
              "#bd3786"
             ],
             [
              0.5555555555555556,
              "#d8576b"
             ],
             [
              0.6666666666666666,
              "#ed7953"
             ],
             [
              0.7777777777777778,
              "#fb9f3a"
             ],
             [
              0.8888888888888888,
              "#fdca26"
             ],
             [
              1,
              "#f0f921"
             ]
            ],
            "type": "histogram2dcontour"
           }
          ],
          "mesh3d": [
           {
            "colorbar": {
             "outlinewidth": 0,
             "ticks": ""
            },
            "type": "mesh3d"
           }
          ],
          "parcoords": [
           {
            "line": {
             "colorbar": {
              "outlinewidth": 0,
              "ticks": ""
             }
            },
            "type": "parcoords"
           }
          ],
          "pie": [
           {
            "automargin": true,
            "type": "pie"
           }
          ],
          "scatter": [
           {
            "marker": {
             "colorbar": {
              "outlinewidth": 0,
              "ticks": ""
             }
            },
            "type": "scatter"
           }
          ],
          "scatter3d": [
           {
            "line": {
             "colorbar": {
              "outlinewidth": 0,
              "ticks": ""
             }
            },
            "marker": {
             "colorbar": {
              "outlinewidth": 0,
              "ticks": ""
             }
            },
            "type": "scatter3d"
           }
          ],
          "scattercarpet": [
           {
            "marker": {
             "colorbar": {
              "outlinewidth": 0,
              "ticks": ""
             }
            },
            "type": "scattercarpet"
           }
          ],
          "scattergeo": [
           {
            "marker": {
             "colorbar": {
              "outlinewidth": 0,
              "ticks": ""
             }
            },
            "type": "scattergeo"
           }
          ],
          "scattergl": [
           {
            "marker": {
             "colorbar": {
              "outlinewidth": 0,
              "ticks": ""
             }
            },
            "type": "scattergl"
           }
          ],
          "scattermapbox": [
           {
            "marker": {
             "colorbar": {
              "outlinewidth": 0,
              "ticks": ""
             }
            },
            "type": "scattermapbox"
           }
          ],
          "scatterpolar": [
           {
            "marker": {
             "colorbar": {
              "outlinewidth": 0,
              "ticks": ""
             }
            },
            "type": "scatterpolar"
           }
          ],
          "scatterpolargl": [
           {
            "marker": {
             "colorbar": {
              "outlinewidth": 0,
              "ticks": ""
             }
            },
            "type": "scatterpolargl"
           }
          ],
          "scatterternary": [
           {
            "marker": {
             "colorbar": {
              "outlinewidth": 0,
              "ticks": ""
             }
            },
            "type": "scatterternary"
           }
          ],
          "surface": [
           {
            "colorbar": {
             "outlinewidth": 0,
             "ticks": ""
            },
            "colorscale": [
             [
              0,
              "#0d0887"
             ],
             [
              0.1111111111111111,
              "#46039f"
             ],
             [
              0.2222222222222222,
              "#7201a8"
             ],
             [
              0.3333333333333333,
              "#9c179e"
             ],
             [
              0.4444444444444444,
              "#bd3786"
             ],
             [
              0.5555555555555556,
              "#d8576b"
             ],
             [
              0.6666666666666666,
              "#ed7953"
             ],
             [
              0.7777777777777778,
              "#fb9f3a"
             ],
             [
              0.8888888888888888,
              "#fdca26"
             ],
             [
              1,
              "#f0f921"
             ]
            ],
            "type": "surface"
           }
          ],
          "table": [
           {
            "cells": {
             "fill": {
              "color": "#EBF0F8"
             },
             "line": {
              "color": "white"
             }
            },
            "header": {
             "fill": {
              "color": "#C8D4E3"
             },
             "line": {
              "color": "white"
             }
            },
            "type": "table"
           }
          ]
         },
         "layout": {
          "annotationdefaults": {
           "arrowcolor": "#2a3f5f",
           "arrowhead": 0,
           "arrowwidth": 1
          },
          "autotypenumbers": "strict",
          "coloraxis": {
           "colorbar": {
            "outlinewidth": 0,
            "ticks": ""
           }
          },
          "colorscale": {
           "diverging": [
            [
             0,
             "#8e0152"
            ],
            [
             0.1,
             "#c51b7d"
            ],
            [
             0.2,
             "#de77ae"
            ],
            [
             0.3,
             "#f1b6da"
            ],
            [
             0.4,
             "#fde0ef"
            ],
            [
             0.5,
             "#f7f7f7"
            ],
            [
             0.6,
             "#e6f5d0"
            ],
            [
             0.7,
             "#b8e186"
            ],
            [
             0.8,
             "#7fbc41"
            ],
            [
             0.9,
             "#4d9221"
            ],
            [
             1,
             "#276419"
            ]
           ],
           "sequential": [
            [
             0,
             "#0d0887"
            ],
            [
             0.1111111111111111,
             "#46039f"
            ],
            [
             0.2222222222222222,
             "#7201a8"
            ],
            [
             0.3333333333333333,
             "#9c179e"
            ],
            [
             0.4444444444444444,
             "#bd3786"
            ],
            [
             0.5555555555555556,
             "#d8576b"
            ],
            [
             0.6666666666666666,
             "#ed7953"
            ],
            [
             0.7777777777777778,
             "#fb9f3a"
            ],
            [
             0.8888888888888888,
             "#fdca26"
            ],
            [
             1,
             "#f0f921"
            ]
           ],
           "sequentialminus": [
            [
             0,
             "#0d0887"
            ],
            [
             0.1111111111111111,
             "#46039f"
            ],
            [
             0.2222222222222222,
             "#7201a8"
            ],
            [
             0.3333333333333333,
             "#9c179e"
            ],
            [
             0.4444444444444444,
             "#bd3786"
            ],
            [
             0.5555555555555556,
             "#d8576b"
            ],
            [
             0.6666666666666666,
             "#ed7953"
            ],
            [
             0.7777777777777778,
             "#fb9f3a"
            ],
            [
             0.8888888888888888,
             "#fdca26"
            ],
            [
             1,
             "#f0f921"
            ]
           ]
          },
          "colorway": [
           "#636efa",
           "#EF553B",
           "#00cc96",
           "#ab63fa",
           "#FFA15A",
           "#19d3f3",
           "#FF6692",
           "#B6E880",
           "#FF97FF",
           "#FECB52"
          ],
          "font": {
           "color": "#2a3f5f"
          },
          "geo": {
           "bgcolor": "white",
           "lakecolor": "white",
           "landcolor": "#E5ECF6",
           "showlakes": true,
           "showland": true,
           "subunitcolor": "white"
          },
          "hoverlabel": {
           "align": "left"
          },
          "hovermode": "closest",
          "mapbox": {
           "style": "light"
          },
          "paper_bgcolor": "white",
          "plot_bgcolor": "#E5ECF6",
          "polar": {
           "angularaxis": {
            "gridcolor": "white",
            "linecolor": "white",
            "ticks": ""
           },
           "bgcolor": "#E5ECF6",
           "radialaxis": {
            "gridcolor": "white",
            "linecolor": "white",
            "ticks": ""
           }
          },
          "scene": {
           "xaxis": {
            "backgroundcolor": "#E5ECF6",
            "gridcolor": "white",
            "gridwidth": 2,
            "linecolor": "white",
            "showbackground": true,
            "ticks": "",
            "zerolinecolor": "white"
           },
           "yaxis": {
            "backgroundcolor": "#E5ECF6",
            "gridcolor": "white",
            "gridwidth": 2,
            "linecolor": "white",
            "showbackground": true,
            "ticks": "",
            "zerolinecolor": "white"
           },
           "zaxis": {
            "backgroundcolor": "#E5ECF6",
            "gridcolor": "white",
            "gridwidth": 2,
            "linecolor": "white",
            "showbackground": true,
            "ticks": "",
            "zerolinecolor": "white"
           }
          },
          "shapedefaults": {
           "line": {
            "color": "#2a3f5f"
           }
          },
          "ternary": {
           "aaxis": {
            "gridcolor": "white",
            "linecolor": "white",
            "ticks": ""
           },
           "baxis": {
            "gridcolor": "white",
            "linecolor": "white",
            "ticks": ""
           },
           "bgcolor": "#E5ECF6",
           "caxis": {
            "gridcolor": "white",
            "linecolor": "white",
            "ticks": ""
           }
          },
          "title": {
           "x": 0.05
          },
          "xaxis": {
           "automargin": true,
           "gridcolor": "white",
           "linecolor": "white",
           "ticks": "",
           "title": {
            "standoff": 15
           },
           "zerolinecolor": "white",
           "zerolinewidth": 2
          },
          "yaxis": {
           "automargin": true,
           "gridcolor": "white",
           "linecolor": "white",
           "ticks": "",
           "title": {
            "standoff": 15
           },
           "zerolinecolor": "white",
           "zerolinewidth": 2
          }
         }
        },
        "title": {
         "font": {
          "color": "#4D5663"
         },
         "text": "BTC-USD Buy-and-Hold Equity Curve"
        },
        "xaxis": {
         "gridcolor": "#E1E5ED",
         "showgrid": true,
         "tickfont": {
          "color": "#4D5663"
         },
         "title": {
          "font": {
           "color": "#4D5663"
          },
          "text": ""
         },
         "zerolinecolor": "#E1E5ED"
        },
        "yaxis": {
         "gridcolor": "#E1E5ED",
         "showgrid": true,
         "tickfont": {
          "color": "#4D5663"
         },
         "title": {
          "font": {
           "color": "#4D5663"
          },
          "text": ""
         },
         "zerolinecolor": "#E1E5ED"
        }
       }
      },
      "text/html": [
       "<div>                            <div id=\"c5f76f0d-bb02-4799-8d10-363db67e80ed\" class=\"plotly-graph-div\" style=\"height:525px; width:100%;\"></div>            <script type=\"text/javascript\">                require([\"plotly\"], function(Plotly) {                    window.PLOTLYENV=window.PLOTLYENV || {};\n",
       "                    window.PLOTLYENV.BASE_URL='https://plot.ly';                                    if (document.getElementById(\"c5f76f0d-bb02-4799-8d10-363db67e80ed\")) {                    Plotly.newPlot(                        \"c5f76f0d-bb02-4799-8d10-363db67e80ed\",                        [{\"line\":{\"color\":\"rgba(255, 153, 51, 1.0)\",\"dash\":\"solid\",\"shape\":\"linear\",\"width\":1.3},\"mode\":\"lines\",\"name\":\"Close\",\"text\":\"\",\"type\":\"scatter\",\"x\":[\"2020-01-08\",\"2020-01-09\",\"2020-01-10\",\"2020-01-11\",\"2020-01-12\",\"2020-01-13\",\"2020-01-14\",\"2020-01-15\",\"2020-01-16\",\"2020-01-17\",\"2020-01-18\",\"2020-01-19\",\"2020-01-20\",\"2020-01-21\",\"2020-01-22\",\"2020-01-23\",\"2020-01-24\",\"2020-01-25\",\"2020-01-26\",\"2020-01-27\",\"2020-01-28\",\"2020-01-29\",\"2020-01-30\",\"2020-01-31\",\"2020-02-01\",\"2020-02-02\",\"2020-02-03\",\"2020-02-04\",\"2020-02-05\",\"2020-02-06\",\"2020-02-07\",\"2020-02-08\",\"2020-02-09\",\"2020-02-10\",\"2020-02-11\",\"2020-02-12\",\"2020-02-13\",\"2020-02-14\",\"2020-02-15\",\"2020-02-16\",\"2020-02-17\",\"2020-02-18\",\"2020-02-19\",\"2020-02-20\",\"2020-02-21\",\"2020-02-22\",\"2020-02-23\",\"2020-02-24\",\"2020-02-25\",\"2020-02-26\",\"2020-02-27\",\"2020-02-28\",\"2020-02-29\",\"2020-03-01\",\"2020-03-02\",\"2020-03-03\",\"2020-03-04\",\"2020-03-05\",\"2020-03-06\",\"2020-03-07\",\"2020-03-08\",\"2020-03-09\",\"2020-03-10\",\"2020-03-11\",\"2020-03-12\",\"2020-03-13\",\"2020-03-14\",\"2020-03-15\",\"2020-03-16\",\"2020-03-17\",\"2020-03-18\",\"2020-03-19\",\"2020-03-20\",\"2020-03-21\",\"2020-03-22\",\"2020-03-23\",\"2020-03-24\",\"2020-03-25\",\"2020-03-26\",\"2020-03-27\",\"2020-03-28\",\"2020-03-29\",\"2020-03-30\",\"2020-03-31\",\"2020-04-01\",\"2020-04-02\",\"2020-04-03\",\"2020-04-04\",\"2020-04-05\",\"2020-04-06\",\"2020-04-07\",\"2020-04-08\",\"2020-04-09\",\"2020-04-10\",\"2020-04-11\",\"2020-04-12\",\"2020-04-13\",\"2020-04-14\",\"2020-04-15\",\"2020-04-16\",\"2020-04-18\",\"2020-04-19\",\"2020-04-20\",\"2020-04-21\",\"2020-04-22\",\"2020-04-23\",\"2020-04-24\",\"2020-04-25\",\"2020-04-26\",\"2020-04-27\",\"2020-04-28\",\"2020-04-29\",\"2020-04-30\",\"2020-05-01\",\"2020-05-02\",\"2020-05-03\",\"2020-05-04\",\"2020-05-05\",\"2020-05-06\",\"2020-05-07\",\"2020-05-08\",\"2020-05-09\",\"2020-05-10\",\"2020-05-11\",\"2020-05-12\",\"2020-05-13\",\"2020-05-14\",\"2020-05-15\",\"2020-05-16\",\"2020-05-17\",\"2020-05-18\",\"2020-05-19\",\"2020-05-20\",\"2020-05-21\",\"2020-05-22\",\"2020-05-23\",\"2020-05-24\",\"2020-05-25\",\"2020-05-26\",\"2020-05-27\",\"2020-05-28\",\"2020-05-29\",\"2020-05-30\",\"2020-05-31\",\"2020-06-01\",\"2020-06-02\",\"2020-06-03\",\"2020-06-04\",\"2020-06-05\",\"2020-06-06\",\"2020-06-07\",\"2020-06-08\",\"2020-06-09\",\"2020-06-10\",\"2020-06-11\",\"2020-06-12\",\"2020-06-13\",\"2020-06-14\",\"2020-06-15\",\"2020-06-16\",\"2020-06-17\",\"2020-06-18\",\"2020-06-19\",\"2020-06-20\",\"2020-06-21\",\"2020-06-22\",\"2020-06-23\",\"2020-06-24\",\"2020-06-25\",\"2020-06-26\",\"2020-06-27\",\"2020-06-28\",\"2020-06-29\",\"2020-06-30\",\"2020-07-01\",\"2020-07-02\",\"2020-07-03\",\"2020-07-04\",\"2020-07-05\",\"2020-07-06\",\"2020-07-07\",\"2020-07-08\",\"2020-07-09\",\"2020-07-10\",\"2020-07-11\",\"2020-07-12\",\"2020-07-13\",\"2020-07-14\",\"2020-07-15\",\"2020-07-16\",\"2020-07-17\",\"2020-07-18\",\"2020-07-19\",\"2020-07-20\",\"2020-07-21\",\"2020-07-22\",\"2020-07-23\",\"2020-07-24\",\"2020-07-25\",\"2020-07-26\",\"2020-07-27\",\"2020-07-28\",\"2020-07-29\",\"2020-07-30\",\"2020-07-31\",\"2020-08-01\",\"2020-08-02\",\"2020-08-03\",\"2020-08-04\",\"2020-08-05\",\"2020-08-06\",\"2020-08-07\",\"2020-08-08\",\"2020-08-09\",\"2020-08-10\",\"2020-08-11\",\"2020-08-12\",\"2020-08-13\",\"2020-08-14\",\"2020-08-15\",\"2020-08-16\",\"2020-08-17\",\"2020-08-18\",\"2020-08-19\",\"2020-08-20\",\"2020-08-21\",\"2020-08-22\",\"2020-08-23\",\"2020-08-24\",\"2020-08-25\",\"2020-08-26\",\"2020-08-27\",\"2020-08-28\",\"2020-08-29\",\"2020-08-30\",\"2020-08-31\",\"2020-09-01\",\"2020-09-02\",\"2020-09-03\",\"2020-09-04\",\"2020-09-05\",\"2020-09-06\",\"2020-09-07\",\"2020-09-08\",\"2020-09-09\",\"2020-09-10\",\"2020-09-11\",\"2020-09-12\",\"2020-09-13\",\"2020-09-14\",\"2020-09-15\",\"2020-09-16\",\"2020-09-17\",\"2020-09-18\",\"2020-09-19\",\"2020-09-20\",\"2020-09-21\",\"2020-09-22\",\"2020-09-23\",\"2020-09-24\",\"2020-09-25\",\"2020-09-26\",\"2020-09-27\",\"2020-09-28\",\"2020-09-29\",\"2020-09-30\",\"2020-10-01\",\"2020-10-02\",\"2020-10-03\",\"2020-10-04\",\"2020-10-05\",\"2020-10-06\",\"2020-10-07\",\"2020-10-08\",\"2020-10-10\",\"2020-10-11\",\"2020-10-14\",\"2020-10-15\",\"2020-10-16\",\"2020-10-17\",\"2020-10-18\",\"2020-10-19\",\"2020-10-20\",\"2020-10-21\",\"2020-10-22\",\"2020-10-23\",\"2020-10-24\",\"2020-10-25\",\"2020-10-26\",\"2020-10-27\",\"2020-10-28\",\"2020-10-29\",\"2020-10-30\",\"2020-10-31\",\"2020-11-01\",\"2020-11-02\",\"2020-11-03\",\"2020-11-04\",\"2020-11-05\",\"2020-11-06\",\"2020-11-07\",\"2020-11-08\",\"2020-11-09\",\"2020-11-10\",\"2020-11-11\",\"2020-11-12\",\"2020-11-13\",\"2020-11-14\",\"2020-11-15\",\"2020-11-16\",\"2020-11-17\",\"2020-11-18\",\"2020-11-19\",\"2020-11-20\",\"2020-11-21\",\"2020-11-22\",\"2020-11-23\",\"2020-11-24\",\"2020-11-25\",\"2020-11-26\",\"2020-11-27\",\"2020-11-28\",\"2020-11-29\",\"2020-11-30\",\"2020-12-01\",\"2020-12-02\",\"2020-12-03\",\"2020-12-04\",\"2020-12-05\",\"2020-12-06\",\"2020-12-07\",\"2020-12-08\",\"2020-12-09\",\"2020-12-10\",\"2020-12-11\",\"2020-12-12\",\"2020-12-13\",\"2020-12-14\",\"2020-12-15\",\"2020-12-16\",\"2020-12-17\",\"2020-12-18\",\"2020-12-19\",\"2020-12-20\",\"2020-12-21\",\"2020-12-22\",\"2020-12-23\",\"2020-12-24\",\"2020-12-25\",\"2020-12-26\",\"2020-12-27\",\"2020-12-28\",\"2020-12-29\",\"2020-12-30\",\"2020-12-31\"],\"y\":[98973.14124647518,96513.5740005438,100035.05541698601,98454.68472793204,100352.8030756418,99761.16142107398,108134.45968423685,107880.2376327826,106860.78950229919,109374.99439268836,109543.67428858316,106645.92330202527,106050.57334537053,107131.6032150261,106335.16758714299,102974.42910390314,103451.16124283621,102500.77126702273,105305.65919196572,109139.57702149413,114636.72814832153,114122.74551681227,116479.07243641785,114537.99161469161,115056.69934079546,114462.48579929638,113839.68244493379,112460.91180449446,117758.28114695627,119183.83620501454,119994.02843741358,120841.3874265352,123922.77113998347,120737.1721756285,125044.353087299,126487.55248593201,125119.60769513351,126316.81508049223,121139.11623505416,121690.44505725792,118698.03666936571,124232.95266615553,118002.81376392538,117697.66835123263,118652.69968578716,118367.78246286522,121568.95629598516,118208.45705804124,114429.90058999082,108045.74752850636,107604.42369337077,106232.01697780316,105338.47168430242,104884.57550886576,108647.77242891752,107644.74848799963,107246.15386271696,111209.02490675113,111745.34108663537,109141.22781403606,99319.22751043379,97059.56765264837,96889.11734156369,96909.94962570672,60888.968530989616,68151.84563989204,63701.153437458466,66052.40237565794,61424.16623911539,64010.61124661034,64167.51429281303,75838.14505466215,75931.06194646862,75763.0997864616,71416.88600476025,78595.74614686478,82497.0294705944,81838.74005771312,82272.09104336187,79250.88350297218,76462.87433365698,72541.23123524377,78761.44145769285,78869.2693125681,80928.77655577924,83217.54658494683,82479.67820550714,84122.8089168157,83186.98299839189,89074.66020289673,87906.47925306659,89838.00820635287,89445.9150719871,84097.89151924469,84019.37121312077,85391.4070984797,83847.32393968577,83815.35478701725,81361.58923951216,87176.29064762623,88901.74566526398,88065.84652581735,84299.58128484532,84279.55047244365,87181.23106298716,91009.36513748647,92493.69678362212,92726.8652490346,94073.45141603905,95491.11736046405,95631.46463218845,107807.07642128751,106061.73413842566,108587.70989737455,110104.54899809454,108988.2902586134,109174.30347619826,110281.84172464277,113536.39118328449,121899.72487987192,120566.35103433515,117519.0837000864,107260.66408991505,105366.4873084557,107849.20751790062,113551.40382560402,119231.85273590751,114264.43854332628,114862.40823597145,118460.35843012496,119144.31288212704,119174.4817139437,116650.41991736225,111245.76102194104,112480.685428203,112807.86533265082,107676.37671612142,109104.2404912854,108223.73406641278,112461.58169132305,116684.344900325,115623.22023929072,118823.85577049482,115891.90466888386,124542.52411682295,116733.98829923027,118288.60423217746,120051.51908202532,118396.58759649505,118251.38962639567,119539.6896581794,119694.48136464551,119991.0498334792,120902.3351656731,114185.84646361353,116134.26015366,116066.07524432019,114982.1385443191,115765.04485071743,116834.6866442868,116127.04690798777,115289.01848540736,113772.27508280575,114315.1944328576,113963.50384784184,118190.60935896491,117957.14183693251,114085.75819406162,113488.02774671238,112239.87307558554,110800.23843186186,112003.02023261575,112582.07758461771,111934.56019118564,113041.06968485765,111755.92769098017,111313.64687466087,111867.12890452801,111149.97916771578,114843.55570665217,113334.46815352027,115491.03721328983,113649.15945352058,113659.44700124553,113188.32516450196,113631.18016953151,113228.35090251091,113223.44637394437,112606.36098215448,111863.93497982733,112098.69442645776,112192.37092207882,112520.37622279758,112255.96232173676,114836.3663855095,116679.59588120073,117361.99523877929,116820.8223793877,118538.43613245139,121331.94794357296,134631.15134047336,133675.09125114634,135973.61650725544,136105.24926907563,138705.21163579056,144047.47535803347,135399.69096685114,137760.56354707936,137265.00280335665,143893.4970855735,144294.6755600522,142110.6052535156,143979.5296939896,143020.32352902115,145499.25170052558,139771.6236178649,141908.02429918764,144348.13492142758,144161.1288358646,145347.19935269785,145679.2239743882,150108.57549642492,146884.92456775243,144031.43396094145,145502.44562522622,142000.564379653,143094.87236323266,142886.90838974633,144231.25163210143,139227.86690927728,140725.0878957311,138704.36231499002,141388.22800698734,140951.72496456472,143458.4414771913,143082.56319275714,146630.69055403344,139814.60403527858,125498.32103632446,128762.97860871919,124570.68328815381,125927.71849345799,127020.50726940848,124104.58560262478,125462.1949966392,126941.80752931263,127404.54381843389,127909.90165702492,126459.39331460126,130833.41936195437,132255.73264625276,134435.55634878666,134118.11372788314,134064.16391365114,135898.6370315114,133986.81590947727,128155.97740615279,129089.38096595532,125260.2839291399,131626.08687642665,131096.19443273812,131734.96741060397,131979.8230087226,131329.38682268022,132891.21600129968,132141.40928159314,130128.98551262083,129661.4762798458,129420.5203800508,130877.40460961097,132342.0882358184,130108.57788887805,130812.58109667897,133807.44174885447,138373.18701410035,139448.92956271587,140004.1341587137,140810.66593808506,138688.75155943082,139129.46531906177,140663.79325091417,143832.4297237878,145967.46670692376,157081.97775951814,158823.86294785384,158403.06635910898,160565.36534371608,159623.52838723204,160163.4093220256,167255.42940284027,162564.7382817954,164605.45280701134,165936.21887882252,168808.3586564512,168270.78643876332,165984.8095984257,170882.24454194764,173128.85356884013,190843.1614304047,190672.065157021,181703.9791636488,189614.78038298638,187811.03832338823,187303.754560165,192331.35090693715,199374.78026814866,199882.6980314061,196824.401489015,195445.72654669403,204761.6512758175,216144.91853159384,218087.66210812677,218247.93253186968,228099.1686106345,228355.4003225745,225020.75153885572,224948.7147802515,234054.19934707577,229456.478948029,210084.1413743519,209566.96481814198,217026.96808862517,222662.53458141233,240403.91304821122,230324.676202426,235201.069522171,238193.66930629994,229060.1451907928,234627.04828364833,236965.33610794085,235085.17910082295,224422.2794310891,227273.58094344236,223734.44920529297,221210.00461623806,230332.7387688988,234481.92208713773,235759.06132586638,237846.7397026732,261041.164425995,279348.62118749175,283425.1935584162,292390.14543841174,287581.81740535854,279323.1415634753,291326.86756971414,284691.5906833577,290750.16678387707,302127.8835487878,323836.7624560971,321818.77623399446,331771.5480163516,335172.32419986516,353283.1931016969,355252.492906078]}],                        {\"legend\":{\"bgcolor\":\"#F5F6F9\",\"font\":{\"color\":\"#4D5663\"}},\"paper_bgcolor\":\"#F5F6F9\",\"plot_bgcolor\":\"#F5F6F9\",\"template\":{\"data\":{\"bar\":[{\"error_x\":{\"color\":\"#2a3f5f\"},\"error_y\":{\"color\":\"#2a3f5f\"},\"marker\":{\"line\":{\"color\":\"#E5ECF6\",\"width\":0.5},\"pattern\":{\"fillmode\":\"overlay\",\"size\":10,\"solidity\":0.2}},\"type\":\"bar\"}],\"barpolar\":[{\"marker\":{\"line\":{\"color\":\"#E5ECF6\",\"width\":0.5},\"pattern\":{\"fillmode\":\"overlay\",\"size\":10,\"solidity\":0.2}},\"type\":\"barpolar\"}],\"carpet\":[{\"aaxis\":{\"endlinecolor\":\"#2a3f5f\",\"gridcolor\":\"white\",\"linecolor\":\"white\",\"minorgridcolor\":\"white\",\"startlinecolor\":\"#2a3f5f\"},\"baxis\":{\"endlinecolor\":\"#2a3f5f\",\"gridcolor\":\"white\",\"linecolor\":\"white\",\"minorgridcolor\":\"white\",\"startlinecolor\":\"#2a3f5f\"},\"type\":\"carpet\"}],\"choropleth\":[{\"colorbar\":{\"outlinewidth\":0,\"ticks\":\"\"},\"type\":\"choropleth\"}],\"contour\":[{\"colorbar\":{\"outlinewidth\":0,\"ticks\":\"\"},\"colorscale\":[[0.0,\"#0d0887\"],[0.1111111111111111,\"#46039f\"],[0.2222222222222222,\"#7201a8\"],[0.3333333333333333,\"#9c179e\"],[0.4444444444444444,\"#bd3786\"],[0.5555555555555556,\"#d8576b\"],[0.6666666666666666,\"#ed7953\"],[0.7777777777777778,\"#fb9f3a\"],[0.8888888888888888,\"#fdca26\"],[1.0,\"#f0f921\"]],\"type\":\"contour\"}],\"contourcarpet\":[{\"colorbar\":{\"outlinewidth\":0,\"ticks\":\"\"},\"type\":\"contourcarpet\"}],\"heatmap\":[{\"colorbar\":{\"outlinewidth\":0,\"ticks\":\"\"},\"colorscale\":[[0.0,\"#0d0887\"],[0.1111111111111111,\"#46039f\"],[0.2222222222222222,\"#7201a8\"],[0.3333333333333333,\"#9c179e\"],[0.4444444444444444,\"#bd3786\"],[0.5555555555555556,\"#d8576b\"],[0.6666666666666666,\"#ed7953\"],[0.7777777777777778,\"#fb9f3a\"],[0.8888888888888888,\"#fdca26\"],[1.0,\"#f0f921\"]],\"type\":\"heatmap\"}],\"heatmapgl\":[{\"colorbar\":{\"outlinewidth\":0,\"ticks\":\"\"},\"colorscale\":[[0.0,\"#0d0887\"],[0.1111111111111111,\"#46039f\"],[0.2222222222222222,\"#7201a8\"],[0.3333333333333333,\"#9c179e\"],[0.4444444444444444,\"#bd3786\"],[0.5555555555555556,\"#d8576b\"],[0.6666666666666666,\"#ed7953\"],[0.7777777777777778,\"#fb9f3a\"],[0.8888888888888888,\"#fdca26\"],[1.0,\"#f0f921\"]],\"type\":\"heatmapgl\"}],\"histogram\":[{\"marker\":{\"pattern\":{\"fillmode\":\"overlay\",\"size\":10,\"solidity\":0.2}},\"type\":\"histogram\"}],\"histogram2d\":[{\"colorbar\":{\"outlinewidth\":0,\"ticks\":\"\"},\"colorscale\":[[0.0,\"#0d0887\"],[0.1111111111111111,\"#46039f\"],[0.2222222222222222,\"#7201a8\"],[0.3333333333333333,\"#9c179e\"],[0.4444444444444444,\"#bd3786\"],[0.5555555555555556,\"#d8576b\"],[0.6666666666666666,\"#ed7953\"],[0.7777777777777778,\"#fb9f3a\"],[0.8888888888888888,\"#fdca26\"],[1.0,\"#f0f921\"]],\"type\":\"histogram2d\"}],\"histogram2dcontour\":[{\"colorbar\":{\"outlinewidth\":0,\"ticks\":\"\"},\"colorscale\":[[0.0,\"#0d0887\"],[0.1111111111111111,\"#46039f\"],[0.2222222222222222,\"#7201a8\"],[0.3333333333333333,\"#9c179e\"],[0.4444444444444444,\"#bd3786\"],[0.5555555555555556,\"#d8576b\"],[0.6666666666666666,\"#ed7953\"],[0.7777777777777778,\"#fb9f3a\"],[0.8888888888888888,\"#fdca26\"],[1.0,\"#f0f921\"]],\"type\":\"histogram2dcontour\"}],\"mesh3d\":[{\"colorbar\":{\"outlinewidth\":0,\"ticks\":\"\"},\"type\":\"mesh3d\"}],\"parcoords\":[{\"line\":{\"colorbar\":{\"outlinewidth\":0,\"ticks\":\"\"}},\"type\":\"parcoords\"}],\"pie\":[{\"automargin\":true,\"type\":\"pie\"}],\"scatter\":[{\"marker\":{\"colorbar\":{\"outlinewidth\":0,\"ticks\":\"\"}},\"type\":\"scatter\"}],\"scatter3d\":[{\"line\":{\"colorbar\":{\"outlinewidth\":0,\"ticks\":\"\"}},\"marker\":{\"colorbar\":{\"outlinewidth\":0,\"ticks\":\"\"}},\"type\":\"scatter3d\"}],\"scattercarpet\":[{\"marker\":{\"colorbar\":{\"outlinewidth\":0,\"ticks\":\"\"}},\"type\":\"scattercarpet\"}],\"scattergeo\":[{\"marker\":{\"colorbar\":{\"outlinewidth\":0,\"ticks\":\"\"}},\"type\":\"scattergeo\"}],\"scattergl\":[{\"marker\":{\"colorbar\":{\"outlinewidth\":0,\"ticks\":\"\"}},\"type\":\"scattergl\"}],\"scattermapbox\":[{\"marker\":{\"colorbar\":{\"outlinewidth\":0,\"ticks\":\"\"}},\"type\":\"scattermapbox\"}],\"scatterpolar\":[{\"marker\":{\"colorbar\":{\"outlinewidth\":0,\"ticks\":\"\"}},\"type\":\"scatterpolar\"}],\"scatterpolargl\":[{\"marker\":{\"colorbar\":{\"outlinewidth\":0,\"ticks\":\"\"}},\"type\":\"scatterpolargl\"}],\"scatterternary\":[{\"marker\":{\"colorbar\":{\"outlinewidth\":0,\"ticks\":\"\"}},\"type\":\"scatterternary\"}],\"surface\":[{\"colorbar\":{\"outlinewidth\":0,\"ticks\":\"\"},\"colorscale\":[[0.0,\"#0d0887\"],[0.1111111111111111,\"#46039f\"],[0.2222222222222222,\"#7201a8\"],[0.3333333333333333,\"#9c179e\"],[0.4444444444444444,\"#bd3786\"],[0.5555555555555556,\"#d8576b\"],[0.6666666666666666,\"#ed7953\"],[0.7777777777777778,\"#fb9f3a\"],[0.8888888888888888,\"#fdca26\"],[1.0,\"#f0f921\"]],\"type\":\"surface\"}],\"table\":[{\"cells\":{\"fill\":{\"color\":\"#EBF0F8\"},\"line\":{\"color\":\"white\"}},\"header\":{\"fill\":{\"color\":\"#C8D4E3\"},\"line\":{\"color\":\"white\"}},\"type\":\"table\"}]},\"layout\":{\"annotationdefaults\":{\"arrowcolor\":\"#2a3f5f\",\"arrowhead\":0,\"arrowwidth\":1},\"autotypenumbers\":\"strict\",\"coloraxis\":{\"colorbar\":{\"outlinewidth\":0,\"ticks\":\"\"}},\"colorscale\":{\"diverging\":[[0,\"#8e0152\"],[0.1,\"#c51b7d\"],[0.2,\"#de77ae\"],[0.3,\"#f1b6da\"],[0.4,\"#fde0ef\"],[0.5,\"#f7f7f7\"],[0.6,\"#e6f5d0\"],[0.7,\"#b8e186\"],[0.8,\"#7fbc41\"],[0.9,\"#4d9221\"],[1,\"#276419\"]],\"sequential\":[[0.0,\"#0d0887\"],[0.1111111111111111,\"#46039f\"],[0.2222222222222222,\"#7201a8\"],[0.3333333333333333,\"#9c179e\"],[0.4444444444444444,\"#bd3786\"],[0.5555555555555556,\"#d8576b\"],[0.6666666666666666,\"#ed7953\"],[0.7777777777777778,\"#fb9f3a\"],[0.8888888888888888,\"#fdca26\"],[1.0,\"#f0f921\"]],\"sequentialminus\":[[0.0,\"#0d0887\"],[0.1111111111111111,\"#46039f\"],[0.2222222222222222,\"#7201a8\"],[0.3333333333333333,\"#9c179e\"],[0.4444444444444444,\"#bd3786\"],[0.5555555555555556,\"#d8576b\"],[0.6666666666666666,\"#ed7953\"],[0.7777777777777778,\"#fb9f3a\"],[0.8888888888888888,\"#fdca26\"],[1.0,\"#f0f921\"]]},\"colorway\":[\"#636efa\",\"#EF553B\",\"#00cc96\",\"#ab63fa\",\"#FFA15A\",\"#19d3f3\",\"#FF6692\",\"#B6E880\",\"#FF97FF\",\"#FECB52\"],\"font\":{\"color\":\"#2a3f5f\"},\"geo\":{\"bgcolor\":\"white\",\"lakecolor\":\"white\",\"landcolor\":\"#E5ECF6\",\"showlakes\":true,\"showland\":true,\"subunitcolor\":\"white\"},\"hoverlabel\":{\"align\":\"left\"},\"hovermode\":\"closest\",\"mapbox\":{\"style\":\"light\"},\"paper_bgcolor\":\"white\",\"plot_bgcolor\":\"#E5ECF6\",\"polar\":{\"angularaxis\":{\"gridcolor\":\"white\",\"linecolor\":\"white\",\"ticks\":\"\"},\"bgcolor\":\"#E5ECF6\",\"radialaxis\":{\"gridcolor\":\"white\",\"linecolor\":\"white\",\"ticks\":\"\"}},\"scene\":{\"xaxis\":{\"backgroundcolor\":\"#E5ECF6\",\"gridcolor\":\"white\",\"gridwidth\":2,\"linecolor\":\"white\",\"showbackground\":true,\"ticks\":\"\",\"zerolinecolor\":\"white\"},\"yaxis\":{\"backgroundcolor\":\"#E5ECF6\",\"gridcolor\":\"white\",\"gridwidth\":2,\"linecolor\":\"white\",\"showbackground\":true,\"ticks\":\"\",\"zerolinecolor\":\"white\"},\"zaxis\":{\"backgroundcolor\":\"#E5ECF6\",\"gridcolor\":\"white\",\"gridwidth\":2,\"linecolor\":\"white\",\"showbackground\":true,\"ticks\":\"\",\"zerolinecolor\":\"white\"}},\"shapedefaults\":{\"line\":{\"color\":\"#2a3f5f\"}},\"ternary\":{\"aaxis\":{\"gridcolor\":\"white\",\"linecolor\":\"white\",\"ticks\":\"\"},\"baxis\":{\"gridcolor\":\"white\",\"linecolor\":\"white\",\"ticks\":\"\"},\"bgcolor\":\"#E5ECF6\",\"caxis\":{\"gridcolor\":\"white\",\"linecolor\":\"white\",\"ticks\":\"\"}},\"title\":{\"x\":0.05},\"xaxis\":{\"automargin\":true,\"gridcolor\":\"white\",\"linecolor\":\"white\",\"ticks\":\"\",\"title\":{\"standoff\":15},\"zerolinecolor\":\"white\",\"zerolinewidth\":2},\"yaxis\":{\"automargin\":true,\"gridcolor\":\"white\",\"linecolor\":\"white\",\"ticks\":\"\",\"title\":{\"standoff\":15},\"zerolinecolor\":\"white\",\"zerolinewidth\":2}}},\"title\":{\"font\":{\"color\":\"#4D5663\"},\"text\":\"BTC-USD Buy-and-Hold Equity Curve\"},\"xaxis\":{\"gridcolor\":\"#E1E5ED\",\"showgrid\":true,\"tickfont\":{\"color\":\"#4D5663\"},\"title\":{\"font\":{\"color\":\"#4D5663\"},\"text\":\"\"},\"zerolinecolor\":\"#E1E5ED\"},\"yaxis\":{\"gridcolor\":\"#E1E5ED\",\"showgrid\":true,\"tickfont\":{\"color\":\"#4D5663\"},\"title\":{\"font\":{\"color\":\"#4D5663\"},\"text\":\"\"},\"zerolinecolor\":\"#E1E5ED\"}},                        {\"showLink\": true, \"linkText\": \"Export to plot.ly\", \"plotlyServerURL\": \"https://plot.ly\", \"responsive\": true}                    ).then(function(){\n",
       "                            \n",
       "var gd = document.getElementById('c5f76f0d-bb02-4799-8d10-363db67e80ed');\n",
       "var x = new MutationObserver(function (mutations, observer) {{\n",
       "        var display = window.getComputedStyle(gd).display;\n",
       "        if (!display || display === 'none') {{\n",
       "            console.log([gd, 'removed!']);\n",
       "            Plotly.purge(gd);\n",
       "            observer.disconnect();\n",
       "        }}\n",
       "}});\n",
       "\n",
       "// Listen for the removal of the full notebook cells\n",
       "var notebookContainer = gd.closest('#notebook-container');\n",
       "if (notebookContainer) {{\n",
       "    x.observe(notebookContainer, {childList: true});\n",
       "}}\n",
       "\n",
       "// Listen for the clearing of the current output cell\n",
       "var outputEl = gd.closest('.output');\n",
       "if (outputEl) {{\n",
       "    x.observe(outputEl, {childList: true});\n",
       "}}\n",
       "\n",
       "                        })                };                });            </script>        </div>"
      ]
     },
     "metadata": {},
     "output_type": "display_data"
    }
   ],
   "source": [
    "fun_with_assignment_2(symbol='BTC-USD',\n",
    "                      allocation=0.8,\n",
    "                      starting_capital=100000,\n",
    "                      short_trend=4,\n",
    "                      long_trend=8,\n",
    "                      start_date='2020',\n",
    "                      end_date='2021')"
   ]
  },
  {
   "cell_type": "code",
   "execution_count": null,
   "id": "4e032197-d198-4472-a1b8-701c76e9b4a0",
   "metadata": {},
   "outputs": [],
   "source": []
  }
 ],
 "metadata": {
  "kernelspec": {
   "display_name": "Python 3",
   "language": "python",
   "name": "python3"
  },
  "language_info": {
   "codemirror_mode": {
    "name": "ipython",
    "version": 3
   },
   "file_extension": ".py",
   "mimetype": "text/x-python",
   "name": "python",
   "nbconvert_exporter": "python",
   "pygments_lexer": "ipython3",
   "version": "3.8.8"
  }
 },
 "nbformat": 4,
 "nbformat_minor": 5
}
